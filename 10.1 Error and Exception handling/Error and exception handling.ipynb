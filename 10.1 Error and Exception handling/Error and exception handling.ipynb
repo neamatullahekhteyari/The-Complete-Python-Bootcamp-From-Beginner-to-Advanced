{
 "cells": [
  {
   "cell_type": "markdown",
   "id": "aab3c8d5",
   "metadata": {},
   "source": [
    "___\n",
    "\n",
    "<a href='https://www.udemy.com/user/Neamatullah-ekhteyari/'><img src='../Neamatullah.png'/></a>\n",
    "___\n",
    "<center><em>Content Copyright by Neamatullah Ekhteyari</em></center>"
   ]
  },
  {
   "cell_type": "markdown",
   "id": "709f5da1",
   "metadata": {},
   "source": [
    "## Error and Exception Handling in Python\n",
    "```\n",
    "Error and exception handling is a crucial concept in Python that allows developers to anticipate and handle runtime errors gracefully. Instead of letting a program crash due to unexpected input or operations, we can use try-except blocks to catch and manage errors. This improves the user experience and program stability.\n",
    "```\n",
    "\n",
    "### Types of Errors\n",
    "\n",
    "1. Syntax Errors – Occur when the code is not written correctly.\n",
    "\n",
    "2. Runtime Errors (Exceptions) – Occur during execution, such as:\n",
    "\n",
    "    1. TypeError (e.g., adding an integer and a string)\n",
    "\n",
    "    2. ValueError (e.g., trying to convert a non-numeric string to an integer)\n",
    "\n",
    "    3. ZeroDivisionError (e.g., dividing by zero)\n",
    "\n",
    "    4. IndexError (e.g., accessing an invalid index in a list)\n",
    "```\n",
    "Python provides mechanisms like try-except, else, and finally blocks to handle exceptions effectively.\n",
    "```"
   ]
  },
  {
   "cell_type": "markdown",
   "id": "5fe85d57",
   "metadata": {},
   "source": [
    "### Example 1: Function to Add Two Numbers"
   ]
  },
  {
   "cell_type": "code",
   "execution_count": 2,
   "id": "ffb13094-da59-4a04-9952-0943b5dc5611",
   "metadata": {},
   "outputs": [
    {
     "name": "stdout",
     "output_type": "stream",
     "text": [
      "30\n"
     ]
    }
   ],
   "source": [
    "# funciton to add two numbers\n",
    "def add(n1, n2):\n",
    "    print(n1 + n2)\n",
    "\n",
    "# calling the function \n",
    "add(10, 20)        "
   ]
  },
  {
   "cell_type": "markdown",
   "id": "2db97680",
   "metadata": {},
   "source": [
    "#### Explanation:\n",
    "```\n",
    "The function add(n1, n2) takes two numbers and prints their sum.\n",
    "\n",
    "Since both arguments are integers, the addition works without issues.\n",
    "```"
   ]
  },
  {
   "cell_type": "markdown",
   "id": "3b60bbbe",
   "metadata": {},
   "source": [
    "### Example 2: TypeError Occurs"
   ]
  },
  {
   "cell_type": "code",
   "execution_count": 3,
   "id": "e824328f-50fb-480f-842a-ae1046e59231",
   "metadata": {},
   "outputs": [
    {
     "name": "stdin",
     "output_type": "stream",
     "text": [
      "please provide a number:  20\n"
     ]
    },
    {
     "ename": "TypeError",
     "evalue": "unsupported operand type(s) for +: 'int' and 'str'",
     "output_type": "error",
     "traceback": [
      "\u001b[1;31m---------------------------------------------------------------------------\u001b[0m",
      "\u001b[1;31mTypeError\u001b[0m                                 Traceback (most recent call last)",
      "Cell \u001b[1;32mIn[3], line 3\u001b[0m\n\u001b[0;32m      1\u001b[0m num1 \u001b[38;5;241m=\u001b[39m \u001b[38;5;241m10\u001b[39m\n\u001b[0;32m      2\u001b[0m num2 \u001b[38;5;241m=\u001b[39m \u001b[38;5;28minput\u001b[39m(\u001b[38;5;124m\"\u001b[39m\u001b[38;5;124mplease provide a number: \u001b[39m\u001b[38;5;124m\"\u001b[39m)\n\u001b[1;32m----> 3\u001b[0m add(num1, num2)\n",
      "Cell \u001b[1;32mIn[2], line 3\u001b[0m, in \u001b[0;36madd\u001b[1;34m(n1, n2)\u001b[0m\n\u001b[0;32m      2\u001b[0m \u001b[38;5;28;01mdef\u001b[39;00m \u001b[38;5;21madd\u001b[39m(n1, n2):\n\u001b[1;32m----> 3\u001b[0m     \u001b[38;5;28mprint\u001b[39m(n1 \u001b[38;5;241m+\u001b[39m n2)\n",
      "\u001b[1;31mTypeError\u001b[0m: unsupported operand type(s) for +: 'int' and 'str'"
     ]
    }
   ],
   "source": [
    "num1 = 10\n",
    "num2 = input(\"please provide a number: \")\n",
    "add(num1, num2)"
   ]
  },
  {
   "cell_type": "markdown",
   "id": "27a975de",
   "metadata": {},
   "source": [
    "#### Explanation:\n",
    "```\n",
    "- input() returns a string, but num1 is an integer.\n",
    "\n",
    "- The function add(num1, num2) tries to add an int and str, which is not allowed.\n",
    "\n",
    "- This results in a TypeError.\n",
    "```"
   ]
  },
  {
   "cell_type": "markdown",
   "id": "1f2d8a0b",
   "metadata": {},
   "source": [
    "### Example 3: Handling TypeError and ValueError"
   ]
  },
  {
   "cell_type": "code",
   "execution_count": 8,
   "id": "2cbf93fd-16bc-40f4-8369-7fdf3492393a",
   "metadata": {},
   "outputs": [
    {
     "name": "stdin",
     "output_type": "stream",
     "text": [
      "please provide a number:  w\n"
     ]
    },
    {
     "name": "stdout",
     "output_type": "stream",
     "text": [
      "Error: please enter a valid number.\n"
     ]
    }
   ],
   "source": [
    "try:\n",
    "    num1 = 10\n",
    "    num2 = input(\"please provide a number: \")\n",
    "    result = num1 + int(num2)  # convert string to integer\n",
    "    print(result)\n",
    "except ValueError:\n",
    "    print(\"Error: please enter a valid number.\")\n",
    "except TypeError:\n",
    "    print(\"Error: cannot perform addition with different datatype\")\n",
    "else:\n",
    "    print(f\"Addition successful: {result}\")"
   ]
  },
  {
   "cell_type": "markdown",
   "id": "a30385f9",
   "metadata": {},
   "source": [
    "#### Explanation:\n",
    "```\n",
    "If the user enters a non-numeric value (w), int(num2) raises a ValueError.\n",
    "\n",
    "The except ValueError block catches this and prints an error message.\n",
    "```"
   ]
  },
  {
   "cell_type": "markdown",
   "id": "cf24e50b",
   "metadata": {},
   "source": [
    "### Example 4: Using finally Block"
   ]
  },
  {
   "cell_type": "code",
   "execution_count": 10,
   "id": "f82bcc37-bc24-4c0c-90a9-a5e6bae8d11a",
   "metadata": {},
   "outputs": [
    {
     "name": "stdin",
     "output_type": "stream",
     "text": [
      "please provide a number:  w\n"
     ]
    },
    {
     "name": "stdout",
     "output_type": "stream",
     "text": [
      "Error: please enter a valid number.\n",
      "Execution completed.\n"
     ]
    }
   ],
   "source": [
    "try:\n",
    "    num1 = 10\n",
    "    num2 = int(input(\"please provide a number: \"))\n",
    "    result = num1 + num2\n",
    "except ValueError:\n",
    "    print(\"Error: please enter a valid number.\")\n",
    "else:\n",
    "    print(f\"Addition successful. {result}\")\n",
    "finally:\n",
    "    print(\"Execution completed.\")\n",
    "    \n",
    "    "
   ]
  },
  {
   "cell_type": "markdown",
   "id": "b8da4896",
   "metadata": {},
   "source": [
    "#### Explanation:\n",
    "```\n",
    "The finally block runs no matter what (whether an exception occurs or not).\n",
    "\n",
    "This ensures that some code (e.g., logging, cleanup, or resource release) always runs.\n",
    "```"
   ]
  },
  {
   "cell_type": "markdown",
   "id": "f64b9086",
   "metadata": {},
   "source": [
    "### Key Takeaways\n",
    "```\n",
    "1. Exceptions occur at runtime due to unexpected conditions (e.g., invalid user input).\n",
    "\n",
    "2. Use try-except blocks to catch and handle errors without crashing the program.\n",
    "\n",
    "3. Use else when you want to execute code only if no exceptions occur.\n",
    "\n",
    "4. Use finally to execute code regardless of an exception (useful for cleanup operations).\n",
    "\n",
    "5. Convert input to the expected type to avoid type mismatches (int(num2) instead of num2).\n",
    "\n",
    "This approach makes Python programs more robust, user-friendly, and maintainable.\n",
    "```"
   ]
  }
 ],
 "metadata": {
  "kernelspec": {
   "display_name": "Python 3 (ipykernel)",
   "language": "python",
   "name": "python3"
  },
  "language_info": {
   "codemirror_mode": {
    "name": "ipython",
    "version": 3
   },
   "file_extension": ".py",
   "mimetype": "text/x-python",
   "name": "python",
   "nbconvert_exporter": "python",
   "pygments_lexer": "ipython3",
   "version": "3.13.2"
  }
 },
 "nbformat": 4,
 "nbformat_minor": 5
}
