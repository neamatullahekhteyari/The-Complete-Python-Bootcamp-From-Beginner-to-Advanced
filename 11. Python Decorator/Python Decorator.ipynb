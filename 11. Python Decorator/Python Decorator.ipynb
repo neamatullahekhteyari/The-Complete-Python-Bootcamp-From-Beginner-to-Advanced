{
 "cells": [
  {
   "cell_type": "markdown",
   "id": "ca941440",
   "metadata": {},
   "source": [
    "___\n",
    "\n",
    "<a href='https://www.udemy.com/user/Neamatullah-ekhteyari/'><img src='../Neamatullah.png'/></a>\n",
    "___\n",
    "<center><em>Content Copyright by Neamatullah Ekhteyari</em></center>"
   ]
  },
  {
   "cell_type": "markdown",
   "id": "31e30516",
   "metadata": {},
   "source": [
    "### Python Decorators: Overview and Explanation\n",
    "\n",
    "#### What is a Decorator?\n",
    "```\n",
    "A decorator in Python is a powerful tool that allows you to modify the behavior of a function or method without changing its code. It wraps another function, adding extra functionality before or after the original function executes.\n",
    "\n",
    "Decorators are often used in:\n",
    "\n",
    "1-  Logging\n",
    "\n",
    "2-  Authentication\n",
    "\n",
    "3-  Timing functions\n",
    "\n",
    "4-  Code reuse and modularity\n",
    "\n",
    "They are implemented using the @decorator_function syntax before the function definition.\n",
    "```"
   ]
  },
  {
   "cell_type": "markdown",
   "id": "cfc864e7",
   "metadata": {},
   "source": [
    "### 1. Simple Function Example"
   ]
  },
  {
   "cell_type": "code",
   "execution_count": 2,
   "id": "401a5ef7-0ab1-4926-be5f-6e0e1ae926cb",
   "metadata": {},
   "outputs": [
    {
     "name": "stdout",
     "output_type": "stream",
     "text": [
      "1\n"
     ]
    }
   ],
   "source": [
    "# define a simple function\n",
    "def func():\n",
    "    return 1\n",
    "\n",
    "# call and print the function output\n",
    "print(func())"
   ]
  },
  {
   "cell_type": "code",
   "execution_count": 3,
   "id": "ac395879-88e1-43f1-81f2-fee7860962d5",
   "metadata": {},
   "outputs": [
    {
     "name": "stdout",
     "output_type": "stream",
     "text": [
      "<function func at 0x00000129E768CFE0>\n"
     ]
    }
   ],
   "source": [
    "print(func)"
   ]
  },
  {
   "cell_type": "markdown",
   "id": "78fa60a8",
   "metadata": {},
   "source": [
    "#### Explanation:\n",
    "```\n",
    "func() executes and returns 1.\n",
    "\n",
    "print(func) displays the function object’s memory location.\n",
    "```"
   ]
  },
  {
   "cell_type": "markdown",
   "id": "4f68fde4",
   "metadata": {},
   "source": [
    "### 2. Assigning a Function to a Variable"
   ]
  },
  {
   "cell_type": "code",
   "execution_count": 5,
   "id": "3f241c31-519b-4398-92d7-8b1006b3aaa8",
   "metadata": {},
   "outputs": [
    {
     "name": "stdout",
     "output_type": "stream",
     "text": [
      "hello\n"
     ]
    }
   ],
   "source": [
    "def hello():\n",
    "    return \"hello\"\n",
    "\n",
    "greet = hello\n",
    "\n",
    "print(greet())"
   ]
  },
  {
   "cell_type": "code",
   "execution_count": 7,
   "id": "04ee230b-9c78-40ef-aa1c-5fb3e6db1497",
   "metadata": {},
   "outputs": [
    {
     "ename": "NameError",
     "evalue": "name 'hello' is not defined",
     "output_type": "error",
     "traceback": [
      "\u001b[1;31m---------------------------------------------------------------------------\u001b[0m",
      "\u001b[1;31mNameError\u001b[0m                                 Traceback (most recent call last)",
      "Cell \u001b[1;32mIn[7], line 1\u001b[0m\n\u001b[1;32m----> 1\u001b[0m \u001b[38;5;28;01mdel\u001b[39;00m hello\n",
      "\u001b[1;31mNameError\u001b[0m: name 'hello' is not defined"
     ]
    }
   ],
   "source": [
    "del hello\n"
   ]
  },
  {
   "cell_type": "code",
   "execution_count": 8,
   "id": "6085610a-12a1-4576-ae89-1d640acbf276",
   "metadata": {},
   "outputs": [
    {
     "name": "stdout",
     "output_type": "stream",
     "text": [
      "hello\n"
     ]
    }
   ],
   "source": [
    "print(greet())"
   ]
  },
  {
   "cell_type": "markdown",
   "id": "db8540ef",
   "metadata": {},
   "source": [
    "#### Explanation:\n",
    "```\n",
    "- Functions are first-class objects in Python, meaning they can be assigned to variables.\n",
    "\n",
    "- greet = hello makes greet a reference to hello().\n",
    "\n",
    "- Even after del hello, greet() still works because it holds a reference to the original function.\n",
    "```"
   ]
  },
  {
   "cell_type": "markdown",
   "id": "8c086651",
   "metadata": {},
   "source": [
    "### 3. Function Inside a Function"
   ]
  },
  {
   "cell_type": "code",
   "execution_count": 9,
   "id": "e95fbde7-2a7e-47a9-a8dd-5d6fe1e17c9a",
   "metadata": {},
   "outputs": [
    {
     "name": "stdout",
     "output_type": "stream",
     "text": [
      "outer function executed\n",
      "Inner function executed\n"
     ]
    }
   ],
   "source": [
    "def outer_function():\n",
    "    print(\"outer function executed\")\n",
    "\n",
    "    def inner_function():\n",
    "        print(\"Inner function executed\")\n",
    "\n",
    "    inner_function()\n",
    "outer_function()"
   ]
  },
  {
   "cell_type": "markdown",
   "id": "09e2fb36",
   "metadata": {},
   "source": [
    "#### Explanation:\n",
    "```\n",
    "inner_function() is defined inside outer_function().\n",
    "\n",
    "It only executes when outer_function() is called.\n",
    "```"
   ]
  },
  {
   "cell_type": "markdown",
   "id": "c5f32ec9",
   "metadata": {},
   "source": [
    "### 4. Returning a Function from Another Function"
   ]
  },
  {
   "cell_type": "code",
   "execution_count": 3,
   "id": "e28eafdb-cb9e-47f5-aa60-a065d570fe9f",
   "metadata": {},
   "outputs": [
    {
     "name": "stdout",
     "output_type": "stream",
     "text": [
      "Inner function result\n"
     ]
    }
   ],
   "source": [
    "def outer():\n",
    "    def inner():\n",
    "        return \"Inner function result\"\n",
    "    return inner\n",
    "new_func = outer()\n",
    "print(new_func())"
   ]
  },
  {
   "cell_type": "markdown",
   "id": "01d603f8",
   "metadata": {},
   "source": [
    "#### Explanation:\n",
    "```\n",
    "outer() returns inner (without executing it).\n",
    "\n",
    "new_func now refers to inner(), so calling new_func() executes inner().\n",
    "```"
   ]
  },
  {
   "cell_type": "markdown",
   "id": "998161a8",
   "metadata": {},
   "source": [
    "### 5. Passing a Function as an Argument"
   ]
  },
  {
   "cell_type": "code",
   "execution_count": 11,
   "id": "6d784f30-6359-4e90-a3ed-a08bdab16399",
   "metadata": {},
   "outputs": [
    {
     "name": "stdout",
     "output_type": "stream",
     "text": [
      "applying function:\n",
      "hello\n"
     ]
    }
   ],
   "source": [
    "def apply_function(func):\n",
    "    print(\"applying function:\")\n",
    "    print(func())\n",
    "apply_function(greet)"
   ]
  },
  {
   "cell_type": "markdown",
   "id": "7d689045",
   "metadata": {},
   "source": [
    "#### Explanation:\n",
    "```\n",
    "apply_function() takes another function (func) as input and executes it.\n",
    "\n",
    "It prints \"Applying function:\" before executing greet().\n",
    "```"
   ]
  },
  {
   "cell_type": "markdown",
   "id": "1b9ce2f7",
   "metadata": {},
   "source": [
    "### 6. Basic Decorator Implementation"
   ]
  },
  {
   "cell_type": "code",
   "execution_count": 13,
   "id": "374c0043-9ff7-4660-b5ca-74cf4a093585",
   "metadata": {},
   "outputs": [
    {
     "name": "stdout",
     "output_type": "stream",
     "text": [
      "wrpper executed befor say_hello\n",
      "Hello!\n"
     ]
    }
   ],
   "source": [
    "def decorator_function(original_function):\n",
    "    def wrapper_function():\n",
    "        print(\"wrpper executed befor {}\".format(original_function.__name__))\n",
    "        return original_function()\n",
    "    return wrapper_function\n",
    "\n",
    "@decorator_function\n",
    "def say_hello():\n",
    "    return \"Hello!\"\n",
    "\n",
    "print(say_hello())"
   ]
  },
  {
   "cell_type": "markdown",
   "id": "bd9fa649",
   "metadata": {},
   "source": [
    "#### Explanation:\n",
    "```\n",
    "1- @decorator_function modifies say_hello().\n",
    "\n",
    "2- wrapper_function() executes before say_hello(), adding extra functionality.\n",
    "```"
   ]
  },
  {
   "cell_type": "markdown",
   "id": "7c293261",
   "metadata": {},
   "source": [
    "### 7. Nested Function Returning Another Function"
   ]
  },
  {
   "cell_type": "code",
   "execution_count": 6,
   "id": "144003d9-9637-4c95-a89d-537b6537234f",
   "metadata": {},
   "outputs": [
    {
     "name": "stdout",
     "output_type": "stream",
     "text": [
      "the hello funciton has beed executed\n",
      "this is the greet function inside hello\n"
     ]
    }
   ],
   "source": [
    "def hello(name=\"jose\"):\n",
    "    print(\"the hello funciton has beed executed\")\n",
    "\n",
    "    def greet():\n",
    "        return \"this is the greet function inside hello\"\n",
    "    return greet\n",
    "\n",
    "my_new_func = hello()\n",
    "\n",
    "print(my_new_func())"
   ]
  },
  {
   "cell_type": "markdown",
   "id": "a27ec735",
   "metadata": {},
   "source": [
    "#### Explanation:\n",
    "```\n",
    "hello() executes and prints its message.\n",
    "\n",
    "It returns greet, so my_new_func() calls greet().\n",
    "```"
   ]
  },
  {
   "cell_type": "code",
   "execution_count": 7,
   "id": "74a7e8e2-39e7-47c4-bf95-02c7f2fd50c0",
   "metadata": {},
   "outputs": [
    {
     "name": "stdout",
     "output_type": "stream",
     "text": [
      "I am very cool\n"
     ]
    }
   ],
   "source": [
    "def cool():\n",
    "    def super_cool():\n",
    "        return \"I am very cool\"\n",
    "    return super_cool\n",
    "\n",
    "temp_fanc = cool()\n",
    "print(temp_fanc())"
   ]
  },
  {
   "cell_type": "markdown",
   "id": "0b620137",
   "metadata": {},
   "source": [
    "### 8. Function Passed as Argument"
   ]
  },
  {
   "cell_type": "code",
   "execution_count": 17,
   "id": "3509aeea-32c4-483b-99a9-93ec1250eefa",
   "metadata": {},
   "outputs": [
    {
     "name": "stdout",
     "output_type": "stream",
     "text": [
      "other code runs here!\n",
      "Hi jose\n"
     ]
    }
   ],
   "source": [
    "def hello():\n",
    "    print(\"Hi jose\")\n",
    "\n",
    "def other_function(some_func):\n",
    "    print(\"other code runs here!\")\n",
    "    some_func()\n",
    "\n",
    "other_function(hello)"
   ]
  },
  {
   "cell_type": "markdown",
   "id": "596f5783",
   "metadata": {},
   "source": [
    "#### Explanation:\n",
    "```\n",
    "other_function(hello) calls hello() after printing \"Other code runs here!\".\n",
    "```"
   ]
  },
  {
   "cell_type": "markdown",
   "id": "1a41daff",
   "metadata": {},
   "source": [
    "### 9. Using a Decorator to Modify Function Behavior"
   ]
  },
  {
   "cell_type": "code",
   "execution_count": 18,
   "id": "a8ff783c-f323-4acc-af90-696b498a0776",
   "metadata": {},
   "outputs": [
    {
     "name": "stdout",
     "output_type": "stream",
     "text": [
      "some extra code before the original function\n",
      "function execution\n",
      "some extra code after the original function\n"
     ]
    }
   ],
   "source": [
    "def new_decorator(original_function):\n",
    "    def wrap_func():\n",
    "        print(\"some extra code before the original function\")\n",
    "        original_function()\n",
    "        print(\"some extra code after the original function\")\n",
    "    return wrap_func\n",
    "\n",
    "@new_decorator\n",
    "def function_needs_decorator():\n",
    "    print(\"function execution\")\n",
    "\n",
    "function_needs_decorator()"
   ]
  },
  {
   "cell_type": "markdown",
   "id": "a0f76232",
   "metadata": {},
   "source": [
    "#### Explanation:\n",
    "```\n",
    "1. new_decorator wraps function_needs_decorator(), modifying its behavior.\n",
    "\n",
    "2. It adds extra messages before and after the function execution.\n",
    "```"
   ]
  },
  {
   "cell_type": "markdown",
   "id": "89d60b56",
   "metadata": {},
   "source": [
    "### Key Takeaways\n",
    "```\n",
    "1- Functions are First-Class Objects – They can be assigned to variables, passed as arguments, and returned from other functions.\n",
    "\n",
    "2- Inner Functions – Functions can be defined inside other functions and called from within them.\n",
    "\n",
    "3- Decorators – Special functions that modify other functions without changing their code.\n",
    "\n",
    "4- @decorator syntax – A cleaner way to apply decorators instead of manually wrapping functions.\n",
    "```\n",
    "\n",
    "#### Use Cases of Decorators\n",
    "```\n",
    "- Logging\n",
    "- Authentication\n",
    "- Performance Monitoring\n",
    "- Access Control\n",
    "\n",
    "Python decorators make code modular, reusable, and maintainable!\n",
    "```"
   ]
  }
 ],
 "metadata": {
  "kernelspec": {
   "display_name": "Python 3 (ipykernel)",
   "language": "python",
   "name": "python3"
  },
  "language_info": {
   "codemirror_mode": {
    "name": "ipython",
    "version": 3
   },
   "file_extension": ".py",
   "mimetype": "text/x-python",
   "name": "python",
   "nbconvert_exporter": "python",
   "pygments_lexer": "ipython3",
   "version": "3.13.2"
  }
 },
 "nbformat": 4,
 "nbformat_minor": 5
}
