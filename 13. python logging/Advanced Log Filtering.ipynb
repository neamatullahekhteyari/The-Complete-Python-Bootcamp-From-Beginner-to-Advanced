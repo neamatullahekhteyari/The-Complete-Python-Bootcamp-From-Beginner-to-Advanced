{
 "cells": [
  {
   "cell_type": "markdown",
   "id": "e56a37e3",
   "metadata": {},
   "source": [
    "## Advanced Log Filtering in Python\n",
    "### What is Log Filtering?\n",
    "\n",
    "Log filtering is a technique used in Python logging to control which log messages are processed by a logger. It allows you to selectively include or exclude logs based on specific conditions, such as message content, log level, or the originating module.\n",
    "\n",
    "Filtering is particularly useful when:\n",
    "\n",
    "- You only want to capture specific types of logs (e.g., only critical errors).\n",
    "\n",
    "- You want to log messages from specific modules or sources.\n",
    "\n",
    "- You need to prevent unnecessary logs from cluttering your output."
   ]
  },
  {
   "cell_type": "markdown",
   "id": "0c1de9b9",
   "metadata": {},
   "source": [
    "### Step 1: Import the Logging Module"
   ]
  },
  {
   "cell_type": "code",
   "execution_count": 1,
   "id": "9c7867a3",
   "metadata": {},
   "outputs": [],
   "source": [
    "import logging"
   ]
  },
  {
   "cell_type": "markdown",
   "id": "fe47d10e",
   "metadata": {},
   "source": [
    "- The logging module is imported to provide logging functionalities."
   ]
  },
  {
   "cell_type": "code",
   "execution_count": 2,
   "id": "f61f34c1",
   "metadata": {},
   "outputs": [],
   "source": [
    "class CustomFilter(logging.Filter):\n",
    "    def filter(self, record):\n",
    "        return \"CRITICAL\" in record.getMessage()\n"
   ]
  },
  {
   "cell_type": "markdown",
   "id": "f7eca0a5",
   "metadata": {},
   "source": [
    "- What is a log filter?\n",
    "\n",
    "    - A filter is a custom class that inherits from logging.Filter and overrides the filter() method.\n",
    "\n",
    "- How does it work?\n",
    "\n",
    "    - The filter() method receives each log record (record) and determines whether it should be processed or not.\n",
    "\n",
    "    - record.getMessage() extracts the log message as a string.\n",
    "\n",
    "    - The filter only allows log messages that contain the word \"CRITICAL\"."
   ]
  },
  {
   "cell_type": "markdown",
   "id": "f6837cf4",
   "metadata": {},
   "source": [
    "### Step 3: Create a Logger"
   ]
  },
  {
   "cell_type": "code",
   "execution_count": 3,
   "id": "d230a4b7",
   "metadata": {},
   "outputs": [],
   "source": [
    "logger = logging.getLogger(\"FilteredLogger\")\n",
    "logger.setLevel(logging.DEBUG)\n"
   ]
  },
  {
   "cell_type": "markdown",
   "id": "43795a3b",
   "metadata": {},
   "source": [
    "- getLogger(\"FilteredLogger\"): Creates a custom logger named FilteredLogger.\n",
    "\n",
    "- setLevel(logging.DEBUG): Ensures that all log levels (DEBUG and above) are considered."
   ]
  },
  {
   "cell_type": "markdown",
   "id": "af014326",
   "metadata": {},
   "source": [
    "### Step 4: Create a Console Handler"
   ]
  },
  {
   "cell_type": "code",
   "execution_count": 4,
   "id": "44756a44",
   "metadata": {},
   "outputs": [],
   "source": [
    "console_handler = logging.StreamHandler()\n",
    "console_handler.setLevel(logging.DEBUG)\n"
   ]
  },
  {
   "cell_type": "markdown",
   "id": "fea80af6",
   "metadata": {},
   "source": [
    "- StreamHandler(): Sends log messages to the console.\n",
    "\n",
    "- setLevel(logging.DEBUG): Allows the handler to capture all messages from DEBUG and above."
   ]
  },
  {
   "cell_type": "markdown",
   "id": "487e0edb",
   "metadata": {},
   "source": [
    "### Step 5: Add the Custom Filter to the Handler"
   ]
  },
  {
   "cell_type": "code",
   "execution_count": 5,
   "id": "ef11703a",
   "metadata": {},
   "outputs": [],
   "source": [
    "console_handler.addFilter(CustomFilter())\n"
   ]
  },
  {
   "cell_type": "markdown",
   "id": "158d8bec",
   "metadata": {},
   "source": [
    "- This attaches the CustomFilter to the console handler.\n",
    "\n",
    "- The filter ensures that only messages containing \"CRITICAL\" will be logged."
   ]
  },
  {
   "cell_type": "markdown",
   "id": "d177055a",
   "metadata": {},
   "source": [
    "### Step 6: Define a Log Message Format"
   ]
  },
  {
   "cell_type": "code",
   "execution_count": 6,
   "id": "c8522009",
   "metadata": {},
   "outputs": [],
   "source": [
    "formatter = logging.Formatter('%(asctime)s - %(name)s - %(levelname)s - %(message)s')\n",
    "console_handler.setFormatter(formatter)\n"
   ]
  },
  {
   "cell_type": "markdown",
   "id": "3f377ad3",
   "metadata": {},
   "source": [
    "- The log format includes:\n",
    "\n",
    "    - %(asctime)s → Timestamp of the log event.\n",
    "\n",
    "    - %(name)s → The logger's name (FilteredLogger).\n",
    "\n",
    "    - %(levelname)s → The log level (e.g., DEBUG, INFO, CRITICAL).\n",
    "\n",
    "    - %(message)s → The actual log message."
   ]
  },
  {
   "cell_type": "code",
   "execution_count": 8,
   "id": "e4b03b61",
   "metadata": {},
   "outputs": [],
   "source": [
    "### `mStep 7: Add the Handler to the Logger"
   ]
  },
  {
   "cell_type": "code",
   "execution_count": 9,
   "id": "f4af3446",
   "metadata": {},
   "outputs": [],
   "source": [
    "logger.addHandler(console_handler)\n"
   ]
  },
  {
   "cell_type": "markdown",
   "id": "23204211",
   "metadata": {},
   "source": [
    "- Attaches the console handler to the logger."
   ]
  },
  {
   "cell_type": "code",
   "execution_count": 11,
   "id": "1d2ba3bf",
   "metadata": {},
   "outputs": [
    {
     "name": "stderr",
     "output_type": "stream",
     "text": [
      "2025-03-26 00:52:08,746 - FilteredLogger - CRITICAL - this is a CRITICAL message (logged)\n"
     ]
    }
   ],
   "source": [
    "logger.info(\"this is an INFO message (not logged)\")\n",
    "logger.critical(\"this is a CRITICAL message (logged)\")\n"
   ]
  },
  {
   "cell_type": "markdown",
   "id": "35b2d0d8",
   "metadata": {},
   "source": [
    "- The INFO message is not logged because it does not contain \"CRITICAL\".\n",
    "\n",
    "- The CRITICAL message is logged because the filter detects \"CRITICAL\" in the message.\n",
    "\n"
   ]
  },
  {
   "cell_type": "markdown",
   "id": "2d3315a3",
   "metadata": {},
   "source": [
    "### Advanced Log Filtering Full code"
   ]
  },
  {
   "cell_type": "code",
   "execution_count": 15,
   "id": "0cd677f1",
   "metadata": {},
   "outputs": [
    {
     "name": "stderr",
     "output_type": "stream",
     "text": [
      "2025-03-17 02:41:28,473 - INFO - this is an INFO message (not logger)\n",
      "2025-03-17 02:41:28,475 - FilteredLogger - CRITICAL - this is a CRITICAL message(logged)\n",
      "2025-03-17 02:41:28,475 - CRITICAL - this is a CRITICAL message(logged)\n"
     ]
    }
   ],
   "source": [
    "import logging\n",
    "\n",
    "class CustomFilter(logging.Filter):\n",
    "    def filter(self, record):\n",
    "        return \"CRITICAL\" in record.getMessage()\n",
    "    \n",
    "logger = logging.getLogger(\"FilteredLogger\")\n",
    "logger.setLevel(logging.DEBUG)\n",
    "\n",
    "console_handler = logging.StreamHandler()\n",
    "console_handler.setLevel(logging.DEBUG)\n",
    "console_handler.addFilter(CustomFilter())\n",
    "\n",
    "\n",
    "formatter = logging.Formatter('%(asctime)s - %(name)s - %(levelname)s - %(message)s')\n",
    "console_handler.setFormatter(formatter)\n",
    "\n",
    "\n",
    "logger.addHandler(console_handler)\n",
    "\n",
    "logger.info(\"this is an INFO message (not logger)\")\n",
    "logger.critical(\"this is a CRITICAL message(logged)\")\n",
    "\n",
    "\n"
   ]
  },
  {
   "cell_type": "markdown",
   "id": "830eecff",
   "metadata": {},
   "source": [
    "### Why Use Log Filtering?\n",
    "```\n",
    "✔ Improves Performance – Reduces unnecessary logging overhead.\n",
    "✔ Enhances Readability – Keeps logs clean and relevant.\n",
    "✔ Customizable – Allows advanced filtering based on message content, severity, or modules.\n",
    "```\n",
    "Would you like an example where we filter logs based on a specific module name?"
   ]
  }
 ],
 "metadata": {
  "kernelspec": {
   "display_name": "Python 3 (ipykernel)",
   "language": "python",
   "name": "python3"
  },
  "language_info": {
   "codemirror_mode": {
    "name": "ipython",
    "version": 3
   },
   "file_extension": ".py",
   "mimetype": "text/x-python",
   "name": "python",
   "nbconvert_exporter": "python",
   "pygments_lexer": "ipython3",
   "version": "3.13.2"
  }
 },
 "nbformat": 4,
 "nbformat_minor": 5
}
