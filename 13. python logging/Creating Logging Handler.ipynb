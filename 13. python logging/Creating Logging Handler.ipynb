{
 "cells": [
  {
   "cell_type": "markdown",
   "id": "434ec162",
   "metadata": {},
   "source": [
    "## Logging Handler\n",
    "\n",
    "#### Logging Levels in Python (from lowest to highest priority):\n",
    "\n",
    "    1. DEBUG – Detailed debugging messages.\n",
    "    2. INFO – General information about program execution.\n",
    "    3. WARNING – Potential issues, but the program still runs.\n",
    "    4. ERROR – A problem that should be fixed.\n",
    "    5. CRITICAL – A serious error that may cause program failure.\n",
    "    \n",
    "###### Handlers determine where log messages go. Common handlers include:\n",
    "\n",
    "1. FileHandler: Saves logs to a file.\n",
    "2. StreamHandler: Displays logs in the console.\n",
    "3. RotatingFileHandler: Creates multiple log files when they exceed a size limit.\n",
    "4. TimedRotatingFileHandler: Rotates logs based on time intervals."
   ]
  },
  {
   "cell_type": "markdown",
   "id": "88721cd1",
   "metadata": {},
   "source": [
    "## Logging Handlers in Python\n",
    "### What is a Logging Handler?\n",
    "\n",
    "A logging handler in Python determines where log messages are sent. Handlers allow logs to be written to:\n",
    "\n",
    "- The console (StreamHandler)\n",
    "\n",
    "- A file (FileHandler)\n",
    "\n",
    "- A rotating file (RotatingFileHandler)\n",
    "\n",
    "- A timed rotating file (TimedRotatingFileHandler)\n",
    "\n",
    "By combining different handlers, we can manage logging efficiently for debugging, monitoring, and auditing purposes. "
   ]
  },
  {
   "cell_type": "markdown",
   "id": "883b2d71",
   "metadata": {},
   "source": [
    "### Step 1: Import the Logging Module"
   ]
  },
  {
   "cell_type": "code",
   "execution_count": 2,
   "id": "0d7b7cb1",
   "metadata": {},
   "outputs": [],
   "source": [
    "import logging\n"
   ]
  },
  {
   "cell_type": "markdown",
   "id": "50de200e",
   "metadata": {},
   "source": [
    "- The logging module is imported to enable logging functionality."
   ]
  },
  {
   "cell_type": "markdown",
   "id": "54ca0582",
   "metadata": {},
   "source": [
    "### Step 2: Create a Logger"
   ]
  },
  {
   "cell_type": "code",
   "execution_count": 3,
   "id": "d2c95dbc",
   "metadata": {},
   "outputs": [],
   "source": [
    "logger = logging.getLogger('MultiHandlerLogger')\n",
    "logger.setLevel(logging.DEBUG)\n"
   ]
  },
  {
   "cell_type": "markdown",
   "id": "41e8e910",
   "metadata": {},
   "source": [
    "- logging.getLogger('MultiHandlerLogger'): Creates a custom logger named MultiHandlerLogger.\n",
    "\n",
    "- logger.setLevel(logging.DEBUG): Sets the logging level to DEBUG, meaning it will capture all log messages from DEBUG and above.\n",
    "\n"
   ]
  },
  {
   "cell_type": "markdown",
   "id": "3df277fc",
   "metadata": {},
   "source": [
    "### Step 3: Create Handlers\n",
    "- File Handler (Logs messages to a file)"
   ]
  },
  {
   "cell_type": "code",
   "execution_count": 4,
   "id": "9885305d",
   "metadata": {},
   "outputs": [],
   "source": [
    "file_handler = logging.FileHandler('app.log')\n",
    "file_handler.setLevel(logging.DEBUG)\n"
   ]
  },
  {
   "cell_type": "markdown",
   "id": "734d62c1",
   "metadata": {},
   "source": [
    "- logging.FileHandler('app.log'): Creates a file named app.log where log messages will be stored.\n",
    "\n",
    "- file_handler.setLevel(logging.DEBUG): Allows all messages from DEBUG and above to be logged in the file."
   ]
  },
  {
   "cell_type": "markdown",
   "id": "9638a987",
   "metadata": {},
   "source": [
    "### Console Handler (Displays logs in the console)"
   ]
  },
  {
   "cell_type": "code",
   "execution_count": 5,
   "id": "cd27fd9a",
   "metadata": {},
   "outputs": [],
   "source": [
    "console_handler = logging.StreamHandler()\n",
    "console_handler.setLevel(logging.INFO)\n"
   ]
  },
  {
   "cell_type": "markdown",
   "id": "3c086382",
   "metadata": {},
   "source": [
    "- logging.StreamHandler(): Sends log messages to the console (terminal).\n",
    "\n",
    "- console_handler.setLevel(logging.INFO): Logs INFO and above messages (ignores DEBUG).\n",
    "\n"
   ]
  },
  {
   "cell_type": "markdown",
   "id": "5ea9fb08",
   "metadata": {},
   "source": [
    "### Step 4: Define a Log Format"
   ]
  },
  {
   "cell_type": "code",
   "execution_count": 6,
   "id": "8bad7724",
   "metadata": {},
   "outputs": [],
   "source": [
    "formatter = logging.Formatter('%(asctime)s - %(name)s - %(levelname)s - %(message)s')\n"
   ]
  },
  {
   "cell_type": "markdown",
   "id": "e23755f0",
   "metadata": {},
   "source": [
    "- The log format includes:\n",
    "\n",
    "    - %(asctime)s → Timestamp of the log event.\n",
    "\n",
    "    - %(name)s → The logger's name (MultiHandlerLogger).\n",
    "\n",
    "    - %(levelname)s → The log level (DEBUG, INFO, ERROR, etc.).\n",
    "\n",
    "    - %(message)s → The actual log message."
   ]
  },
  {
   "cell_type": "markdown",
   "id": "292ea850",
   "metadata": {},
   "source": [
    "### Step 5: Attach the Formatter to the Handlers"
   ]
  },
  {
   "cell_type": "code",
   "execution_count": 7,
   "id": "51b2d6f4",
   "metadata": {},
   "outputs": [],
   "source": [
    "file_handler.setFormatter(formatter)\n",
    "console_handler.setFormatter(formatter)\n"
   ]
  },
  {
   "cell_type": "markdown",
   "id": "d532ea49",
   "metadata": {},
   "source": [
    "- Ensures logs in both the file and console follow the specified format."
   ]
  },
  {
   "cell_type": "markdown",
   "id": "e775ed01",
   "metadata": {},
   "source": [
    "### Step 6: Add Handlers to the Logger"
   ]
  },
  {
   "cell_type": "code",
   "execution_count": 8,
   "id": "8c8b29cd",
   "metadata": {},
   "outputs": [],
   "source": [
    "logger.addHandler(file_handler)\n",
    "logger.addHandler(console_handler)\n"
   ]
  },
  {
   "cell_type": "markdown",
   "id": "52d86383",
   "metadata": {},
   "source": [
    "- Attaches both the file handler and console handler to logger.\n",
    "\n",
    "- This means:\n",
    "\n",
    "    - DEBUG logs go to the file.\n",
    "\n",
    "    - INFO and ERROR logs go to both the file and console.\n",
    "\n"
   ]
  },
  {
   "cell_type": "markdown",
   "id": "a45054d5",
   "metadata": {},
   "source": [
    "### Step 7: Generate Log Messages"
   ]
  },
  {
   "cell_type": "code",
   "execution_count": 10,
   "id": "b0b6cffb",
   "metadata": {},
   "outputs": [
    {
     "name": "stderr",
     "output_type": "stream",
     "text": [
      "2025-03-26 00:39:06,383 - MultiHandlerLogger - INFO - this message is logged in both the file and console.\n",
      "2025-03-26 00:39:06,388 - MultiHandlerLogger - ERROR - this error is logged in both the file and console.\n"
     ]
    }
   ],
   "source": [
    "logger.debug(\"this message is logged only in the file\")\n",
    "logger.info(\"this message is logged in both the file and console.\")\n",
    "logger.error('this error is logged in both the file and console.')\n"
   ]
  },
  {
   "cell_type": "markdown",
   "id": "88f21a09",
   "metadata": {},
   "source": [
    "- DEBUG message → Only logged in the file (not shown in console because the console handler is set to INFO).\n",
    "\n",
    "- INFO message → Logged in both the file and console.\n",
    "\n",
    "- ERROR message → Logged in both the file and console."
   ]
  },
  {
   "cell_type": "markdown",
   "id": "37b26f72",
   "metadata": {},
   "source": [
    "- The console only displays INFO and ERROR logs (no DEBUG messages)."
   ]
  },
  {
   "cell_type": "markdown",
   "id": "256b5e61",
   "metadata": {},
   "source": [
    "```Now app.log File Content must be like this: ```"
   ]
  },
  {
   "cell_type": "markdown",
   "id": "a8df984b",
   "metadata": {},
   "source": [
    "```python\n",
    "2025-03-17 02:25:11,434 - DEBUG - this message is logged only in the file\n",
    "2025-03-17 02:25:11,437 - MultiHandlerLogger - INFO - this message is logged in both the file and console.\n",
    "2025-03-17 02:25:11,440 - MultiHandlerLogger - ERROR - this error is logged in both the file and console.\n",
    "```"
   ]
  },
  {
   "cell_type": "markdown",
   "id": "d91543cb",
   "metadata": {},
   "source": [
    "- The file contains all logs, including DEBUG."
   ]
  },
  {
   "cell_type": "markdown",
   "id": "fc8b7c0e",
   "metadata": {},
   "source": [
    "### Logger Handler full course"
   ]
  },
  {
   "cell_type": "code",
   "execution_count": 11,
   "id": "2eee2995",
   "metadata": {},
   "outputs": [
    {
     "name": "stderr",
     "output_type": "stream",
     "text": [
      "2025-03-17 02:25:11,434 - DEBUG - this message is logged only in the file\n",
      "2025-03-17 02:25:11,437 - MultiHandlerLogger - INFO - this message is logged in both the file and console.\n",
      "2025-03-17 02:25:11,437 - INFO - this message is logged in both the file and console.\n",
      "2025-03-17 02:25:11,440 - MultiHandlerLogger - ERROR - this error is logged in both the file and console.\n",
      "2025-03-17 02:25:11,440 - ERROR - this error is logged in both the file and console.\n"
     ]
    }
   ],
   "source": [
    "import logging\n",
    "\n",
    "logger = logging.getLogger('MultiHandlerLogger')\n",
    "logger.setLevel(logging.DEBUG)\n",
    "\n",
    "\n",
    "file_handler = logging.FileHandler('app.log')\n",
    "file_handler.setLevel(logging.DEBUG)\n",
    "\n",
    "\n",
    "console_handler = logging.StreamHandler()\n",
    "console_handler.setLevel(logging.INFO)\n",
    "\n",
    "\n",
    "formatter = logging.Formatter('%(asctime)s - %(name)s - %(levelname)s - %(message)s')\n",
    "\n",
    "\n",
    "file_handler.setFormatter(formatter)\n",
    "console_handler.setFormatter(formatter)\n",
    "\n",
    "\n",
    "logger.addHandler(file_handler)\n",
    "logger.addHandler(console_handler)\n",
    "\n",
    "\n",
    "logger.debug(\"this message is logged only in the file\")\n",
    "logger.info(\"this message is logged in both the file and console.\")\n",
    "logger.error('this error is logged in both the file and console.')"
   ]
  },
  {
   "cell_type": "markdown",
   "id": "8ce768a1",
   "metadata": {},
   "source": [
    "### Why Use Logging Handlers?\n",
    "```\n",
    "✔ Separates logs based on destination (console vs. file).\n",
    "✔ Helps debug issues efficiently by storing logs persistently.\n",
    "✔ Filters logs based on severity for different outputs.\n",
    "✔ Useful for real-world applications where logs need to be saved and monitored.\n",
    "```\n",
    "Would you like an example of RotatingFileHandler (logs split when file size is too big)?"
   ]
  }
 ],
 "metadata": {
  "kernelspec": {
   "display_name": "Python 3 (ipykernel)",
   "language": "python",
   "name": "python3"
  },
  "language_info": {
   "codemirror_mode": {
    "name": "ipython",
    "version": 3
   },
   "file_extension": ".py",
   "mimetype": "text/x-python",
   "name": "python",
   "nbconvert_exporter": "python",
   "pygments_lexer": "ipython3",
   "version": "3.13.2"
  }
 },
 "nbformat": 4,
 "nbformat_minor": 5
}
