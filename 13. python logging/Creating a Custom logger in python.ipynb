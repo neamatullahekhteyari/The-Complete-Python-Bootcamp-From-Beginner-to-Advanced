{
 "cells": [
  {
   "cell_type": "markdown",
   "id": "44f72a9b",
   "metadata": {},
   "source": [
    "### Custom Logger in Python\n",
    "\n",
    "#### What is a Custom Logger?\n",
    "\n",
    "```\n",
    "A custom logger in Python is a logging setup where we define our own logger instance instead of using the default logger. This allows us to:\n",
    "\n",
    "```\n",
    "1. Set specific log levels for different parts of the application.\n",
    "\n",
    "2. Customize log formats for better readability.\n",
    "\n",
    "3. Direct logs to different destinations (console, file, database, etc.).\n",
    "\n",
    "4. Apply specific handlers and filters to log messages.\n",
    "```\n",
    "Using a custom logger is essential for large applications where logging needs to be managed efficiently.\n",
    "```"
   ]
  },
  {
   "cell_type": "markdown",
   "id": "d4e99ee6",
   "metadata": {},
   "source": [
    "### Step 1: Import the Logging Module"
   ]
  },
  {
   "cell_type": "code",
   "execution_count": 1,
   "id": "2ed70f34",
   "metadata": {},
   "outputs": [],
   "source": [
    "import logging\n"
   ]
  },
  {
   "cell_type": "markdown",
   "id": "f5f73324",
   "metadata": {},
   "source": [
    "The logging module is imported to enable logging functionality."
   ]
  },
  {
   "cell_type": "markdown",
   "id": "e0d47d1b",
   "metadata": {},
   "source": [
    "### Step 2: Create a Custom Logger"
   ]
  },
  {
   "cell_type": "code",
   "execution_count": 3,
   "id": "d09d26a1",
   "metadata": {},
   "outputs": [],
   "source": [
    "custom_logger = logging.getLogger(\"MyCustomLogger\")\n",
    "custom_logger.setLevel(logging.DEBUG)\n"
   ]
  },
  {
   "cell_type": "markdown",
   "id": "59520e59",
   "metadata": {},
   "source": [
    "1. logging.getLogger(\"MyCustomLogger\"): Creates a new logger instance with the name \"MyCustomLogger\".\n",
    "\n",
    "2. custom_logger.setLevel(logging.DEBUG): Sets the logging level to DEBUG, meaning all messages from DEBUG and above (INFO, WARNING, ERROR, CRITICAL) will be processed."
   ]
  },
  {
   "cell_type": "markdown",
   "id": "189bbdb5",
   "metadata": {},
   "source": [
    "### Step 3: Create a Console Handler"
   ]
  },
  {
   "cell_type": "code",
   "execution_count": 4,
   "id": "ca73cc70",
   "metadata": {},
   "outputs": [],
   "source": [
    "console_handler = logging.StreamHandler()\n",
    "console_handler.setLevel(logging.INFO)\n"
   ]
  },
  {
   "cell_type": "markdown",
   "id": "a311b2f6",
   "metadata": {},
   "source": [
    "- logging.StreamHandler(): Creates a handler that sends log messages to the console.\n",
    "\n",
    "- console_handler.setLevel(logging.INFO): Sets the handler to process only INFO and higher-level messages. DEBUG messages will be ignored."
   ]
  },
  {
   "cell_type": "markdown",
   "id": "2773c320",
   "metadata": {},
   "source": [
    "### Step 4: Define a Log Format"
   ]
  },
  {
   "cell_type": "code",
   "execution_count": 5,
   "id": "418046fc",
   "metadata": {},
   "outputs": [],
   "source": [
    "formatter = logging.Formatter('%(asctime)s - %(name)s - %(levelname)s - %(message)s')\n",
    "console_handler.setFormatter(formatter)\n"
   ]
  },
  {
   "cell_type": "markdown",
   "id": "65a6e56c",
   "metadata": {},
   "source": [
    "- logging.Formatter(): Defines how log messages should be formatted.\n",
    "\n",
    "- The format used:\n",
    "\n",
    "    - %(asctime)s → Timestamp of when the log was created.\n",
    "\n",
    "    - %(name)s → Name of the logger (MyCustomLogger).\n",
    "\n",
    "    - %(levelname)s → The log level (INFO, ERROR, etc.).\n",
    "\n",
    "    - %(message)s → The actual log message."
   ]
  },
  {
   "cell_type": "markdown",
   "id": "6f759044",
   "metadata": {},
   "source": [
    "### Step 5: Attach the Handler to the Logger"
   ]
  },
  {
   "cell_type": "code",
   "execution_count": 6,
   "id": "a7df1989",
   "metadata": {},
   "outputs": [],
   "source": [
    "custom_logger.addHandler(console_handler)\n"
   ]
  },
  {
   "cell_type": "markdown",
   "id": "53567d43",
   "metadata": {},
   "source": [
    "- Attaches the console_handler to custom_logger, enabling formatted logs to be displayed in the console.\n",
    "\n"
   ]
  },
  {
   "cell_type": "markdown",
   "id": "b83b305d",
   "metadata": {},
   "source": [
    "### Step 6: Generate Log Messages"
   ]
  },
  {
   "cell_type": "code",
   "execution_count": 8,
   "id": "c978af77",
   "metadata": {},
   "outputs": [
    {
     "name": "stderr",
     "output_type": "stream",
     "text": [
      "2025-03-26 00:26:20,514 - MyCustomLogger - INFO - this is an INFO message (shown in console).\n",
      "2025-03-26 00:26:20,519 - MyCustomLogger - ERROR - this is an ERROR message (shown in console).\n"
     ]
    }
   ],
   "source": [
    "custom_logger.debug(\"this is a debug message(not shown in console).\")\n",
    "custom_logger.info(\"this is an INFO message (shown in console).\")\n",
    "custom_logger.error(\"this is an ERROR message (shown in console).\")\n"
   ]
  },
  {
   "cell_type": "markdown",
   "id": "7e0eb90d",
   "metadata": {},
   "source": [
    "- DEBUG message: Not shown in the console because the console handler only accepts INFO and above.\n",
    "\n",
    "- INFO message: Displayed in the console.\n",
    "\n",
    "- ERROR message: Displayed in the console.\n",
    "\n"
   ]
  },
  {
   "cell_type": "markdown",
   "id": "379d5516",
   "metadata": {},
   "source": [
    "- The DEBUG message is missing because the console handler ignores DEBUG logs."
   ]
  },
  {
   "cell_type": "markdown",
   "id": "5a6d8252",
   "metadata": {},
   "source": [
    "## Custom logger Full code"
   ]
  },
  {
   "cell_type": "code",
   "execution_count": 8,
   "id": "4be5c8e1",
   "metadata": {},
   "outputs": [
    {
     "name": "stderr",
     "output_type": "stream",
     "text": [
      "2025-03-17 01:51:44,665 - DEBUG - this is a debug message(not shown in console).\n",
      "2025-03-17 01:51:44,667 - MyCustomLogger - INFO - this is an INFO message (shown in console).\n",
      "2025-03-17 01:51:44,667 - INFO - this is an INFO message (shown in console).\n",
      "2025-03-17 01:51:44,670 - MyCustomLogger - ERROR - this is an ERROR message (shown in console).\n",
      "2025-03-17 01:51:44,670 - ERROR - this is an ERROR message (shown in console).\n"
     ]
    }
   ],
   "source": [
    "import logging\n",
    "\n",
    "custom_logger = logging.getLogger(\"MyCustomLogger\")\n",
    "custom_logger.setLevel(logging.DEBUG)\n",
    "\n",
    "console_handler = logging.StreamHandler()\n",
    "console_handler.setLevel(logging.INFO)\n",
    "\n",
    "\n",
    "formatter = logging.Formatter('%(asctime)s - %(name)s - %(levelname)s - %(message)s')\n",
    "console_handler.setFormatter(formatter)\n",
    "\n",
    "custom_logger.addHandler(console_handler)\n",
    "\n",
    "custom_logger.debug(\"this is a debug message(not shown in console).\")\n",
    "custom_logger.info(\"this is an INFO message (shown in console).\")\n",
    "custom_logger.error(\"this is an ERROR message (shown in console).\")"
   ]
  },
  {
   "cell_type": "markdown",
   "id": "70e11c5e",
   "metadata": {},
   "source": [
    "### Why Use a Custom Logger?\n",
    "```\n",
    "✔ Separates different loggers for different parts of an application.\n",
    "✔ Allows better control over log levels and outputs.\n",
    "✔ Custom formatting makes logs easier to read.\n",
    "✔ Helps manage large-scale applications efficiently.\n",
    "```\n",
    "Would you like an example of logging to a file or using multiple handlers (console + file)? "
   ]
  }
 ],
 "metadata": {
  "kernelspec": {
   "display_name": "Python 3 (ipykernel)",
   "language": "python",
   "name": "python3"
  },
  "language_info": {
   "codemirror_mode": {
    "name": "ipython",
    "version": 3
   },
   "file_extension": ".py",
   "mimetype": "text/x-python",
   "name": "python",
   "nbconvert_exporter": "python",
   "pygments_lexer": "ipython3",
   "version": "3.13.2"
  }
 },
 "nbformat": 4,
 "nbformat_minor": 5
}
