{
 "cells": [
  {
   "cell_type": "markdown",
   "id": "b8476a69",
   "metadata": {},
   "source": [
    "### Implementing Log Rotation (File Size-Based)\n",
    "#### Description:\n",
    "Log rotation ensures that log files do not grow indefinitely, which could consume excessive disk space. It automatically creates new log files when a defined size limit is reached, keeping a specified number of backups."
   ]
  },
  {
   "cell_type": "code",
   "execution_count": 1,
   "id": "70df9833",
   "metadata": {},
   "outputs": [],
   "source": [
    "import logging\n",
    "from logging.handlers import RotatingFileHandler\n"
   ]
  },
  {
   "cell_type": "markdown",
   "id": "6c5b560c",
   "metadata": {},
   "source": [
    "- Imports necessary logging modules, including RotatingFileHandler, which enables log rotation."
   ]
  },
  {
   "cell_type": "code",
   "execution_count": 2,
   "id": "9bffe8d4",
   "metadata": {},
   "outputs": [],
   "source": [
    "file_handler = RotatingFileHandler(\"rotating.log\", maxBytes=1024, backupCount=3)\n",
    "file_handler.setLevel(logging.INFO)\n"
   ]
  },
  {
   "cell_type": "markdown",
   "id": "96907f50",
   "metadata": {},
   "source": [
    "- Configures a RotatingFileHandler to write logs to \"rotating.log\".\n",
    "\n",
    "- Sets maxBytes=1024 (1KB), meaning once the log file reaches this size, it rotates.\n",
    "\n",
    "- Sets backupCount=3, which means up to 3 old log files are retained (rotating.log.1, rotating.log.2, rotating.log.3)."
   ]
  },
  {
   "cell_type": "code",
   "execution_count": 3,
   "id": "4238dc29",
   "metadata": {},
   "outputs": [],
   "source": [
    "formatter = logging.Formatter('%(asctime)s - %(levelname)s - %(message)s')\n",
    "file_handler.setFormatter(formatter)\n"
   ]
  },
  {
   "cell_type": "markdown",
   "id": "23df0ba2",
   "metadata": {},
   "source": [
    "- Formats log messages with timestamp, log level, and message."
   ]
  },
  {
   "cell_type": "code",
   "execution_count": 4,
   "id": "fd1c9b62",
   "metadata": {},
   "outputs": [],
   "source": [
    "logger = logging.getLogger('RotatingLogger')\n",
    "logger.addHandler(file_handler)\n"
   ]
  },
  {
   "cell_type": "markdown",
   "id": "9fe0cf6b",
   "metadata": {},
   "source": [
    "- Creates a logger and attaches the file handler to it."
   ]
  },
  {
   "cell_type": "code",
   "execution_count": 5,
   "id": "5662643b",
   "metadata": {},
   "outputs": [],
   "source": [
    "for i in range(100):\n",
    "    logger.info(f\"this is log message {i}\")\n"
   ]
  },
  {
   "cell_type": "markdown",
   "id": "dfa0944d",
   "metadata": {},
   "source": [
    "- Generates 100 log messages, triggering log rotation once the file reaches 1KB."
   ]
  },
  {
   "cell_type": "markdown",
   "id": "beca5cc8",
   "metadata": {},
   "source": [
    "### Expected Outcome:\n",
    "\n",
    "- Multiple log files (rotating.log, rotating.log.1, rotating.log.2, etc.) will be created, ensuring that old logs are preserved but limited to 3 backup files.\n",
    "\n",
    "- When rotating.log exceeds 1KB, the system renames it (rotating.log.1) and starts a new fil"
   ]
  },
  {
   "cell_type": "markdown",
   "id": "2d6b7c7e",
   "metadata": {},
   "source": [
    "### Implementing Log Rotation full code"
   ]
  },
  {
   "cell_type": "code",
   "execution_count": 16,
   "id": "bffe36ff",
   "metadata": {},
   "outputs": [
    {
     "name": "stderr",
     "output_type": "stream",
     "text": [
      "2025-03-17 03:16:01,429 - INFO - this is log message 0\n",
      "2025-03-17 03:16:01,430 - INFO - this is log message 1\n",
      "2025-03-17 03:16:01,430 - INFO - this is log message 2\n",
      "2025-03-17 03:16:01,431 - INFO - this is log message 3\n",
      "2025-03-17 03:16:01,432 - INFO - this is log message 4\n",
      "2025-03-17 03:16:01,432 - INFO - this is log message 5\n",
      "2025-03-17 03:16:01,433 - INFO - this is log message 6\n",
      "2025-03-17 03:16:01,434 - INFO - this is log message 7\n",
      "2025-03-17 03:16:01,434 - INFO - this is log message 8\n",
      "2025-03-17 03:16:01,435 - INFO - this is log message 9\n",
      "2025-03-17 03:16:01,436 - INFO - this is log message 10\n",
      "2025-03-17 03:16:01,437 - INFO - this is log message 11\n",
      "2025-03-17 03:16:01,438 - INFO - this is log message 12\n",
      "2025-03-17 03:16:01,438 - INFO - this is log message 13\n",
      "2025-03-17 03:16:01,439 - INFO - this is log message 14\n",
      "2025-03-17 03:16:01,440 - INFO - this is log message 15\n",
      "2025-03-17 03:16:01,440 - INFO - this is log message 16\n",
      "2025-03-17 03:16:01,441 - INFO - this is log message 17\n",
      "2025-03-17 03:16:01,442 - INFO - this is log message 18\n",
      "2025-03-17 03:16:01,443 - INFO - this is log message 19\n",
      "2025-03-17 03:16:01,444 - INFO - this is log message 20\n",
      "2025-03-17 03:16:01,445 - INFO - this is log message 21\n",
      "2025-03-17 03:16:01,445 - INFO - this is log message 22\n",
      "2025-03-17 03:16:01,446 - INFO - this is log message 23\n",
      "2025-03-17 03:16:01,447 - INFO - this is log message 24\n",
      "2025-03-17 03:16:01,448 - INFO - this is log message 25\n",
      "2025-03-17 03:16:01,449 - INFO - this is log message 26\n",
      "2025-03-17 03:16:01,450 - INFO - this is log message 27\n",
      "2025-03-17 03:16:01,450 - INFO - this is log message 28\n",
      "2025-03-17 03:16:01,451 - INFO - this is log message 29\n",
      "2025-03-17 03:16:01,452 - INFO - this is log message 30\n",
      "2025-03-17 03:16:01,453 - INFO - this is log message 31\n",
      "2025-03-17 03:16:01,453 - INFO - this is log message 32\n",
      "2025-03-17 03:16:01,454 - INFO - this is log message 33\n",
      "2025-03-17 03:16:01,455 - INFO - this is log message 34\n",
      "2025-03-17 03:16:01,455 - INFO - this is log message 35\n",
      "2025-03-17 03:16:01,456 - INFO - this is log message 36\n",
      "2025-03-17 03:16:01,457 - INFO - this is log message 37\n",
      "2025-03-17 03:16:01,458 - INFO - this is log message 38\n",
      "2025-03-17 03:16:01,458 - INFO - this is log message 39\n",
      "2025-03-17 03:16:01,459 - INFO - this is log message 40\n",
      "2025-03-17 03:16:01,460 - INFO - this is log message 41\n",
      "2025-03-17 03:16:01,461 - INFO - this is log message 42\n",
      "2025-03-17 03:16:01,462 - INFO - this is log message 43\n",
      "2025-03-17 03:16:01,463 - INFO - this is log message 44\n",
      "2025-03-17 03:16:01,465 - INFO - this is log message 45\n",
      "2025-03-17 03:16:01,467 - INFO - this is log message 46\n",
      "2025-03-17 03:16:01,468 - INFO - this is log message 47\n",
      "2025-03-17 03:16:01,468 - INFO - this is log message 48\n",
      "2025-03-17 03:16:01,469 - INFO - this is log message 49\n",
      "2025-03-17 03:16:01,470 - INFO - this is log message 50\n",
      "2025-03-17 03:16:01,473 - INFO - this is log message 51\n",
      "2025-03-17 03:16:01,474 - INFO - this is log message 52\n",
      "2025-03-17 03:16:01,475 - INFO - this is log message 53\n",
      "2025-03-17 03:16:01,475 - INFO - this is log message 54\n",
      "2025-03-17 03:16:01,476 - INFO - this is log message 55\n",
      "2025-03-17 03:16:01,477 - INFO - this is log message 56\n",
      "2025-03-17 03:16:01,477 - INFO - this is log message 57\n",
      "2025-03-17 03:16:01,478 - INFO - this is log message 58\n",
      "2025-03-17 03:16:01,479 - INFO - this is log message 59\n",
      "2025-03-17 03:16:01,479 - INFO - this is log message 60\n",
      "2025-03-17 03:16:01,480 - INFO - this is log message 61\n",
      "2025-03-17 03:16:01,481 - INFO - this is log message 62\n",
      "2025-03-17 03:16:01,482 - INFO - this is log message 63\n",
      "2025-03-17 03:16:01,484 - INFO - this is log message 64\n",
      "2025-03-17 03:16:01,485 - INFO - this is log message 65\n",
      "2025-03-17 03:16:01,485 - INFO - this is log message 66\n",
      "2025-03-17 03:16:01,486 - INFO - this is log message 67\n",
      "2025-03-17 03:16:01,486 - INFO - this is log message 68\n",
      "2025-03-17 03:16:01,487 - INFO - this is log message 69\n",
      "2025-03-17 03:16:01,488 - INFO - this is log message 70\n",
      "2025-03-17 03:16:01,489 - INFO - this is log message 71\n",
      "2025-03-17 03:16:01,489 - INFO - this is log message 72\n",
      "2025-03-17 03:16:01,490 - INFO - this is log message 73\n",
      "2025-03-17 03:16:01,491 - INFO - this is log message 74\n",
      "2025-03-17 03:16:01,491 - INFO - this is log message 75\n",
      "2025-03-17 03:16:01,492 - INFO - this is log message 76\n",
      "2025-03-17 03:16:01,492 - INFO - this is log message 77\n",
      "2025-03-17 03:16:01,493 - INFO - this is log message 78\n",
      "2025-03-17 03:16:01,493 - INFO - this is log message 79\n",
      "2025-03-17 03:16:01,494 - INFO - this is log message 80\n",
      "2025-03-17 03:16:01,496 - INFO - this is log message 81\n",
      "2025-03-17 03:16:01,496 - INFO - this is log message 82\n",
      "2025-03-17 03:16:01,497 - INFO - this is log message 83\n",
      "2025-03-17 03:16:01,498 - INFO - this is log message 84\n",
      "2025-03-17 03:16:01,499 - INFO - this is log message 85\n",
      "2025-03-17 03:16:01,500 - INFO - this is log message 86\n",
      "2025-03-17 03:16:01,501 - INFO - this is log message 87\n",
      "2025-03-17 03:16:01,502 - INFO - this is log message 88\n",
      "2025-03-17 03:16:01,502 - INFO - this is log message 89\n",
      "2025-03-17 03:16:01,503 - INFO - this is log message 90\n",
      "2025-03-17 03:16:01,505 - INFO - this is log message 91\n",
      "2025-03-17 03:16:01,507 - INFO - this is log message 92\n",
      "2025-03-17 03:16:01,507 - INFO - this is log message 93\n",
      "2025-03-17 03:16:01,508 - INFO - this is log message 94\n",
      "2025-03-17 03:16:01,508 - INFO - this is log message 95\n",
      "2025-03-17 03:16:01,510 - INFO - this is log message 96\n",
      "2025-03-17 03:16:01,511 - INFO - this is log message 97\n",
      "2025-03-17 03:16:01,512 - INFO - this is log message 98\n",
      "2025-03-17 03:16:01,513 - INFO - this is log message 99\n"
     ]
    }
   ],
   "source": [
    "import logging\n",
    "from logging.handlers import RotatingFileHandler\n",
    "\n",
    "file_handler = RotatingFileHandler(\"rotating.log\", maxBytes=1024, backupCount=3)\n",
    "file_handler.setLevel(logging.INFO)\n",
    "\n",
    "formatter = logging.Formatter('%(asctime)s - %(levelname)s - %(message)s')\n",
    "file_handler.setFormatter(formatter)\n",
    "\n",
    "logger = logging.getLogger('RotatingLogger')\n",
    "logger.addHandler(file_handler)\n",
    "\n",
    "for i in range(100):\n",
    "    logger.info(f\"this is log message {i}\")\n",
    "    \n",
    "    \n",
    "\n"
   ]
  }
 ],
 "metadata": {
  "kernelspec": {
   "display_name": "Python 3 (ipykernel)",
   "language": "python",
   "name": "python3"
  },
  "language_info": {
   "codemirror_mode": {
    "name": "ipython",
    "version": 3
   },
   "file_extension": ".py",
   "mimetype": "text/x-python",
   "name": "python",
   "nbconvert_exporter": "python",
   "pygments_lexer": "ipython3",
   "version": "3.13.2"
  }
 },
 "nbformat": 4,
 "nbformat_minor": 5
}
