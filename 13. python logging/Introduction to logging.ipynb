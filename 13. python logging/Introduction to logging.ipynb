{
 "cells": [
  {
   "cell_type": "markdown",
   "id": "f081ff86",
   "metadata": {},
   "source": [
    "___\n",
    "\n",
    "<a href='https://www.udemy.com/user/Neamatullah-ekhteyari/'><img src='../Neamatullah.png'/></a>\n",
    "___\n",
    "<center><em>Content Copyright by Neamatullah Ekhteyari</em></center>"
   ]
  },
  {
   "cell_type": "markdown",
   "id": "9a312439",
   "metadata": {},
   "source": [
    "## Introduction to Logging\n",
    "\n",
    "By the end of this video:\n",
    "\n",
    "    1. Understand the importance of logging\n",
    "    2. Configure basic logging\n",
    "    3. Set appropriate log levels\n",
    "    4. Use logging to capture system events\n",
    "    5. Distinguish between loggin and debugging\n",
    "    \n",
    "What is logging ?\n",
    "\n",
    "Logging levels in python :\n",
    "\n",
    "\n",
    "    1.DEBUG   :\n",
    "    2.INFO    :\n",
    "    3.WARNING :\n",
    "    4.ERROR   :\n",
    "    5.CRITICAL:"
   ]
  },
  {
   "cell_type": "markdown",
   "id": "bbb98d2b",
   "metadata": {},
   "source": [
    "### Introduction to Logging in Python\n",
    "```\n",
    "Logging is a crucial tool for tracking the execution of a program, diagnosing issues, and maintaining system stability. It provides a way to capture and store messages about events occurring within an application. Logging helps developers and system administrators monitor behavior, debug problems, and gain insights into software performance.\n",
    "```\n",
    "#### Why Use Logging?\n",
    "\n",
    "- Helps diagnose and debug errors efficiently.\n",
    "\n",
    "- Provides a record of events that occurred during execution.\n",
    "\n",
    "- Allows tracking of warnings, errors, and critical issues.\n",
    "\n",
    "- More structured and manageable than using print() statements.\n",
    "\n",
    "- Supports different log levels for varying levels of importance.\n",
    "\n"
   ]
  },
  {
   "cell_type": "markdown",
   "id": "6d7613a0",
   "metadata": {},
   "source": [
    "### Logging Levels in Python\n",
    "```\n",
    "Python’s logging module provides five different severity levels:\n",
    "```\n",
    "```1. DEBUG: Detailed information for diagnosing issues.```\n",
    "\n",
    "```2. INFO: General information about program execution.```\n",
    "\n",
    "```3. WARNING: Alerts about potential issues that don’t stop execution.```\n",
    "\n",
    "```4. ERROR: Reports errors that prevent part of the program from running.```\n",
    "\n",
    "```5. CRITICAL: Serious errors that may cause the program to crash.```"
   ]
  },
  {
   "cell_type": "markdown",
   "id": "5b729120",
   "metadata": {},
   "source": [
    "### Basic Logging Configuration"
   ]
  },
  {
   "cell_type": "code",
   "execution_count": 1,
   "id": "c1f400b9",
   "metadata": {},
   "outputs": [
    {
     "name": "stderr",
     "output_type": "stream",
     "text": [
      "2025-03-17 01:02:49,530 - DEBUG - this is a debug message\n",
      "2025-03-17 01:02:49,532 - INFO - this is an info message\n",
      "2025-03-17 01:02:49,535 - WARNING - this is a warning message\n",
      "2025-03-17 01:02:49,536 - ERROR - this is an error message\n",
      "2025-03-17 01:02:49,537 - CRITICAL - this is a critical message\n"
     ]
    }
   ],
   "source": [
    "import logging\n",
    "\n",
    "logging.basicConfig(level=logging.DEBUG,format='%(asctime)s - %(levelname)s - %(message)s')\n",
    "\n",
    "logging.debug(\"this is a debug message\")\n",
    "logging.info(\"this is an info message\")\n",
    "logging.warning('this is a warning message')\n",
    "logging.error('this is an error message')\n",
    "logging.critical('this is a critical message')"
   ]
  },
  {
   "cell_type": "markdown",
   "id": "7c222d00",
   "metadata": {},
   "source": [
    "#### Explanation:\n",
    "```\n",
    "logging.basicConfig() configures the logging system.\n",
    "\n",
    "level=logging.DEBUG ensures that all messages from DEBUG level and above are logged.\n",
    "\n",
    "format='%(asctime)s - %(levelname)s - %(message)s' sets the log message format to include timestamp, log level, and message.\n",
    "\n",
    "Different log levels are used to capture different severities of messages.\n",
    "```"
   ]
  },
  {
   "cell_type": "markdown",
   "id": "5a882d93",
   "metadata": {},
   "source": [
    "### Logging to a File"
   ]
  },
  {
   "cell_type": "code",
   "execution_count": 9,
   "id": "b7addb7a",
   "metadata": {},
   "outputs": [
    {
     "name": "stderr",
     "output_type": "stream",
     "text": [
      "2025-03-17 02:05:35,360 - INFO - Application has started\n",
      "2025-03-17 02:05:35,365 - ERROR - An Error Occurred\n"
     ]
    }
   ],
   "source": [
    "logging.basicConfig(filename='app.log', level=logging.INFO,format='%(asctime)s - %(levelname)s - %(message)s')\n",
    "logging.info(\"Application has started\")\n",
    "logging.error(\"An Error Occurred\")"
   ]
  },
  {
   "cell_type": "markdown",
   "id": "0c8adeb9",
   "metadata": {},
   "source": [
    "#### Explanation:\n",
    "```\n",
    "filename='app.log' directs the log messages to a file named app.log.\n",
    "\n",
    "level=logging.INFO ensures that only INFO level and higher messages are logged (DEBUG messages are ignored).\n",
    "\n",
    "Messages like \"Application has started\" and \"An Error Occurred\" are written to the file instead of being displayed on the console.\n",
    "```"
   ]
  },
  {
   "cell_type": "markdown",
   "id": "cc8f53b3",
   "metadata": {},
   "source": [
    "### Key Takeaways\n",
    "```\n",
    "✔ Logging is better than print statements for tracking program execution.\n",
    "✔ Different logging levels help categorize messages based on severity.\n",
    "✔ Log messages can be written to both the console and a file.\n",
    "✔ Proper logging improves debugging and maintenance of applications.\n",
    "\n",
    "Would you like more advanced examples, such as handling exceptions with logging or using different log handlers?\n",
    "```"
   ]
  }
 ],
 "metadata": {
  "kernelspec": {
   "display_name": "Python 3 (ipykernel)",
   "language": "python",
   "name": "python3"
  },
  "language_info": {
   "codemirror_mode": {
    "name": "ipython",
    "version": 3
   },
   "file_extension": ".py",
   "mimetype": "text/x-python",
   "name": "python",
   "nbconvert_exporter": "python",
   "pygments_lexer": "ipython3",
   "version": "3.13.2"
  }
 },
 "nbformat": 4,
 "nbformat_minor": 5
}
