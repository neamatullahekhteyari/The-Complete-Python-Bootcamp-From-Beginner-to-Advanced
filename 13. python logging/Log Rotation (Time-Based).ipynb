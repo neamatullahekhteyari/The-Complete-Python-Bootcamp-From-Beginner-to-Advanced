{
 "cells": [
  {
   "cell_type": "markdown",
   "id": "cfa72554",
   "metadata": {},
   "source": [
    "### Log Rotation (Time-Based)\n",
    "#### Overview:\n",
    "Instead of rotating log files based on size, TimedRotatingFileHandler rotates log files based on a fixed time interval (e.g., every minute, hour, day). This ensures that logs are managed efficiently over time, preventing a single log file from growing indefinitely.\n",
    "\n",
    "#### Key Features of Time-Based Log Rotation:\n",
    "- Automatic Log Rotation: Logs are automatically saved into new files based on a time schedule.\n",
    "\n",
    "- Old Log Management: It keeps a limited number of old log files (defined by backupCount).\n",
    "\n",
    "- Prevention of Large Log Files: Since logs are rotated periodically, no single log file becomes too large.\n",
    "\n",
    "- Timestamps in Logs: Each log entry is timestamped, making it easier to track events over time.\n",
    "\n"
   ]
  },
  {
   "cell_type": "code",
   "execution_count": 1,
   "id": "60da7334",
   "metadata": {},
   "outputs": [],
   "source": [
    "import logging\n",
    "from logging.handlers import TimedRotatingFileHandler\n"
   ]
  },
  {
   "cell_type": "markdown",
   "id": "acb1b7f8",
   "metadata": {},
   "source": [
    "### 1. Importing Required Modules\n",
    "logging: Provides logging functionality.\n",
    "\n",
    "TimedRotatingFileHandler: A handler that rotates logs at a fixed time interval."
   ]
  },
  {
   "cell_type": "code",
   "execution_count": 2,
   "id": "c73bf1d2",
   "metadata": {},
   "outputs": [],
   "source": [
    "file_handler = TimedRotatingFileHandler(\"timed.log\", when='M', interval=1, backupCount=3)\n",
    "file_handler.setLevel(logging.INFO)\n"
   ]
  },
  {
   "cell_type": "markdown",
   "id": "636dc439",
   "metadata": {},
   "source": [
    "### 2. Configuring the Log File Rotation\n",
    "- \"timed.log\" → The base log file name.\n",
    "\n",
    "- when='M' → Logs will rotate every minute (M stands for \"Minutes\").\n",
    "\n",
    "- interval=1 → Rotation happens every 1 minute.\n",
    "\n",
    "- backupCount=3 → It keeps the last 3 old log files before deleting the oldest ones.\n",
    "\n",
    "- setLevel(logging.INFO) → Logs only messages of INFO level and above."
   ]
  },
  {
   "cell_type": "code",
   "execution_count": 3,
   "id": "248cfbca",
   "metadata": {},
   "outputs": [],
   "source": [
    "formatter = logging.Formatter(\"%(asctime)s - %(levelname)s - %(message)s\")\n",
    "file_handler.setFormatter(formatter)\n"
   ]
  },
  {
   "cell_type": "markdown",
   "id": "0070a997",
   "metadata": {},
   "source": [
    "### 3. Formatting Log Messages\n",
    "- %(asctime)s → Adds a timestamp to each log entry.\n",
    "\n",
    "- %(levelname)s → Indicates the log level (INFO, ERROR, etc.).\n",
    "\n",
    "- %(message)s → The actual log message."
   ]
  },
  {
   "cell_type": "code",
   "execution_count": 5,
   "id": "d4b8eb22",
   "metadata": {},
   "outputs": [],
   "source": [
    "logger = logging.getLogger('TimedLogger')\n",
    "logger.addHandler(file_handler)\n"
   ]
  },
  {
   "cell_type": "markdown",
   "id": "5eb5c1a8",
   "metadata": {},
   "source": [
    "#### 4. Creating and Configuring the Logger\n",
    "- Creates a logger instance named \"TimedLogger\".\n",
    "\n",
    "- Attaches the file handler to manage log rotation.\n",
    "\n",
    " "
   ]
  },
  {
   "cell_type": "code",
   "execution_count": 6,
   "id": "29761bed",
   "metadata": {},
   "outputs": [],
   "source": [
    "import time\n",
    "for i in range(100):\n",
    "    logger.info(f\"Logging message {i}\")\n",
    "    time.sleep(1)\n"
   ]
  },
  {
   "cell_type": "markdown",
   "id": "85304694",
   "metadata": {},
   "source": [
    "#### 5. Writing Logs with Time Delay\n",
    "- Logs 100 messages, one per second.\n",
    "\n",
    "- Uses time.sleep(1) to simulate real-time logging.\n",
    "\n",
    "- Due to rotation every minute, logs are moved to new files periodically."
   ]
  },
  {
   "cell_type": "markdown",
   "id": "2010a218",
   "metadata": {},
   "source": [
    "### Log Rotation (Time-Based)"
   ]
  },
  {
   "cell_type": "code",
   "execution_count": 19,
   "id": "33c49234",
   "metadata": {},
   "outputs": [
    {
     "name": "stderr",
     "output_type": "stream",
     "text": [
      "2025-03-17 03:36:18,058 - INFO - Logging message 0\n",
      "2025-03-17 03:36:19,062 - INFO - Logging message 1\n",
      "2025-03-17 03:36:20,064 - INFO - Logging message 2\n",
      "2025-03-17 03:36:21,067 - INFO - Logging message 3\n",
      "2025-03-17 03:36:22,071 - INFO - Logging message 4\n",
      "2025-03-17 03:36:23,073 - INFO - Logging message 5\n",
      "2025-03-17 03:36:24,075 - INFO - Logging message 6\n",
      "2025-03-17 03:36:25,078 - INFO - Logging message 7\n",
      "2025-03-17 03:36:26,080 - INFO - Logging message 8\n",
      "2025-03-17 03:36:27,082 - INFO - Logging message 9\n",
      "2025-03-17 03:36:28,084 - INFO - Logging message 10\n",
      "2025-03-17 03:36:29,088 - INFO - Logging message 11\n",
      "2025-03-17 03:36:30,091 - INFO - Logging message 12\n",
      "2025-03-17 03:36:31,093 - INFO - Logging message 13\n",
      "2025-03-17 03:36:32,096 - INFO - Logging message 14\n",
      "2025-03-17 03:36:33,098 - INFO - Logging message 15\n",
      "2025-03-17 03:36:34,101 - INFO - Logging message 16\n",
      "2025-03-17 03:36:35,104 - INFO - Logging message 17\n",
      "2025-03-17 03:36:36,107 - INFO - Logging message 18\n",
      "2025-03-17 03:36:37,109 - INFO - Logging message 19\n",
      "2025-03-17 03:36:38,111 - INFO - Logging message 20\n",
      "2025-03-17 03:36:39,115 - INFO - Logging message 21\n",
      "2025-03-17 03:36:40,117 - INFO - Logging message 22\n",
      "2025-03-17 03:36:41,119 - INFO - Logging message 23\n",
      "2025-03-17 03:36:42,122 - INFO - Logging message 24\n",
      "2025-03-17 03:36:43,124 - INFO - Logging message 25\n",
      "2025-03-17 03:36:44,127 - INFO - Logging message 26\n",
      "2025-03-17 03:36:45,131 - INFO - Logging message 27\n",
      "2025-03-17 03:36:46,133 - INFO - Logging message 28\n",
      "2025-03-17 03:36:47,136 - INFO - Logging message 29\n",
      "2025-03-17 03:36:48,139 - INFO - Logging message 30\n",
      "2025-03-17 03:36:49,141 - INFO - Logging message 31\n",
      "2025-03-17 03:36:50,143 - INFO - Logging message 32\n",
      "2025-03-17 03:36:51,145 - INFO - Logging message 33\n",
      "2025-03-17 03:36:52,147 - INFO - Logging message 34\n",
      "2025-03-17 03:36:53,149 - INFO - Logging message 35\n",
      "2025-03-17 03:36:54,151 - INFO - Logging message 36\n",
      "2025-03-17 03:36:55,155 - INFO - Logging message 37\n",
      "2025-03-17 03:36:56,157 - INFO - Logging message 38\n",
      "2025-03-17 03:36:57,160 - INFO - Logging message 39\n",
      "2025-03-17 03:36:58,163 - INFO - Logging message 40\n",
      "2025-03-17 03:36:59,165 - INFO - Logging message 41\n",
      "2025-03-17 03:37:00,167 - INFO - Logging message 42\n",
      "2025-03-17 03:37:01,170 - INFO - Logging message 43\n",
      "2025-03-17 03:37:02,172 - INFO - Logging message 44\n",
      "2025-03-17 03:37:03,175 - INFO - Logging message 45\n",
      "2025-03-17 03:37:04,178 - INFO - Logging message 46\n",
      "2025-03-17 03:37:05,180 - INFO - Logging message 47\n",
      "2025-03-17 03:37:06,183 - INFO - Logging message 48\n",
      "2025-03-17 03:37:07,185 - INFO - Logging message 49\n",
      "2025-03-17 03:37:08,187 - INFO - Logging message 50\n",
      "2025-03-17 03:37:09,191 - INFO - Logging message 51\n",
      "2025-03-17 03:37:10,194 - INFO - Logging message 52\n",
      "2025-03-17 03:37:11,197 - INFO - Logging message 53\n",
      "2025-03-17 03:37:12,199 - INFO - Logging message 54\n",
      "2025-03-17 03:37:13,202 - INFO - Logging message 55\n",
      "2025-03-17 03:37:14,205 - INFO - Logging message 56\n",
      "2025-03-17 03:37:15,207 - INFO - Logging message 57\n",
      "2025-03-17 03:37:16,209 - INFO - Logging message 58\n",
      "2025-03-17 03:37:17,213 - INFO - Logging message 59\n",
      "2025-03-17 03:37:18,216 - INFO - Logging message 60\n",
      "2025-03-17 03:37:19,219 - INFO - Logging message 61\n",
      "2025-03-17 03:37:20,222 - INFO - Logging message 62\n",
      "2025-03-17 03:37:21,225 - INFO - Logging message 63\n",
      "2025-03-17 03:37:22,228 - INFO - Logging message 64\n",
      "2025-03-17 03:37:23,230 - INFO - Logging message 65\n",
      "2025-03-17 03:37:24,233 - INFO - Logging message 66\n",
      "2025-03-17 03:37:25,235 - INFO - Logging message 67\n",
      "2025-03-17 03:37:26,239 - INFO - Logging message 68\n",
      "2025-03-17 03:37:27,240 - INFO - Logging message 69\n",
      "2025-03-17 03:37:28,243 - INFO - Logging message 70\n",
      "2025-03-17 03:37:29,246 - INFO - Logging message 71\n",
      "2025-03-17 03:37:30,249 - INFO - Logging message 72\n",
      "2025-03-17 03:37:31,252 - INFO - Logging message 73\n",
      "2025-03-17 03:37:32,254 - INFO - Logging message 74\n",
      "2025-03-17 03:37:33,256 - INFO - Logging message 75\n",
      "2025-03-17 03:37:34,258 - INFO - Logging message 76\n",
      "2025-03-17 03:37:35,262 - INFO - Logging message 77\n",
      "2025-03-17 03:37:36,265 - INFO - Logging message 78\n"
     ]
    },
    {
     "ename": "KeyboardInterrupt",
     "evalue": "",
     "output_type": "error",
     "traceback": [
      "\u001b[0;31m---------------------------------------------------------------------------\u001b[0m",
      "\u001b[0;31mKeyboardInterrupt\u001b[0m                         Traceback (most recent call last)",
      "Cell \u001b[0;32mIn[19], line 17\u001b[0m\n\u001b[1;32m     15\u001b[0m \u001b[38;5;28;01mfor\u001b[39;00m i \u001b[38;5;129;01min\u001b[39;00m \u001b[38;5;28mrange\u001b[39m(\u001b[38;5;241m100\u001b[39m):\n\u001b[1;32m     16\u001b[0m     logger\u001b[38;5;241m.\u001b[39minfo(\u001b[38;5;124mf\u001b[39m\u001b[38;5;124m\"\u001b[39m\u001b[38;5;124mLogging message \u001b[39m\u001b[38;5;132;01m{\u001b[39;00mi\u001b[38;5;132;01m}\u001b[39;00m\u001b[38;5;124m\"\u001b[39m)\n\u001b[0;32m---> 17\u001b[0m     \u001b[43mtime\u001b[49m\u001b[38;5;241;43m.\u001b[39;49m\u001b[43msleep\u001b[49m\u001b[43m(\u001b[49m\u001b[38;5;241;43m1\u001b[39;49m\u001b[43m)\u001b[49m\n",
      "\u001b[0;31mKeyboardInterrupt\u001b[0m: "
     ]
    }
   ],
   "source": [
    "import logging\n",
    "from logging.handlers import TimedRotatingFileHandler\n",
    "\n",
    "\n",
    "file_handler = TimedRotatingFileHandler(\"timed.log\", when='M', interval=1, backupCount=3)\n",
    "file_handler.setLevel(logging.INFO)\n",
    "\n",
    "formatter = logging.Formatter(\"%(asctime)s - %(levelname)s - %(message)s\")\n",
    "file_handler.setFormatter(formatter)\n",
    "\n",
    "logger = logging.getLogger('TimedLogger')\n",
    "logger.addHandler(file_handler)\n",
    "\n",
    "import time\n",
    "for i in range(100):\n",
    "    logger.info(f\"Logging message {i}\")\n",
    "    time.sleep(1)\n",
    "\n",
    "    "
   ]
  },
  {
   "cell_type": "markdown",
   "id": "7d957b2b",
   "metadata": {},
   "source": [
    "### Why Use Time-Based Log Rotation?\n",
    "- Prevents Log Overflow → Stops logs from getting too large.\n",
    "- Keeps Logs Organized → Logs are automatically archived.\n",
    "- Ensures Data Retention → Old logs are kept for reference but not indefinitely.\n",
    "- Works for Long-Running Applications → Ideal for servers and background services."
   ]
  }
 ],
 "metadata": {
  "kernelspec": {
   "display_name": "Python 3 (ipykernel)",
   "language": "python",
   "name": "python3"
  },
  "language_info": {
   "codemirror_mode": {
    "name": "ipython",
    "version": 3
   },
   "file_extension": ".py",
   "mimetype": "text/x-python",
   "name": "python",
   "nbconvert_exporter": "python",
   "pygments_lexer": "ipython3",
   "version": "3.13.2"
  }
 },
 "nbformat": 4,
 "nbformat_minor": 5
}
