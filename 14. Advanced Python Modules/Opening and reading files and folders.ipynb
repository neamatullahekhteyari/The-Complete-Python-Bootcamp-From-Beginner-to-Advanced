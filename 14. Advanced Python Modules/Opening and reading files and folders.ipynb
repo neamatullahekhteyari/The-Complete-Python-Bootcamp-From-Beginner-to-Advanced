{
 "cells": [
  {
   "cell_type": "markdown",
   "id": "a6bb03df",
   "metadata": {},
   "source": [
    "___\n",
    "\n",
    "<a href='https://www.udemy.com/user/Neamatullah-ekhteyari/'><img src='../Neamatullah.png'/></a>\n",
    "___\n",
    "<center><em>Content Copyright by Neamatullah Ekhteyari</em></center>"
   ]
  },
  {
   "cell_type": "markdown",
   "id": "f01c096b-8d2f-491f-8497-201ea8b96998",
   "metadata": {},
   "source": [
    "## Working with Files and Folders in Python Using os and shutil Modules\n",
    "### Overview\n",
    "Working with files and folders is a fundamental part of programming, whether you are managing logs, organizing data, or automating tasks. Python provides the os and shutil modules for interacting with the file system. These modules allow you to create, rename, delete, move, copy, and check file existence efficiently."
   ]
  },
  {
   "cell_type": "markdown",
   "id": "5352d1c5",
   "metadata": {},
   "source": [
    "### 1. Working with the os Module\n",
    "The os module provides a way to interact with the operating system, allowing you to navigate directories, create folders, rename files, and check file paths.\n",
    "\n",
    "#### Getting the Current Working Directory"
   ]
  },
  {
   "cell_type": "code",
   "execution_count": 15,
   "id": "580374d9-e69f-4dd3-9b43-677b4d7f9915",
   "metadata": {},
   "outputs": [
    {
     "name": "stdout",
     "output_type": "stream",
     "text": [
      "C:\\Users\\Neamatullah\\Documents\\python mastery\\python files\n"
     ]
    }
   ],
   "source": [
    "import os\n",
    "print(os.getcwd())"
   ]
  },
  {
   "cell_type": "markdown",
   "id": "d138e8e9",
   "metadata": {},
   "source": [
    "- os.getcwd() → Returns the current directory where the script is running."
   ]
  },
  {
   "cell_type": "markdown",
   "id": "4b5247ba",
   "metadata": {},
   "source": [
    "### Listing Files in a Directory"
   ]
  },
  {
   "cell_type": "code",
   "execution_count": 18,
   "id": "b1a63f32-e5f9-4947-b29f-ff48f4e403c4",
   "metadata": {},
   "outputs": [
    {
     "name": "stdout",
     "output_type": "stream",
     "text": [
      "['.ipynb_checkpoints', 'practice.txt', 'Tic Tac Toe Game.ipynb', 'Untitled.ipynb', 'Untitled1.ipynb', 'Untitled2.ipynb', 'Untitled3.ipynb']\n"
     ]
    }
   ],
   "source": [
    "print(os.listdir())"
   ]
  },
  {
   "cell_type": "code",
   "execution_count": null,
   "id": "9245a956-a580-46ea-be1a-a3a470b1f75f",
   "metadata": {},
   "outputs": [],
   "source": [
    "Windows: C:\\\\Users\\\\user\\\\Documents\n",
    "macOS/Linux: /home/user/Documents"
   ]
  },
  {
   "cell_type": "markdown",
   "id": "6b3628eb",
   "metadata": {},
   "source": [
    "- os.listdir() → Returns a list of files and folders in the current directory."
   ]
  },
  {
   "cell_type": "markdown",
   "id": "3304ca6b",
   "metadata": {},
   "source": [
    "### Creating and Writing to a File"
   ]
  },
  {
   "cell_type": "code",
   "execution_count": 17,
   "id": "43961e9b-5c7d-4cbe-95af-f8116a7714a0",
   "metadata": {},
   "outputs": [],
   "source": [
    "with open('practice.txt', 'w') as file:\n",
    "    file.write(\"this is a test stirng file.\")\n",
    "    "
   ]
  },
  {
   "cell_type": "markdown",
   "id": "5668bc71",
   "metadata": {},
   "source": [
    "- This creates a file practice.txt and writes \"this is a test string file.\" into it."
   ]
  },
  {
   "cell_type": "markdown",
   "id": "d7af7f4a",
   "metadata": {},
   "source": [
    "### Checking If a File Exists"
   ]
  },
  {
   "cell_type": "code",
   "execution_count": 25,
   "id": "1a077689-30b5-446f-9d33-47f07630da99",
   "metadata": {},
   "outputs": [
    {
     "name": "stdout",
     "output_type": "stream",
     "text": [
      "the file practice.txt exist in this location:  C:\\Users\\Neamatullah\\Documents\\python mastery\\python files\n"
     ]
    }
   ],
   "source": [
    "import os\n",
    "practice = os.path.exists('practice.txt')\n",
    "location = os.getcwd()\n",
    "if practice:\n",
    "    print(\"the file practice.txt exist in this location: \", location)\n",
    "else:\n",
    "    print(\"the file does not exists in this location: \",location)"
   ]
  },
  {
   "cell_type": "markdown",
   "id": "5ebfbe8b",
   "metadata": {},
   "source": [
    "- os.path.exists('file_name') → Checks if a file exists in the directory."
   ]
  },
  {
   "cell_type": "markdown",
   "id": "4692c28b",
   "metadata": {},
   "source": [
    "### Creating a New Folder"
   ]
  },
  {
   "cell_type": "code",
   "execution_count": 27,
   "id": "91c9e7d8-f0be-4261-8ae9-360dcc653655",
   "metadata": {},
   "outputs": [
    {
     "ename": "FileExistsError",
     "evalue": "[WinError 183] Cannot create a file when that file already exists: 'newFolder'",
     "output_type": "error",
     "traceback": [
      "\u001b[1;31m---------------------------------------------------------------------------\u001b[0m",
      "\u001b[1;31mFileExistsError\u001b[0m                           Traceback (most recent call last)",
      "Cell \u001b[1;32mIn[27], line 1\u001b[0m\n\u001b[1;32m----> 1\u001b[0m os\u001b[38;5;241m.\u001b[39mmkdir(\u001b[38;5;124m\"\u001b[39m\u001b[38;5;124mnewFolder\u001b[39m\u001b[38;5;124m\"\u001b[39m)\n",
      "\u001b[1;31mFileExistsError\u001b[0m: [WinError 183] Cannot create a file when that file already exists: 'newFolder'"
     ]
    }
   ],
   "source": [
    "os.mkdir(\"newFolder\")"
   ]
  },
  {
   "cell_type": "markdown",
   "id": "cc0ed30a",
   "metadata": {},
   "source": [
    "-  If the folder already exists, you'll get an error\n",
    "-  os.mkdir(\"folder_name\") → Creates a new directory."
   ]
  },
  {
   "cell_type": "code",
   "execution_count": 29,
   "id": "0fd986cc-9956-4c9e-9c9d-28a7246f8994",
   "metadata": {},
   "outputs": [
    {
     "name": "stdout",
     "output_type": "stream",
     "text": [
      "['.ipynb_checkpoints', 'newFolder', 'practice.txt', 'Tic Tac Toe Game.ipynb', 'Untitled.ipynb', 'Untitled1.ipynb', 'Untitled2.ipynb', 'Untitled3.ipynb']\n"
     ]
    }
   ],
   "source": [
    "print(os.listdir())"
   ]
  },
  {
   "cell_type": "markdown",
   "id": "e4e5d147",
   "metadata": {},
   "source": [
    "### Renaming a File"
   ]
  },
  {
   "cell_type": "code",
   "execution_count": 30,
   "id": "27ca8de5-9d68-4002-b666-7b85f8033705",
   "metadata": {},
   "outputs": [],
   "source": [
    "os.rename(\"practice.txt\", \"new_practice.txt\")"
   ]
  },
  {
   "cell_type": "code",
   "execution_count": 31,
   "id": "25e9ad4e-8c7f-4d61-967f-19ab0bf8107c",
   "metadata": {},
   "outputs": [
    {
     "name": "stdout",
     "output_type": "stream",
     "text": [
      "['.ipynb_checkpoints', 'newFolder', 'new_practice.txt', 'Tic Tac Toe Game.ipynb', 'Untitled.ipynb', 'Untitled1.ipynb', 'Untitled2.ipynb', 'Untitled3.ipynb']\n"
     ]
    }
   ],
   "source": [
    "print(os.listdir())"
   ]
  },
  {
   "cell_type": "markdown",
   "id": "6ac1ee42",
   "metadata": {},
   "source": [
    "- os.rename(\"old_name\", \"new_name\") → Renames a file "
   ]
  },
  {
   "cell_type": "markdown",
   "id": "6102be80",
   "metadata": {},
   "source": [
    "### 2. Working with the shutil Module\n",
    "The shutil module provides high-level file operations such as copying, moving, and deleting files or folders.\n",
    "\n",
    "#### Copying a File"
   ]
  },
  {
   "cell_type": "code",
   "execution_count": 32,
   "id": "d8caf817-920f-4dd6-a4c7-dd0914423732",
   "metadata": {},
   "outputs": [
    {
     "data": {
      "text/plain": [
       "'backup.txt'"
      ]
     },
     "execution_count": 32,
     "metadata": {},
     "output_type": "execute_result"
    }
   ],
   "source": [
    "import shutil\n",
    "shutil.copy(\"new_practice.txt\", \"backup.txt\")"
   ]
  },
  {
   "cell_type": "code",
   "execution_count": 33,
   "id": "a184d87e-2432-4f4b-b02a-bb4c8565a631",
   "metadata": {},
   "outputs": [
    {
     "name": "stdout",
     "output_type": "stream",
     "text": [
      "['.ipynb_checkpoints', 'backup.txt', 'newFolder', 'new_practice.txt', 'Tic Tac Toe Game.ipynb', 'Untitled.ipynb', 'Untitled1.ipynb', 'Untitled2.ipynb', 'Untitled3.ipynb']\n"
     ]
    }
   ],
   "source": [
    "print(os.listdir())"
   ]
  },
  {
   "cell_type": "markdown",
   "id": "7b90758d",
   "metadata": {},
   "source": [
    "- shutil.copy(\"source\", \"destination\") → Creates a copy of a file. "
   ]
  },
  {
   "cell_type": "markdown",
   "id": "fd13ebe3",
   "metadata": {},
   "source": [
    "### Moving a File"
   ]
  },
  {
   "cell_type": "code",
   "execution_count": 34,
   "id": "795b8714-3da4-4616-b10e-1da56d4c0286",
   "metadata": {},
   "outputs": [
    {
     "data": {
      "text/plain": [
       "'newFolder/backup.tx'"
      ]
     },
     "execution_count": 34,
     "metadata": {},
     "output_type": "execute_result"
    }
   ],
   "source": [
    "shutil.move(\"backup.txt\", \"newFolder/backup.tx\")"
   ]
  },
  {
   "cell_type": "code",
   "execution_count": 35,
   "id": "e041acfd-f79b-42d3-a7a2-ebeeca9b5bcc",
   "metadata": {},
   "outputs": [
    {
     "name": "stdout",
     "output_type": "stream",
     "text": [
      "['.ipynb_checkpoints', 'newFolder', 'new_practice.txt', 'Tic Tac Toe Game.ipynb', 'Untitled.ipynb', 'Untitled1.ipynb', 'Untitled2.ipynb', 'Untitled3.ipynb']\n"
     ]
    }
   ],
   "source": [
    "print(os.listdir())\n"
   ]
  },
  {
   "cell_type": "markdown",
   "id": "4acabf58",
   "metadata": {},
   "source": [
    "- shutil.move(\"source\", \"destination\") → Moves a file to a new location."
   ]
  },
  {
   "cell_type": "markdown",
   "id": "66b36f68",
   "metadata": {},
   "source": [
    "### Deleting a file"
   ]
  },
  {
   "cell_type": "code",
   "execution_count": 37,
   "id": "47c23fff-68da-4346-9eee-d4b9b820c24d",
   "metadata": {},
   "outputs": [
    {
     "ename": "FileNotFoundError",
     "evalue": "[WinError 2] The system cannot find the file specified: 'new_practice.txt'",
     "output_type": "error",
     "traceback": [
      "\u001b[1;31m---------------------------------------------------------------------------\u001b[0m",
      "\u001b[1;31mFileNotFoundError\u001b[0m                         Traceback (most recent call last)",
      "Cell \u001b[1;32mIn[37], line 1\u001b[0m\n\u001b[1;32m----> 1\u001b[0m os\u001b[38;5;241m.\u001b[39mremove(\u001b[38;5;124m\"\u001b[39m\u001b[38;5;124mnew_practice.txt\u001b[39m\u001b[38;5;124m\"\u001b[39m)\n",
      "\u001b[1;31mFileNotFoundError\u001b[0m: [WinError 2] The system cannot find the file specified: 'new_practice.txt'"
     ]
    }
   ],
   "source": [
    "os.remove(\"new_practice.txt\")"
   ]
  },
  {
   "cell_type": "code",
   "execution_count": 39,
   "id": "e55721a7-aa1c-420c-8604-97853bce7076",
   "metadata": {},
   "outputs": [
    {
     "data": {
      "text/plain": [
       "['.ipynb_checkpoints',\n",
       " 'newFolder',\n",
       " 'Tic Tac Toe Game.ipynb',\n",
       " 'Untitled.ipynb',\n",
       " 'Untitled1.ipynb',\n",
       " 'Untitled2.ipynb',\n",
       " 'Untitled3.ipynb']"
      ]
     },
     "execution_count": 39,
     "metadata": {},
     "output_type": "execute_result"
    }
   ],
   "source": [
    "os.listdir()"
   ]
  },
  {
   "cell_type": "markdown",
   "id": "3f7ec129",
   "metadata": {},
   "source": [
    "- If the file does not exist, you'll get an error:\n",
    "- os.remove(\"file_name\") → Deletes a file permanently."
   ]
  },
  {
   "cell_type": "markdown",
   "id": "f919bec3",
   "metadata": {},
   "source": [
    "### Summary of Key Functions\n",
    "<table border=\"1\" >\n",
    "    <tr>\n",
    "        <th>Function</th>\n",
    "        <th>Description</th>\n",
    "    </tr>\n",
    "    <tr>\n",
    "        <td><code>os.getcwd()</code></td>\n",
    "        <td>Get the current working directory</td>\n",
    "    </tr>\n",
    "    <tr>\n",
    "        <td><code>os.listdir()</code></td>\n",
    "        <td>List all files and folders in the current directory</td>\n",
    "    </tr>\n",
    "    <tr>\n",
    "        <td><code>os.mkdir(\"folder\")</code></td>\n",
    "        <td>Create a new directory</td>\n",
    "    </tr>\n",
    "    <tr>\n",
    "        <td><code>os.rename(\"old_name\", \"new_name\")</code></td>\n",
    "        <td>Rename a file or folder</td>\n",
    "    </tr>\n",
    "    <tr>\n",
    "        <td><code>os.path.exists(\"file\")</code></td>\n",
    "        <td>Check if a file or folder exists</td>\n",
    "    </tr>\n",
    "    <tr>\n",
    "        <td><code>os.remove(\"file\")</code></td>\n",
    "        <td>Delete a file</td>\n",
    "    </tr>\n",
    "    <tr>\n",
    "        <td><code>shutil.copy(\"source\", \"destination\")</code></td>\n",
    "        <td>Copy a file</td>\n",
    "    </tr>\n",
    "    <tr>\n",
    "        <td><code>shutil.move(\"source\", \"destination\")</code></td>\n",
    "        <td>Move a file</td>\n",
    "    </tr>\n",
    "</table>\n"
   ]
  }
 ],
 "metadata": {
  "kernelspec": {
   "display_name": "Python 3 (ipykernel)",
   "language": "python",
   "name": "python3"
  },
  "language_info": {
   "codemirror_mode": {
    "name": "ipython",
    "version": 3
   },
   "file_extension": ".py",
   "mimetype": "text/x-python",
   "name": "python",
   "nbconvert_exporter": "python",
   "pygments_lexer": "ipython3",
   "version": "3.13.2"
  }
 },
 "nbformat": 4,
 "nbformat_minor": 5
}
