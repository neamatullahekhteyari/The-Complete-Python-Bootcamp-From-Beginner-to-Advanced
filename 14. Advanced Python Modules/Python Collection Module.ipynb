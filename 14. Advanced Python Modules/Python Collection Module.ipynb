{
 "cells": [
  {
   "cell_type": "markdown",
   "id": "ce142843",
   "metadata": {},
   "source": [
    "___\n",
    "\n",
    "<a href='https://www.udemy.com/user/Neamatullah-ekhteyari/'><img src='../Neamatullah.png'/></a>\n",
    "___\n",
    "<center><em>Content Copyright by Neamatullah Ekhteyari</em></center>"
   ]
  },
  {
   "cell_type": "markdown",
   "id": "865383c7-df23-4fcd-8fb1-3afb542e3d11",
   "metadata": {},
   "source": [
    "## Python collections Module Overview\n",
    "The collections module in Python provides specialized data structures that extend built-in types like lists, tuples, and dictionaries. These structures provide efficient and optimized ways to store and manipulate data.\n",
    "\n",
    "One of the most commonly used classes in the collections module is Counter, which is specifically designed for counting hashable objects (e.g., numbers, strings, or words)."
   ]
  },
  {
   "cell_type": "markdown",
   "id": "df3c817c",
   "metadata": {},
   "source": [
    "### 1. Importing Counter from collections"
   ]
  },
  {
   "cell_type": "code",
   "execution_count": 1,
   "id": "0e781fe7-1c43-4f05-9fe7-8674850feb12",
   "metadata": {},
   "outputs": [],
   "source": [
    "from collections import Counter"
   ]
  },
  {
   "cell_type": "markdown",
   "id": "c702b7f9",
   "metadata": {},
   "source": [
    "- Counter is a subclass of dict that counts occurrences of elements in an iterable.\n",
    "\n",
    "- It returns a dictionary-like object where keys are elements and values are their counts."
   ]
  },
  {
   "cell_type": "markdown",
   "id": "49db09d3",
   "metadata": {},
   "source": [
    "- 2. Counting Elements in a List"
   ]
  },
  {
   "cell_type": "code",
   "execution_count": 3,
   "id": "fdce4854-3a69-4c78-8674-01b8e519d9c4",
   "metadata": {},
   "outputs": [],
   "source": [
    "my_list = [1 ,1 ,1 ,2 ,3 ,3 ,3 ,3 ,4 ,4 ,4 ]"
   ]
  },
  {
   "cell_type": "code",
   "execution_count": 4,
   "id": "1e091b8d-8e40-43d2-bb27-6f522b3bfb08",
   "metadata": {},
   "outputs": [
    {
     "name": "stdout",
     "output_type": "stream",
     "text": [
      "Counter({3: 4, 1: 3, 4: 3, 2: 1})\n"
     ]
    }
   ],
   "source": [
    "count_result = Counter(my_list)\n",
    "print(count_result)"
   ]
  },
  {
   "cell_type": "markdown",
   "id": "ee48d37a",
   "metadata": {},
   "source": [
    "#### Explanation:\n",
    "- Counter(my_list) counts how many times each element appears in my_list:\n",
    "\n",
    "    - 3 appears 4 times.\n",
    "\n",
    "    - 1 appears 3 times.\n",
    "\n",
    "    - 4 appears 3 times.\n",
    "\n",
    "    - 2 appears 1 time."
   ]
  },
  {
   "cell_type": "markdown",
   "id": "8529afaf",
   "metadata": {},
   "source": [
    "### 3. Counting Characters in a String"
   ]
  },
  {
   "cell_type": "code",
   "execution_count": 5,
   "id": "e8613bb6-b643-4aa5-a8a9-69f9cbd546c0",
   "metadata": {},
   "outputs": [
    {
     "name": "stdout",
     "output_type": "stream",
     "text": [
      "Counter({'b': 5, 'u': 4, 'a': 3, 'c': 3, 'd': 3, 'k': 3, 'l': 2})\n"
     ]
    }
   ],
   "source": [
    "word_count = Counter(\"aaabbbbbcccdddkkklluuuu\")\n",
    "print(word_count)"
   ]
  },
  {
   "cell_type": "markdown",
   "id": "9c449d13",
   "metadata": {},
   "source": [
    "### Explanation:\n",
    "- Counts occurrences of each character in the string:\n",
    "\n",
    "    - 'b' appears 5 times.\n",
    "\n",
    "    - 'u' appears 4 times.\n",
    "\n",
    "    - 'a', 'c', 'd', and 'k' appear 3 times.\n",
    "\n",
    "    - 'l' appears 2 times."
   ]
  },
  {
   "cell_type": "markdown",
   "id": "9a20c33b",
   "metadata": {},
   "source": [
    "### 4. Counting Words in a Sentence"
   ]
  },
  {
   "cell_type": "code",
   "execution_count": 6,
   "id": "70d72148-5373-4fcb-95da-55016490f7f2",
   "metadata": {},
   "outputs": [
    {
     "name": "stdout",
     "output_type": "stream",
     "text": [
      "Counter({'I': 2, 'am': 2, 'Hello': 1, 'my': 1, 'name': 1, 'is': 1, 'Neamatullah': 1, 'on': 1, 'online': 1, 'instructor,': 1, 'here': 1, 'to': 1, 'help': 1, 'you': 1})\n"
     ]
    }
   ],
   "source": [
    "sentence = \"Hello my name is Neamatullah I am on online instructor, I am here to help you\"\n",
    "word_counts = Counter(sentence.split())\n",
    "print(word_counts)"
   ]
  },
  {
   "cell_type": "markdown",
   "id": "30d2c47c",
   "metadata": {},
   "source": [
    "### Explanation:\n",
    "- sentence.split() converts the sentence into a list of words.\n",
    "\n",
    "- Counter counts the occurrences of each word.\n",
    "\n",
    "- The words \"I\" and \"am\" appear twice, while all othe"
   ]
  },
  {
   "cell_type": "markdown",
   "id": "9a903d63",
   "metadata": {},
   "source": [
    "### 5. Getting the Most Common Element"
   ]
  },
  {
   "cell_type": "code",
   "execution_count": 11,
   "id": "e4f6ab6b-8193-4024-a1d7-d1d4ebfb3fe6",
   "metadata": {},
   "outputs": [
    {
     "data": {
      "text/plain": [
       "[(3, 4)]"
      ]
     },
     "execution_count": 11,
     "metadata": {},
     "output_type": "execute_result"
    }
   ],
   "source": [
    "count_result.most_common(1)"
   ]
  },
  {
   "cell_type": "markdown",
   "id": "528482f3",
   "metadata": {},
   "source": [
    "#### Explanation:\n",
    "- .most_common(n) returns the top n most common elements as a list of tuples.\n",
    "\n",
    "- most_common(1) returns the most frequent element, which is 3 (appearing 4 times). "
   ]
  },
  {
   "cell_type": "markdown",
   "id": "9658d76e",
   "metadata": {},
   "source": [
    "### 6. Extracting All Elements"
   ]
  },
  {
   "cell_type": "code",
   "execution_count": 13,
   "id": "c4fe635e-4465-468b-a899-993f53a5c017",
   "metadata": {},
   "outputs": [
    {
     "data": {
      "text/plain": [
       "[1, 1, 1, 2, 3, 3, 3, 3, 4, 4, 4]"
      ]
     },
     "execution_count": 13,
     "metadata": {},
     "output_type": "execute_result"
    }
   ],
   "source": [
    "list(count_result.elements())"
   ]
  },
  {
   "cell_type": "markdown",
   "id": "6692f790",
   "metadata": {},
   "source": [
    "#### Explanation:\n",
    "- .elements() returns all elements, repeating them based on their counts.\n",
    "\n",
    "- Converts it back to a list, preserving the frequency of each number."
   ]
  },
  {
   "cell_type": "markdown",
   "id": "0ad97d20",
   "metadata": {},
   "source": [
    "### Why Use Counter?\n",
    "- Simplifies Counting → Instead of writing loops, use Counter.\n",
    "- Provides Useful Methods → most_common(), elements(), update(), etc.\n",
    "- Optimized for Performance → Faster than manually counting in lists or strings."
   ]
  }
 ],
 "metadata": {
  "kernelspec": {
   "display_name": "Python 3 (ipykernel)",
   "language": "python",
   "name": "python3"
  },
  "language_info": {
   "codemirror_mode": {
    "name": "ipython",
    "version": 3
   },
   "file_extension": ".py",
   "mimetype": "text/x-python",
   "name": "python",
   "nbconvert_exporter": "python",
   "pygments_lexer": "ipython3",
   "version": "3.13.2"
  }
 },
 "nbformat": 4,
 "nbformat_minor": 5
}
