{
 "cells": [
  {
   "cell_type": "markdown",
   "id": "325575d1",
   "metadata": {},
   "source": [
    "___\n",
    "\n",
    "<a href='https://www.udemy.com/user/Neamatullah-ekhteyari/'><img src='../Neamatullah.png'/></a>\n",
    "___\n",
    "<center><em>Content Copyright by Neamatullah Ekhteyari</em></center>"
   ]
  },
  {
   "cell_type": "markdown",
   "id": "7b27af31-8b7e-4899-818f-a1b2a628822c",
   "metadata": {},
   "source": [
    "## Python datetime Module: Overview\n",
    "The datetime module in Python provides classes for working with date, time, and date-time objects. It allows us to retrieve, format, and manipulate date and time values in various ways. The module is commonly used in applications involving timestamps, scheduling, logging, and time-based calculations.\n",
    "\n",
    "The module consists of several key classes:\n",
    "\n",
    "- datetime.date – Represents a calendar date (year, month, day).\n",
    "\n",
    "- datetime.time – Represents time (hours, minutes, seconds, microseconds).\n",
    "\n",
    "- datetime.datetime – Represents both date and time together.\n",
    "\n",
    "- datetime.timedelta – Represents a duration or difference between two dates/times.\n",
    "\n"
   ]
  },
  {
   "cell_type": "markdown",
   "id": "2261c35a",
   "metadata": {},
   "source": [
    "### 1. Creating and Printing a Time Object"
   ]
  },
  {
   "cell_type": "code",
   "execution_count": null,
   "id": "4eb5b6ee-341e-42bd-8ea8-55e6bbb7f9d7",
   "metadata": {},
   "outputs": [],
   "source": [
    "import datatime"
   ]
  },
  {
   "cell_type": "code",
   "execution_count": 56,
   "id": "c4acdc52-0b58-45f5-81e2-d526b6749baf",
   "metadata": {},
   "outputs": [
    {
     "name": "stdout",
     "output_type": "stream",
     "text": [
      "02:20:00\n"
     ]
    }
   ],
   "source": [
    "my_time = datetime.time(2, 20)\n",
    "print(my_time)"
   ]
  },
  {
   "cell_type": "markdown",
   "id": "6daafd67",
   "metadata": {},
   "source": [
    "#### Explanation:\n",
    "- This creates a time object representing 2:20 AM.\n",
    "\n",
    "- The output follows the HH:MM:SS format.\n",
    "\n",
    "- Since seconds are not provided, they default to 00.\n",
    "\n"
   ]
  },
  {
   "cell_type": "markdown",
   "id": "7ef23139",
   "metadata": {},
   "source": [
    "### 2. Creating a Time Object with More Precision"
   ]
  },
  {
   "cell_type": "code",
   "execution_count": 58,
   "id": "0a1966ef-9482-412e-89cf-255f4ae78117",
   "metadata": {},
   "outputs": [
    {
     "name": "stdout",
     "output_type": "stream",
     "text": [
      "13:20:01.000020\n"
     ]
    }
   ],
   "source": [
    "precise_time = datetime.time(13, 20, 1, 20)\n",
    "print(precise_time)"
   ]
  },
  {
   "cell_type": "markdown",
   "id": "e95fb762",
   "metadata": {},
   "source": [
    "#### Explanation:\n",
    "- This creates a time object representing 13:20:01 (1:20:01 PM) with 20 microseconds.\n",
    "\n",
    "- The output includes hours, minutes, seconds, and microseconds."
   ]
  },
  {
   "cell_type": "markdown",
   "id": "13edf73a",
   "metadata": {},
   "source": [
    "### 3. Accessing Specific Time Attributes"
   ]
  },
  {
   "cell_type": "code",
   "execution_count": 62,
   "id": "c00a55a4-0bc0-4115-a298-841c31b330aa",
   "metadata": {},
   "outputs": [
    {
     "name": "stdout",
     "output_type": "stream",
     "text": [
      "2\n",
      "20\n"
     ]
    }
   ],
   "source": [
    "print(my_time.hour)\n",
    "print(my_time.minute)"
   ]
  },
  {
   "cell_type": "markdown",
   "id": "2ee0db1f",
   "metadata": {},
   "source": [
    "#### Explanation:\n",
    "- my_time.hour returns the hour (2).\n",
    "\n",
    "- my_time.minute returns the minutes (20)."
   ]
  },
  {
   "cell_type": "markdown",
   "id": "c9eed860",
   "metadata": {},
   "source": [
    "### 4. Getting Today’s Date"
   ]
  },
  {
   "cell_type": "code",
   "execution_count": 64,
   "id": "9b219056-73a6-4159-889d-ac6a6fbc1c3c",
   "metadata": {},
   "outputs": [
    {
     "name": "stdout",
     "output_type": "stream",
     "text": [
      "2025-03-05\n"
     ]
    }
   ],
   "source": [
    "today = datetime.date.today()\n",
    "print(today)"
   ]
  },
  {
   "cell_type": "markdown",
   "id": "f2350ee8",
   "metadata": {},
   "source": [
    "#### Explanation:\n",
    "- datetime.date.today() retrieves the current date.\n",
    "\n",
    "- The output follows the format YYYY-MM-DD."
   ]
  },
  {
   "cell_type": "markdown",
   "id": "3db49e61",
   "metadata": {},
   "source": [
    "### 5. Extracting Year, Month, and Day"
   ]
  },
  {
   "cell_type": "code",
   "execution_count": 67,
   "id": "80a2e7bb-95bd-46ae-9761-417e948a5e88",
   "metadata": {},
   "outputs": [
    {
     "name": "stdout",
     "output_type": "stream",
     "text": [
      "2025\n",
      "3\n",
      "5\n"
     ]
    }
   ],
   "source": [
    "print(today.year)\n",
    "print(today.month)\n",
    "print(today.day)\n"
   ]
  },
  {
   "cell_type": "markdown",
   "id": "d1cffbc0",
   "metadata": {},
   "source": [
    "#### Explanation:\n",
    "- .year extracts the year (2025).\n",
    "\n",
    "- .month extracts the month (3 for March).\n",
    "\n",
    "- .day extracts the day (5)."
   ]
  },
  {
   "cell_type": "markdown",
   "id": "4656339b",
   "metadata": {},
   "source": [
    "### 6. Formatting the Date in a Readable Format"
   ]
  },
  {
   "cell_type": "code",
   "execution_count": 68,
   "id": "82046d14-761b-48db-89df-b4c28ad57cdd",
   "metadata": {},
   "outputs": [
    {
     "name": "stdout",
     "output_type": "stream",
     "text": [
      "Wed Mar  5 00:00:00 2025\n"
     ]
    }
   ],
   "source": [
    "print(today.ctime())"
   ]
  },
  {
   "cell_type": "markdown",
   "id": "8ce2f5a3",
   "metadata": {},
   "source": [
    "#### Explanation:\n",
    "- .ctime() formats the date into a human-readable string.\n",
    "\n",
    "- Includes day name, month, day number, time (defaults to midnight), and year."
   ]
  },
  {
   "cell_type": "markdown",
   "id": "16424285",
   "metadata": {},
   "source": [
    "### 7. Creating a Full Date-Time Object"
   ]
  },
  {
   "cell_type": "code",
   "execution_count": 69,
   "id": "d72bcafe-9c0a-48c2-94ba-301ddeeb0a05",
   "metadata": {},
   "outputs": [
    {
     "name": "stdout",
     "output_type": "stream",
     "text": [
      "2025-03-04 14:30:45\n"
     ]
    }
   ],
   "source": [
    "dt = datetime.datetime(2025, 3, 4, 14, 30, 45)\n",
    "print(dt)"
   ]
  },
  {
   "cell_type": "markdown",
   "id": "c50e2b11",
   "metadata": {},
   "source": [
    "#### Explanation:\n",
    "- This creates a datetime object representing:\n",
    "\n",
    "    - Year: 2025\n",
    "\n",
    "    - Month: March (3)\n",
    "\n",
    "    - Day: 4th\n",
    "\n",
    "    - Hour: 14 (2 PM)\n",
    "\n",
    "    - Minutes: 30\n",
    "\n",
    "    - Seconds: 45\n",
    "\n",
    "- The output includes both date and time."
   ]
  },
  {
   "cell_type": "markdown",
   "id": "c956c53d",
   "metadata": {},
   "source": [
    "### Summary of Key Functions"
   ]
  },
  {
   "cell_type": "markdown",
   "id": "5f707ea2",
   "metadata": {},
   "source": [
    "<table border=\"1\">\n",
    "  <tr>\n",
    "    <th>Function</th>\n",
    "    <th>Description</th>\n",
    "  </tr>\n",
    "  <tr>\n",
    "    <td>datetime.time(hour, minute, second, microsecond)</td>\n",
    "    <td>Creates a time object</td>\n",
    "  </tr>\n",
    "  <tr>\n",
    "    <td>datetime.date.today()</td>\n",
    "    <td>Gets the current date</td>\n",
    "  </tr>\n",
    "  <tr>\n",
    "    <td>datetime.datetime(year, month, day, hour, minute, second)</td>\n",
    "    <td>Creates a full date-time object</td>\n",
    "  </tr>\n",
    "  <tr>\n",
    "    <td>datetime.date.year</td>\n",
    "    <td>Extracts the year from a date object</td>\n",
    "  </tr>\n",
    "  <tr>\n",
    "    <td>datetime.date.month</td>\n",
    "    <td>Extracts the month from a date object</td>\n",
    "  </tr>\n",
    "  <tr>\n",
    "    <td>datetime.date.day</td>\n",
    "    <td>Extracts the day from a date object</td>\n",
    "  </tr>\n",
    "  <tr>\n",
    "    <td>datetime.date.ctime()</td>\n",
    "    <td>Formats the date into a readable string</td>\n",
    "  </tr>\n",
    "</table>\n"
   ]
  }
 ],
 "metadata": {
  "kernelspec": {
   "display_name": "Python 3 (ipykernel)",
   "language": "python",
   "name": "python3"
  },
  "language_info": {
   "codemirror_mode": {
    "name": "ipython",
    "version": 3
   },
   "file_extension": ".py",
   "mimetype": "text/x-python",
   "name": "python",
   "nbconvert_exporter": "python",
   "pygments_lexer": "ipython3",
   "version": "3.13.2"
  }
 },
 "nbformat": 4,
 "nbformat_minor": 5
}
