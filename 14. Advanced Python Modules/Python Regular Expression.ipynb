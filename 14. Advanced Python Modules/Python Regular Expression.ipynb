{
 "cells": [
  {
   "cell_type": "markdown",
   "id": "325575d1",
   "metadata": {},
   "source": [
    "___\n",
    "\n",
    "<a href='https://www.udemy.com/user/Neamatullah-ekhteyari/'><img src='../Neamatullah.png'/></a>\n",
    "___\n",
    "<center><em>Content Copyright by Neamatullah Ekhteyari</em></center>"
   ]
  },
  {
   "cell_type": "markdown",
   "id": "65abd371",
   "metadata": {},
   "source": [
    "## Python Regular Expressions (Regex) – Detailed Explanation\n",
    "Regular expressions (regex) are powerful tools used to search for, match, and manipulate strings based on specific patterns. In Python, the re module provides functions for working with regex.\n",
    "\n",
    "Here's an overview of the regex examples and patterns used in the code:"
   ]
  },
  {
   "cell_type": "markdown",
   "id": "4055405f",
   "metadata": {},
   "source": [
    "### 1. Simple String Matching:"
   ]
  },
  {
   "cell_type": "code",
   "execution_count": 1,
   "id": "011c0644-df49-4ad3-b0bf-c0219b59bf04",
   "metadata": {},
   "outputs": [
    {
     "name": "stdout",
     "output_type": "stream",
     "text": [
      "True\n"
     ]
    }
   ],
   "source": [
    "print(\"friend\" in \"my friend is great\")"
   ]
  },
  {
   "cell_type": "markdown",
   "id": "d6d7f983",
   "metadata": {},
   "source": [
    "#### Explanation:\n",
    "\n",
    "This checks if the substring \"friend\" exists in the string \"my friend is great\". It returns True because the substring is found."
   ]
  },
  {
   "cell_type": "code",
   "execution_count": null,
   "id": "e55ec671-9c83-4462-a2c0-81da5524c77c",
   "metadata": {},
   "outputs": [],
   "source": [
    "username@domain.com"
   ]
  },
  {
   "cell_type": "markdown",
   "id": "cce1bc94",
   "metadata": {},
   "source": [
    "### 2. Finding a Phone Number Pattern:"
   ]
  },
  {
   "cell_type": "code",
   "execution_count": 9,
   "id": "38b220cd-4bbc-4352-aec0-bc5d0eddb999",
   "metadata": {},
   "outputs": [
    {
     "name": "stdout",
     "output_type": "stream",
     "text": [
      "(987)-654-3210\n"
     ]
    }
   ],
   "source": [
    "import re\n",
    "\n",
    "pattern = r\"\\(\\d{3}\\)-\\d{3}-\\d{4}\"\n",
    "text = \"Call me at (123)-456-7890 or (987)-654-3210.\"\n",
    "\n",
    "matches = re.findall(pattern, text)\n",
    "print(matches[1])"
   ]
  },
  {
   "cell_type": "markdown",
   "id": "90e8ba9b",
   "metadata": {},
   "source": [
    "#### Explanation:\n",
    "\n",
    "- pattern = r\"\\(\\d{3}\\)-\\d{3}-\\d{4}\": This regex pattern matches a phone number in the format (xxx)-xxx-xxxx where x is a digit.\n",
    "\n",
    "- re.findall() finds all occurrences that match the pattern, returning a list of matches. In this case, it finds both phone numbers in the text."
   ]
  },
  {
   "cell_type": "code",
   "execution_count": null,
   "id": "a5997cfa-ca48-4403-abf3-74ae89b5fa22",
   "metadata": {},
   "outputs": [],
   "source": [
    "# (123)-456-7890\n"
   ]
  },
  {
   "cell_type": "markdown",
   "id": "cc8ce664",
   "metadata": {},
   "source": [
    "### 3. Common Regex Characters and Their Meaning:"
   ]
  },
  {
   "cell_type": "markdown",
   "id": "4ba7ed73-2c3e-48a4-9d51-2aea4d464698",
   "metadata": {},
   "source": [
    "<table ><tr><th>Character</th><th>Description</th><th>Example Pattern Code</th><th >Example Match</th></tr>\n",
    "\n",
    "<tr ><td><span >\\d</span></td><td>A digit number</td><td>file_\\d\\d</td><td>file_25</td></tr>\n",
    "\n",
    "<tr ><td><span >\\w</span></td><td>Alphanumeric</td><td>\\w-\\w\\w\\w</td><td>A-b_1</td></tr>\n",
    "\n",
    "\n",
    "\n",
    "<tr ><td><span >\\s</span></td><td>White space</td><td>a\\sb\\sc</td><td>a b c</td></tr>\n",
    "\n",
    "\n",
    "\n",
    "<tr ><td><span >\\D</span></td><td>A non digit</td><td>\\D\\D\\D</td><td>ABC</td></tr>\n",
    "\n",
    "<tr ><td><span >\\W</span></td><td>Non-alphanumeric</td><td>\\W\\W\\W\\W\\W</td><td>*-+=)</td></tr>\n",
    "\n",
    "<tr ><td><span >\\S</span></td><td>Non-whitespace</td><td>\\S\\S\\S\\S</td><td>Yoyo</td></tr></table>"
   ]
  },
  {
   "cell_type": "markdown",
   "id": "51e1b78e",
   "metadata": {},
   "source": [
    "### 4. Using re.search() for Specific Matches:"
   ]
  },
  {
   "cell_type": "code",
   "execution_count": 4,
   "id": "5242545c-579d-4d13-bed0-ee57124c2ed8",
   "metadata": {},
   "outputs": [],
   "source": [
    "text = \"my phone number is : 408-555-1234\"\n"
   ]
  },
  {
   "cell_type": "code",
   "execution_count": 5,
   "id": "94d4a86b-2cc9-4d19-858f-07f36a8c36a7",
   "metadata": {},
   "outputs": [
    {
     "name": "stdout",
     "output_type": "stream",
     "text": [
      "<re.Match object; span=(21, 33), match='408-555-1234'>\n"
     ]
    }
   ],
   "source": [
    "import re\n",
    "\n",
    "phone = re.search(\"408-555-1234\", text)\n",
    "print(phone)"
   ]
  },
  {
   "cell_type": "markdown",
   "id": "dabc2542",
   "metadata": {},
   "source": [
    "#### Explanation:\n",
    "\n",
    "re.search() returns the first match of the exact pattern. In this case, it looks for the phone number 408-555-1234 in the string and finds it."
   ]
  },
  {
   "cell_type": "markdown",
   "id": "8ecbf154",
   "metadata": {},
   "source": [
    "### 5. Using \\d for Matching Digits:"
   ]
  },
  {
   "cell_type": "code",
   "execution_count": 6,
   "id": "7d29fc38-e8c8-4d89-a938-ba36b0b00c9c",
   "metadata": {},
   "outputs": [
    {
     "name": "stdout",
     "output_type": "stream",
     "text": [
      "<re.Match object; span=(21, 33), match='408-555-1234'>\n"
     ]
    }
   ],
   "source": [
    "phone_pattern = r\"\\d\\d\\d-\\d\\d\\d-\\d\\d\\d\\d\"\n",
    "phone_pattern2 = r\"\\d{3}-\\d{3}-\\d{4}\"\n",
    "phone = re.search(phone_pattern2, text)\n",
    "print(phone)"
   ]
  },
  {
   "cell_type": "markdown",
   "id": "9d67d859",
   "metadata": {},
   "source": [
    "#### Explanation:\n",
    "\n",
    "\\d{3} matches exactly 3 digits. This pattern matches phone numbers in the format xxx-xxx-xxxx."
   ]
  },
  {
   "cell_type": "markdown",
   "id": "0a364097",
   "metadata": {},
   "source": [
    "### 6. Finding All Numbers:"
   ]
  },
  {
   "cell_type": "code",
   "execution_count": 16,
   "id": "3dd6102b-121a-4747-b648-ed89a43f7457",
   "metadata": {},
   "outputs": [
    {
     "name": "stdout",
     "output_type": "stream",
     "text": [
      "['12345', '9765']\n"
     ]
    }
   ],
   "source": [
    "text = \"Order Number: 12345, Id: 9765\"\n",
    "pattern = r\"\\d+\"\n",
    "print(re.findall(pattern, text))"
   ]
  },
  {
   "cell_type": "markdown",
   "id": "87703c6f",
   "metadata": {},
   "source": [
    "#### Explanation:\n",
    "\n",
    "\\d+ matches one or more digits. re.findall() returns all occurrences of numbers in the text."
   ]
  },
  {
   "cell_type": "markdown",
   "id": "37f332cc",
   "metadata": {},
   "source": [
    "### 7. Finding All Words:"
   ]
  },
  {
   "cell_type": "code",
   "execution_count": 18,
   "id": "57193a0e-ae05-48c5-869e-ae93150e0ee7",
   "metadata": {},
   "outputs": [
    {
     "name": "stdout",
     "output_type": "stream",
     "text": [
      "['Hello', 'World', 'Welcome', 'to', 'Regex']\n"
     ]
    }
   ],
   "source": [
    "text = \"Hello, World! Welcome to Regex.\"\n",
    "pattern = r\"\\w+\"\n",
    "print(re.findall(pattern, text))"
   ]
  },
  {
   "cell_type": "markdown",
   "id": "993f854a",
   "metadata": {},
   "source": [
    "#### Explanation:\n",
    "\n",
    "\\w+ matches one or more alphanumeric characters (letters, digits, or underscores). This pattern will match all words in the text."
   ]
  },
  {
   "cell_type": "markdown",
   "id": "7fc21b42",
   "metadata": {},
   "source": [
    "### 8. Finding All Whitespace:"
   ]
  },
  {
   "cell_type": "code",
   "execution_count": 21,
   "id": "373dd03d-39b6-409e-b353-1ee3613cd9b8",
   "metadata": {},
   "outputs": [
    {
     "name": "stdout",
     "output_type": "stream",
     "text": [
      "['     ', '    ']\n"
     ]
    }
   ],
   "source": [
    "text = \"Python     is    fun!\"\n",
    "pattern = r\"\\s+\"\n",
    "print(re.findall(pattern, text))"
   ]
  },
  {
   "cell_type": "markdown",
   "id": "5ecdef85",
   "metadata": {},
   "source": [
    "#### Explanation:\n",
    "\n",
    "\\s+ matches one or more whitespace characters (spaces, tabs, newlines). This pattern finds sequences of spaces in the text."
   ]
  },
  {
   "cell_type": "markdown",
   "id": "4c38ad64",
   "metadata": {},
   "source": [
    "### 9. Finding Non-Alphanumeric Characters:"
   ]
  },
  {
   "cell_type": "code",
   "execution_count": 22,
   "id": "6e96c9d6-6cf3-491a-89ef-250422e3ab65",
   "metadata": {},
   "outputs": [
    {
     "name": "stdout",
     "output_type": "stream",
     "text": [
      "[', ', '! ']\n"
     ]
    }
   ],
   "source": [
    "text = \"Hello, world! 123\"\n",
    "pattern = r\"\\W+\"\n",
    "print(re.findall(pattern, text))"
   ]
  },
  {
   "cell_type": "markdown",
   "id": "16447139",
   "metadata": {},
   "source": [
    "#### Explanation:\n",
    "\n",
    "\\W+ matches one or more non-alphanumeric characters (anything that's not a letter, digit, or underscore). In this case, it matches the punctuation marks , and ! ."
   ]
  },
  {
   "cell_type": "markdown",
   "id": "eaf3a577",
   "metadata": {},
   "source": [
    "### 10. Using | for Alternation:"
   ]
  },
  {
   "cell_type": "code",
   "execution_count": 23,
   "id": "6ba7e0d8-0371-4ac0-ade0-b0445f080a4b",
   "metadata": {},
   "outputs": [
    {
     "name": "stdout",
     "output_type": "stream",
     "text": [
      "<re.Match object; span=(4, 7), match='cat'>\n",
      "<re.Match object; span=(4, 7), match='dog'>\n",
      "None\n"
     ]
    }
   ],
   "source": [
    "import re\n",
    "\n",
    "pattern = r\"cat|dog\"\n",
    "text1 = \"The cat is here\"\n",
    "text2 = \"the dog is here\"\n",
    "text3 = \"the bird is here\"\n",
    "\n",
    "print(re.search(pattern, text1))\n",
    "print(re.search(pattern, text2))\n",
    "print(re.search(pattern, text3))"
   ]
  },
  {
   "cell_type": "markdown",
   "id": "00031aa4",
   "metadata": {},
   "source": [
    "#### Explanation:\n",
    "\n",
    "```cat|dog matches either the word \"cat\" or \"dog\". The | symbol is used to specify alternatives.```\n",
    "\n",
    "```The function re.search() returns the first match. It finds cat in text1, dog in text2, and finds no match in text3.```"
   ]
  },
  {
   "cell_type": "markdown",
   "id": "0b5a58b2",
   "metadata": {},
   "source": [
    "### 11. Using . to Match Any Character:"
   ]
  },
  {
   "cell_type": "code",
   "execution_count": 24,
   "id": "0b561e27-173d-4487-ae11-e4855447f8a0",
   "metadata": {},
   "outputs": [
    {
     "name": "stdout",
     "output_type": "stream",
     "text": [
      "['cat', 'hat', 'sat']\n"
     ]
    }
   ],
   "source": [
    "pattern = r'.at'\n",
    "\n",
    "text = \"The cat in the hat sat there.\"\n",
    "\n",
    "matches = re.findall(pattern, text)\n",
    "print(matches)\n"
   ]
  },
  {
   "cell_type": "code",
   "execution_count": 25,
   "id": "c61187e9-a01f-4970-92bd-24474ae18945",
   "metadata": {},
   "outputs": [
    {
     "name": "stdout",
     "output_type": "stream",
     "text": [
      "['e cat', 'e hat', 'splat']\n"
     ]
    }
   ],
   "source": [
    "pattern = r'...at'\n",
    "text = 'the cat in the hat went splat.'\n",
    "\n",
    "matches = re.findall(pattern, text)\n",
    "print(matches)"
   ]
  },
  {
   "cell_type": "markdown",
   "id": "6ae1c553",
   "metadata": {},
   "source": [
    "#### Explanation:\n",
    "\n",
    ". matches any single character except newline. The pattern .at matches words that end with \"at\" such as cat, hat, and sat."
   ]
  },
  {
   "cell_type": "markdown",
   "id": "c98bb97a",
   "metadata": {},
   "source": [
    "### 12. Using ^ to Match the Beginning of a String:"
   ]
  },
  {
   "cell_type": "code",
   "execution_count": 26,
   "id": "160dcdef-1454-406c-add5-03f180a13ba2",
   "metadata": {},
   "outputs": [
    {
     "name": "stdout",
     "output_type": "stream",
     "text": [
      "<re.Match object; span=(0, 1), match='1'>\n",
      "None\n"
     ]
    }
   ],
   "source": [
    "pattern = r'^[0-9]'\n",
    "text1 = \"1 is a number.\"\n",
    "text2 = \"the number is 2.\"\n",
    "\n",
    "print(re.search(pattern, text1))\n",
    "print(re.search(pattern, text2))"
   ]
  },
  {
   "cell_type": "markdown",
   "id": "680367d4",
   "metadata": {},
   "source": [
    "#### Explanation:\n",
    "\n",
    "^ asserts the position at the start of a string. The pattern ^[0-9] matches a string that begins with a digit."
   ]
  },
  {
   "cell_type": "markdown",
   "id": "da604518",
   "metadata": {},
   "source": [
    "### 13. Using $ to Match the End of a String:"
   ]
  },
  {
   "cell_type": "code",
   "execution_count": 30,
   "id": "dcfd50b6-d1e0-4e35-915a-74d3409f27ed",
   "metadata": {},
   "outputs": [
    {
     "name": "stdout",
     "output_type": "stream",
     "text": [
      "<re.Match object; span=(10, 16), match='number'>\n",
      "None\n"
     ]
    }
   ],
   "source": [
    "pattern = r'number$'\n",
    "text1 = \"this is a number\"\n",
    "text2 = \"NUmber is here.\"\n",
    "\n",
    "print(re.search(pattern, text1))\n",
    "print(re.search(pattern, text2))"
   ]
  },
  {
   "cell_type": "markdown",
   "id": "c76215c3",
   "metadata": {},
   "source": [
    "#### Explanation:\n",
    "\n",
    "``` $ asserts the position at the end of a string. The pattern number$ matches a string that ends with the word \"number\".```"
   ]
  },
  {
   "cell_type": "markdown",
   "id": "6a0fc4a6",
   "metadata": {},
   "source": [
    "### 14. Using [^] to Exclude Characters:"
   ]
  },
  {
   "cell_type": "code",
   "execution_count": 34,
   "id": "aee43461-32b9-4f77-98ac-b21b1ea7b3a1",
   "metadata": {},
   "outputs": [
    {
     "name": "stdout",
     "output_type": "stream",
     "text": [
      "[' ', 'P', 'r', 'g', 'r', 'a', 'm', 'm', 'i', 'g', ' ', 'L', 'a', 'a', 'g', 'u', 'a', 'g', 'e']\n"
     ]
    }
   ],
   "source": [
    "pattern = r'[^python]'\n",
    "text = \"python Programming Lanaguage\"\n",
    "\n",
    "matches = re.findall(pattern, text)\n",
    "print(matches)\n",
    "\n"
   ]
  },
  {
   "cell_type": "markdown",
   "id": "3e757295",
   "metadata": {},
   "source": [
    "#### Explanation:\n",
    "\n",
    "[^python] matches any character except those in the set python. It excludes all characters that are part of the word \"python\" and matches other characters like spaces and letters not in \"python\"."
   ]
  },
  {
   "cell_type": "markdown",
   "id": "b1990edd",
   "metadata": {},
   "source": [
    "### Key Takeaways:\n",
    "- Regular expressions are a flexible way to search and manipulate strings.\n",
    "\n",
    "- Special characters like \\d, \\w, \\s, ^, $, and | help define complex patterns.\n",
    "\n",
    "- Functions like re.search(), re.findall(), and re.match() are commonly used to work with regex in Python."
   ]
  },
  {
   "cell_type": "code",
   "execution_count": null,
   "id": "9e8305e0-74e0-4344-87c4-e67a4a63b2f7",
   "metadata": {},
   "outputs": [],
   "source": []
  }
 ],
 "metadata": {
  "kernelspec": {
   "display_name": "Python 3 (ipykernel)",
   "language": "python",
   "name": "python3"
  },
  "language_info": {
   "codemirror_mode": {
    "name": "ipython",
    "version": 3
   },
   "file_extension": ".py",
   "mimetype": "text/x-python",
   "name": "python",
   "nbconvert_exporter": "python",
   "pygments_lexer": "ipython3",
   "version": "3.13.2"
  }
 },
 "nbformat": 4,
 "nbformat_minor": 5
}
