{
 "cells": [
  {
   "cell_type": "markdown",
   "id": "325575d1",
   "metadata": {},
   "source": [
    "___\n",
    "\n",
    "<a href='https://www.udemy.com/user/Neamatullah-ekhteyari/'><img src='../Neamatullah.png'/></a>\n",
    "___\n",
    "<center><em>Content Copyright by Neamatullah Ekhteyari</em></center>"
   ]
  },
  {
   "cell_type": "markdown",
   "id": "162e273f",
   "metadata": {},
   "source": [
    "### Python Code for Timing Functions – Detailed Explanation\n",
    "Python provides several methods for measuring the execution time of your code. Two of the most commonly used methods are ```time``` and ``` timeit```. Below, I will explain the code for timing functions and their output, as well as the purpose of each method.\n",
    "\n",
    "#### 1. Using time to Measure Execution Time\n",
    "The time module provides a simple way to measure the elapsed time between two points in your code."
   ]
  },
  {
   "cell_type": "code",
   "execution_count": 36,
   "id": "ce77d0af-bcf3-4d09-b5ee-dee7f3705021",
   "metadata": {},
   "outputs": [
    {
     "name": "stdout",
     "output_type": "stream",
     "text": [
      "funciton 1 time: 0.45623 seconds\n",
      "Function 2 time: 0.40577 seconds\n"
     ]
    }
   ],
   "source": [
    "import time\n",
    "\n",
    "def func1(n):\n",
    "    return [str(num) for num in range(n)]\n",
    "\n",
    "def func2(n):\n",
    "    return list(map(str, range(n)))\n",
    "\n",
    "\n",
    "start_time = time.time()\n",
    "func1(10**6)\n",
    "end_time= time.time()\n",
    "print(f\"funciton 1 time: {end_time - start_time:.5f} seconds\")\n",
    "\n",
    "start_time = time.time()\n",
    "func2(10**6)\n",
    "end_time = time.time()\n",
    "print(f\"Function 2 time: {end_time - start_time:.5f} seconds\")\n",
    "\n"
   ]
  },
  {
   "cell_type": "markdown",
   "id": "7bf0e494",
   "metadata": {},
   "source": [
    "#### Explanation:\n",
    "\n",
    "- time.time(): Returns the current time in seconds since the epoch (a floating-point number).\n",
    "\n",
    "- func1 and func2: Both functions generate a list of string numbers, but they use different methods to do so:\n",
    "\n",
    "    - func1: Uses a list comprehension.\n",
    "\n",
    "    - func2: Uses the map() function, which applies the str() function to each element in the range.\n",
    "\n",
    "#### Timing Logic:\n",
    "\n",
    "- The start_time is recorded before calling the function, and end_time is recorded after the function finishes.\n",
    "\n",
    "- The difference end_time - start_time gives the total time taken by the function."
   ]
  },
  {
   "cell_type": "markdown",
   "id": "c8597661",
   "metadata": {},
   "source": [
    "### 2. Using timeit to Measure Code Performance\n",
    "The ```timeit``` module is designed for more accurate timing, especially for small code snippets. It automatically takes care of the setup and repeated execution to give you more precise results."
   ]
  },
  {
   "cell_type": "code",
   "execution_count": 41,
   "id": "544d4b91-a575-43e0-a3c1-2706ac744180",
   "metadata": {},
   "outputs": [
    {
     "name": "stdout",
     "output_type": "stream",
     "text": [
      "Execution time: 0.4190204000042286 seconds\n"
     ]
    }
   ],
   "source": [
    "import timeit\n",
    "\n",
    "execution_time = timeit.timeit(\"sum(range(1000))\", number=10000)\n",
    "print(f\"Execution time: {execution_time} seconds\")"
   ]
  },
  {
   "cell_type": "markdown",
   "id": "6599c377",
   "metadata": {},
   "source": [
    "#### Explanation:\n",
    "\n",
    "- ```timeit.timeit()```: Executes the given code snippet a specified number of times (in this case, 10,000).\n",
    "\n",
    "- ```\"sum(range(1000))\"```: This is the code being timed. It calculates the sum of numbers from 0 to 999.\n",
    "\n",
    "- ```number=10000```: This tells ```timeit``` to run the code snippet 10,000 times and then return the total execution time.\n",
    "\n",
    "This provides the total time taken to run the code 10,000 times, allowing for a more consistent result compared to a single execution."
   ]
  },
  {
   "cell_type": "markdown",
   "id": "6379ce12",
   "metadata": {},
   "source": [
    "### 3. Using %%timeit in Jupyter Notebooks\n",
    "In Jupyter notebooks, ```%%timeit``` is a special \"magic\" command that automatically times the code in a cell. It runs the code multiple times to get the average execution time."
   ]
  },
  {
   "cell_type": "code",
   "execution_count": 42,
   "id": "779640f1-361f-4298-90b4-de3772bbf3db",
   "metadata": {},
   "outputs": [
    {
     "name": "stdout",
     "output_type": "stream",
     "text": [
      "43.1 μs ± 1.9 μs per loop (mean ± std. dev. of 7 runs, 10,000 loops each)\n"
     ]
    }
   ],
   "source": [
    "%%timeit\n",
    "sum(range(1000))"
   ]
  },
  {
   "cell_type": "markdown",
   "id": "6f4c70b2",
   "metadata": {},
   "source": [
    "#### Explanation:\n",
    "\n",
    "- ```%%timeit```: Measures the execution time of the entire cell.\n",
    "\n",
    "- The sum(range(1000)) calculates the sum of numbers from 0 to 999.\n",
    "\n",
    "- The output includes both the average time and the standard deviation across several runs.\n",
    "\n",
    "This output shows the mean time (43.1 microseconds) along with the standard deviation (1.9 microseconds) after running the code 10,000 times over 7 runs."
   ]
  },
  {
   "cell_type": "markdown",
   "id": "482d6529",
   "metadata": {},
   "source": [
    "### 4. Comparing Two Code Snippets Using timeit\n",
    "You can compare the execution time of two different approaches using timeit."
   ]
  },
  {
   "cell_type": "code",
   "execution_count": 43,
   "id": "39fff56d-b120-45c5-a0d8-d523dcccb6f0",
   "metadata": {},
   "outputs": [
    {
     "name": "stdout",
     "output_type": "stream",
     "text": [
      "Using sum(rang()): 0.450485999986995 Sec\n",
      "Using loop: 1.6508842000039294 sec\n"
     ]
    }
   ],
   "source": [
    "import timeit\n",
    "\n",
    "code1 = \"sum(range(1000))\"\n",
    "code2 = \"total = 0\\nfor i in range (1000): total += i\"\n",
    "\n",
    "time1 = timeit.timeit(code1, number=10000)\n",
    "time2 = timeit.timeit(code2, number=10000)\n",
    "\n",
    "print(f\"Using sum(rang()): {time1} Sec\")\n",
    "print(f\"Using loop: {time2} sec\")\n",
    "      "
   ]
  },
  {
   "cell_type": "markdown",
   "id": "7a905774",
   "metadata": {},
   "source": [
    "#### Explanation:\n",
    "\n",
    "- ```code1```: Calculates the sum of numbers from 0 to 999 using sum(range(1000)).\n",
    "\n",
    "- ```code2```: Uses a for loop to sum the numbers manually.\n",
    "\n",
    "- ```timeit.timeit()```: Runs each code snippet 10,000 times and measures the execution time.\n",
    "\n",
    "\n",
    "The ```sum(range())``` approach is much faster than using a loop, demonstrating the efficiency of Python’s built-in functions over manual iteration."
   ]
  },
  {
   "cell_type": "markdown",
   "id": "50c72d4f",
   "metadata": {},
   "source": [
    "### 5. Writing and Closing Files\n",
    "In the following example, we write to two files using ```open()``` and ```close()```"
   ]
  },
  {
   "cell_type": "code",
   "execution_count": 1,
   "id": "cecf613a-6b9c-40a5-a63b-faa1fc156ff4",
   "metadata": {},
   "outputs": [],
   "source": [
    "file1 = open(\"file1.txt\", \"w+\")\n",
    "file1.write(\"this is the first file.\")\n",
    "file1.close()\n",
    "\n",
    "\n",
    "file2 = open(\"file2.txt\", \"w+\")\n",
    "file2.write(\"this is the second file.\")\n",
    "file2.close()\n"
   ]
  },
  {
   "cell_type": "markdown",
   "id": "9a568b1b",
   "metadata": {},
   "source": [
    "#### Explanation:\n",
    "\n",
    "- open(\"file1.txt\", \"w+\"): Opens the file for reading and writing. If the file doesn't exist, it is created.\n",
    "\n",
    "- file1.write(): Writes the text into the file.\n",
    "\n",
    "- file1.close(): Closes the file after writing to ensure the changes are saved.\n",
    "\n",
    "This code writes text to two files, file1.txt and file2.txt, and then closes them."
   ]
  },
  {
   "cell_type": "markdown",
   "id": "17f43bcb",
   "metadata": {},
   "source": [
    "#### Key Takeaways:\n",
    "- time module is simple but effective for measuring time intervals.\n",
    "\n",
    "- timeit module provides more accurate timing by executing code repeatedly and averaging results.\n",
    "\n",
    "- %%timeit in Jupyter allows quick timing for an entire cell of code.\n",
    "\n",
    "- Code Efficiency: You can compare different code snippets using timeit to determine the most efficient approach."
   ]
  },
  {
   "cell_type": "code",
   "execution_count": null,
   "id": "b31919f0-5fa1-46a2-9a21-39a9cc73ecc2",
   "metadata": {},
   "outputs": [],
   "source": []
  },
  {
   "cell_type": "code",
   "execution_count": null,
   "id": "9e8305e0-74e0-4344-87c4-e67a4a63b2f7",
   "metadata": {},
   "outputs": [],
   "source": []
  }
 ],
 "metadata": {
  "kernelspec": {
   "display_name": "Python 3 (ipykernel)",
   "language": "python",
   "name": "python3"
  },
  "language_info": {
   "codemirror_mode": {
    "name": "ipython",
    "version": 3
   },
   "file_extension": ".py",
   "mimetype": "text/x-python",
   "name": "python",
   "nbconvert_exporter": "python",
   "pygments_lexer": "ipython3",
   "version": "3.13.2"
  }
 },
 "nbformat": 4,
 "nbformat_minor": 5
}
