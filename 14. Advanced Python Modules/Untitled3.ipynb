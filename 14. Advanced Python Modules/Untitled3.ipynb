{
 "cells": [
  {
   "cell_type": "markdown",
   "id": "325575d1",
   "metadata": {},
   "source": [
    "___\n",
    "\n",
    "<a href='https://www.udemy.com/user/Neamatullah-ekhteyari/'><img src='../Neamatullah.png'/></a>\n",
    "___\n",
    "<center><em>Content Copyright by Neamatullah Ekhteyari</em></center>"
   ]
  },
  {
   "cell_type": "code",
   "execution_count": 3,
   "id": "fdce4854-3a69-4c78-8674-01b8e519d9c4",
   "metadata": {},
   "outputs": [],
   "source": [
    "my_list = [1 ,1 ,1 ,2 ,3 ,3 ,3 ,3 ,4 ,4 ,4 ]"
   ]
  },
  {
   "cell_type": "code",
   "execution_count": 4,
   "id": "1e091b8d-8e40-43d2-bb27-6f522b3bfb08",
   "metadata": {},
   "outputs": [
    {
     "name": "stdout",
     "output_type": "stream",
     "text": [
      "Counter({3: 4, 1: 3, 4: 3, 2: 1})\n"
     ]
    }
   ],
   "source": [
    "count_result = Counter(my_list)\n",
    "print(count_result)"
   ]
  },
  {
   "cell_type": "code",
   "execution_count": 5,
   "id": "e8613bb6-b643-4aa5-a8a9-69f9cbd546c0",
   "metadata": {},
   "outputs": [
    {
     "name": "stdout",
     "output_type": "stream",
     "text": [
      "Counter({'b': 5, 'u': 4, 'a': 3, 'c': 3, 'd': 3, 'k': 3, 'l': 2})\n"
     ]
    }
   ],
   "source": [
    "word_count = Counter(\"aaabbbbbcccdddkkklluuuu\")\n",
    "print(word_count)"
   ]
  },
  {
   "cell_type": "code",
   "execution_count": 6,
   "id": "70d72148-5373-4fcb-95da-55016490f7f2",
   "metadata": {},
   "outputs": [
    {
     "name": "stdout",
     "output_type": "stream",
     "text": [
      "Counter({'I': 2, 'am': 2, 'Hello': 1, 'my': 1, 'name': 1, 'is': 1, 'Neamatullah': 1, 'on': 1, 'online': 1, 'instructor,': 1, 'here': 1, 'to': 1, 'help': 1, 'you': 1})\n"
     ]
    }
   ],
   "source": [
    "sentence = \"Hello my name is Neamatullah I am on online instructor, I am here to help you\"\n",
    "word_counts = Counter(sentence.split())\n",
    "print(word_counts)"
   ]
  },
  {
   "cell_type": "code",
   "execution_count": 11,
   "id": "e4f6ab6b-8193-4024-a1d7-d1d4ebfb3fe6",
   "metadata": {},
   "outputs": [
    {
     "data": {
      "text/plain": [
       "[(3, 4)]"
      ]
     },
     "execution_count": 11,
     "metadata": {},
     "output_type": "execute_result"
    }
   ],
   "source": [
    "count_result.most_common(1)"
   ]
  },
  {
   "cell_type": "code",
   "execution_count": 13,
   "id": "c4fe635e-4465-468b-a899-993f53a5c017",
   "metadata": {},
   "outputs": [
    {
     "data": {
      "text/plain": [
       "[1, 1, 1, 2, 3, 3, 3, 3, 4, 4, 4]"
      ]
     },
     "execution_count": 13,
     "metadata": {},
     "output_type": "execute_result"
    }
   ],
   "source": [
    "list(count_result.elements())"
   ]
  },
  {
   "cell_type": "markdown",
   "id": "f01c096b-8d2f-491f-8497-201ea8b96998",
   "metadata": {},
   "source": [
    "## Working with Files and Folders Using Python’s OS and Shutil Modules"
   ]
  },
  {
   "cell_type": "code",
   "execution_count": 15,
   "id": "580374d9-e69f-4dd3-9b43-677b4d7f9915",
   "metadata": {},
   "outputs": [
    {
     "name": "stdout",
     "output_type": "stream",
     "text": [
      "C:\\Users\\Neamatullah\\Documents\\python mastery\\python files\n"
     ]
    }
   ],
   "source": [
    "import os\n",
    "print(os.getcwd())"
   ]
  },
  {
   "cell_type": "code",
   "execution_count": 18,
   "id": "b1a63f32-e5f9-4947-b29f-ff48f4e403c4",
   "metadata": {},
   "outputs": [
    {
     "name": "stdout",
     "output_type": "stream",
     "text": [
      "['.ipynb_checkpoints', 'practice.txt', 'Tic Tac Toe Game.ipynb', 'Untitled.ipynb', 'Untitled1.ipynb', 'Untitled2.ipynb', 'Untitled3.ipynb']\n"
     ]
    }
   ],
   "source": [
    "print(os.listdir())"
   ]
  },
  {
   "cell_type": "code",
   "execution_count": null,
   "id": "9245a956-a580-46ea-be1a-a3a470b1f75f",
   "metadata": {},
   "outputs": [],
   "source": [
    "Windows: C:\\\\Users\\\\user\\\\Documents\n",
    "macOS/Linux: /home/user/Documents"
   ]
  },
  {
   "cell_type": "code",
   "execution_count": 17,
   "id": "43961e9b-5c7d-4cbe-95af-f8116a7714a0",
   "metadata": {},
   "outputs": [],
   "source": [
    "with open('practice.txt', 'w') as file:\n",
    "    file.write(\"this is a test stirng file.\")\n",
    "    "
   ]
  },
  {
   "cell_type": "code",
   "execution_count": 25,
   "id": "1a077689-30b5-446f-9d33-47f07630da99",
   "metadata": {},
   "outputs": [
    {
     "name": "stdout",
     "output_type": "stream",
     "text": [
      "the file practice.txt exist in this location:  C:\\Users\\Neamatullah\\Documents\\python mastery\\python files\n"
     ]
    }
   ],
   "source": [
    "import os\n",
    "practice = os.path.exists('practice.txt')\n",
    "location = os.getcwd()\n",
    "if practice:\n",
    "    print(\"the file practice.txt exist in this location: \", location)\n",
    "else:\n",
    "    print(\"the file does not exists in this location: \",location)"
   ]
  },
  {
   "cell_type": "code",
   "execution_count": 27,
   "id": "91c9e7d8-f0be-4261-8ae9-360dcc653655",
   "metadata": {},
   "outputs": [
    {
     "ename": "FileExistsError",
     "evalue": "[WinError 183] Cannot create a file when that file already exists: 'newFolder'",
     "output_type": "error",
     "traceback": [
      "\u001b[1;31m---------------------------------------------------------------------------\u001b[0m",
      "\u001b[1;31mFileExistsError\u001b[0m                           Traceback (most recent call last)",
      "Cell \u001b[1;32mIn[27], line 1\u001b[0m\n\u001b[1;32m----> 1\u001b[0m os\u001b[38;5;241m.\u001b[39mmkdir(\u001b[38;5;124m\"\u001b[39m\u001b[38;5;124mnewFolder\u001b[39m\u001b[38;5;124m\"\u001b[39m)\n",
      "\u001b[1;31mFileExistsError\u001b[0m: [WinError 183] Cannot create a file when that file already exists: 'newFolder'"
     ]
    }
   ],
   "source": [
    "os.mkdir(\"newFolder\")"
   ]
  },
  {
   "cell_type": "code",
   "execution_count": 29,
   "id": "0fd986cc-9956-4c9e-9c9d-28a7246f8994",
   "metadata": {},
   "outputs": [
    {
     "name": "stdout",
     "output_type": "stream",
     "text": [
      "['.ipynb_checkpoints', 'newFolder', 'practice.txt', 'Tic Tac Toe Game.ipynb', 'Untitled.ipynb', 'Untitled1.ipynb', 'Untitled2.ipynb', 'Untitled3.ipynb']\n"
     ]
    }
   ],
   "source": [
    "print(os.listdir())"
   ]
  },
  {
   "cell_type": "code",
   "execution_count": 30,
   "id": "27ca8de5-9d68-4002-b666-7b85f8033705",
   "metadata": {},
   "outputs": [],
   "source": [
    "os.rename(\"practice.txt\", \"new_practice.txt\")"
   ]
  },
  {
   "cell_type": "code",
   "execution_count": 31,
   "id": "25e9ad4e-8c7f-4d61-967f-19ab0bf8107c",
   "metadata": {},
   "outputs": [
    {
     "name": "stdout",
     "output_type": "stream",
     "text": [
      "['.ipynb_checkpoints', 'newFolder', 'new_practice.txt', 'Tic Tac Toe Game.ipynb', 'Untitled.ipynb', 'Untitled1.ipynb', 'Untitled2.ipynb', 'Untitled3.ipynb']\n"
     ]
    }
   ],
   "source": [
    "print(os.listdir())"
   ]
  },
  {
   "cell_type": "code",
   "execution_count": 32,
   "id": "d8caf817-920f-4dd6-a4c7-dd0914423732",
   "metadata": {},
   "outputs": [
    {
     "data": {
      "text/plain": [
       "'backup.txt'"
      ]
     },
     "execution_count": 32,
     "metadata": {},
     "output_type": "execute_result"
    }
   ],
   "source": [
    "import shutil\n",
    "shutil.copy(\"new_practice.txt\", \"backup.txt\")"
   ]
  },
  {
   "cell_type": "code",
   "execution_count": 33,
   "id": "a184d87e-2432-4f4b-b02a-bb4c8565a631",
   "metadata": {},
   "outputs": [
    {
     "name": "stdout",
     "output_type": "stream",
     "text": [
      "['.ipynb_checkpoints', 'backup.txt', 'newFolder', 'new_practice.txt', 'Tic Tac Toe Game.ipynb', 'Untitled.ipynb', 'Untitled1.ipynb', 'Untitled2.ipynb', 'Untitled3.ipynb']\n"
     ]
    }
   ],
   "source": [
    "print(os.listdir())"
   ]
  },
  {
   "cell_type": "code",
   "execution_count": 34,
   "id": "795b8714-3da4-4616-b10e-1da56d4c0286",
   "metadata": {},
   "outputs": [
    {
     "data": {
      "text/plain": [
       "'newFolder/backup.tx'"
      ]
     },
     "execution_count": 34,
     "metadata": {},
     "output_type": "execute_result"
    }
   ],
   "source": [
    "shutil.move(\"backup.txt\", \"newFolder/backup.tx\")"
   ]
  },
  {
   "cell_type": "code",
   "execution_count": 35,
   "id": "e041acfd-f79b-42d3-a7a2-ebeeca9b5bcc",
   "metadata": {},
   "outputs": [
    {
     "name": "stdout",
     "output_type": "stream",
     "text": [
      "['.ipynb_checkpoints', 'newFolder', 'new_practice.txt', 'Tic Tac Toe Game.ipynb', 'Untitled.ipynb', 'Untitled1.ipynb', 'Untitled2.ipynb', 'Untitled3.ipynb']\n"
     ]
    }
   ],
   "source": [
    "print(os.listdir())\n"
   ]
  },
  {
   "cell_type": "code",
   "execution_count": 37,
   "id": "47c23fff-68da-4346-9eee-d4b9b820c24d",
   "metadata": {},
   "outputs": [
    {
     "ename": "FileNotFoundError",
     "evalue": "[WinError 2] The system cannot find the file specified: 'new_practice.txt'",
     "output_type": "error",
     "traceback": [
      "\u001b[1;31m---------------------------------------------------------------------------\u001b[0m",
      "\u001b[1;31mFileNotFoundError\u001b[0m                         Traceback (most recent call last)",
      "Cell \u001b[1;32mIn[37], line 1\u001b[0m\n\u001b[1;32m----> 1\u001b[0m os\u001b[38;5;241m.\u001b[39mremove(\u001b[38;5;124m\"\u001b[39m\u001b[38;5;124mnew_practice.txt\u001b[39m\u001b[38;5;124m\"\u001b[39m)\n",
      "\u001b[1;31mFileNotFoundError\u001b[0m: [WinError 2] The system cannot find the file specified: 'new_practice.txt'"
     ]
    }
   ],
   "source": [
    "os.remove(\"new_practice.txt\")"
   ]
  },
  {
   "cell_type": "code",
   "execution_count": 39,
   "id": "e55721a7-aa1c-420c-8604-97853bce7076",
   "metadata": {},
   "outputs": [
    {
     "data": {
      "text/plain": [
       "['.ipynb_checkpoints',\n",
       " 'newFolder',\n",
       " 'Tic Tac Toe Game.ipynb',\n",
       " 'Untitled.ipynb',\n",
       " 'Untitled1.ipynb',\n",
       " 'Untitled2.ipynb',\n",
       " 'Untitled3.ipynb']"
      ]
     },
     "execution_count": 39,
     "metadata": {},
     "output_type": "execute_result"
    }
   ],
   "source": [
    "os.listdir()"
   ]
  },
  {
   "cell_type": "code",
   "execution_count": null,
   "id": "6f6266f5-c017-4040-8ad0-bb58ac0e13b0",
   "metadata": {},
   "outputs": [],
   "source": [
    "os.walk"
   ]
  },
  {
   "cell_type": "code",
   "execution_count": null,
   "id": "aed87e5b-0fc7-4746-99b9-93f19ec7a6f8",
   "metadata": {},
   "outputs": [],
   "source": [
    "example_top_level/\n",
    "    mid_example_1/\n",
    "        bottom_level_1/\n",
    "            file1.txt\n",
    "        bottom_level_2/\n",
    "            file2.txt\n",
    "    mid_example_2/  (empty folder)\n",
    "    main_file.txt"
   ]
  },
  {
   "cell_type": "code",
   "execution_count": 40,
   "id": "2b0b2363-cf35-4408-85b2-72f3bffb16c7",
   "metadata": {},
   "outputs": [
    {
     "name": "stdout",
     "output_type": "stream",
     "text": [
      "Currently looking at: C:\\Users\\Neamatullah\\Documents\\python mastery\\python files\n",
      "\n",
      "subdirectories: \n",
      "\t.ipynb_checkpoints\n",
      "\tnewFolder\n",
      "Files:\n",
      "\tTic Tac Toe Game.ipynb\n",
      "\tUntitled.ipynb\n",
      "\tUntitled1.ipynb\n",
      "\tUntitled2.ipynb\n",
      "\tUntitled3.ipynb\n",
      "----------------------------------------\n",
      "Currently looking at: C:\\Users\\Neamatullah\\Documents\\python mastery\\python files\\.ipynb_checkpoints\n",
      "\n",
      "subdirectories: \n",
      "Files:\n",
      "\tTic Tac Toe Game-checkpoint.ipynb\n",
      "\tUntitled-checkpoint.ipynb\n",
      "\tUntitled1-checkpoint.ipynb\n",
      "\tUntitled2-checkpoint.ipynb\n",
      "\tUntitled3-checkpoint.ipynb\n",
      "----------------------------------------\n",
      "Currently looking at: C:\\Users\\Neamatullah\\Documents\\python mastery\\python files\\newFolder\n",
      "\n",
      "subdirectories: \n",
      "Files:\n",
      "\tbackup.tx\n",
      "----------------------------------------\n"
     ]
    }
   ],
   "source": [
    "import os\n",
    "\n",
    "file_path = \"C:\\\\Users\\\\Neamatullah\\\\Documents\\\\python mastery\\\\python files\"\n",
    "\n",
    "for folder, sub_folders, files in os.walk(file_path):\n",
    "    print(f\"Currently looking at: {folder}\\n\")\n",
    "\n",
    "    print(\"subdirectories: \")\n",
    "    for sub_fold in sub_folders:\n",
    "        print(f\"\\t{sub_fold}\")\n",
    "    print(\"Files:\")\n",
    "    for f in files:\n",
    "        print(f\"\\t{f}\")\n",
    "\n",
    "    print(\"-\" * 40)\n"
   ]
  },
  {
   "cell_type": "code",
   "execution_count": 41,
   "id": "f7db6ef6-9d2e-4de5-846c-625b43b626f1",
   "metadata": {},
   "outputs": [
    {
     "name": "stdout",
     "output_type": "stream",
     "text": [
      "C:\\Users\\Neamatullah\\Documents\\python mastery\\python files ['.ipynb_checkpoints', 'newFolder'] ['Tic Tac Toe Game.ipynb', 'Untitled.ipynb', 'Untitled1.ipynb', 'Untitled2.ipynb', 'Untitled3.ipynb']\n",
      "C:\\Users\\Neamatullah\\Documents\\python mastery\\python files\\.ipynb_checkpoints [] ['Tic Tac Toe Game-checkpoint.ipynb', 'Untitled-checkpoint.ipynb', 'Untitled1-checkpoint.ipynb', 'Untitled2-checkpoint.ipynb', 'Untitled3-checkpoint.ipynb']\n",
      "C:\\Users\\Neamatullah\\Documents\\python mastery\\python files\\newFolder [] ['backup.tx']\n"
     ]
    }
   ],
   "source": [
    "for folder, sub_folders, files in os.walk(os.getcwd()):\n",
    "    print(folder, sub_folders, files)"
   ]
  },
  {
   "cell_type": "markdown",
   "id": "7b27af31-8b7e-4899-818f-a1b2a628822c",
   "metadata": {},
   "source": [
    "## Datetime Module"
   ]
  },
  {
   "cell_type": "code",
   "execution_count": null,
   "id": "4eb5b6ee-341e-42bd-8ea8-55e6bbb7f9d7",
   "metadata": {},
   "outputs": [],
   "source": [
    "import datatime"
   ]
  },
  {
   "cell_type": "code",
   "execution_count": 56,
   "id": "c4acdc52-0b58-45f5-81e2-d526b6749baf",
   "metadata": {},
   "outputs": [
    {
     "name": "stdout",
     "output_type": "stream",
     "text": [
      "02:20:00\n"
     ]
    }
   ],
   "source": [
    "my_time = datetime.time(2, 20)\n",
    "print(my_time)"
   ]
  },
  {
   "cell_type": "code",
   "execution_count": 61,
   "id": "a082c3d9-7215-41a3-8889-c2b0f6dac979",
   "metadata": {},
   "outputs": [
    {
     "name": "stdout",
     "output_type": "stream",
     "text": [
      "02:20:00\n"
     ]
    }
   ],
   "source": [
    "my_time = datetime.time(2,20)\n",
    "print(my_time)"
   ]
  },
  {
   "cell_type": "code",
   "execution_count": 58,
   "id": "0a1966ef-9482-412e-89cf-255f4ae78117",
   "metadata": {},
   "outputs": [
    {
     "name": "stdout",
     "output_type": "stream",
     "text": [
      "13:20:01.000020\n"
     ]
    }
   ],
   "source": [
    "precise_time = datetime.time(13, 20, 1, 20)\n",
    "print(precise_time)"
   ]
  },
  {
   "cell_type": "code",
   "execution_count": 62,
   "id": "c00a55a4-0bc0-4115-a298-841c31b330aa",
   "metadata": {},
   "outputs": [
    {
     "name": "stdout",
     "output_type": "stream",
     "text": [
      "2\n",
      "20\n"
     ]
    }
   ],
   "source": [
    "print(my_time.hour)\n",
    "print(my_time.minute)"
   ]
  },
  {
   "cell_type": "code",
   "execution_count": 64,
   "id": "9b219056-73a6-4159-889d-ac6a6fbc1c3c",
   "metadata": {},
   "outputs": [
    {
     "name": "stdout",
     "output_type": "stream",
     "text": [
      "2025-03-05\n"
     ]
    }
   ],
   "source": [
    "today = datetime.date.today()\n",
    "print(today)"
   ]
  },
  {
   "cell_type": "code",
   "execution_count": 67,
   "id": "80a2e7bb-95bd-46ae-9761-417e948a5e88",
   "metadata": {},
   "outputs": [
    {
     "name": "stdout",
     "output_type": "stream",
     "text": [
      "2025\n",
      "3\n",
      "5\n"
     ]
    }
   ],
   "source": [
    "print(today.year)\n",
    "print(today.month)\n",
    "print(today.day)\n"
   ]
  },
  {
   "cell_type": "code",
   "execution_count": 68,
   "id": "82046d14-761b-48db-89df-b4c28ad57cdd",
   "metadata": {},
   "outputs": [
    {
     "name": "stdout",
     "output_type": "stream",
     "text": [
      "Wed Mar  5 00:00:00 2025\n"
     ]
    }
   ],
   "source": [
    "print(today.ctime())"
   ]
  },
  {
   "cell_type": "code",
   "execution_count": 69,
   "id": "d72bcafe-9c0a-48c2-94ba-301ddeeb0a05",
   "metadata": {},
   "outputs": [
    {
     "name": "stdout",
     "output_type": "stream",
     "text": [
      "2025-03-04 14:30:45\n"
     ]
    }
   ],
   "source": [
    "dt = datetime.datetime(2025, 3, 4, 14, 30, 45)\n",
    "print(dt)"
   ]
  },
  {
   "cell_type": "markdown",
   "id": "98956dc1-5289-4edf-bafa-584e64ad4186",
   "metadata": {},
   "source": [
    "## Introduction to Built-in Modules: Math and Random"
   ]
  },
  {
   "cell_type": "code",
   "execution_count": 70,
   "id": "f4a79cfe-257f-4aae-8e43-2dc8dc421a4b",
   "metadata": {},
   "outputs": [],
   "source": [
    "import math"
   ]
  },
  {
   "cell_type": "code",
   "execution_count": 71,
   "id": "0daad35a-8727-4b26-b481-c97aecf75bae",
   "metadata": {},
   "outputs": [
    {
     "name": "stdout",
     "output_type": "stream",
     "text": [
      "Help on built-in module math:\n",
      "\n",
      "NAME\n",
      "    math\n",
      "\n",
      "DESCRIPTION\n",
      "    This module provides access to the mathematical functions\n",
      "    defined by the C standard.\n",
      "\n",
      "FUNCTIONS\n",
      "    acos(x, /)\n",
      "        Return the arc cosine (measured in radians) of x.\n",
      "\n",
      "        The result is between 0 and pi.\n",
      "\n",
      "    acosh(x, /)\n",
      "        Return the inverse hyperbolic cosine of x.\n",
      "\n",
      "    asin(x, /)\n",
      "        Return the arc sine (measured in radians) of x.\n",
      "\n",
      "        The result is between -pi/2 and pi/2.\n",
      "\n",
      "    asinh(x, /)\n",
      "        Return the inverse hyperbolic sine of x.\n",
      "\n",
      "    atan(x, /)\n",
      "        Return the arc tangent (measured in radians) of x.\n",
      "\n",
      "        The result is between -pi/2 and pi/2.\n",
      "\n",
      "    atan2(y, x, /)\n",
      "        Return the arc tangent (measured in radians) of y/x.\n",
      "\n",
      "        Unlike atan(y/x), the signs of both x and y are considered.\n",
      "\n",
      "    atanh(x, /)\n",
      "        Return the inverse hyperbolic tangent of x.\n",
      "\n",
      "    cbrt(x, /)\n",
      "        Return the cube root of x.\n",
      "\n",
      "    ceil(x, /)\n",
      "        Return the ceiling of x as an Integral.\n",
      "\n",
      "        This is the smallest integer >= x.\n",
      "\n",
      "    comb(n, k, /)\n",
      "        Number of ways to choose k items from n items without repetition and without order.\n",
      "\n",
      "        Evaluates to n! / (k! * (n - k)!) when k <= n and evaluates\n",
      "        to zero when k > n.\n",
      "\n",
      "        Also called the binomial coefficient because it is equivalent\n",
      "        to the coefficient of k-th term in polynomial expansion of the\n",
      "        expression (1 + x)**n.\n",
      "\n",
      "        Raises TypeError if either of the arguments are not integers.\n",
      "        Raises ValueError if either of the arguments are negative.\n",
      "\n",
      "    copysign(x, y, /)\n",
      "        Return a float with the magnitude (absolute value) of x but the sign of y.\n",
      "\n",
      "        On platforms that support signed zeros, copysign(1.0, -0.0)\n",
      "        returns -1.0.\n",
      "\n",
      "    cos(x, /)\n",
      "        Return the cosine of x (measured in radians).\n",
      "\n",
      "    cosh(x, /)\n",
      "        Return the hyperbolic cosine of x.\n",
      "\n",
      "    degrees(x, /)\n",
      "        Convert angle x from radians to degrees.\n",
      "\n",
      "    dist(p, q, /)\n",
      "        Return the Euclidean distance between two points p and q.\n",
      "\n",
      "        The points should be specified as sequences (or iterables) of\n",
      "        coordinates.  Both inputs must have the same dimension.\n",
      "\n",
      "        Roughly equivalent to:\n",
      "            sqrt(sum((px - qx) ** 2.0 for px, qx in zip(p, q)))\n",
      "\n",
      "    erf(x, /)\n",
      "        Error function at x.\n",
      "\n",
      "    erfc(x, /)\n",
      "        Complementary error function at x.\n",
      "\n",
      "    exp(x, /)\n",
      "        Return e raised to the power of x.\n",
      "\n",
      "    exp2(x, /)\n",
      "        Return 2 raised to the power of x.\n",
      "\n",
      "    expm1(x, /)\n",
      "        Return exp(x)-1.\n",
      "\n",
      "        This function avoids the loss of precision involved in the direct evaluation of exp(x)-1 for small x.\n",
      "\n",
      "    fabs(x, /)\n",
      "        Return the absolute value of the float x.\n",
      "\n",
      "    factorial(n, /)\n",
      "        Find n!.\n",
      "\n",
      "        Raise a ValueError if x is negative or non-integral.\n",
      "\n",
      "    floor(x, /)\n",
      "        Return the floor of x as an Integral.\n",
      "\n",
      "        This is the largest integer <= x.\n",
      "\n",
      "    fmod(x, y, /)\n",
      "        Return fmod(x, y), according to platform C.\n",
      "\n",
      "        x % y may differ.\n",
      "\n",
      "    frexp(x, /)\n",
      "        Return the mantissa and exponent of x, as pair (m, e).\n",
      "\n",
      "        m is a float and e is an int, such that x = m * 2.**e.\n",
      "        If x is 0, m and e are both 0.  Else 0.5 <= abs(m) < 1.0.\n",
      "\n",
      "    fsum(seq, /)\n",
      "        Return an accurate floating-point sum of values in the iterable seq.\n",
      "\n",
      "        Assumes IEEE-754 floating-point arithmetic.\n",
      "\n",
      "    gamma(x, /)\n",
      "        Gamma function at x.\n",
      "\n",
      "    gcd(*integers)\n",
      "        Greatest Common Divisor.\n",
      "\n",
      "    hypot(...)\n",
      "        hypot(*coordinates) -> value\n",
      "\n",
      "        Multidimensional Euclidean distance from the origin to a point.\n",
      "\n",
      "        Roughly equivalent to:\n",
      "            sqrt(sum(x**2 for x in coordinates))\n",
      "\n",
      "        For a two dimensional point (x, y), gives the hypotenuse\n",
      "        using the Pythagorean theorem:  sqrt(x*x + y*y).\n",
      "\n",
      "        For example, the hypotenuse of a 3/4/5 right triangle is:\n",
      "\n",
      "            >>> hypot(3.0, 4.0)\n",
      "            5.0\n",
      "\n",
      "    isclose(a, b, *, rel_tol=1e-09, abs_tol=0.0)\n",
      "        Determine whether two floating-point numbers are close in value.\n",
      "\n",
      "          rel_tol\n",
      "            maximum difference for being considered \"close\", relative to the\n",
      "            magnitude of the input values\n",
      "          abs_tol\n",
      "            maximum difference for being considered \"close\", regardless of the\n",
      "            magnitude of the input values\n",
      "\n",
      "        Return True if a is close in value to b, and False otherwise.\n",
      "\n",
      "        For the values to be considered close, the difference between them\n",
      "        must be smaller than at least one of the tolerances.\n",
      "\n",
      "        -inf, inf and NaN behave similarly to the IEEE 754 Standard.  That\n",
      "        is, NaN is not close to anything, even itself.  inf and -inf are\n",
      "        only close to themselves.\n",
      "\n",
      "    isfinite(x, /)\n",
      "        Return True if x is neither an infinity nor a NaN, and False otherwise.\n",
      "\n",
      "    isinf(x, /)\n",
      "        Return True if x is a positive or negative infinity, and False otherwise.\n",
      "\n",
      "    isnan(x, /)\n",
      "        Return True if x is a NaN (not a number), and False otherwise.\n",
      "\n",
      "    isqrt(n, /)\n",
      "        Return the integer part of the square root of the input.\n",
      "\n",
      "    lcm(*integers)\n",
      "        Least Common Multiple.\n",
      "\n",
      "    ldexp(x, i, /)\n",
      "        Return x * (2**i).\n",
      "\n",
      "        This is essentially the inverse of frexp().\n",
      "\n",
      "    lgamma(x, /)\n",
      "        Natural logarithm of absolute value of Gamma function at x.\n",
      "\n",
      "    log(...)\n",
      "        log(x, [base=math.e])\n",
      "        Return the logarithm of x to the given base.\n",
      "\n",
      "        If the base is not specified, returns the natural logarithm (base e) of x.\n",
      "\n",
      "    log10(x, /)\n",
      "        Return the base 10 logarithm of x.\n",
      "\n",
      "    log1p(x, /)\n",
      "        Return the natural logarithm of 1+x (base e).\n",
      "\n",
      "        The result is computed in a way which is accurate for x near zero.\n",
      "\n",
      "    log2(x, /)\n",
      "        Return the base 2 logarithm of x.\n",
      "\n",
      "    modf(x, /)\n",
      "        Return the fractional and integer parts of x.\n",
      "\n",
      "        Both results carry the sign of x and are floats.\n",
      "\n",
      "    nextafter(x, y, /, *, steps=None)\n",
      "        Return the floating-point value the given number of steps after x towards y.\n",
      "\n",
      "        If steps is not specified or is None, it defaults to 1.\n",
      "\n",
      "        Raises a TypeError, if x or y is not a double, or if steps is not an integer.\n",
      "        Raises ValueError if steps is negative.\n",
      "\n",
      "    perm(n, k=None, /)\n",
      "        Number of ways to choose k items from n items without repetition and with order.\n",
      "\n",
      "        Evaluates to n! / (n - k)! when k <= n and evaluates\n",
      "        to zero when k > n.\n",
      "\n",
      "        If k is not specified or is None, then k defaults to n\n",
      "        and the function returns n!.\n",
      "\n",
      "        Raises TypeError if either of the arguments are not integers.\n",
      "        Raises ValueError if either of the arguments are negative.\n",
      "\n",
      "    pow(x, y, /)\n",
      "        Return x**y (x to the power of y).\n",
      "\n",
      "    prod(iterable, /, *, start=1)\n",
      "        Calculate the product of all the elements in the input iterable.\n",
      "\n",
      "        The default start value for the product is 1.\n",
      "\n",
      "        When the iterable is empty, return the start value.  This function is\n",
      "        intended specifically for use with numeric values and may reject\n",
      "        non-numeric types.\n",
      "\n",
      "    radians(x, /)\n",
      "        Convert angle x from degrees to radians.\n",
      "\n",
      "    remainder(x, y, /)\n",
      "        Difference between x and the closest integer multiple of y.\n",
      "\n",
      "        Return x - n*y where n*y is the closest integer multiple of y.\n",
      "        In the case where x is exactly halfway between two multiples of\n",
      "        y, the nearest even value of n is used. The result is always exact.\n",
      "\n",
      "    sin(x, /)\n",
      "        Return the sine of x (measured in radians).\n",
      "\n",
      "    sinh(x, /)\n",
      "        Return the hyperbolic sine of x.\n",
      "\n",
      "    sqrt(x, /)\n",
      "        Return the square root of x.\n",
      "\n",
      "    sumprod(p, q, /)\n",
      "        Return the sum of products of values from two iterables p and q.\n",
      "\n",
      "        Roughly equivalent to:\n",
      "\n",
      "            sum(itertools.starmap(operator.mul, zip(p, q, strict=True)))\n",
      "\n",
      "        For float and mixed int/float inputs, the intermediate products\n",
      "        and sums are computed with extended precision.\n",
      "\n",
      "    tan(x, /)\n",
      "        Return the tangent of x (measured in radians).\n",
      "\n",
      "    tanh(x, /)\n",
      "        Return the hyperbolic tangent of x.\n",
      "\n",
      "    trunc(x, /)\n",
      "        Truncates the Real x to the nearest Integral toward 0.\n",
      "\n",
      "        Uses the __trunc__ magic method.\n",
      "\n",
      "    ulp(x, /)\n",
      "        Return the value of the least significant bit of the float x.\n",
      "\n",
      "DATA\n",
      "    e = 2.718281828459045\n",
      "    inf = inf\n",
      "    nan = nan\n",
      "    pi = 3.141592653589793\n",
      "    tau = 6.283185307179586\n",
      "\n",
      "FILE\n",
      "    (built-in)\n",
      "\n",
      "\n"
     ]
    }
   ],
   "source": [
    "help(math)"
   ]
  },
  {
   "cell_type": "code",
   "execution_count": 72,
   "id": "6f3600e2-da44-4706-ae78-781496a4dde1",
   "metadata": {},
   "outputs": [
    {
     "name": "stdout",
     "output_type": "stream",
     "text": [
      "4\n"
     ]
    }
   ],
   "source": [
    "print(math.floor(4.35))"
   ]
  },
  {
   "cell_type": "code",
   "execution_count": 73,
   "id": "a16401a2-1e05-4e98-b5bb-0cf53625d4d4",
   "metadata": {},
   "outputs": [
    {
     "name": "stdout",
     "output_type": "stream",
     "text": [
      "5\n"
     ]
    }
   ],
   "source": [
    "print(math.ceil(4.35))"
   ]
  },
  {
   "cell_type": "code",
   "execution_count": 76,
   "id": "90424846-051b-4766-a7db-9600915e57bd",
   "metadata": {},
   "outputs": [
    {
     "name": "stdout",
     "output_type": "stream",
     "text": [
      "4\n",
      "4\n",
      "6\n"
     ]
    }
   ],
   "source": [
    "print(round(4.35))\n",
    "print(round(4.5))\n",
    "print(round(5.5))"
   ]
  },
  {
   "cell_type": "code",
   "execution_count": 81,
   "id": "538d0e1e-05f0-4424-ad95-4ad5f6a6bb62",
   "metadata": {},
   "outputs": [
    {
     "name": "stdout",
     "output_type": "stream",
     "text": [
      "3.141592653589793\n",
      "2.718281828459045\n",
      "inf\n",
      "nan\n"
     ]
    }
   ],
   "source": [
    "print(math.pi)\n",
    "print(math.e)\n",
    "print(math.inf)\n",
    "print(math.nan)"
   ]
  },
  {
   "cell_type": "code",
   "execution_count": 83,
   "id": "9a825099-6449-4cb4-92d8-c09d4328b94e",
   "metadata": {},
   "outputs": [],
   "source": [
    "import random"
   ]
  },
  {
   "cell_type": "code",
   "execution_count": 87,
   "id": "d4714666-5b6d-42c0-afd9-d15d7e0dedbb",
   "metadata": {},
   "outputs": [
    {
     "name": "stdout",
     "output_type": "stream",
     "text": [
      "0.11170592552922376\n"
     ]
    }
   ],
   "source": [
    "print(random.random())"
   ]
  },
  {
   "cell_type": "code",
   "execution_count": 97,
   "id": "3a8fa4b8-e52a-4d79-9bcc-a4c773f686d9",
   "metadata": {},
   "outputs": [
    {
     "name": "stdout",
     "output_type": "stream",
     "text": [
      "6\n"
     ]
    }
   ],
   "source": [
    "print(random.randint(1, 10))"
   ]
  },
  {
   "cell_type": "code",
   "execution_count": 101,
   "id": "e143f093-3444-4071-a1ae-217459a4b099",
   "metadata": {},
   "outputs": [
    {
     "name": "stdout",
     "output_type": "stream",
     "text": [
      "7.638572014633726\n"
     ]
    }
   ],
   "source": [
    "print(random.uniform(1, 10))"
   ]
  },
  {
   "cell_type": "code",
   "execution_count": 114,
   "id": "db5d4a20-6039-41a0-ad03-8265b63922a8",
   "metadata": {},
   "outputs": [
    {
     "name": "stdout",
     "output_type": "stream",
     "text": [
      "blue\n"
     ]
    }
   ],
   "source": [
    "colors = ['red', 'blue', 'green', 'yellow']\n",
    "print(random.choice(colors))"
   ]
  },
  {
   "cell_type": "code",
   "execution_count": 126,
   "id": "16536744-c98c-406b-b73b-fb3a2c81c7a1",
   "metadata": {},
   "outputs": [
    {
     "name": "stdout",
     "output_type": "stream",
     "text": [
      "[4, 5, 3, 1, 2]\n"
     ]
    }
   ],
   "source": [
    "deck = [1, 2, 3, 4, 5]\n",
    "random.shuffle(deck)\n",
    "print(deck)"
   ]
  },
  {
   "cell_type": "code",
   "execution_count": 140,
   "id": "bfaa024e-35ad-45c3-a601-b1fa69a3a02c",
   "metadata": {},
   "outputs": [
    {
     "name": "stdout",
     "output_type": "stream",
     "text": [
      "['blue', 'red', 'yellow', 'green']\n"
     ]
    }
   ],
   "source": [
    "print(random.sample(colors, 4))"
   ]
  },
  {
   "cell_type": "markdown",
   "id": "68b79a21-f2b3-4a5d-8c4a-09cd8ae5fba2",
   "metadata": {},
   "source": [
    "## Introduction to Python Debugger (pdb)"
   ]
  },
  {
   "cell_type": "code",
   "execution_count": 149,
   "id": "5d35c2fa-c713-416a-8ddb-e9d2b8af66c2",
   "metadata": {},
   "outputs": [
    {
     "ename": "TypeError",
     "evalue": "can only concatenate list (not \"int\") to list",
     "output_type": "error",
     "traceback": [
      "\u001b[1;31m---------------------------------------------------------------------------\u001b[0m",
      "\u001b[1;31mTypeError\u001b[0m                                 Traceback (most recent call last)",
      "Cell \u001b[1;32mIn[149], line 6\u001b[0m\n\u001b[0;32m      3\u001b[0m z \u001b[38;5;241m=\u001b[39m \u001b[38;5;241m7\u001b[39m\n\u001b[0;32m      5\u001b[0m result1 \u001b[38;5;241m=\u001b[39m y \u001b[38;5;241m+\u001b[39m z\n\u001b[1;32m----> 6\u001b[0m result2 \u001b[38;5;241m=\u001b[39m x \u001b[38;5;241m+\u001b[39m z\n",
      "\u001b[1;31mTypeError\u001b[0m: can only concatenate list (not \"int\") to list"
     ]
    }
   ],
   "source": [
    "x = [1, 2, 3]\n",
    "y = 2\n",
    "z = 7\n",
    "\n",
    "result1 = y + z\n",
    "result2 = x + z"
   ]
  },
  {
   "cell_type": "code",
   "execution_count": 1,
   "id": "cf0369ec-4112-440a-8ba6-2c0912476316",
   "metadata": {},
   "outputs": [
    {
     "name": "stdout",
     "output_type": "stream",
     "text": [
      "9\n",
      "--Return--\n",
      "None\n",
      "> \u001b[1;32mc:\\users\\neamatullah\\appdata\\local\\temp\\ipykernel_5108\\43608840.py\u001b[0m(9)\u001b[0;36m<module>\u001b[1;34m()\u001b[0m\n",
      "\n"
     ]
    },
    {
     "name": "stdin",
     "output_type": "stream",
     "text": [
      "ipdb>  x\n"
     ]
    },
    {
     "name": "stdout",
     "output_type": "stream",
     "text": [
      "[1, 2, 3]\n"
     ]
    },
    {
     "name": "stdin",
     "output_type": "stream",
     "text": [
      "ipdb>  y\n"
     ]
    },
    {
     "name": "stdout",
     "output_type": "stream",
     "text": [
      "2\n"
     ]
    },
    {
     "name": "stdin",
     "output_type": "stream",
     "text": [
      "ipdb>  result1\n"
     ]
    },
    {
     "name": "stdout",
     "output_type": "stream",
     "text": [
      "9\n"
     ]
    },
    {
     "name": "stdin",
     "output_type": "stream",
     "text": [
      "ipdb>  y\n"
     ]
    },
    {
     "name": "stdout",
     "output_type": "stream",
     "text": [
      "2\n"
     ]
    },
    {
     "name": "stdin",
     "output_type": "stream",
     "text": [
      "ipdb>  z + y\n"
     ]
    },
    {
     "name": "stdout",
     "output_type": "stream",
     "text": [
      "9\n"
     ]
    },
    {
     "name": "stdin",
     "output_type": "stream",
     "text": [
      "ipdb>  z + 2\n"
     ]
    },
    {
     "name": "stdout",
     "output_type": "stream",
     "text": [
      "9\n"
     ]
    },
    {
     "name": "stdin",
     "output_type": "stream",
     "text": [
      "ipdb>  x + [1,2,3]\n"
     ]
    },
    {
     "name": "stdout",
     "output_type": "stream",
     "text": [
      "[1, 2, 3, 1, 2, 3]\n"
     ]
    },
    {
     "name": "stdin",
     "output_type": "stream",
     "text": [
      "ipdb>  result2\n"
     ]
    },
    {
     "name": "stdout",
     "output_type": "stream",
     "text": [
      "*** NameError: name 'result2' is not defined\n"
     ]
    },
    {
     "name": "stdin",
     "output_type": "stream",
     "text": [
      "ipdb>  n\n"
     ]
    },
    {
     "name": "stdout",
     "output_type": "stream",
     "text": [
      "\u001b[1;31m    [... skipped 1 hidden frame]\u001b[0m\n",
      "\n",
      "> \u001b[1;32mc:\\programdata\\anaconda3\\lib\\site-packages\\ipython\\core\\interactiveshell.py\u001b[0m(3580)\u001b[0;36mrun_code\u001b[1;34m()\u001b[0m\n",
      "\u001b[1;32m   3578 \u001b[1;33m            \u001b[1;32mfinally\u001b[0m\u001b[1;33m:\u001b[0m\u001b[1;33m\u001b[0m\u001b[1;33m\u001b[0m\u001b[0m\n",
      "\u001b[0m\u001b[1;32m   3579 \u001b[1;33m                \u001b[1;31m# Reset our crash handler in place\u001b[0m\u001b[1;33m\u001b[0m\u001b[1;33m\u001b[0m\u001b[0m\n",
      "\u001b[0m\u001b[1;32m-> 3580 \u001b[1;33m                \u001b[0msys\u001b[0m\u001b[1;33m.\u001b[0m\u001b[0mexcepthook\u001b[0m \u001b[1;33m=\u001b[0m \u001b[0mold_excepthook\u001b[0m\u001b[1;33m\u001b[0m\u001b[1;33m\u001b[0m\u001b[0m\n",
      "\u001b[0m\u001b[1;32m   3581 \u001b[1;33m        \u001b[1;32mexcept\u001b[0m \u001b[0mSystemExit\u001b[0m \u001b[1;32mas\u001b[0m \u001b[0me\u001b[0m\u001b[1;33m:\u001b[0m\u001b[1;33m\u001b[0m\u001b[1;33m\u001b[0m\u001b[0m\n",
      "\u001b[0m\u001b[1;32m   3582 \u001b[1;33m            \u001b[1;32mif\u001b[0m \u001b[0mresult\u001b[0m \u001b[1;32mis\u001b[0m \u001b[1;32mnot\u001b[0m \u001b[1;32mNone\u001b[0m\u001b[1;33m:\u001b[0m\u001b[1;33m\u001b[0m\u001b[1;33m\u001b[0m\u001b[0m\n",
      "\u001b[0m\n"
     ]
    },
    {
     "name": "stdin",
     "output_type": "stream",
     "text": [
      "ipdb>  c\n"
     ]
    },
    {
     "ename": "TypeError",
     "evalue": "can only concatenate list (not \"int\") to list",
     "output_type": "error",
     "traceback": [
      "\u001b[1;31m---------------------------------------------------------------------------\u001b[0m",
      "\u001b[1;31mTypeError\u001b[0m                                 Traceback (most recent call last)",
      "Cell \u001b[1;32mIn[1], line 10\u001b[0m\n\u001b[0;32m      8\u001b[0m \u001b[38;5;28mprint\u001b[39m(result1)\n\u001b[0;32m      9\u001b[0m pdb\u001b[38;5;241m.\u001b[39mset_trace()\n\u001b[1;32m---> 10\u001b[0m result2 \u001b[38;5;241m=\u001b[39m x \u001b[38;5;241m+\u001b[39m z\n\u001b[0;32m     11\u001b[0m \u001b[38;5;28mprint\u001b[39m(result2)\n",
      "\u001b[1;31mTypeError\u001b[0m: can only concatenate list (not \"int\") to list"
     ]
    }
   ],
   "source": [
    "import pdb\n",
    "\n",
    "x = [1, 2, 3]\n",
    "y = 2\n",
    "z = 7\n",
    "\n",
    "result1 = y + z\n",
    "print(result1)\n",
    "pdb.set_trace()\n",
    "result2 = x + z\n",
    "print(result2)\n"
   ]
  },
  {
   "cell_type": "markdown",
   "id": "0b7d42a6-a9be-491a-b39f-3cb9b45bfda7",
   "metadata": {},
   "source": [
    "## Regular Expressions"
   ]
  },
  {
   "cell_type": "code",
   "execution_count": 3,
   "id": "011c0644-df49-4ad3-b0bf-c0219b59bf04",
   "metadata": {},
   "outputs": [
    {
     "name": "stdout",
     "output_type": "stream",
     "text": [
      "True\n"
     ]
    }
   ],
   "source": [
    "print(\"friend\" in \"my friend is great\")"
   ]
  },
  {
   "cell_type": "code",
   "execution_count": null,
   "id": "e55ec671-9c83-4462-a2c0-81da5524c77c",
   "metadata": {},
   "outputs": [],
   "source": [
    "username@domain.com"
   ]
  },
  {
   "cell_type": "code",
   "execution_count": 9,
   "id": "38b220cd-4bbc-4352-aec0-bc5d0eddb999",
   "metadata": {},
   "outputs": [
    {
     "name": "stdout",
     "output_type": "stream",
     "text": [
      "(987)-654-3210\n"
     ]
    }
   ],
   "source": [
    "import re\n",
    "\n",
    "pattern = r\"\\(\\d{3}\\)-\\d{3}-\\d{4}\"\n",
    "text = \"Call me at (123)-456-7890 or (987)-654-3210.\"\n",
    "\n",
    "matches = re.findall(pattern, text)\n",
    "print(matches[1])"
   ]
  },
  {
   "cell_type": "code",
   "execution_count": null,
   "id": "a5997cfa-ca48-4403-abf3-74ae89b5fa22",
   "metadata": {},
   "outputs": [],
   "source": [
    "# (123)-456-7890\n"
   ]
  },
  {
   "cell_type": "markdown",
   "id": "4ba7ed73-2c3e-48a4-9d51-2aea4d464698",
   "metadata": {},
   "source": [
    "<table ><tr><th>Character</th><th>Description</th><th>Example Pattern Code</th><th >Example Match</th></tr>\n",
    "\n",
    "<tr ><td><span >\\d</span></td><td>A digit number</td><td>file_\\d\\d</td><td>file_25</td></tr>\n",
    "\n",
    "<tr ><td><span >\\w</span></td><td>Alphanumeric</td><td>\\w-\\w\\w\\w</td><td>A-b_1</td></tr>\n",
    "\n",
    "\n",
    "\n",
    "<tr ><td><span >\\s</span></td><td>White space</td><td>a\\sb\\sc</td><td>a b c</td></tr>\n",
    "\n",
    "\n",
    "\n",
    "<tr ><td><span >\\D</span></td><td>A non digit</td><td>\\D\\D\\D</td><td>ABC</td></tr>\n",
    "\n",
    "<tr ><td><span >\\W</span></td><td>Non-alphanumeric</td><td>\\W\\W\\W\\W\\W</td><td>*-+=)</td></tr>\n",
    "\n",
    "<tr ><td><span >\\S</span></td><td>Non-whitespace</td><td>\\S\\S\\S\\S</td><td>Yoyo</td></tr></table>"
   ]
  },
  {
   "cell_type": "code",
   "execution_count": 10,
   "id": "5242545c-579d-4d13-bed0-ee57124c2ed8",
   "metadata": {},
   "outputs": [],
   "source": [
    "text = \"my phone number is : 408-555-1234\"\n"
   ]
  },
  {
   "cell_type": "code",
   "execution_count": 11,
   "id": "94d4a86b-2cc9-4d19-858f-07f36a8c36a7",
   "metadata": {},
   "outputs": [
    {
     "name": "stdout",
     "output_type": "stream",
     "text": [
      "<re.Match object; span=(21, 33), match='408-555-1234'>\n"
     ]
    }
   ],
   "source": [
    "import re\n",
    "\n",
    "phone = re.search(\"408-555-1234\", text)\n",
    "print(phone)"
   ]
  },
  {
   "cell_type": "code",
   "execution_count": 15,
   "id": "7d29fc38-e8c8-4d89-a938-ba36b0b00c9c",
   "metadata": {},
   "outputs": [
    {
     "name": "stdout",
     "output_type": "stream",
     "text": [
      "<re.Match object; span=(21, 33), match='408-555-1234'>\n"
     ]
    }
   ],
   "source": [
    "phone_pattern = r\"\\d\\d\\d-\\d\\d\\d-\\d\\d\\d\\d\"\n",
    "phone_pattern2 = r\"\\d{3}-\\d{3}-\\d{4}\"\n",
    "phone = re.search(phone_pattern2, text)\n",
    "print(phone)"
   ]
  },
  {
   "cell_type": "code",
   "execution_count": 16,
   "id": "3dd6102b-121a-4747-b648-ed89a43f7457",
   "metadata": {},
   "outputs": [
    {
     "name": "stdout",
     "output_type": "stream",
     "text": [
      "['12345', '9765']\n"
     ]
    }
   ],
   "source": [
    "text = \"Order Number: 12345, Id: 9765\"\n",
    "pattern = r\"\\d+\"\n",
    "print(re.findall(pattern, text))"
   ]
  },
  {
   "cell_type": "code",
   "execution_count": 18,
   "id": "57193a0e-ae05-48c5-869e-ae93150e0ee7",
   "metadata": {},
   "outputs": [
    {
     "name": "stdout",
     "output_type": "stream",
     "text": [
      "['Hello', 'World', 'Welcome', 'to', 'Regex']\n"
     ]
    }
   ],
   "source": [
    "text = \"Hello, World! Welcome to Regex.\"\n",
    "pattern = r\"\\w+\"\n",
    "print(re.findall(pattern, text))"
   ]
  },
  {
   "cell_type": "code",
   "execution_count": 21,
   "id": "373dd03d-39b6-409e-b353-1ee3613cd9b8",
   "metadata": {},
   "outputs": [
    {
     "name": "stdout",
     "output_type": "stream",
     "text": [
      "['     ', '    ']\n"
     ]
    }
   ],
   "source": [
    "text = \"Python     is    fun!\"\n",
    "pattern = r\"\\s+\"\n",
    "print(re.findall(pattern, text))"
   ]
  },
  {
   "cell_type": "code",
   "execution_count": 22,
   "id": "6e96c9d6-6cf3-491a-89ef-250422e3ab65",
   "metadata": {},
   "outputs": [
    {
     "name": "stdout",
     "output_type": "stream",
     "text": [
      "[', ', '! ']\n"
     ]
    }
   ],
   "source": [
    "text = \"Hello, world! 123\"\n",
    "pattern = r\"\\W+\"\n",
    "print(re.findall(pattern, text))"
   ]
  },
  {
   "cell_type": "code",
   "execution_count": 23,
   "id": "6ba7e0d8-0371-4ac0-ade0-b0445f080a4b",
   "metadata": {},
   "outputs": [
    {
     "name": "stdout",
     "output_type": "stream",
     "text": [
      "<re.Match object; span=(4, 7), match='cat'>\n",
      "<re.Match object; span=(4, 7), match='dog'>\n",
      "None\n"
     ]
    }
   ],
   "source": [
    "import re\n",
    "\n",
    "pattern = r\"cat|dog\"\n",
    "text1 = \"The cat is here\"\n",
    "text2 = \"the dog is here\"\n",
    "text3 = \"the bird is here\"\n",
    "\n",
    "print(re.search(pattern, text1))\n",
    "print(re.search(pattern, text2))\n",
    "print(re.search(pattern, text3))"
   ]
  },
  {
   "cell_type": "code",
   "execution_count": 24,
   "id": "0b561e27-173d-4487-ae11-e4855447f8a0",
   "metadata": {},
   "outputs": [
    {
     "name": "stdout",
     "output_type": "stream",
     "text": [
      "['cat', 'hat', 'sat']\n"
     ]
    }
   ],
   "source": [
    "pattern = r'.at'\n",
    "\n",
    "text = \"The cat in the hat sat there.\"\n",
    "\n",
    "matches = re.findall(pattern, text)\n",
    "print(matches)\n"
   ]
  },
  {
   "cell_type": "code",
   "execution_count": 25,
   "id": "c61187e9-a01f-4970-92bd-24474ae18945",
   "metadata": {},
   "outputs": [
    {
     "name": "stdout",
     "output_type": "stream",
     "text": [
      "['e cat', 'e hat', 'splat']\n"
     ]
    }
   ],
   "source": [
    "pattern = r'...at'\n",
    "text = 'the cat in the hat went splat.'\n",
    "\n",
    "matches = re.findall(pattern, text)\n",
    "print(matches)"
   ]
  },
  {
   "cell_type": "code",
   "execution_count": 26,
   "id": "160dcdef-1454-406c-add5-03f180a13ba2",
   "metadata": {},
   "outputs": [
    {
     "name": "stdout",
     "output_type": "stream",
     "text": [
      "<re.Match object; span=(0, 1), match='1'>\n",
      "None\n"
     ]
    }
   ],
   "source": [
    "pattern = r'^[0-9]'\n",
    "text1 = \"1 is a number.\"\n",
    "text2 = \"the number is 2.\"\n",
    "\n",
    "print(re.search(pattern, text1))\n",
    "print(re.search(pattern, text2))"
   ]
  },
  {
   "cell_type": "code",
   "execution_count": 30,
   "id": "dcfd50b6-d1e0-4e35-915a-74d3409f27ed",
   "metadata": {},
   "outputs": [
    {
     "name": "stdout",
     "output_type": "stream",
     "text": [
      "<re.Match object; span=(10, 16), match='number'>\n",
      "None\n"
     ]
    }
   ],
   "source": [
    "pattern = r'number$'\n",
    "text1 = \"this is a number\"\n",
    "text2 = \"NUmber is here.\"\n",
    "\n",
    "print(re.search(pattern, text1))\n",
    "print(re.search(pattern, text2))"
   ]
  },
  {
   "cell_type": "code",
   "execution_count": 34,
   "id": "aee43461-32b9-4f77-98ac-b21b1ea7b3a1",
   "metadata": {},
   "outputs": [
    {
     "name": "stdout",
     "output_type": "stream",
     "text": [
      "[' ', 'P', 'r', 'g', 'r', 'a', 'm', 'm', 'i', 'g', ' ', 'L', 'a', 'a', 'g', 'u', 'a', 'g', 'e']\n"
     ]
    }
   ],
   "source": [
    "pattern = r'[^python]'\n",
    "text = \"python Programming Lanaguage\"\n",
    "\n",
    "matches = re.findall(pattern, text)\n",
    "print(matches)\n",
    "\n"
   ]
  },
  {
   "cell_type": "code",
   "execution_count": 36,
   "id": "ce77d0af-bcf3-4d09-b5ee-dee7f3705021",
   "metadata": {},
   "outputs": [
    {
     "name": "stdout",
     "output_type": "stream",
     "text": [
      "funciton 1 time: 0.45623 seconds\n",
      "Function 2 time: 0.40577 seconds\n"
     ]
    }
   ],
   "source": [
    "import time\n",
    "\n",
    "def func1(n):\n",
    "    return [str(num) for num in range(n)]\n",
    "\n",
    "def func2(n):\n",
    "    return list(map(str, range(n)))\n",
    "\n",
    "\n",
    "start_time = time.time()\n",
    "func1(10**6)\n",
    "end_time= time.time()\n",
    "print(f\"funciton 1 time: {end_time - start_time:.5f} seconds\")\n",
    "\n",
    "start_time = time.time()\n",
    "func2(10**6)\n",
    "end_time = time.time()\n",
    "print(f\"Function 2 time: {end_time - start_time:.5f} seconds\")\n",
    "\n"
   ]
  },
  {
   "cell_type": "code",
   "execution_count": 41,
   "id": "544d4b91-a575-43e0-a3c1-2706ac744180",
   "metadata": {},
   "outputs": [
    {
     "name": "stdout",
     "output_type": "stream",
     "text": [
      "Execution time: 0.4190204000042286 seconds\n"
     ]
    }
   ],
   "source": [
    "import timeit\n",
    "\n",
    "execution_time = timeit.timeit(\"sum(range(1000))\", number=10000)\n",
    "print(f\"Execution time: {execution_time} seconds\")"
   ]
  },
  {
   "cell_type": "code",
   "execution_count": 42,
   "id": "779640f1-361f-4298-90b4-de3772bbf3db",
   "metadata": {},
   "outputs": [
    {
     "name": "stdout",
     "output_type": "stream",
     "text": [
      "43.1 μs ± 1.9 μs per loop (mean ± std. dev. of 7 runs, 10,000 loops each)\n"
     ]
    }
   ],
   "source": [
    "%%timeit\n",
    "sum(range(1000))"
   ]
  },
  {
   "cell_type": "code",
   "execution_count": 43,
   "id": "39fff56d-b120-45c5-a0d8-d523dcccb6f0",
   "metadata": {},
   "outputs": [
    {
     "name": "stdout",
     "output_type": "stream",
     "text": [
      "Using sum(rang()): 0.450485999986995 Sec\n",
      "Using loop: 1.6508842000039294 sec\n"
     ]
    }
   ],
   "source": [
    "import timeit\n",
    "\n",
    "code1 = \"sum(range(1000))\"\n",
    "code2 = \"total = 0\\nfor i in range (1000): total += i\"\n",
    "\n",
    "time1 = timeit.timeit(code1, number=10000)\n",
    "time2 = timeit.timeit(code2, number=10000)\n",
    "\n",
    "print(f\"Using sum(rang()): {time1} Sec\")\n",
    "print(f\"Using loop: {time2} sec\")\n",
    "      "
   ]
  },
  {
   "cell_type": "code",
   "execution_count": 45,
   "id": "cecf613a-6b9c-40a5-a63b-faa1fc156ff4",
   "metadata": {},
   "outputs": [],
   "source": [
    "file1 = open(\"file1.txt\", \"w+\")\n",
    "file1.write(\"this is the first file.\")\n",
    "file1.close()\n",
    "\n",
    "\n",
    "file2 = open(\"file2.txt\", \"w+\")\n",
    "file2.write(\"this is the second file.\")\n",
    "file2.close()\n"
   ]
  },
  {
   "cell_type": "code",
   "execution_count": 46,
   "id": "e80d82da-1c6a-40ba-8516-8d73edb73c65",
   "metadata": {},
   "outputs": [
    {
     "name": "stdout",
     "output_type": "stream",
     "text": [
      "Created zip file: zompressed_files.zip\n"
     ]
    }
   ],
   "source": [
    "import zipfile\n",
    "\n",
    "zip_filename = \"zompressed_files.zip\"\n",
    "with zipfile.ZipFile(zip_filename, \"w\", zipfile.ZIP_DEFLATED) as zipf:\n",
    "    zipf.write(\"file1.txt\")\n",
    "    zipf.write(\"file2.txt\")\n",
    "\n",
    "print(f\"Created zip file: {zip_filename}\")\n"
   ]
  },
  {
   "cell_type": "code",
   "execution_count": 47,
   "id": "03ebfea8-3b09-4090-be85-26a72c0ab245",
   "metadata": {},
   "outputs": [
    {
     "name": "stdout",
     "output_type": "stream",
     "text": [
      "Extracted files to 'extracted_files' directory\n"
     ]
    }
   ],
   "source": [
    "with zipfile.ZipFile(zip_filename, 'r') as zipf:\n",
    "    zipf.extractall('extracted_files')\n",
    "print(f\"Extracted files to 'extracted_files' directory\")"
   ]
  },
  {
   "cell_type": "code",
   "execution_count": 48,
   "id": "9ce4a868-5e74-414e-a2c1-5a80c9907d3a",
   "metadata": {},
   "outputs": [
    {
     "name": "stdout",
     "output_type": "stream",
     "text": [
      "backup zip file cerated\n"
     ]
    }
   ],
   "source": [
    "import shutil\n",
    "\n",
    "shutil.make_archive(\"backup\", \"zip\", \"extracted_files\")\n",
    "print(\"backup zip file cerated\")\n"
   ]
  },
  {
   "cell_type": "code",
   "execution_count": null,
   "id": "623af5b6-1a78-442c-ae0b-2f619ab35a8c",
   "metadata": {},
   "outputs": [],
   "source": []
  },
  {
   "cell_type": "code",
   "execution_count": null,
   "id": "b31919f0-5fa1-46a2-9a21-39a9cc73ecc2",
   "metadata": {},
   "outputs": [],
   "source": []
  },
  {
   "cell_type": "code",
   "execution_count": null,
   "id": "9e8305e0-74e0-4344-87c4-e67a4a63b2f7",
   "metadata": {},
   "outputs": [],
   "source": []
  }
 ],
 "metadata": {
  "kernelspec": {
   "display_name": "Python 3 (ipykernel)",
   "language": "python",
   "name": "python3"
  },
  "language_info": {
   "codemirror_mode": {
    "name": "ipython",
    "version": 3
   },
   "file_extension": ".py",
   "mimetype": "text/x-python",
   "name": "python",
   "nbconvert_exporter": "python",
   "pygments_lexer": "ipython3",
   "version": "3.13.2"
  }
 },
 "nbformat": 4,
 "nbformat_minor": 5
}
