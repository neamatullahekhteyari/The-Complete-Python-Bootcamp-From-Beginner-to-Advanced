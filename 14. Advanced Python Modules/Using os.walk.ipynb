{
 "cells": [
  {
   "cell_type": "markdown",
   "id": "325575d1",
   "metadata": {},
   "source": [
    "___\n",
    "\n",
    "<a href='https://www.udemy.com/user/Neamatullah-ekhteyari/'><img src='../Neamatullah.png'/></a>\n",
    "___\n",
    "<center><em>Content Copyright by Neamatullah Ekhteyari</em></center>"
   ]
  },
  {
   "cell_type": "markdown",
   "id": "29fcc748",
   "metadata": {},
   "source": [
    "### Description of os.walk in Python\n",
    "The os.walk() function in Python is used to traverse directories and subdirectories in a file system. It generates the file names in a directory tree by walking either top-down or bottom-up. This is useful for searching, organizing, or processing files and folders in a structured way.\n",
    "\n",
    "The os.walk() function returns three values for each directory it visits:\n",
    "\n",
    "1. folder (str): The current directory path.\n",
    "\n",
    "2. sub_folders (list): A list of subdirectories in the current directory.\n",
    "\n",
    "3. files (list): A list of files in the current directory."
   ]
  },
  {
   "cell_type": "code",
   "execution_count": null,
   "id": "6f6266f5-c017-4040-8ad0-bb58ac0e13b0",
   "metadata": {},
   "outputs": [],
   "source": [
    "os.walk"
   ]
  },
  {
   "cell_type": "code",
   "execution_count": null,
   "id": "aed87e5b-0fc7-4746-99b9-93f19ec7a6f8",
   "metadata": {},
   "outputs": [],
   "source": [
    "example_top_level/\n",
    "    mid_example_1/\n",
    "        bottom_level_1/\n",
    "            file1.txt\n",
    "        bottom_level_2/\n",
    "            file2.txt\n",
    "    mid_example_2/  (empty folder)\n",
    "    main_file.txt"
   ]
  },
  {
   "cell_type": "markdown",
   "id": "5cb4ebf3",
   "metadata": {},
   "source": [
    "### Example 1: Traversing a Specific Directory"
   ]
  },
  {
   "cell_type": "code",
   "execution_count": 40,
   "id": "2b0b2363-cf35-4408-85b2-72f3bffb16c7",
   "metadata": {},
   "outputs": [
    {
     "name": "stdout",
     "output_type": "stream",
     "text": [
      "Currently looking at: C:\\Users\\Neamatullah\\Documents\\python mastery\\python files\n",
      "\n",
      "subdirectories: \n",
      "\t.ipynb_checkpoints\n",
      "\tnewFolder\n",
      "Files:\n",
      "\tTic Tac Toe Game.ipynb\n",
      "\tUntitled.ipynb\n",
      "\tUntitled1.ipynb\n",
      "\tUntitled2.ipynb\n",
      "\tUntitled3.ipynb\n",
      "----------------------------------------\n",
      "Currently looking at: C:\\Users\\Neamatullah\\Documents\\python mastery\\python files\\.ipynb_checkpoints\n",
      "\n",
      "subdirectories: \n",
      "Files:\n",
      "\tTic Tac Toe Game-checkpoint.ipynb\n",
      "\tUntitled-checkpoint.ipynb\n",
      "\tUntitled1-checkpoint.ipynb\n",
      "\tUntitled2-checkpoint.ipynb\n",
      "\tUntitled3-checkpoint.ipynb\n",
      "----------------------------------------\n",
      "Currently looking at: C:\\Users\\Neamatullah\\Documents\\python mastery\\python files\\newFolder\n",
      "\n",
      "subdirectories: \n",
      "Files:\n",
      "\tbackup.tx\n",
      "----------------------------------------\n"
     ]
    }
   ],
   "source": [
    "import os\n",
    "\n",
    "file_path = \"C:\\\\Users\\\\Neamatullah\\\\Documents\\\\python mastery\\\\python files\"\n",
    "\n",
    "for folder, sub_folders, files in os.walk(file_path):\n",
    "    print(f\"Currently looking at: {folder}\\n\")\n",
    "\n",
    "    print(\"subdirectories: \")\n",
    "    for sub_fold in sub_folders:\n",
    "        print(f\"\\t{sub_fold}\")\n",
    "    print(\"Files:\")\n",
    "    for f in files:\n",
    "        print(f\"\\t{f}\")\n",
    "\n",
    "    print(\"-\" * 40)\n"
   ]
  },
  {
   "cell_type": "markdown",
   "id": "f725e88e",
   "metadata": {},
   "source": [
    "#### Explanation:\n",
    "1. The script defines file_path, the directory that will be traversed.\n",
    "\n",
    "2. os.walk(file_path) iterates through all folders and files inside the specified path.\n",
    "\n",
    "3. It prints the current folder name, the list of subdirectories, and the files inside each folder.\n",
    "\n",
    "4. It visually separates different folder outputs using \"—\" * 40."
   ]
  },
  {
   "cell_type": "code",
   "execution_count": 41,
   "id": "f7db6ef6-9d2e-4de5-846c-625b43b626f1",
   "metadata": {},
   "outputs": [
    {
     "name": "stdout",
     "output_type": "stream",
     "text": [
      "C:\\Users\\Neamatullah\\Documents\\python mastery\\python files ['.ipynb_checkpoints', 'newFolder'] ['Tic Tac Toe Game.ipynb', 'Untitled.ipynb', 'Untitled1.ipynb', 'Untitled2.ipynb', 'Untitled3.ipynb']\n",
      "C:\\Users\\Neamatullah\\Documents\\python mastery\\python files\\.ipynb_checkpoints [] ['Tic Tac Toe Game-checkpoint.ipynb', 'Untitled-checkpoint.ipynb', 'Untitled1-checkpoint.ipynb', 'Untitled2-checkpoint.ipynb', 'Untitled3-checkpoint.ipynb']\n",
      "C:\\Users\\Neamatullah\\Documents\\python mastery\\python files\\newFolder [] ['backup.tx']\n"
     ]
    }
   ],
   "source": [
    "for folder, sub_folders, files in os.walk(os.getcwd()):\n",
    "    print(folder, sub_folders, files)"
   ]
  },
  {
   "cell_type": "markdown",
   "id": "6503a06b",
   "metadata": {},
   "source": [
    "#### Explanation:\n",
    "1. The script uses os.getcwd() to get the current working directory dynamically.\n",
    "\n",
    "2. It then applies os.walk(os.getcwd()) to traverse all directories and files inside the current directory.\n",
    "\n",
    "3. It prints the folder name, subdirectories, and files."
   ]
  },
  {
   "cell_type": "markdown",
   "id": "4355729e",
   "metadata": {},
   "source": [
    "#### Key Benefits of Using os.walk()\n",
    "1. Recursive Traversal: It automatically goes through all subdirectories without needing manual recursion.\n",
    "\n",
    "2. Efficient File Management: It helps in searching, organizing, copying, and processing files in a structured way.\n",
    "\n",
    "3. Automation: Ideal for automating file management tasks such as backups, cleaning old files, or organizing project files.\n",
    "\n"
   ]
  }
 ],
 "metadata": {
  "kernelspec": {
   "display_name": "Python 3 (ipykernel)",
   "language": "python",
   "name": "python3"
  },
  "language_info": {
   "codemirror_mode": {
    "name": "ipython",
    "version": 3
   },
   "file_extension": ".py",
   "mimetype": "text/x-python",
   "name": "python",
   "nbconvert_exporter": "python",
   "pygments_lexer": "ipython3",
   "version": "3.13.2"
  }
 },
 "nbformat": 4,
 "nbformat_minor": 5
}
