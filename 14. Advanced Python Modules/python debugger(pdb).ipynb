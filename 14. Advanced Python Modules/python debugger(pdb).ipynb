{
 "cells": [
  {
   "cell_type": "markdown",
   "id": "325575d1",
   "metadata": {},
   "source": [
    "___\n",
    "\n",
    "<a href='https://www.udemy.com/user/Neamatullah-ekhteyari/'><img src='../Neamatullah.png'/></a>\n",
    "___\n",
    "<center><em>Content Copyright by Neamatullah Ekhteyari</em></center>"
   ]
  },
  {
   "cell_type": "markdown",
   "id": "68b79a21-f2b3-4a5d-8c4a-09cd8ae5fba2",
   "metadata": {},
   "source": [
    "## Introduction to Python Debugger (pdb)\n",
    "The Python Debugger (pdb) is a module that allows you to set breakpoints in your code and inspect variables during execution. This helps in troubleshooting issues by providing insight into the state of your program at specific points. Below is an example that demonstrates the use of the debugger with a simple piece of Python code."
   ]
  },
  {
   "cell_type": "code",
   "execution_count": 149,
   "id": "5d35c2fa-c713-416a-8ddb-e9d2b8af66c2",
   "metadata": {},
   "outputs": [
    {
     "ename": "TypeError",
     "evalue": "can only concatenate list (not \"int\") to list",
     "output_type": "error",
     "traceback": [
      "\u001b[1;31m---------------------------------------------------------------------------\u001b[0m",
      "\u001b[1;31mTypeError\u001b[0m                                 Traceback (most recent call last)",
      "Cell \u001b[1;32mIn[149], line 6\u001b[0m\n\u001b[0;32m      3\u001b[0m z \u001b[38;5;241m=\u001b[39m \u001b[38;5;241m7\u001b[39m\n\u001b[0;32m      5\u001b[0m result1 \u001b[38;5;241m=\u001b[39m y \u001b[38;5;241m+\u001b[39m z\n\u001b[1;32m----> 6\u001b[0m result2 \u001b[38;5;241m=\u001b[39m x \u001b[38;5;241m+\u001b[39m z\n",
      "\u001b[1;31mTypeError\u001b[0m: can only concatenate list (not \"int\") to list"
     ]
    }
   ],
   "source": [
    "x = [1, 2, 3]\n",
    "y = 2\n",
    "z = 7\n",
    "\n",
    "result1 = y + z\n",
    "result2 = x + z"
   ]
  },
  {
   "cell_type": "markdown",
   "id": "28063074",
   "metadata": {},
   "source": [
    "#### Explanation:\n",
    "result1 = y + z successfully adds y (which is 2) and z (which is 7), resulting in 9.\n",
    "\n",
    "result2 = x + z raises a TypeError because you can't concatenate an integer (z) with a list (x)."
   ]
  },
  {
   "cell_type": "markdown",
   "id": "9eba3961",
   "metadata": {},
   "source": [
    "### Running the Debugger (pdb):"
   ]
  },
  {
   "cell_type": "code",
   "execution_count": 1,
   "id": "cf0369ec-4112-440a-8ba6-2c0912476316",
   "metadata": {},
   "outputs": [
    {
     "name": "stdout",
     "output_type": "stream",
     "text": [
      "9\n",
      "--Return--\n",
      "None\n",
      "> \u001b[1;32mc:\\users\\neamatullah\\appdata\\local\\temp\\ipykernel_5108\\43608840.py\u001b[0m(9)\u001b[0;36m<module>\u001b[1;34m()\u001b[0m\n",
      "\n"
     ]
    },
    {
     "name": "stdin",
     "output_type": "stream",
     "text": [
      "ipdb>  x\n"
     ]
    },
    {
     "name": "stdout",
     "output_type": "stream",
     "text": [
      "[1, 2, 3]\n"
     ]
    },
    {
     "name": "stdin",
     "output_type": "stream",
     "text": [
      "ipdb>  y\n"
     ]
    },
    {
     "name": "stdout",
     "output_type": "stream",
     "text": [
      "2\n"
     ]
    },
    {
     "name": "stdin",
     "output_type": "stream",
     "text": [
      "ipdb>  result1\n"
     ]
    },
    {
     "name": "stdout",
     "output_type": "stream",
     "text": [
      "9\n"
     ]
    },
    {
     "name": "stdin",
     "output_type": "stream",
     "text": [
      "ipdb>  y\n"
     ]
    },
    {
     "name": "stdout",
     "output_type": "stream",
     "text": [
      "2\n"
     ]
    },
    {
     "name": "stdin",
     "output_type": "stream",
     "text": [
      "ipdb>  z + y\n"
     ]
    },
    {
     "name": "stdout",
     "output_type": "stream",
     "text": [
      "9\n"
     ]
    },
    {
     "name": "stdin",
     "output_type": "stream",
     "text": [
      "ipdb>  z + 2\n"
     ]
    },
    {
     "name": "stdout",
     "output_type": "stream",
     "text": [
      "9\n"
     ]
    },
    {
     "name": "stdin",
     "output_type": "stream",
     "text": [
      "ipdb>  x + [1,2,3]\n"
     ]
    },
    {
     "name": "stdout",
     "output_type": "stream",
     "text": [
      "[1, 2, 3, 1, 2, 3]\n"
     ]
    },
    {
     "name": "stdin",
     "output_type": "stream",
     "text": [
      "ipdb>  result2\n"
     ]
    },
    {
     "name": "stdout",
     "output_type": "stream",
     "text": [
      "*** NameError: name 'result2' is not defined\n"
     ]
    },
    {
     "name": "stdin",
     "output_type": "stream",
     "text": [
      "ipdb>  n\n"
     ]
    },
    {
     "name": "stdout",
     "output_type": "stream",
     "text": [
      "\u001b[1;31m    [... skipped 1 hidden frame]\u001b[0m\n",
      "\n",
      "> \u001b[1;32mc:\\programdata\\anaconda3\\lib\\site-packages\\ipython\\core\\interactiveshell.py\u001b[0m(3580)\u001b[0;36mrun_code\u001b[1;34m()\u001b[0m\n",
      "\u001b[1;32m   3578 \u001b[1;33m            \u001b[1;32mfinally\u001b[0m\u001b[1;33m:\u001b[0m\u001b[1;33m\u001b[0m\u001b[1;33m\u001b[0m\u001b[0m\n",
      "\u001b[0m\u001b[1;32m   3579 \u001b[1;33m                \u001b[1;31m# Reset our crash handler in place\u001b[0m\u001b[1;33m\u001b[0m\u001b[1;33m\u001b[0m\u001b[0m\n",
      "\u001b[0m\u001b[1;32m-> 3580 \u001b[1;33m                \u001b[0msys\u001b[0m\u001b[1;33m.\u001b[0m\u001b[0mexcepthook\u001b[0m \u001b[1;33m=\u001b[0m \u001b[0mold_excepthook\u001b[0m\u001b[1;33m\u001b[0m\u001b[1;33m\u001b[0m\u001b[0m\n",
      "\u001b[0m\u001b[1;32m   3581 \u001b[1;33m        \u001b[1;32mexcept\u001b[0m \u001b[0mSystemExit\u001b[0m \u001b[1;32mas\u001b[0m \u001b[0me\u001b[0m\u001b[1;33m:\u001b[0m\u001b[1;33m\u001b[0m\u001b[1;33m\u001b[0m\u001b[0m\n",
      "\u001b[0m\u001b[1;32m   3582 \u001b[1;33m            \u001b[1;32mif\u001b[0m \u001b[0mresult\u001b[0m \u001b[1;32mis\u001b[0m \u001b[1;32mnot\u001b[0m \u001b[1;32mNone\u001b[0m\u001b[1;33m:\u001b[0m\u001b[1;33m\u001b[0m\u001b[1;33m\u001b[0m\u001b[0m\n",
      "\u001b[0m\n"
     ]
    },
    {
     "name": "stdin",
     "output_type": "stream",
     "text": [
      "ipdb>  c\n"
     ]
    },
    {
     "ename": "TypeError",
     "evalue": "can only concatenate list (not \"int\") to list",
     "output_type": "error",
     "traceback": [
      "\u001b[1;31m---------------------------------------------------------------------------\u001b[0m",
      "\u001b[1;31mTypeError\u001b[0m                                 Traceback (most recent call last)",
      "Cell \u001b[1;32mIn[1], line 10\u001b[0m\n\u001b[0;32m      8\u001b[0m \u001b[38;5;28mprint\u001b[39m(result1)\n\u001b[0;32m      9\u001b[0m pdb\u001b[38;5;241m.\u001b[39mset_trace()\n\u001b[1;32m---> 10\u001b[0m result2 \u001b[38;5;241m=\u001b[39m x \u001b[38;5;241m+\u001b[39m z\n\u001b[0;32m     11\u001b[0m \u001b[38;5;28mprint\u001b[39m(result2)\n",
      "\u001b[1;31mTypeError\u001b[0m: can only concatenate list (not \"int\") to list"
     ]
    }
   ],
   "source": [
    "import pdb\n",
    "\n",
    "x = [1, 2, 3]\n",
    "y = 2\n",
    "z = 7\n",
    "\n",
    "result1 = y + z\n",
    "print(result1)\n",
    "pdb.set_trace()\n",
    "result2 = x + z\n",
    "print(result2)\n"
   ]
  },
  {
   "cell_type": "markdown",
   "id": "dfad7071",
   "metadata": {},
   "source": [
    "#### Description of the Code:\n",
    "1. Setting up variables:\n",
    "\n",
    "    - x is a list, y is an integer, and z is another integer.\n",
    "\n",
    "2. First operation: result1 = y + z adds y and z and prints the result (which is 9).\n",
    "\n",
    "3. Breakpoint: The pdb.set_trace() line sets a breakpoint, pausing execution to allow for inspection of variables and the program state before continuing.\n",
    "\n",
    "4. Second operation: The result2 = x + z line will cause an error, but you can use the debugger to inspect what's happening before that.\n",
    "\n",
    "#### Debugging Process:\n",
    "Once the pdb.set_trace() line is encountered, the debugger pauses execution, and you'll be in the ipdb interactive shell.\n",
    "\n",
    "ipdb commands:\n",
    "- x: Displays the value of the variable x (which is [1, 2, 3]).\n",
    "\n",
    "- y: Displays the value of the variable y (which is 2).\n",
    "\n",
    "- result1: Displays the value of result1 (which is 9).\n",
    "\n",
    "- z + 2: Demonstrates the addition of z (7) and 2, resulting in 9.\n",
    "\n",
    "- x + [1, 2, 3]: Concatenates x with a new list [1, 2, 3], resulting in [1, 2, 3, 1, 2, 3].\n",
    "\n",
    "- result2: At this point, result2 is not defined because the program has not yet executed past the line where the TypeError occurs.\n",
    "\n",
    "- n: This step moves to the next line of code, which would be part of the traceback output.\n",
    "\n",
    "- c: Resumes execution of the program until the next breakpoint or the end of the program.\n",
    "\n",
    "#### The Debugging Output:\n",
    "- ipdb>: This is the interactive debugger prompt where you can type commands to inspect and modify the program state.\n",
    "\n",
    "- TypeError: When you attempt to run result2 = x + z, a TypeError is raised because a list cannot be concatenated with an integer. The debugger will show this error, allowing you to analyze what caused it and where the issue occurred.\n",
    "\n",
    "#### Benefits of Using pdb:\n",
    "- Allows step-by-step execution of code.\n",
    "\n",
    "- Provides interactive access to variables, making it easier to understand the program's behavior.\n",
    "\n",
    "- Helps to quickly pinpoint errors in logic or data types during runtime.\n",
    "\n",
    "This debugger is extremely useful for tracking down bugs, especially when code becomes more complex or when errors are not immediately obvious."
   ]
  },
  {
   "cell_type": "code",
   "execution_count": null,
   "id": "9e8305e0-74e0-4344-87c4-e67a4a63b2f7",
   "metadata": {},
   "outputs": [],
   "source": []
  }
 ],
 "metadata": {
  "kernelspec": {
   "display_name": "Python 3 (ipykernel)",
   "language": "python",
   "name": "python3"
  },
  "language_info": {
   "codemirror_mode": {
    "name": "ipython",
    "version": 3
   },
   "file_extension": ".py",
   "mimetype": "text/x-python",
   "name": "python",
   "nbconvert_exporter": "python",
   "pygments_lexer": "ipython3",
   "version": "3.13.2"
  }
 },
 "nbformat": 4,
 "nbformat_minor": 5
}
