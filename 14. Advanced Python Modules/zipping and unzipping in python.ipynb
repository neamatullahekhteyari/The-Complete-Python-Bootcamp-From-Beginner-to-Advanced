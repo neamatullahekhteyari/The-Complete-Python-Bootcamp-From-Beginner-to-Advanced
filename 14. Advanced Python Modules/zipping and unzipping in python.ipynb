{
 "cells": [
  {
   "cell_type": "markdown",
   "id": "325575d1",
   "metadata": {},
   "source": [
    "___\n",
    "\n",
    "<a href='https://www.udemy.com/user/Neamatullah-ekhteyari/'><img src='../Neamatullah.png'/></a>\n",
    "___\n",
    "<center><em>Content Copyright by Neamatullah Ekhteyari</em></center>"
   ]
  },
  {
   "cell_type": "markdown",
   "id": "8495c6e9",
   "metadata": {},
   "source": [
    "## Zipping and Unzipping Files with Python – Detailed Explanation\n",
    "Python provides built-in modules for handling zip files, allowing users to compress and extract files efficiently. The two primary modules used for these tasks are:\n",
    "\n",
    "1. ```zipfile``` – Used for creating and extracting .zip files.\n",
    "\n",
    "2. ```shutil``` – Provides a high-level way to create zip archives.\n",
    "\n",
    "\n"
   ]
  },
  {
   "cell_type": "markdown",
   "id": "f4a21f25",
   "metadata": {},
   "source": [
    "### 1. Creating a ZIP File using zipfile"
   ]
  },
  {
   "cell_type": "code",
   "execution_count": 46,
   "id": "e80d82da-1c6a-40ba-8516-8d73edb73c65",
   "metadata": {},
   "outputs": [
    {
     "name": "stdout",
     "output_type": "stream",
     "text": [
      "Created zip file: zompressed_files.zip\n"
     ]
    }
   ],
   "source": [
    "import zipfile\n",
    "\n",
    "zip_filename = \"zompressed_files.zip\"\n",
    "with zipfile.ZipFile(zip_filename, \"w\", zipfile.ZIP_DEFLATED) as zipf:\n",
    "    zipf.write(\"file1.txt\")\n",
    "    zipf.write(\"file2.txt\")\n",
    "\n",
    "print(f\"Created zip file: {zip_filename}\")\n"
   ]
  },
  {
   "cell_type": "markdown",
   "id": "6be80de5",
   "metadata": {},
   "source": [
    "#### Explanation:\n",
    "- zipfile.ZipFile(zip_filename, \"w\", zipfile.ZIP_DEFLATED):\n",
    "\n",
    "    - Opens (or creates) a ZIP file in write mode (\"w\").\n",
    "\n",
    "    - Uses ZIP_DEFLATED, which applies compression to reduce file size.\n",
    "\n",
    "- zipf.write(\"file1.txt\") & zipf.write(\"file2.txt\"):\n",
    "\n",
    "    - Adds the specified files (file1.txt and file2.txt) into the ZIP archive.\n",
    "\n",
    "- The with statement ensures that the ZIP file is properly closed after writing."
   ]
  },
  {
   "cell_type": "markdown",
   "id": "a1abeeac",
   "metadata": {},
   "source": [
    "### 2. Extracting a ZIP File using zipfile"
   ]
  },
  {
   "cell_type": "code",
   "execution_count": 47,
   "id": "03ebfea8-3b09-4090-be85-26a72c0ab245",
   "metadata": {},
   "outputs": [
    {
     "name": "stdout",
     "output_type": "stream",
     "text": [
      "Extracted files to 'extracted_files' directory\n"
     ]
    }
   ],
   "source": [
    "with zipfile.ZipFile(zip_filename, 'r') as zipf:\n",
    "    zipf.extractall('extracted_files')\n",
    "print(f\"Extracted files to 'extracted_files' directory\")"
   ]
  },
  {
   "cell_type": "markdown",
   "id": "7d621e4f",
   "metadata": {},
   "source": [
    "#### Explanation:\n",
    "- zipfile.ZipFile(zip_filename, 'r'):\n",
    "\n",
    "    - Opens the existing ZIP file (compressed_files.zip) in read mode (\"r\").\n",
    "\n",
    "- zipf.extractall('extracted_files'):\n",
    "\n",
    "    - Extracts all contents of the ZIP file into a folder named extracted_files.\n"
   ]
  },
  {
   "cell_type": "markdown",
   "id": "621b2de1",
   "metadata": {},
   "source": [
    "### 3. Creating a ZIP Archive using shutil"
   ]
  },
  {
   "cell_type": "code",
   "execution_count": 48,
   "id": "9ce4a868-5e74-414e-a2c1-5a80c9907d3a",
   "metadata": {},
   "outputs": [
    {
     "name": "stdout",
     "output_type": "stream",
     "text": [
      "backup zip file cerated\n"
     ]
    }
   ],
   "source": [
    "import shutil\n",
    "\n",
    "shutil.make_archive(\"backup\", \"zip\", \"extracted_files\")\n",
    "print(\"backup zip file cerated\")\n"
   ]
  },
  {
   "cell_type": "markdown",
   "id": "85822b17",
   "metadata": {},
   "source": [
    "#### Explanation:\n",
    "- shutil.make_archive(\"backup\", \"zip\", \"extracted_files\"):\n",
    "\n",
    "    - Creates a ZIP file named backup.zip containing all files inside the extracted_files folder.\n",
    "\n",
    "    - \"backup\" is the base name (final ZIP file will be backup.zip).\n",
    "\n",
    "    - \"zip\" specifies the archive format (other options include \"tar\", \"gztar\", \"bztar\", etc.).\n",
    "\n",
    "    - \"extracted_files\" is the directory whose contents will be archived."
   ]
  },
  {
   "cell_type": "markdown",
   "id": "5081453f",
   "metadata": {},
   "source": [
    "### Key Takeaways\n",
    "1. zipfile Module:\n",
    "\n",
    "    - Allows adding files individually to a ZIP file.\n",
    "\n",
    "    - Supports extracting files from a ZIP archive.\n",
    "\n",
    "    - Useful for fine-grained control over file compression.\n",
    "\n",
    "2. shutil Module:\n",
    "\n",
    "    - Provides a simple way to compress entire folders.\n",
    "\n",
    "    - Ideal for creating backups quickly.\n",
    "\n",
    "By using these Python modules, you can efficiently compress and extract files in various scenarios, such as creating backups or reducing file sizes for storage and sharing."
   ]
  }
 ],
 "metadata": {
  "kernelspec": {
   "display_name": "Python 3 (ipykernel)",
   "language": "python",
   "name": "python3"
  },
  "language_info": {
   "codemirror_mode": {
    "name": "ipython",
    "version": 3
   },
   "file_extension": ".py",
   "mimetype": "text/x-python",
   "name": "python",
   "nbconvert_exporter": "python",
   "pygments_lexer": "ipython3",
   "version": "3.13.2"
  }
 },
 "nbformat": 4,
 "nbformat_minor": 5
}
