{
 "cells": [
  {
   "cell_type": "markdown",
   "id": "f0b2f0d1",
   "metadata": {},
   "source": [
    "### Advanced Logging and Data Streaming System\n",
    "\n",
    "In this project, you will implement an efficient logging and data streaming system using Python. The project consists of two key components:\n",
    "\n",
    "1️- Logging Decorator → A Python decorator that logs function execution details, including execution time and function name. This helps in monitoring performance and debugging.\n",
    "\n",
    "2️- Data Streaming with Generators → A generator-based system that processes large log files line by line, ensuring memory efficiency without loading the entire file at once.\n",
    "\n",
    "> This project is ideal for handling real-time log processing, API monitoring, and database logging."
   ]
  },
  {
   "cell_type": "markdown",
   "id": "64283f7d",
   "metadata": {},
   "source": [
    "### Learning OutComes\n",
    "\n",
    "1. Master Python Decorators.\n",
    "2. Understand Logging Best Practices.\n",
    "3. Work with Python Generators.\n",
    "4. Build a Practical Data Processing System.\n",
    "\n",
    "\n",
    "#### Project Structure\n",
    "logging_data_streaming/                             \n",
    "│── main.py       \n",
    "│── logger.py      \n",
    "│── data_stream.py  \n",
    "│── sample_data.txt  \n"
   ]
  },
  {
   "cell_type": "markdown",
   "id": "4b790948",
   "metadata": {},
   "source": [
    "#### Steps to Complete the Project\n",
    "##### Step 1: Implement the Logging Decorator (logger.py)\n",
    "\n",
    "1. Configure a logging setup to store logs with timestamps and execution details.\n",
    "2. Create a decorator function (log_execution) to track function execution time.\n",
    "3. Apply this decorator to monitor the performance of key functions.\n",
    "\n",
    "\n",
    "##### Step 2: Implement the Data Streaming System (data_stream.py)\n",
    "\n",
    "1. Use a generator function to read large files line by line instead of loading the entire file into memory.\n",
    "2. Decorate the function with @log_execution to monitor performance.\n",
    "\n",
    "\n",
    "##### Step 3: Integrate Everything in main.py\n",
    "\n",
    "1. Import the streaming function and pass a log file as input.\n",
    "2. Print or store the streamed log entries.\n",
    "3. Ensure execution details are logged for performance tracking.\n",
    "\n",
    "##### Step 4: Create a Sample Log File (sample_data.txt)\n",
    "\n",
    "1. Populate sample_data.txt with dummy log messages.\n",
    "2. Each entry should represent a log event in a system.\n",
    "\n",
    "<code>\n",
    "[INFO] User logged in.\n",
    "[ERROR] Database connection failed.\n",
    "[DEBUG] API request received.\n",
    "[WARNING] Low disk space.\n",
    "[INFO] System update completed.\n",
    "\n",
    "</code>"
   ]
  }
 ],
 "metadata": {
  "kernelspec": {
   "display_name": "Python 3 (ipykernel)",
   "language": "python",
   "name": "python3"
  },
  "language_info": {
   "codemirror_mode": {
    "name": "ipython",
    "version": 3
   },
   "file_extension": ".py",
   "mimetype": "text/x-python",
   "name": "python",
   "nbconvert_exporter": "python",
   "pygments_lexer": "ipython3",
   "version": "3.13.2"
  }
 },
 "nbformat": 4,
 "nbformat_minor": 5
}
