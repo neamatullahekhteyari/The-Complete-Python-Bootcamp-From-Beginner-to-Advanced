{
 "cells": [
  {
   "cell_type": "code",
   "execution_count": null,
   "metadata": {},
   "outputs": [],
   "source": []
  },
  {
   "cell_type": "markdown",
   "metadata": {},
   "source": [
    "### Downloading Images from a Website\n",
    "#### Overview\n",
    "```\n",
    "The script downloads all images from the Biography.com website, saves them into a local folder (images), and ensures that both absolute and relative URLs are correctly processed.\n",
    "```"
   ]
  },
  {
   "cell_type": "code",
   "execution_count": 41,
   "metadata": {},
   "outputs": [],
   "source": [
    "import requests\n",
    "from bs4 import BeautifulSoup\n",
    "import os\n",
    "from urllib.parse import urlparse, urljoin"
   ]
  },
  {
   "cell_type": "markdown",
   "metadata": {},
   "source": [
    "#### Explanation:\n",
    "\n",
    "- requests: Used to send HTTP requests to fetch the web page content.\n",
    "\n",
    "- BeautifulSoup: A web scraping library that parses HTML and helps extract data.\n",
    "\n",
    "- os: Provides functions for file system operations (e.g., creating folders, handling file paths).\n",
    "\n",
    "- urlparse and urljoin (from urllib.parse): Used to handle and construct complete URLs (especially for images with relative paths)."
   ]
  },
  {
   "cell_type": "markdown",
   "metadata": {},
   "source": [
    "### Define the Target Website and Fetch HTML Content"
   ]
  },
  {
   "cell_type": "code",
   "execution_count": 28,
   "metadata": {},
   "outputs": [],
   "source": [
    "# Target website URL\n",
    "url = \"https://www.biography.com/\"\n",
    "\n",
    "# Step 1: Fetch the website content\n",
    "response = requests.get(url)\n",
    "soup = BeautifulSoup(response.text, \"html.parser\")\n",
    "\n"
   ]
  },
  {
   "cell_type": "markdown",
   "metadata": {},
   "source": [
    "#### Explanation:\n",
    "\n",
    "- The target website (https://www.biography.com/) is stored in the url variable.\n",
    "\n",
    "- requests.get(url): Sends a request to the website and retrieves its HTML content.\n",
    "\n",
    "- BeautifulSoup(response.text, \"html.parser\"): Parses the HTML response into a structured format for easy extraction of data."
   ]
  },
  {
   "cell_type": "markdown",
   "metadata": {},
   "source": [
    "### Extracting all image urls"
   ]
  },
  {
   "cell_type": "code",
   "execution_count": 30,
   "metadata": {},
   "outputs": [
    {
     "name": "stdout",
     "output_type": "stream",
     "text": [
      "/_assets/design-tokens/fre/static/icons/search.f1c199c.svg\n",
      "/_assets/design-tokens/fre/static/icons/close.38e3324.svg\n",
      "/_assets/design-tokens/biography/static/images/logos/logo.5ec9b18.svg?primary=%2523ffffff\n",
      "https://hips.hearstapps.com/hmg-prod/images/dolly-carl-7cr--dollyparton.jpg?crop=1.00xw:0.751xh;0,0.0951xh&resize=1200:*\n",
      "/_assets/design-tokens/fre/static/icons/play.db7c035.svg?primary=%2523ffffff\n",
      "https://hips.hearstapps.com/vidthumb/manual_upload/57b381f3e694aa572b888fe7/thumb_1471382006.png?crop=1xw:1xh;center,top&resize=1200:*\n",
      "https://hips.hearstapps.com/hmg-prod/images/e3ee4c9f-2dd5-4975-83f7-8afdb7bc6cd8.jpeg?crop=1xw:0.723xh;0xw,0.117xh&resize=270:*\n",
      "https://hips.hearstapps.com/hmg-prod/images/erik-menendez-and-his-brother-lyle-listen-during-a-pre-news-photo-1740604632.pjpeg?crop=0.663xw:1.00xh;0.0769xw,0&resize=270:*\n",
      "https://hips.hearstapps.com/hmg-prod/images/screen-shot-2025-02-26-at-8-47-58-am-67bf1ba89d70c.png?crop=0.954xw:1.00xh;0.0238xw,0&resize=270:*\n",
      "https://hips.hearstapps.com/hmg-prod/images/sean-baker-winner-of-the-best-picture-best-directing-best-news-photo-1741014792.pjpeg?crop=0.529xw:0.793xh;0.308xw,0.0601xh&resize=270:*\n",
      "https://hips.hearstapps.com/hmg-prod/images/gettyimages-1382611326-crop-670ed8cb0603c.jpg?crop=1.00xw:1.00xh;0,0&resize=360:*\n",
      "https://hips.hearstapps.com/hmg-prod/images/zoe-saldana-at-golden-globes-first-time-nominee-luncheon-at-news-photo-1735939071.pjpeg?crop=0.479xw:0.719xh;0.296xw,0.0600xh&resize=360:*\n",
      "https://hips.hearstapps.com/hmg-prod/images/conan-obrien-attends-the-paleylive-globetrotting-podcasting-news-photo-1731687503.jpg?crop=0.647xw:0.966xh;0.163xw,0.0264xh&resize=360:*\n",
      "https://hips.hearstapps.com/hmg-prod/images/lalisa-manobal-arrives-at-the-los-angeles-premiere-of-hbo-news-photo-1740595405.pjpeg?crop=1.00xw:0.692xh;0,0.0180xh&resize=360:*\n",
      "https://hips.hearstapps.com/hmg-prod/images/ap266047a754dd3e.jpg?crop=0.516xw:0.912xh;0.154xw,0.0878xh&resize=1200:*\n",
      "https://hips.hearstapps.com/hmg-prod/images/shari-franke-175832-0001-disney-kai-pfaffenbach-67b8cc9631f95.jpg?crop=0.671xw:0.895xh;0.149xw,0.105xh&resize=360:*\n",
      "https://hips.hearstapps.com/hmg-prod/images/ap2671aa10a5852f.jpg?crop=0.519xw:0.914xh;0.293xw,0.0857xh&resize=360:*\n",
      "https://hips.hearstapps.com/hmg-prod/images/ap267c0be7b87591.jpg?crop=0.450xw:0.798xh;0.317xw,0.182xh&resize=360:*\n",
      "https://hips.hearstapps.com/hmg-prod/images/americanmurdergabbypetito-67ace426bf47d.jpg?crop=0.569xw:1.00xh;0.163xw,0&resize=360:*\n",
      "https://hips.hearstapps.com/hmg-prod/images/scamanda-fullframe-16x9-1920x1080-v1-1-1-1-1-679a93bfb8a90.jpg?crop=0.554xw:0.986xh;0.0369xw,0&resize=360:*\n",
      "https://hips.hearstapps.com/hmg-prod/images/gettyimages-539886710.jpg?crop=0.630xw:1.00xh;0.226xw,0&resize=360:*\n",
      "https://hips.hearstapps.com/hmg-prod/images/gypsy-rose-blanchard-and-mother--courtesy-investigation-discovery.jpg?crop=0.7412109375xw:1xh;center,top&resize=360:*\n",
      "https://hips.hearstapps.com/hmg-prod/images/police-headquarters-1-police-plaza-police-officials-bring-news-photo-1715784490.jpg?crop=0.787xw:0.984xh;0,0.0122xh&resize=360:*\n",
      "https://hips.hearstapps.com/hmg-prod/images/mikey-madison-attends-the-2025-film-independent-spirit-news-photo-1740502455.pjpeg?crop=0.671xw:1.00xh;0.112xw,0&resize=360:*\n",
      "https://hips.hearstapps.com/hmg-prod/images/discover-template-1-67c4f5b3ed331.png?crop=0.524xw:1.00xh;0.208xw,0&resize=360:*\n",
      "https://hips.hearstapps.com/hmg-prod/images/gettyimages-2174934336-67c88ce54f561.jpg?crop=0.670xw:1.00xh;0.167xw,0&resize=360:*\n",
      "https://hips.hearstapps.com/hmg-prod/images/lisa-jisoo-jennie-and-ros-c3-a9-of-blackpink-perform-at-the-news-photo-1740754585.pjpeg?crop=0.739xw:1.00xh;0.0994xw,0&resize=360:*\n",
      "https://hips.hearstapps.com/hmg-prod/images/west-palm-beach-fl-susie-wiles-speaks-with-republican-news-photo-1737386566.pjpeg?crop=0.651xw:0.971xh;0.165xw,0.0288xh&resize=480:*\n",
      "https://hips.hearstapps.com/hmg-prod/images/photograph-of-sarah-breedlove-driving-a-car-she-was-better-news-photo-1707498999.jpg?crop=0.364xw:0.544xh;0.348xw,0&resize=270:*\n",
      "https://hips.hearstapps.com/hmg-prod/images/satchmos-back-louis-satchmo-armstrong-gives-his-great-big-news-photo-1695916405.jpg?crop=0.668xw:1.00xh;0.239xw,0&resize=270:*\n",
      "https://hips.hearstapps.com/hmg-prod/images/circa-1520-a-print-of-the-explorer-ferdinand-magellan-news-photo-1691699300.jpg?crop=0.594xw:0.799xh;0.0635xw,0&resize=270:*\n",
      "https://hips.hearstapps.com/hmg-prod/images/professor-stephen-hawking-british-theoretical-physicist-news-photo-1695324822.jpg?crop=1.00xw:0.666xh;0,0.0967xh&resize=270:*\n",
      "https://hips.hearstapps.com/hmg-prod/images/alec-baldwin-and-hilaria-baldwin-attend-the-all-in-comedy-news-photo-1740151189.pjpeg?crop=0.728xw:1.00xh;0.138xw,0&resize=360:*\n",
      "https://hips.hearstapps.com/hmg-prod/images/walt-disney-television-via-getty-images-news-the-trump-news-photo-1739452659.pjpeg?crop=0.673xw:0.881xh;0.0927xw,0.119xh&resize=360:*\n",
      "https://hips.hearstapps.com/hmg-prod/images/1970s-caroline-kennedy-and-robert-kennedy-jr-photographed-news-photo-1738261499.pjpeg?crop=0.795xw:1.00xh;0.106xw,0&resize=360:*\n",
      "https://hips.hearstapps.com/hmg-prod/images/elvislisa-6452b64b93c69.jpg?crop=0.502xw:1.00xh;0.236xw,0&resize=360:*\n",
      "https://hips.hearstapps.com/hmg-prod/images/gettyimages-2196412663-67c47277cd5b0.jpg?crop=1.00xw:0.670xh;0,0.0256xh&resize=360:*\n",
      "https://hips.hearstapps.com/hmg-prod/images/sabrina-carpenter-performs-during-the-2024-governors-ball-news-photo-1731085915.jpg?crop=0.668xw:1.00xh;0.167xw,0&resize=360:*\n",
      "https://hips.hearstapps.com/hmg-prod/images/mariah-carey-performs-oh-santa-from-her-25th-anniversary-news-photo-1699289243.jpg?crop=0.628xw:0.935xh;0.170xw,0.0649xh&resize=360:*\n",
      "https://hips.hearstapps.com/hmg-prod/images/morgan-wallen-performs-onstage-during-the-57th-annual-cma-news-photo-1725900728.jpg?crop=0.671xw:1.00xh;0.171xw,0&resize=360:*\n",
      "https://hips.hearstapps.com/hmg-prod/images/mikey-madison-oscars-look-67c7683bd0d34.jpg?crop=0.491xw:0.983xh;0,0&resize=360:*\n",
      "https://hips.hearstapps.com/hmg-prod/images/mascara-white-lotus-67c1f8e51c26f.jpg?crop=0.498xw:0.997xh;0,0&resize=360:*\n",
      "https://hips.hearstapps.com/hmg-prod/images/oscars-viewing-party-ideas-67c0939451d85.jpg?crop=0.897xw:1.00xh;0.0619xw,0&resize=360:*\n",
      "https://hips.hearstapps.com/hmg-prod/images/parker-posey-white-lotus-dress-67b63f2ba2379.jpg?crop=0.498xw:0.997xh;0,0&resize=360:*\n",
      "https://hips.hearstapps.com/hmg-prod/images/robert-pattinson-attends-the-national-board-of-review-news-photo-1738604310.pjpeg?crop=0.793xw:0.529xh;0.0992xw,0.0119xh&resize=360:*\n",
      "https://hips.hearstapps.com/hmg-prod/images/portrait-of-inventor-alexander-graham-bell-at-age-54-with-news-photo-1741194125.pjpeg?crop=1.00xw:0.797xh;0,0&resize=360:*\n",
      "https://hips.hearstapps.com/hmg-prod/images/mikey-madison-oscars-look-67c7683bd0d34.jpg?crop=0.491xw:0.983xh;0,0&resize=360:*\n",
      "https://hips.hearstapps.com/hmg-prod/images/discover-template-2-67c4fe150bd72.png?crop=0.526xw:1.00xh;0.189xw,0&resize=360:*\n",
      "https://hips.hearstapps.com/hmg-prod/images/gettyimages-2196412663-67c47277cd5b0.jpg?crop=1.00xw:0.670xh;0,0.0256xh&resize=360:*\n",
      "https://hips.hearstapps.com/hmg-prod/images/mascara-white-lotus-67c1f8e51c26f.jpg?crop=0.498xw:0.997xh;0,0&resize=360:*\n",
      "https://hips.hearstapps.com/hmg-prod/images/gene-hackman-news-photo-1740666609.pjpeg?crop=0.654xw:1.00xh;0.180xw,0&resize=360:*\n",
      "https://hips.hearstapps.com/hmg-prod/images/oscars-viewing-party-ideas-67c0939451d85.jpg?crop=0.897xw:1.00xh;0.0619xw,0&resize=360:*\n",
      "https://hips.hearstapps.com/hmg-prod/images/white-lotus-season-3-cast-67addc1d86067.jpg?crop=0.668xw:1.00xh;0.115xw,0&resize=360:*\n",
      "https://hips.hearstapps.com/hmg-prod/images/arnold-schwarzenegger-and-patrick-schwarzenegger-arrive-at-news-photo-1740586824.pjpeg?crop=0.670xw:1.00xh;0.167xw,0&resize=360:*\n",
      "https://hips.hearstapps.com/hmg-prod/images/gettyimages-952185802.jpg?crop=0.680943513345748xw:1xh;center,top&resize=360:*\n",
      "https://hips.hearstapps.com/hmg-prod/images/lewis-hamilton-of-great-britain-and-ferrari-greets-the-news-photo-1740523846.pjpeg?crop=0.851xw:0.568xh;0.0654xw,0.0447xh&resize=360:*\n",
      "/_assets/design-tokens/biography/static/images/logos/logo.5ec9b18.svg?primary=%2523ffffff\n",
      "/_assets/design-tokens/fre/static/icons/social/x.3361b6d.svg?primary=%2523ffffff&id=social-button-icon\n",
      "/_assets/design-tokens/fre/static/icons/social/facebook.a5a3a69.svg?primary=%2523ffffff&id=social-button-icon\n",
      "/_assets/design-tokens/fre/static/icons/social/instagram.f282b14.svg?primary=%2523ffffff&id=social-button-icon\n",
      "/_assets/design-tokens/biography/static/images/logos/network-logo.04aa008.svg?primary=%2523ffffff\n"
     ]
    }
   ],
   "source": [
    "images = soup.find_all('img')\n",
    "for img in images:\n",
    "    print(img['src'])"
   ]
  },
  {
   "cell_type": "markdown",
   "metadata": {},
   "source": [
    "### Defining the Function to Download Images"
   ]
  },
  {
   "cell_type": "code",
   "execution_count": 42,
   "metadata": {},
   "outputs": [],
   "source": [
    "def download_image(image_url, folder='images'):\n",
    "    \"\"\"Downloads an image from the given URL and saves it into a specified folder.\"\"\"\n",
    "    \n",
    "    # Create the folder if it doesn't exist\n",
    "    if not os.path.exists(folder):\n",
    "        os.makedirs(folder)\n",
    "\n",
    "    # Process the image URL (handle relative paths)\n",
    "    parsed_url = urlparse(image_url)\n",
    "    if parsed_url.scheme == \"\":  # If the scheme is missing, prepend \"https:\"\n",
    "        full_url = \"https:\" + image_url\n",
    "    else:\n",
    "        full_url = image_url.split(\"?\")[0]  # Remove query parameters\n",
    "\n",
    "    # Generate filename based on the image URL\n",
    "    filename = os.path.join(folder, os.path.basename(full_url))\n",
    "\n",
    "    try:\n",
    "        # Fetch the image data\n",
    "        img_data = requests.get(full_url).content\n",
    "\n",
    "        # Save the image file\n",
    "        with open(filename, 'wb') as img_file:\n",
    "            img_file.write(img_data)\n",
    "        \n",
    "        print(f\"Downloaded: {filename}\")\n",
    "    except Exception as e:\n",
    "        print(f\"Failed to download {image_url}: {e}\")\n"
   ]
  },
  {
   "cell_type": "markdown",
   "metadata": {},
   "source": [
    "#### Explanation:\n",
    "\n",
    "- Function Purpose: Downloads an image and saves it in a specified folder.\n",
    "\n",
    "- folder='images': Default directory to save images.\n",
    "\n",
    "- Folder Handling: If the images folder does not exist, os.makedirs(folder) creates it.\n",
    "\n",
    "- Processing Image URLs:\n",
    "\n",
    "    - urlparse(image_url): Checks if the image URL is absolute or relative.\n",
    "\n",
    "    - If no scheme (HTTP/HTTPS) is found, \"https:\" + image_url is added.\n",
    "\n",
    "    - Removes unnecessary query parameters using .split(\"?\")[0].\n",
    "\n",
    "- Downloading the Image:\n",
    "\n",
    "    - requests.get(full_url).content: Fetches the image data.\n",
    "\n",
    "    - open(filename, 'wb'): Opens the file in binary write mode.\n",
    "\n",
    "    - Writes the image data to the file.\n",
    "\n",
    "- Error Handling: If the image fails to download, an error message is printed."
   ]
  },
  {
   "cell_type": "markdown",
   "metadata": {},
   "source": [
    "### Iterating Over Image Tags and Downloading Images"
   ]
  },
  {
   "cell_type": "code",
   "execution_count": 43,
   "metadata": {
    "scrolled": true
   },
   "outputs": [
    {
     "name": "stdout",
     "output_type": "stream",
     "text": [
      "Downloaded: images\\search.f1c199c.svg\n",
      "Downloaded: images\\close.38e3324.svg\n",
      "Downloaded: images\\logo.5ec9b18.svg\n",
      "Downloaded: images\\dolly-carl-7cr--dollyparton.jpg\n",
      "Downloaded: images\\play.db7c035.svg\n",
      "Downloaded: images\\thumb_1471382006.png\n",
      "Downloaded: images\\e3ee4c9f-2dd5-4975-83f7-8afdb7bc6cd8.jpeg\n",
      "Downloaded: images\\erik-menendez-and-his-brother-lyle-listen-during-a-pre-news-photo-1740604632.pjpeg\n",
      "Downloaded: images\\screen-shot-2025-02-26-at-8-47-58-am-67bf1ba89d70c.png\n",
      "Downloaded: images\\sean-baker-winner-of-the-best-picture-best-directing-best-news-photo-1741014792.pjpeg\n",
      "Downloaded: images\\gettyimages-1382611326-crop-670ed8cb0603c.jpg\n",
      "Downloaded: images\\zoe-saldana-at-golden-globes-first-time-nominee-luncheon-at-news-photo-1735939071.pjpeg\n",
      "Downloaded: images\\conan-obrien-attends-the-paleylive-globetrotting-podcasting-news-photo-1731687503.jpg\n",
      "Downloaded: images\\lalisa-manobal-arrives-at-the-los-angeles-premiere-of-hbo-news-photo-1740595405.pjpeg\n",
      "Downloaded: images\\ap266047a754dd3e.jpg\n",
      "Downloaded: images\\shari-franke-175832-0001-disney-kai-pfaffenbach-67b8cc9631f95.jpg\n",
      "Downloaded: images\\ap2671aa10a5852f.jpg\n",
      "Downloaded: images\\ap267c0be7b87591.jpg\n",
      "Downloaded: images\\americanmurdergabbypetito-67ace426bf47d.jpg\n",
      "Downloaded: images\\scamanda-fullframe-16x9-1920x1080-v1-1-1-1-1-679a93bfb8a90.jpg\n",
      "Downloaded: images\\gettyimages-539886710.jpg\n",
      "Downloaded: images\\gypsy-rose-blanchard-and-mother--courtesy-investigation-discovery.jpg\n",
      "Downloaded: images\\police-headquarters-1-police-plaza-police-officials-bring-news-photo-1715784490.jpg\n",
      "Downloaded: images\\mikey-madison-attends-the-2025-film-independent-spirit-news-photo-1740502455.pjpeg\n",
      "Downloaded: images\\discover-template-1-67c4f5b3ed331.png\n",
      "Downloaded: images\\gettyimages-2174934336-67c88ce54f561.jpg\n",
      "Downloaded: images\\lisa-jisoo-jennie-and-ros-c3-a9-of-blackpink-perform-at-the-news-photo-1740754585.pjpeg\n",
      "Downloaded: images\\west-palm-beach-fl-susie-wiles-speaks-with-republican-news-photo-1737386566.pjpeg\n",
      "Downloaded: images\\photograph-of-sarah-breedlove-driving-a-car-she-was-better-news-photo-1707498999.jpg\n",
      "Downloaded: images\\satchmos-back-louis-satchmo-armstrong-gives-his-great-big-news-photo-1695916405.jpg\n",
      "Downloaded: images\\circa-1520-a-print-of-the-explorer-ferdinand-magellan-news-photo-1691699300.jpg\n",
      "Downloaded: images\\professor-stephen-hawking-british-theoretical-physicist-news-photo-1695324822.jpg\n",
      "Downloaded: images\\alec-baldwin-and-hilaria-baldwin-attend-the-all-in-comedy-news-photo-1740151189.pjpeg\n",
      "Downloaded: images\\walt-disney-television-via-getty-images-news-the-trump-news-photo-1739452659.pjpeg\n",
      "Downloaded: images\\1970s-caroline-kennedy-and-robert-kennedy-jr-photographed-news-photo-1738261499.pjpeg\n",
      "Downloaded: images\\elvislisa-6452b64b93c69.jpg\n",
      "Downloaded: images\\gettyimages-2196412663-67c47277cd5b0.jpg\n",
      "Downloaded: images\\sabrina-carpenter-performs-during-the-2024-governors-ball-news-photo-1731085915.jpg\n",
      "Downloaded: images\\mariah-carey-performs-oh-santa-from-her-25th-anniversary-news-photo-1699289243.jpg\n",
      "Downloaded: images\\morgan-wallen-performs-onstage-during-the-57th-annual-cma-news-photo-1725900728.jpg\n",
      "Downloaded: images\\mikey-madison-oscars-look-67c7683bd0d34.jpg\n",
      "Downloaded: images\\mascara-white-lotus-67c1f8e51c26f.jpg\n",
      "Downloaded: images\\oscars-viewing-party-ideas-67c0939451d85.jpg\n",
      "Downloaded: images\\parker-posey-white-lotus-dress-67b63f2ba2379.jpg\n",
      "Downloaded: images\\robert-pattinson-attends-the-national-board-of-review-news-photo-1738604310.pjpeg\n",
      "Downloaded: images\\portrait-of-inventor-alexander-graham-bell-at-age-54-with-news-photo-1741194125.pjpeg\n",
      "Downloaded: images\\mikey-madison-oscars-look-67c7683bd0d34.jpg\n",
      "Downloaded: images\\discover-template-2-67c4fe150bd72.png\n",
      "Downloaded: images\\gettyimages-2196412663-67c47277cd5b0.jpg\n",
      "Downloaded: images\\mascara-white-lotus-67c1f8e51c26f.jpg\n",
      "Downloaded: images\\gene-hackman-news-photo-1740666609.pjpeg\n",
      "Downloaded: images\\oscars-viewing-party-ideas-67c0939451d85.jpg\n",
      "Downloaded: images\\white-lotus-season-3-cast-67addc1d86067.jpg\n",
      "Downloaded: images\\arnold-schwarzenegger-and-patrick-schwarzenegger-arrive-at-news-photo-1740586824.pjpeg\n",
      "Downloaded: images\\gettyimages-952185802.jpg\n",
      "Downloaded: images\\lewis-hamilton-of-great-britain-and-ferrari-greets-the-news-photo-1740523846.pjpeg\n",
      "Downloaded: images\\logo.5ec9b18.svg\n",
      "Downloaded: images\\x.3361b6d.svg\n",
      "Downloaded: images\\facebook.a5a3a69.svg\n",
      "Downloaded: images\\instagram.f282b14.svg\n",
      "Downloaded: images\\network-logo.04aa008.svg\n"
     ]
    }
   ],
   "source": [
    "for img in images:\n",
    "    img_url = img[\"src\"]\n",
    "    download_image(urljoin(url, img_url))"
   ]
  },
  {
   "cell_type": "markdown",
   "metadata": {},
   "source": [
    "#### Explanation:\n",
    "```\n",
    "- Iterates through all <img> tags in the images list.\n",
    "\n",
    "- Extracts the src attribute, which contains the image URL.\n",
    "\n",
    "- Ensures all URLs are absolute by using urljoin(url, img_url).\n",
    "\n",
    "- Calls download_image(img_url) to download each image.\n",
    "```"
   ]
  },
  {
   "cell_type": "code",
   "execution_count": null,
   "metadata": {},
   "outputs": [],
   "source": []
  },
  {
   "cell_type": "code",
   "execution_count": null,
   "metadata": {},
   "outputs": [],
   "source": []
  }
 ],
 "metadata": {
  "kernelspec": {
   "display_name": "Python 3 (ipykernel)",
   "language": "python",
   "name": "python3"
  },
  "language_info": {
   "codemirror_mode": {
    "name": "ipython",
    "version": 3
   },
   "file_extension": ".py",
   "mimetype": "text/x-python",
   "name": "python",
   "nbconvert_exporter": "python",
   "pygments_lexer": "ipython3",
   "version": "3.13.2"
  }
 },
 "nbformat": 4,
 "nbformat_minor": 4
}
