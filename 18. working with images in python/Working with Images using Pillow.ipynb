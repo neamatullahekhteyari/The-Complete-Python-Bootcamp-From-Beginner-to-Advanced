{
 "cells": [
  {
   "cell_type": "markdown",
   "id": "e9011215",
   "metadata": {},
   "source": [
    "### Working with Images using Pillow:\n",
    "#### What is Pillow?\n",
    "Pillow is a popular Python Imaging Library (PIL) that allows developers to open, edit, and manipulate images efficiently. It supports multiple formats, including JPEG, PNG, BMP, GIF, and TIFF, and provides various image processing features such as:\n",
    "\n",
    "    1. Resizing, cropping, and rotating images\n",
    "\n",
    "    2. Applying filters and color transformations\n",
    "\n",
    "    3. Drawing shapes and adding text\n",
    "\n",
    "    4. Saving images in different formats\n",
    "\n",
    "Pillow is widely used in image processing, automation, and data visualization."
   ]
  },
  {
   "cell_type": "markdown",
   "id": "4f9cab49",
   "metadata": {},
   "source": [
    "### 1. Importing Pillow and Opening an Image"
   ]
  },
  {
   "cell_type": "code",
   "execution_count": 5,
   "id": "03397833-960f-4d3f-8757-5f6087ab2261",
   "metadata": {},
   "outputs": [],
   "source": [
    "from PIL import Image"
   ]
  },
  {
   "cell_type": "code",
   "execution_count": 8,
   "id": "3efb2d18-5bdd-4c63-ac22-c230275911b3",
   "metadata": {},
   "outputs": [],
   "source": [
    "image = Image.open(\"stephen.jpg\")\n",
    "\n",
    "image.show()"
   ]
  },
  {
   "cell_type": "markdown",
   "id": "27265b82",
   "metadata": {},
   "source": [
    "#### Explanation:\n",
    "```\n",
    "from PIL import Image → Imports the Image module from Pillow.\n",
    "\n",
    "Image.open(\"stephen.jpg\") → Opens the image file \"stephen.jpg\" and stores it in the variable image.\n",
    "\n",
    "image.show() → Displays the image using the default image viewer.\n",
    "```"
   ]
  },
  {
   "cell_type": "markdown",
   "id": "e458a365",
   "metadata": {},
   "source": [
    "### 2. Getting Image Properties"
   ]
  },
  {
   "cell_type": "code",
   "execution_count": 14,
   "id": "c5c919e5-60b7-41a0-871d-8f361bf3f52b",
   "metadata": {
    "scrolled": true
   },
   "outputs": [
    {
     "name": "stdout",
     "output_type": "stream",
     "text": [
      "Image format: JPEG\n",
      "Image size: (680, 1024)\n",
      "image mode: RGB\n"
     ]
    }
   ],
   "source": [
    "# getting image properties\n",
    "\n",
    "print(f\"Image format: {image.format}\")\n",
    "print(f\"Image size: {image.size}\")\n",
    "print(f\"image mode: {image.mode}\")"
   ]
  },
  {
   "cell_type": "markdown",
   "id": "a2c9415d",
   "metadata": {},
   "source": [
    "#### Explanation:\n",
    "```\n",
    "image.format → Retrieves the file format (e.g., JPEG, PNG).\n",
    "\n",
    "image.size → Returns a tuple (width, height) representing the image dimensions.\n",
    "\n",
    "image.mode → Shows the image color mode (e.g., RGB for color, L for grayscale).\n",
    "```"
   ]
  },
  {
   "cell_type": "markdown",
   "id": "13514325",
   "metadata": {},
   "source": [
    "### 3. Resizing and Cropping an Image"
   ]
  },
  {
   "cell_type": "code",
   "execution_count": 16,
   "id": "64417b1a-ff8a-43d6-8abb-a4f3702356ee",
   "metadata": {},
   "outputs": [],
   "source": [
    "#  resizing and cropping images\n",
    "resized_image = image.resize((200, 200))\n",
    "resized_image.show()"
   ]
  },
  {
   "cell_type": "markdown",
   "id": "d32d8b74",
   "metadata": {},
   "source": [
    "#### Explanation:\n",
    "\n",
    "image.resize((200, 200)) → Resizes the image to 200x200 pixels.\n",
    "\n",
    "resized_image.show() → Displays the resized image."
   ]
  },
  {
   "cell_type": "markdown",
   "id": "64a91526",
   "metadata": {},
   "source": [
    "###  Cropping an Image"
   ]
  },
  {
   "cell_type": "code",
   "execution_count": 18,
   "id": "0d8f0206-9319-485a-aec5-3d6eeed3b408",
   "metadata": {},
   "outputs": [],
   "source": [
    "# crop an image\n",
    "cropped_image = image.crop((50, 50, 200, 200))\n",
    "cropped_image.show()"
   ]
  },
  {
   "cell_type": "markdown",
   "id": "6dbe311e",
   "metadata": {},
   "source": [
    "#### Explanation:\n",
    "\n",
    "- image.crop((left, top, right, bottom)) → Extracts a region from the image.\n",
    "\n",
    "    - 50,50 → Top-left corner\n",
    "\n",
    "    - 200,200 → Bottom-right corner\n",
    "\n",
    "- cropped_image.show() → Displays the cropped image."
   ]
  },
  {
   "cell_type": "markdown",
   "id": "ea1cb4c8",
   "metadata": {},
   "source": [
    "### 5. Rotating and Flipping an Image"
   ]
  },
  {
   "cell_type": "code",
   "execution_count": 19,
   "id": "d95bea85-b61f-482b-8fd2-edb2977a6c50",
   "metadata": {},
   "outputs": [],
   "source": [
    "# rotating and flipping images\n",
    "rotated_image = image.rotate(90)\n",
    "rotated_image.show()"
   ]
  },
  {
   "cell_type": "markdown",
   "id": "eb4cf4d1",
   "metadata": {},
   "source": [
    "#### Explanation:\n",
    "\n",
    "image.rotate(90) → Rotates the image 90 degrees clockwise.\n",
    "\n",
    "rotated_image.show() → Displays the rotated imag"
   ]
  },
  {
   "cell_type": "code",
   "execution_count": 21,
   "id": "28de8fee-0c91-4f52-af88-0e44d8a92cfa",
   "metadata": {},
   "outputs": [],
   "source": [
    "# flip an image\n",
    "flipped_image = image.transpose(Image.FLIP_LEFT_RIGHT)\n",
    "flipped_image.show()\n",
    "\n",
    "flipped_image = image.transpose(Image.FLIP_TOP_BOTTOM)\n",
    "flipped_image.show()"
   ]
  },
  {
   "cell_type": "markdown",
   "id": "42309fa8",
   "metadata": {},
   "source": [
    "#### Explanation:\n",
    "\n",
    "- image.transpose(Image.FLIP_LEFT_RIGHT) → Flips the image horizontally (left to right).\n",
    "\n",
    "- flipped_image.show() → Displays the flipped image.\n",
    "- image.transpose(Image.FLIP_TOP_BOTTOM) → Flips the image vertically (top to bottom).\n",
    "\n",
    "- flipped_image.show() → Displays the flipped image.\n"
   ]
  },
  {
   "cell_type": "markdown",
   "id": "5e426775",
   "metadata": {},
   "source": [
    "### 6. Converting Image to Grayscale\n",
    "\n"
   ]
  },
  {
   "cell_type": "code",
   "execution_count": 23,
   "id": "7aeab72e-96a2-4b20-9bd9-38d4e025e256",
   "metadata": {},
   "outputs": [],
   "source": [
    "# converting images to grayscale\n",
    "gray_image = image.convert(\"L\")\n",
    "gray_image.show()"
   ]
  },
  {
   "cell_type": "code",
   "execution_count": 24,
   "id": "3f42a3d7-fbe6-42e3-b303-7fae94fcace1",
   "metadata": {},
   "outputs": [],
   "source": [
    "gray_image.save(\"grayscale_image.png\")"
   ]
  },
  {
   "cell_type": "markdown",
   "id": "24a88fe9",
   "metadata": {},
   "source": [
    "#### Explanation:\n",
    "\n",
    "- image.convert(\"L\") → Converts the image to grayscale.\n",
    "\n",
    "- gray_image.show() → Displays the grayscale image.\n",
    "\n",
    "- gray_image.save(\"grayscale_image.png\") → Saves the grayscale image as \"grayscale_image.png\"."
   ]
  },
  {
   "cell_type": "markdown",
   "id": "12b71976",
   "metadata": {},
   "source": [
    "### 7. Mini Project: Simple Image Editor"
   ]
  },
  {
   "cell_type": "code",
   "execution_count": 39,
   "id": "bcf51163-5382-46fd-8a5d-598518097490",
   "metadata": {},
   "outputs": [],
   "source": [
    "# MIni project: simple image editor\n",
    "\n",
    "from PIL import Image\n",
    "\n",
    "def edit_image(image_path):\n",
    "    # open image\n",
    "    img = Image.open(image_path)\n",
    "\n",
    "    # resize\n",
    "    img = img.resize((300, 300))\n",
    "\n",
    "    # crop (crop center 200x200 area)\n",
    "    crop_width, crop_height = 200, 200\n",
    "    width, height = img.size\n",
    "\n",
    "    crop_width = min(width, crop_width)\n",
    "    crop_height = min(height, crop_height)\n",
    "\n",
    "    left = (width - crop_width) / 2\n",
    "    top = (height - crop_height) / 2\n",
    "    right = (width + crop_width) / 2\n",
    "    bottom = (height + crop_height) / 2\n",
    "\n",
    "    img = img.crop((left, top, right, bottom))\n",
    "\n",
    "    \n",
    "    # rotate 45 degrees\n",
    "    img = img.rotate(45)\n",
    "\n",
    "    # convert to grayscale\n",
    "    img = img.convert(\"L\")\n",
    "\n",
    "    img.save(\"edited_image.png\")\n",
    "\n",
    "    # show result\n",
    "    img.show()\n",
    "\n",
    "edit_image(\"stephen.jpg\")"
   ]
  },
  {
   "cell_type": "markdown",
   "id": "f9882e07",
   "metadata": {},
   "source": [
    "#### Explanation:\n",
    "\n",
    "- Opens the image.\n",
    "\n",
    "- Resizes it to 300x300 pixels.\n",
    "\n",
    "- Crops a centered 200x200 area.\n",
    "\n",
    "- Rotates the image by 45 degrees.\n",
    "\n",
    "- Converts the image to grayscale.\n",
    "\n",
    "- Saves the final image as edited_image.png and displays it."
   ]
  },
  {
   "cell_type": "markdown",
   "id": "56e6596a",
   "metadata": {},
   "source": [
    "### Summary of Features\n",
    "- Opens and displays images\n",
    "- Extracts image properties (format, size, mode)\n",
    "- Resizes and crops images\n",
    "- Rotates and flips images\n",
    "- Converts images to grayscale\n",
    "- Implements a mini image editor (resize, crop, rotate, grayscale)"
   ]
  },
  {
   "cell_type": "code",
   "execution_count": null,
   "id": "0f4bee20-bc79-43df-a79a-150b6e7347c8",
   "metadata": {},
   "outputs": [],
   "source": []
  },
  {
   "cell_type": "code",
   "execution_count": null,
   "id": "7553613e-0d13-49f9-a49b-6e52d5547dd3",
   "metadata": {},
   "outputs": [],
   "source": []
  }
 ],
 "metadata": {
  "kernelspec": {
   "display_name": "Python 3 (ipykernel)",
   "language": "python",
   "name": "python3"
  },
  "language_info": {
   "codemirror_mode": {
    "name": "ipython",
    "version": 3
   },
   "file_extension": ".py",
   "mimetype": "text/x-python",
   "name": "python",
   "nbconvert_exporter": "python",
   "pygments_lexer": "ipython3",
   "version": "3.13.2"
  }
 },
 "nbformat": 4,
 "nbformat_minor": 5
}
