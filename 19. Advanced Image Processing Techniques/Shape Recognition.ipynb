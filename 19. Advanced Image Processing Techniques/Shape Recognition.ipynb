{
 "cells": [
  {
   "cell_type": "markdown",
   "id": "217f50f5-8e5f-47d1-8359-9280ca4e7d25",
   "metadata": {},
   "source": [
    "## Shape Recognition: Overview and Explanation\n",
    "### What is Shape Recognition?\n",
    "Shape recognition is an important computer vision technique used to detect and classify geometric shapes in an image. It is widely used in robotics, object detection, industrial automation, and pattern recognition.\n",
    "\n",
    "#### How It Works:\n",
    "\n",
    "1. Convert the image to grayscale.\n",
    "\n",
    "2. Apply thresholding to create a binary image.\n",
    "\n",
    "3. Detect contours in the image.\n",
    "\n",
    "4. Approximate each contour’s shape using polygonal curve approximation.\n",
    "\n",
    "5. Classify shapes based on the number of sides and aspect ratio (for quadrilaterals).\n",
    "\n",
    "6. Draw bounding boxes and label shapes on the image.\n",
    "\n",
    "Common Applications: ✔ Identifying geometric objects\n",
    "✔ Detecting traffic signs in autonomous vehicles\n",
    "✔ Industrial quality control\n",
    "✔ Optical character recognition (OCR)"
   ]
  },
  {
   "cell_type": "markdown",
   "id": "6e494924",
   "metadata": {},
   "source": [
    "### 1. Importing Required Libraries"
   ]
  },
  {
   "cell_type": "code",
   "execution_count": 75,
   "id": "f072ad91-a2ed-4b11-951c-f03357115a34",
   "metadata": {},
   "outputs": [],
   "source": [
    "import cv2 \n",
    "import numpy as np\n",
    "import matplotlib.pyplot as plt\n"
   ]
  },
  {
   "cell_type": "markdown",
   "id": "a3bce6ea",
   "metadata": {},
   "source": [
    "cv2 (OpenCV) → Used for image processing and shape detection.\n",
    "\n",
    "numpy → Handles mathematical operations.\n",
    "\n",
    "matplotlib.pyplot → Displays images."
   ]
  },
  {
   "cell_type": "markdown",
   "id": "cc75d632",
   "metadata": {},
   "source": [
    "### 2. Loading and Preprocessing the Image"
   ]
  },
  {
   "cell_type": "code",
   "execution_count": 67,
   "id": "e26da776-2f39-4d5f-b748-d7f92140eb9d",
   "metadata": {},
   "outputs": [],
   "source": [
    "image = cv2.imread(\"shapes1.png\")"
   ]
  },
  {
   "cell_type": "code",
   "execution_count": 68,
   "id": "872eadab-c820-42da-98df-998ea1bf554a",
   "metadata": {},
   "outputs": [],
   "source": [
    "gray = cv2.cvtColor(image, cv2.COLOR_BGR2GRAY)\n"
   ]
  },
  {
   "cell_type": "markdown",
   "id": "74fc4c48",
   "metadata": {},
   "source": [
    "#### Explanation:\n",
    "\n",
    "- cv2.imread(\"shapes1.png\") → Loads the image.\n",
    "\n",
    "- cv2.cvtColor(image, cv2.COLOR_BGR2GRAY) → Converts the image to grayscale to simplify processing.\n",
    "\n",
    "#### Why Convert to Grayscale?\n",
    "Grayscale images contain only intensity values (0 to 255), making it easier to detect edges and contours."
   ]
  },
  {
   "cell_type": "markdown",
   "id": "4e8a47e9",
   "metadata": {},
   "source": [
    "### 3. Applying Thresholding"
   ]
  },
  {
   "cell_type": "code",
   "execution_count": 69,
   "id": "4dcb057f-fcd8-4d43-b3c8-5440a74c9ce3",
   "metadata": {},
   "outputs": [],
   "source": [
    "_, threshold = cv2.threshold(gray, 127, 255, cv2.THRESH_BINARY)"
   ]
  },
  {
   "cell_type": "markdown",
   "id": "06590f76",
   "metadata": {},
   "source": [
    "#### Explanation:\n",
    "\n",
    "Thresholding converts the image into black (0) and white (255) regions.\n",
    "\n",
    "cv2.THRESH_BINARY → Pixels above 127 become white, others become black.\n",
    "\n",
    "#### Why Use Thresholding?\n",
    "It helps to separate objects from the background, making contours easier to detect."
   ]
  },
  {
   "cell_type": "markdown",
   "id": "f98ae3f3",
   "metadata": {},
   "source": [
    "### 4. Finding Contours"
   ]
  },
  {
   "cell_type": "code",
   "execution_count": 70,
   "id": "c8795935-daec-41cb-bd1a-52e32d1c17ed",
   "metadata": {},
   "outputs": [],
   "source": [
    "contours, _ = cv2.findContours(threshold, cv2.RETR_TREE, cv2.CHAIN_APPROX_SIMPLE)"
   ]
  },
  {
   "cell_type": "markdown",
   "id": "5d3ad4b1",
   "metadata": {},
   "source": [
    "#### Explanation:\n",
    "\n",
    "- cv2.findContours() → Finds object boundaries in the binary image.\n",
    "\n",
    "- cv2.RETR_TREE → Retrieves all contours in a hierarchical tree.\n",
    "\n",
    "- cv2.CHAIN_APPROX_SIMPLE → Compresses contour points to save memory."
   ]
  },
  {
   "cell_type": "markdown",
   "id": "598250b5",
   "metadata": {},
   "source": [
    "### 5. Iterating Through Each Contour\n"
   ]
  },
  {
   "cell_type": "code",
   "execution_count": null,
   "id": "32d9bd47",
   "metadata": {},
   "outputs": [],
   "source": [
    "for contour in contours:    \n",
    "    approx = cv2.approxPolyDP(contour, 0.02 * cv2.arcLength(contour, True), True)\n",
    "    num_sides = len(approx)\n",
    "    shape = \"unknown\"\n"
   ]
  },
  {
   "cell_type": "markdown",
   "id": "fa856abe",
   "metadata": {},
   "source": [
    "#### Explanation:\n",
    "\n",
    "cv2.approxPolyDP() → Approximates the contour shape by reducing the number of points.\n",
    "\n",
    "cv2.arcLength(contour, True) → Computes the perimeter of the contour.\n",
    "\n",
    "num_sides = len(approx) → Counts the number of sides in the approximated shape.\n",
    "\n",
    "#### Why Approximate Contours?\n",
    "This helps reduce the number of points to identify standard geometric shapes."
   ]
  },
  {
   "cell_type": "markdown",
   "id": "0cb28633",
   "metadata": {},
   "source": [
    "### 6. Calculating the Shape’s Center"
   ]
  },
  {
   "cell_type": "code",
   "execution_count": null,
   "id": "f0b65ec3",
   "metadata": {},
   "outputs": [],
   "source": [
    "M = cv2.moments(contour)\n",
    "if M[\"m00\"] != 0:\n",
    "    cx = int(M[\"m10\"] / M[\"m00\"])\n",
    "    cy = int(M[\"m01\"] / M[\"m00\"])\n",
    "else:\n",
    "    cx, cy = 0, 0\n"
   ]
  },
  {
   "cell_type": "markdown",
   "id": "d6709e93",
   "metadata": {},
   "source": [
    "#### Explanation:\n",
    "\n",
    "cv2.moments() → Calculates shape properties like area, centroid, and moments.\n",
    "\n",
    "cx, cy → Compute the center (centroid) of the shape for text labeling."
   ]
  },
  {
   "cell_type": "markdown",
   "id": "9284aba1",
   "metadata": {},
   "source": [
    "### 7. Classifying Shapes Based on Sides\n"
   ]
  },
  {
   "cell_type": "code",
   "execution_count": null,
   "id": "8d38d331",
   "metadata": {},
   "outputs": [],
   "source": [
    "if num_sides == 3:\n",
    "    shape = \"Triangle\"\n",
    "    color = (0, 255, 0)\n",
    "elif num_sides == 4:\n",
    "    x, y, w, h = cv2.boundingRect(approx)\n",
    "    aspect_ratio = float(w) / h\n",
    "    if 0.95 <= aspect_ratio <= 1.05:\n",
    "        shape = \"Square\"\n",
    "        color = (255, 0, 0)\n",
    "    else:\n",
    "        shape = \"Rectangle\"\n",
    "        color = (0, 255, 255)\n",
    "elif num_sides > 8:\n",
    "    shape = \"Circle\"\n",
    "    color = (255, 0, 255)\n"
   ]
  },
  {
   "cell_type": "markdown",
   "id": "50b32e2d",
   "metadata": {},
   "source": [
    "#### Explanation:\n",
    "```\n",
    "num_sides == 3 → Identifies triangles.\n",
    "\n",
    "num_sides == 4 → Identifies squares and rectangles based on aspect ratio.\n",
    "\n",
    "num_sides > 8 → Identifies circles (more sides = smoother shape).\n",
    "\n",
    " Why Check Aspect Ratio?\n",
    "\n",
    "Square → Aspect ratio ≈ 1\n",
    "\n",
    "Rectangle → Aspect ratio ≠ 1\n",
    "```"
   ]
  },
  {
   "cell_type": "markdown",
   "id": "6bb3dfda",
   "metadata": {},
   "source": [
    "### 8. Drawing the Contours and Labels"
   ]
  },
  {
   "cell_type": "code",
   "execution_count": null,
   "id": "c546bca1",
   "metadata": {},
   "outputs": [],
   "source": [
    "cv2.drawContours(image, [contour], 0, color, 3)\n",
    "cv2.putText(image, shape, (cx - 30, cy), cv2.FONT_HERSHEY_SIMPLEX, 0.6, (0, 0, 0), 2)\n"
   ]
  },
  {
   "cell_type": "markdown",
   "id": "086cd4ee",
   "metadata": {},
   "source": [
    "#### Explanation:\n",
    "\n",
    "cv2.drawContours() → Draws a shape outline with the assigned color.\n",
    "\n",
    "cv2.putText() → Adds a label to the detected shape."
   ]
  },
  {
   "cell_type": "markdown",
   "id": "8e8cb7d2",
   "metadata": {},
   "source": [
    "### 9. Displaying the Result"
   ]
  },
  {
   "cell_type": "code",
   "execution_count": 74,
   "id": "f1619a64-677e-4783-a3b2-52cd623f46a7",
   "metadata": {},
   "outputs": [],
   "source": [
    "cv2.imshow(\"shape detection\", image)\n",
    "cv2.waitKey(0)\n",
    "cv2.destroyAllWindows()"
   ]
  },
  {
   "cell_type": "code",
   "execution_count": 77,
   "id": "4b3279ac-6ad0-4e14-adb7-5cf5fee132a0",
   "metadata": {},
   "outputs": [
    {
     "data": {
      "image/png": "[encoded data removed]",
      "text/plain": [
       "<Figure size 640x480 with 1 Axes>"
      ]
     },
     "metadata": {},
     "output_type": "display_data"
    }
   ],
   "source": [
    "image = cv2.cvtColor(image, cv2.COLOR_BGR2RGB)\n",
    "plt.imshow(image)\n",
    "plt.axis('off')\n",
    "plt.show()"
   ]
  },
  {
   "cell_type": "markdown",
   "id": "8c602565",
   "metadata": {},
   "source": [
    "#### Explanation:\n",
    "```\n",
    "cv2.imshow() → Displays the image with detected shapes.\n",
    "\n",
    "cv2.waitKey(0) → Waits for a key press before closing the window.\n",
    "\n",
    "plt.imshow() → Displays the final image using Matplotlib.\n",
    "```"
   ]
  }
 ],
 "metadata": {
  "kernelspec": {
   "display_name": "Python 3 (ipykernel)",
   "language": "python",
   "name": "python3"
  },
  "language_info": {
   "codemirror_mode": {
    "name": "ipython",
    "version": 3
   },
   "file_extension": ".py",
   "mimetype": "text/x-python",
   "name": "python",
   "nbconvert_exporter": "python",
   "pygments_lexer": "ipython3",
   "version": "3.13.2"
  }
 },
 "nbformat": 4,
 "nbformat_minor": 5
}
