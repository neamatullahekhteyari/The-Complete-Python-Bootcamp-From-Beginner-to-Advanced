{
 "cells": [
  {
   "cell_type": "markdown",
   "metadata": {},
   "source": [
    "## Handling File Exceptions in Python\n",
    "### What is Exception Handling in File Operations?\n",
    "\n",
    "When working with files, various errors may occur. Exception handling helps us manage these errors gracefully instead of crashing the program.\n",
    "\n",
    "#### Common File Handling Errors:\n",
    "```\n",
    "Error Type\t        Cause\n",
    "\n",
    "FileNotFoundError\tFile does not exist.\n",
    "PermissionError  \tNo permission to access the file.\n",
    "IsADirectoryError\tTrying to open a directory as a file.\n",
    "IOError          \tGeneral input/output error.\n",
    "```"
   ]
  },
  {
   "cell_type": "markdown",
   "metadata": {},
   "source": [
    "### FileNotFoundError – When the File is Missing"
   ]
  },
  {
   "cell_type": "code",
   "execution_count": 50,
   "metadata": {
    "scrolled": true
   },
   "outputs": [
    {
     "ename": "FileNotFoundError",
     "evalue": "[Errno 2] No such file or directory: 'missing.txt'",
     "output_type": "error",
     "traceback": [
      "\u001b[1;31m---------------------------------------------------------------------------\u001b[0m",
      "\u001b[1;31mFileNotFoundError\u001b[0m                         Traceback (most recent call last)",
      "\u001b[1;32m<ipython-input-50-b33d26550e8c>\u001b[0m in \u001b[0;36m<module>\u001b[1;34m\u001b[0m\n\u001b[1;32m----> 1\u001b[1;33m \u001b[0mfile\u001b[0m \u001b[1;33m=\u001b[0m \u001b[0mopen\u001b[0m\u001b[1;33m(\u001b[0m\u001b[1;34m\"missing.txt\"\u001b[0m\u001b[1;33m,\u001b[0m \u001b[1;34m'r'\u001b[0m\u001b[1;33m)\u001b[0m\u001b[1;33m\u001b[0m\u001b[1;33m\u001b[0m\u001b[0m\n\u001b[0m",
      "\u001b[1;31mFileNotFoundError\u001b[0m: [Errno 2] No such file or directory: 'missing.txt'"
     ]
    }
   ],
   "source": [
    "file = open(\"missing.txt\", 'r')"
   ]
  },
  {
   "cell_type": "markdown",
   "metadata": {},
   "source": [
    "#### ✔ Explanation:\n",
    "\n",
    "Tries to open \"missing.txt\" in read mode (\"r\").\n",
    "\n",
    "If the file does not exist, Python raises an error:"
   ]
  },
  {
   "cell_type": "markdown",
   "metadata": {},
   "source": [
    "### Handling FileNotFoundError Using try-except"
   ]
  },
  {
   "cell_type": "code",
   "execution_count": 52,
   "metadata": {},
   "outputs": [
    {
     "name": "stdout",
     "output_type": "stream",
     "text": [
      "Error: the file does not exists!\n"
     ]
    }
   ],
   "source": [
    "try:\n",
    "    file = open(\"missing.txt\", 'r')\n",
    "    content = file.read()\n",
    "    print(content)\n",
    "    file.close()\n",
    "except FileNotFoundError:\n",
    "    print(\"Error: the file does not exists!\")"
   ]
  },
  {
   "cell_type": "markdown",
   "metadata": {},
   "source": [
    "#### ✔ Explanation:\n",
    "\n",
    "try block: Attempts to open \"missing.txt\".\n",
    "\n",
    "except block: If FileNotFoundError occurs, prints \"Error: The file does not exist!\" instead of crashing."
   ]
  },
  {
   "cell_type": "markdown",
   "metadata": {},
   "source": [
    "### Checking If a File Exists Before Opening It"
   ]
  },
  {
   "cell_type": "code",
   "execution_count": 55,
   "metadata": {},
   "outputs": [
    {
     "name": "stdout",
     "output_type": "stream",
     "text": [
      "the file does not exist!\n"
     ]
    }
   ],
   "source": [
    "import os\n",
    "\n",
    "file_name = 'missing.txt'\n",
    "if os.path.exists(file_name):\n",
    "    with open(file_name, 'r') as file:\n",
    "        content = file.read()\n",
    "        print(content)\n",
    "else:\n",
    "    print(\"the file does not exist!\")"
   ]
  },
  {
   "cell_type": "markdown",
   "metadata": {},
   "source": [
    "#### ✔ Explanation:\n",
    "\n",
    "Uses os.path.exists(file_name) to check if the file exists.\n",
    "\n",
    "If it exists, it opens the file safely using with open().\n",
    "\n",
    "If not, it prints \"The file does not exist!\"."
   ]
  },
  {
   "cell_type": "markdown",
   "metadata": {},
   "source": [
    "### Summary\n",
    "```\n",
    "✔ File exceptions occur when a file is missing or inaccessible.\n",
    "✔ try-except prevents the program from crashing.\n",
    "✔ os.path.exists() helps check if a file exists before opening it.\n",
    "✔ Always close files after use (or use with open() for safety).\n",
    "```"
   ]
  }
 ],
 "metadata": {
  "kernelspec": {
   "display_name": "Python 3 (ipykernel)",
   "language": "python",
   "name": "python3"
  },
  "language_info": {
   "codemirror_mode": {
    "name": "ipython",
    "version": 3
   },
   "file_extension": ".py",
   "mimetype": "text/x-python",
   "name": "python",
   "nbconvert_exporter": "python",
   "pygments_lexer": "ipython3",
   "version": "3.13.2"
  }
 },
 "nbformat": 4,
 "nbformat_minor": 2
}
