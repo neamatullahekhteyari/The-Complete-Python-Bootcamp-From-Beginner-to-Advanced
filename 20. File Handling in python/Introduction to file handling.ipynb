{
 "cells": [
  {
   "cell_type": "markdown",
   "metadata": {},
   "source": [
    "## Introduction to File Handling\n",
    "\n",
    "1. what is file handling ?\n",
    "2. types of files:\n",
    "    1. text files\n",
    "    2. binary files\n",
    "3. file paths and directories\n"
   ]
  },
  {
   "cell_type": "markdown",
   "metadata": {},
   "source": [
    "#### What is File Handling?\n",
    "```\n",
    "File handling in Python allows us to create, read, write, and manage files stored on a computer. It is useful for:\n",
    "✔ Storing and retrieving data.\n",
    "✔ Logging information.\n",
    "✔ Processing large datasets.\n",
    "✔ Working with structured and unstructured data.\n",
    "```\n",
    "\n",
    "### Types of Files\n",
    "There are two main types of files:\n",
    "#### Text Files\n",
    "#### Binary Files\n",
    "\n",
    "#### Text Files\n",
    "Text files store data in human-readable format using characters (letters, numbers, symbols, etc.). They can be opened using a text editor like Notepad.\n",
    "\n",
    "#### Common Text File Formats:\n",
    "```\n",
    "Extension\tUsage\n",
    ".txt\tNotes, logs, simple messages\n",
    ".csv\tSpreadsheet (comma-separated values)\n",
    ".json\tStructured data storage\n",
    ".xml\tMarkup language data\n",
    "```\n",
    "\n",
    "### Binary Files\n",
    "Binary files store data in machine-readable format. They contain 1s and 0s, which cannot be read directly by humans.\n",
    "\n",
    "#### Common Binary File Formats:\n",
    "```\n",
    "Extension\tUsage\n",
    ".jpg, .png\tImage files\n",
    ".mp4, .mp3\tVideo & audio files\n",
    ".exe\tSoftware & executable programs\n",
    ".zip\tCompressed files\n",
    "```\n",
    "### File Paths and Directories\n",
    "A file path specifies the location of a file in a system. There are two types of file paths:\n",
    "\n",
    "### Absolute Path\n",
    "Provides the full location of a file starting from the root directory.\n",
    "```\n",
    "Example:\n",
    "\n",
    "Windows: C:/Users/John/Documents/report.txt\n",
    "\n",
    "Linux/macOS: /home/john/Documents/report.txt\n",
    "```\n",
    "\n",
    "### Relative Path\n",
    "Specifies the file location relative to the current working directory.\n",
    "```\n",
    "Example:\n",
    "\n",
    "./report.txt (The file is in the current directory)\n",
    "\n",
    "../data/sample.csv (The file is in the parent directory)\n",
    "```"
   ]
  },
  {
   "cell_type": "code",
   "execution_count": 1,
   "metadata": {},
   "outputs": [
    {
     "ename": "SyntaxError",
     "evalue": "invalid syntax (<ipython-input-1-27583f3bb697>, line 1)",
     "output_type": "error",
     "traceback": [
      "\u001b[1;36m  File \u001b[1;32m\"<ipython-input-1-27583f3bb697>\"\u001b[1;36m, line \u001b[1;32m1\u001b[0m\n\u001b[1;33m    1. text:\u001b[0m\n\u001b[1;37m          ^\u001b[0m\n\u001b[1;31mSyntaxError\u001b[0m\u001b[1;31m:\u001b[0m invalid syntax\n"
     ]
    }
   ],
   "source": [
    "1. text:    \n",
    "    .txt - notes logs simple messages\n",
    "    .csv - spreadsheet \n",
    "2. binary file:\n",
    "    .jpg, .png - images\n",
    "    .mp4, .mp3 - video & audio\n",
    "    .exe - software \n",
    "    "
   ]
  },
  {
   "cell_type": "code",
   "execution_count": 2,
   "metadata": {},
   "outputs": [
    {
     "ename": "SyntaxError",
     "evalue": "invalid syntax (<ipython-input-2-9084e5e09af2>, line 1)",
     "output_type": "error",
     "traceback": [
      "\u001b[1;36m  File \u001b[1;32m\"<ipython-input-2-9084e5e09af2>\"\u001b[1;36m, line \u001b[1;32m1\u001b[0m\n\u001b[1;33m    file path:\u001b[0m\n\u001b[1;37m            ^\u001b[0m\n\u001b[1;31mSyntaxError\u001b[0m\u001b[1;31m:\u001b[0m invalid syntax\n"
     ]
    }
   ],
   "source": [
    "file path:\n",
    "    1. absolute path: \n",
    "        windows: C:/Users/John/Documents/report.txt\n",
    "        linux: /home/john/Documents/report.txt\n",
    "    2. relative path: ./report.txt"
   ]
  },
  {
   "cell_type": "markdown",
   "metadata": {},
   "source": [
    "### Checking the Current Directory in Python\n",
    "We can check our current working directory using the os module."
   ]
  },
  {
   "cell_type": "code",
   "execution_count": 4,
   "metadata": {},
   "outputs": [
    {
     "name": "stdout",
     "output_type": "stream",
     "text": [
      "current directory:  C:\\Users\\Semiculon\\Documents\\python  mastery\\Python Files\\file handling\n"
     ]
    }
   ],
   "source": [
    "import os\n",
    "\n",
    "print(\"current directory: \", os.getcwd())"
   ]
  },
  {
   "cell_type": "markdown",
   "metadata": {},
   "source": [
    "### Summary\n",
    "```\n",
    "✔ File Handling enables reading, writing, and managing files in Python.\n",
    "✔ Text files store human-readable data (.txt, .csv, .json).\n",
    "✔ Binary files store non-readable machine data (.jpg, .mp3, .exe).\n",
    "✔ Absolute paths give the full file location.\n",
    "✔ Relative paths locate files based on the current working directory.\n",
    "```"
   ]
  }
 ],
 "metadata": {
  "kernelspec": {
   "display_name": "Python 3 (ipykernel)",
   "language": "python",
   "name": "python3"
  },
  "language_info": {
   "codemirror_mode": {
    "name": "ipython",
    "version": 3
   },
   "file_extension": ".py",
   "mimetype": "text/x-python",
   "name": "python",
   "nbconvert_exporter": "python",
   "pygments_lexer": "ipython3",
   "version": "3.13.2"
  }
 },
 "nbformat": 4,
 "nbformat_minor": 2
}
