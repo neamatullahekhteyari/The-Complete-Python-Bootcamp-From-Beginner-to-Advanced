{
 "cells": [
  {
   "cell_type": "markdown",
   "metadata": {},
   "source": [
    "## Working with Binary Files in Python\n",
    "### What are Binary Files?\n",
    "Binary files store data in a format that is not human-readable but can be processed by computers efficiently. Unlike text files, which store characters, binary files store raw bytes. These files are commonly used for:\n",
    "```\n",
    "- Images (.jpg, .png)\n",
    "- Audio & Video (.mp3, .mp4)\n",
    "- Software & Executables (.exe, .bin)\n",
    "- Serialized Data (using Python’s pickle module)\n",
    "```"
   ]
  },
  {
   "cell_type": "markdown",
   "metadata": {},
   "source": [
    "#### we will learn:\n",
    "    1. read and write binary files\n",
    "    2. work with image, audio, video\n",
    "    3. serialize and deserialize\n",
    "    "
   ]
  },
  {
   "cell_type": "markdown",
   "metadata": {},
   "source": [
    "### Reading a Binary File"
   ]
  },
  {
   "cell_type": "code",
   "execution_count": 74,
   "metadata": {},
   "outputs": [
    {
     "name": "stdout",
     "output_type": "stream",
     "text": [
      "<class 'bytes'>\n"
     ]
    }
   ],
   "source": [
    "with open('pc.jpg', 'rb') as file:\n",
    "    binary_data = file.read()\n",
    "    \n",
    "print(type(binary_data))"
   ]
  },
  {
   "cell_type": "markdown",
   "metadata": {},
   "source": [
    "#### Explanation:\n",
    "```\n",
    "- open('pc.jpg', 'rb') → Opens the image file in read binary (rb) mode.\n",
    "\n",
    "- file.read() → Reads the entire file content as bytes.\n",
    "\n",
    "- print(type(binary_data)) → Outputs <class 'bytes'>, confirming that binary data is read.\n",
    "```"
   ]
  },
  {
   "cell_type": "markdown",
   "metadata": {},
   "source": [
    "### Copying an Image File (Binary File Handling)"
   ]
  },
  {
   "cell_type": "code",
   "execution_count": 75,
   "metadata": {},
   "outputs": [
    {
     "name": "stdout",
     "output_type": "stream",
     "text": [
      "image copied successfully\n"
     ]
    }
   ],
   "source": [
    "with open(\"pc.jpg\", 'rb') as source_file:\n",
    "    binary_data = source_file.read()\n",
    "    \n",
    "with open('copy.jpg', 'wb') as dest_file:\n",
    "    dest_file.write(binary_data)\n",
    "    \n",
    "print(\"image copied successfully\")"
   ]
  },
  {
   "cell_type": "markdown",
   "metadata": {},
   "source": [
    "#### Explanation:\n",
    "```\n",
    "Step 1: Reads the binary content of pc.jpg.\n",
    "\n",
    "Step 2: Opens a new file copy.jpg in write binary (wb) mode.\n",
    "\n",
    "Step 3: Writes the binary content into copy.jpg.\n",
    "\n",
    "Final Step: Prints confirmation message.\n",
    "```"
   ]
  },
  {
   "cell_type": "markdown",
   "metadata": {},
   "source": [
    "### Copying an Audio File (MP3)"
   ]
  },
  {
   "cell_type": "code",
   "execution_count": 76,
   "metadata": {},
   "outputs": [
    {
     "name": "stdout",
     "output_type": "stream",
     "text": [
      "audio file copied successfully!\n"
     ]
    }
   ],
   "source": [
    "with open(\"music.mp3\", 'rb') as source_file:\n",
    "    audio_data = source_file.read()\n",
    "    \n",
    "with open(\"copy.mp3\", 'wb') as dest_file:\n",
    "    dest_file.write(audio_data)\n",
    "    \n",
    "print(\"audio file copied successfully!\")"
   ]
  },
  {
   "cell_type": "markdown",
   "metadata": {},
   "source": [
    "#### Explanation:\n",
    "```\n",
    "Opens music.mp3 in read-binary (rb) mode and reads its content.\n",
    "\n",
    "Creates a new file copy.mp3 and writes the data in write-binary (wb) mode.\n",
    "\n",
    "Successfully copies an MP3 file.\n",
    "```"
   ]
  },
  {
   "cell_type": "markdown",
   "metadata": {},
   "source": [
    "### Serializing and Saving Objects using pickle"
   ]
  },
  {
   "cell_type": "code",
   "execution_count": 77,
   "metadata": {},
   "outputs": [
    {
     "name": "stdout",
     "output_type": "stream",
     "text": [
      "object saved!\n"
     ]
    }
   ],
   "source": [
    "import pickle\n",
    "\n",
    "data = {\"name\": \"Neamatullah\", \"age\": 25, \"city\": \"India\"}\n",
    "\n",
    "with open(\"data.pkl\", 'wb') as file:\n",
    "    pickle.dump(data, file)\n",
    "\n",
    "print(\"object saved!\")\n"
   ]
  },
  {
   "cell_type": "markdown",
   "metadata": {},
   "source": [
    "#### Explanation:\n",
    "```\n",
    "pickle.dump(data, file) → Converts the Python dictionary (data) into binary format and saves it to data.pkl.\n",
    "\n",
    "wb mode ensures the file is written in binary.\n",
    "\n",
    "Used for saving structured data efficiently.\n",
    "```"
   ]
  },
  {
   "cell_type": "markdown",
   "metadata": {},
   "source": [
    "### Deserializing and Loading Objects using pickle"
   ]
  },
  {
   "cell_type": "code",
   "execution_count": 78,
   "metadata": {},
   "outputs": [
    {
     "name": "stdout",
     "output_type": "stream",
     "text": [
      "{'name': 'Neamatullah', 'age': 25, 'city': 'India'}\n"
     ]
    }
   ],
   "source": [
    "import pickle\n",
    "\n",
    "with open(\"data.pkl\", 'rb') as file:\n",
    "    loaded_data = pickle.load(file)\n",
    "    \n",
    "print(loaded_data)"
   ]
  },
  {
   "cell_type": "markdown",
   "metadata": {},
   "source": [
    "#### Explanation:\n",
    "```\n",
    "pickle.load(file) → Reads and converts the binary data back into a Python dictionary.\n",
    "\n",
    "Used for loading saved Python objects.\n",
    "```"
   ]
  },
  {
   "cell_type": "markdown",
   "metadata": {},
   "source": [
    "### Summary\n",
    "<table border=\"1\">\n",
    "    <tr>\n",
    "        <th>Task</th>\n",
    "        <th>Code Used</th>\n",
    "        <th>Purpose</th>\n",
    "    </tr>\n",
    "    <tr>\n",
    "        <td>Read Binary File</td>\n",
    "        <td><code>file.read()</code></td>\n",
    "        <td>Reads raw bytes from a binary file</td>\n",
    "    </tr>\n",
    "    <tr>\n",
    "        <td>Write Binary File</td>\n",
    "        <td><code>file.write()</code></td>\n",
    "        <td>Writes binary data to a file</td>\n",
    "    </tr>\n",
    "    <tr>\n",
    "        <td>Copy Image</td>\n",
    "        <td><code>with open('file.jpg', 'rb')</code></td>\n",
    "        <td>Reads and writes image files</td>\n",
    "    </tr>\n",
    "    <tr>\n",
    "        <td>Copy Audio</td>\n",
    "        <td><code>with open('file.mp3', 'rb')</code></td>\n",
    "        <td>Reads and writes audio files</td>\n",
    "    </tr>\n",
    "    <tr>\n",
    "        <td>Serialize Data</td>\n",
    "        <td><code>pickle.dump(data, file)</code></td>\n",
    "        <td>Saves Python objects in binary form</td>\n",
    "    </tr>\n",
    "    <tr>\n",
    "        <td>Deserialize Data</td>\n",
    "        <td><code>pickle.load(file)</code></td>\n",
    "        <td>Loads saved objects back to Python</td>\n",
    "    </tr>\n",
    "</table>\n"
   ]
  }
 ],
 "metadata": {
  "kernelspec": {
   "display_name": "Python 3 (ipykernel)",
   "language": "python",
   "name": "python3"
  },
  "language_info": {
   "codemirror_mode": {
    "name": "ipython",
    "version": 3
   },
   "file_extension": ".py",
   "mimetype": "text/x-python",
   "name": "python",
   "nbconvert_exporter": "python",
   "pygments_lexer": "ipython3",
   "version": "3.13.2"
  }
 },
 "nbformat": 4,
 "nbformat_minor": 2
}
