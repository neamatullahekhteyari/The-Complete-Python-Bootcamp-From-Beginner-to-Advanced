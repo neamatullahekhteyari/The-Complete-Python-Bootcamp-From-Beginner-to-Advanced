{
 "cells": [
  {
   "cell_type": "markdown",
   "metadata": {},
   "source": [
    "## Working with JSON Files in Python\n",
    "### What is JSON?\n",
    "JSON (JavaScript Object Notation) is a lightweight data-interchange format that is human-readable and easily parsed by machines. It is commonly used for storing and transferring data between applications, especially in web APIs and databases.`\n"
   ]
  },
  {
   "cell_type": "markdown",
   "metadata": {},
   "source": [
    "#### we will learn:\n",
    "    1. read json data from a file\n",
    "    2. write a json data to a file\n",
    "    3. convert python objects to JSON\n",
    "    4. convert python objects to JSON format"
   ]
  },
  {
   "cell_type": "code",
   "execution_count": null,
   "metadata": {},
   "outputs": [],
   "source": [
    " Example JSON Data Format:\n",
    "{\n",
    "    \"name\": \"John\",\n",
    "    \"age\": 25,\n",
    "    \"city\": \"New York\",\n",
    "    \"is_student\": false\n",
    "}\n",
    "        "
   ]
  },
  {
   "cell_type": "markdown",
   "metadata": {},
   "source": [
    "#### ✔ JSON Structure:\n",
    "```\n",
    "Key-Value Pairs: Similar to Python dictionaries.\n",
    "\n",
    "Strings: Written in double quotes \"\".\n",
    "\n",
    "Numbers: Can be integers or floats.\n",
    "\n",
    "Boolean: true or false.\n",
    "\n",
    "Null: Represented as null.\n",
    "```"
   ]
  },
  {
   "cell_type": "markdown",
   "metadata": {},
   "source": [
    "### Reading JSON Data from a File"
   ]
  },
  {
   "cell_type": "code",
   "execution_count": 60,
   "metadata": {},
   "outputs": [
    {
     "name": "stdout",
     "output_type": "stream",
     "text": [
      "{'name': 'Alice', 'age': 25, 'city': 'New York', 'is_student': False}\n",
      "<class 'dict'>\n",
      "New York\n"
     ]
    }
   ],
   "source": [
    "import json\n",
    "\n",
    "with open('sample.json', 'r') as file:\n",
    "    data = json.load(file)\n",
    "\n",
    "print(data)\n",
    "print(type(data))\n",
    "print(data['city'])"
   ]
  },
  {
   "cell_type": "markdown",
   "metadata": {},
   "source": [
    "#### ✔ Explanation:\n",
    "```\n",
    "json.load(file): Loads JSON data from file and converts it into a Python dictionary.\n",
    "\n",
    "data['city']: Retrieves the value of the \"city\" key.\n",
    "```"
   ]
  },
  {
   "cell_type": "markdown",
   "metadata": {},
   "source": [
    "### Writing JSON Data to a File"
   ]
  },
  {
   "cell_type": "code",
   "execution_count": 62,
   "metadata": {},
   "outputs": [
    {
     "name": "stdout",
     "output_type": "stream",
     "text": [
      "Data successfully save to sample.json\n"
     ]
    }
   ],
   "source": [
    "import json\n",
    "\n",
    "data = {\n",
    "    \"name\": \"Neamatullah\",\n",
    "    \"age\": 25,\n",
    "    \"city\": \"new York\"\n",
    "}\n",
    "\n",
    "\n",
    "with open('sample.json',  'w') as file:\n",
    "    json.dump(data, file, indent=4)\n",
    "    \n",
    "print(\"Data successfully save to sample.json\")"
   ]
  },
  {
   "cell_type": "markdown",
   "metadata": {},
   "source": [
    "### ✔ Explanation:\n",
    "```\n",
    "json.dump(data, file, indent=4): Converts Python dictionary to JSON format and writes it to a file.\n",
    "\n",
    "indent=4: Adds indentation for better readability.\n",
    "```"
   ]
  },
  {
   "cell_type": "markdown",
   "metadata": {},
   "source": [
    "### Converting Python Objects to JSON (String Representation)"
   ]
  },
  {
   "cell_type": "code",
   "execution_count": 65,
   "metadata": {},
   "outputs": [
    {
     "name": "stdout",
     "output_type": "stream",
     "text": [
      "{'name': 'Ali', 'age': 45, 'city': 'india'}\n",
      "{\n",
      "    \"name\": \"Ali\",\n",
      "    \"age\": 45,\n",
      "    \"city\": \"india\"\n",
      "}\n",
      "<class 'dict'>\n"
     ]
    }
   ],
   "source": [
    "import json\n",
    "\n",
    "data = {'name': 'Ali', 'age': 45, 'city': \"india\"}\n",
    "print(data)\n",
    "json_string = json.dumps(data, indent=4)\n",
    "print(json_string)\n",
    "print(type(data))"
   ]
  },
  {
   "cell_type": "markdown",
   "metadata": {},
   "source": [
    "#### Explanation:\n",
    "\n",
    "json.dumps(data, indent=4): Converts a Python dictionary into a JSON string."
   ]
  },
  {
   "cell_type": "markdown",
   "metadata": {},
   "source": [
    "### Converting JSON String to Python Object"
   ]
  },
  {
   "cell_type": "code",
   "execution_count": 70,
   "metadata": {},
   "outputs": [
    {
     "name": "stdout",
     "output_type": "stream",
     "text": [
      "<class 'dict'>\n",
      "{'name': 'ali', 'age': 24}\n"
     ]
    }
   ],
   "source": [
    "import json\n",
    "\n",
    "json_string = '{\"name\": \"ali\", \"age\":24}'\n",
    "\n",
    "data = json.loads(json_string)\n",
    "\n",
    "print(type(data))\n",
    "print(data)"
   ]
  },
  {
   "cell_type": "markdown",
   "metadata": {},
   "source": [
    "####  Explanation:\n",
    "\n",
    "json.loads(json_string): Converts a JSON string into a Python dictionary."
   ]
  },
  {
   "cell_type": "markdown",
   "metadata": {},
   "source": [
    "### Key Differences Between json.load() and json.loads()\n",
    "<table border=\"1\">\n",
    "    <tr>\n",
    "        <th>Method</th>\n",
    "        <th>Purpose</th>\n",
    "        <th>Input</th>\n",
    "        <th>Output</th>\n",
    "    </tr>\n",
    "    <tr>\n",
    "        <td><code>json.load()</code></td>\n",
    "        <td>Read JSON data from a file</td>\n",
    "        <td>File object</td>\n",
    "        <td>Python object (dict, list, etc.)</td>\n",
    "    </tr>\n",
    "    <tr>\n",
    "        <td><code>json.loads()</code></td>\n",
    "        <td>Convert JSON string to Python object</td>\n",
    "        <td>JSON string</td>\n",
    "        <td>Python object (dict, list, etc.)</td>\n",
    "    </tr>\n",
    "</table>\n"
   ]
  },
  {
   "cell_type": "code",
   "execution_count": null,
   "metadata": {},
   "outputs": [],
   "source": [
    "json.loads()     json.load()"
   ]
  },
  {
   "cell_type": "markdown",
   "metadata": {},
   "source": [
    "### Summary\n",
    "```\n",
    "✔ JSON is widely used for storing and exchanging data.\n",
    "✔ json.load() reads JSON from a file, while json.loads() parses JSON from a string.\n",
    "✔ json.dump() writes JSON to a file, while json.dumps() converts Python objects to JSON strings.\n",
    "✔ JSON is similar to Python dictionaries but follows stricter formatting rules.\n",
    "```"
   ]
  }
 ],
 "metadata": {
  "kernelspec": {
   "display_name": "Python 3 (ipykernel)",
   "language": "python",
   "name": "python3"
  },
  "language_info": {
   "codemirror_mode": {
    "name": "ipython",
    "version": 3
   },
   "file_extension": ".py",
   "mimetype": "text/x-python",
   "name": "python",
   "nbconvert_exporter": "python",
   "pygments_lexer": "ipython3",
   "version": "3.13.2"
  }
 },
 "nbformat": 4,
 "nbformat_minor": 2
}
