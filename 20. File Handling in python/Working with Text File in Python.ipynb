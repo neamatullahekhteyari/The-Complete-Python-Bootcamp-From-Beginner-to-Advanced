{
 "cells": [
  {
   "cell_type": "markdown",
   "metadata": {},
   "source": [
    "## Working with Text Files in Python\n",
    "###  What is a Text File?\n",
    "A text file is a simple file that contains human-readable characters. It can store plain text data and can be opened using any text editor like Notepad, VS Code, or a terminal.\n",
    "\n",
    "✔ Text files are used for:\n",
    "```\n",
    "- Storing and retrieving information.\n",
    "\n",
    "- Logging data.\n",
    "\n",
    "- Configurations (e.g., .ini, .json).\n",
    "\n",
    "- Data exchange (e.g., .csv, .xml).\n",
    "```\n",
    "### File Handling in Python\n",
    "Python provides built-in functions to work with files efficiently.\n",
    "\n",
    "### File Modes:\n",
    "```\n",
    "Mode\tDescription\n",
    "\"r\"\tRead mode (default)\n",
    "\"w\"\tWrite mode (overwrites existing data)\n",
    "\"a\"\tAppend mode (adds data without overwriting)\n",
    "\"x\"\tExclusive mode (creates a new file, fails if file exists)\n",
    "\"b\"\tBinary mode (for non-text files like images)\n",
    "```\n",
    "\n"
   ]
  },
  {
   "cell_type": "markdown",
   "metadata": {},
   "source": [
    "### Reading a File in Python"
   ]
  },
  {
   "cell_type": "code",
   "execution_count": 24,
   "metadata": {},
   "outputs": [
    {
     "name": "stdout",
     "output_type": "stream",
     "text": [
      "Hello, Python!\n"
     ]
    }
   ],
   "source": [
    "file = open(\"sample.txt\", \"r\")\n",
    "for f in file:\n",
    "    print(f)\n",
    "file.close()\n",
    "\n",
    "# r :reading\n",
    "# w write mode\n",
    "# a: append mode\n",
    "# x : exclusive mode\n",
    "# b: binary mode"
   ]
  },
  {
   "cell_type": "markdown",
   "metadata": {},
   "source": [
    "#### ✔ Explanation:\n",
    "```\n",
    "Opens \"sample.txt\" in read mode (\"r\").\n",
    "\n",
    "Reads the file line by line using a for loop.\n",
    "\n",
    "Closes the file after reading to free up resources.\n",
    "```"
   ]
  },
  {
   "cell_type": "markdown",
   "metadata": {},
   "source": [
    "### Writing to a File in Python"
   ]
  },
  {
   "cell_type": "code",
   "execution_count": 23,
   "metadata": {},
   "outputs": [],
   "source": [
    "file = open(\"sample.txt\", \"w\")  # Open file in write mode\n",
    "file.write(\"Hello, Python!\")  # Write a single line\n",
    "file.close()  # Close the file\n"
   ]
  },
  {
   "cell_type": "code",
   "execution_count": null,
   "metadata": {},
   "outputs": [],
   "source": [
    "# read()\n",
    "# readline()\n",
    "# readlines()"
   ]
  },
  {
   "cell_type": "markdown",
   "metadata": {},
   "source": [
    "#### ✔ Explanation:\n",
    "```\n",
    "Opens \"sample.txt\" in write mode (\"w\").\n",
    "\n",
    "Writes \"Hello, Python!\" to the file.\n",
    "\n",
    "If the file already exists, it overwrites the content.\n",
    "\n",
    "Closes the file after writing.\n",
    "```\n"
   ]
  },
  {
   "cell_type": "markdown",
   "metadata": {},
   "source": [
    "### Reading a File Using Different Methods\n"
   ]
  },
  {
   "cell_type": "code",
   "execution_count": 48,
   "metadata": {},
   "outputs": [
    {
     "name": "stdout",
     "output_type": "stream",
     "text": [
      "['python is fun!\\n', \" let's learn file handling.\\n\"]\n"
     ]
    }
   ],
   "source": [
    "file = open(\"sample.txt\", 'r')\n",
    "content = file.readlines()\n",
    "print(content)\n",
    "file.close()"
   ]
  },
  {
   "cell_type": "markdown",
   "metadata": {},
   "source": [
    "#### ✔ Explanation:\n",
    "```\n",
    ".read() → Reads the entire file as a string.\n",
    "\n",
    ".readline() → Reads a single line from the file.\n",
    "\n",
    ".readlines() → Reads all lines and returns a list.\n",
    "```"
   ]
  },
  {
   "cell_type": "markdown",
   "metadata": {},
   "source": [
    "### Writing Multiple Lines to a File\n"
   ]
  },
  {
   "cell_type": "code",
   "execution_count": 46,
   "metadata": {},
   "outputs": [],
   "source": [
    "file = open(\"sample.txt\", 'w')\n",
    "file.write(\"Hello, students\\n\")\n",
    "file.close()"
   ]
  },
  {
   "cell_type": "markdown",
   "metadata": {},
   "source": [
    "#### ✔ Explanation:\n",
    "```\n",
    "Opens \"sample.txt\" in write mode (\"w\").\n",
    "\n",
    "Writes \"Hello, students\" followed by a new line \\n.\n",
    "```"
   ]
  },
  {
   "cell_type": "markdown",
   "metadata": {},
   "source": [
    "### Writing Multiple Lines Using .writelines()"
   ]
  },
  {
   "cell_type": "code",
   "execution_count": 47,
   "metadata": {},
   "outputs": [],
   "source": [
    "file  = open('sample.txt', 'w')\n",
    "lines = [\"python is fun!\\n \",\"let's learn file handling.\\n\"]\n",
    "file.writelines(lines)\n",
    "file.close()"
   ]
  },
  {
   "cell_type": "markdown",
   "metadata": {},
   "source": [
    "####  Explanation:\n",
    "\n",
    ".writelines() writes a list of strings to the file without adding new lines automatically."
   ]
  },
  {
   "cell_type": "markdown",
   "metadata": {},
   "source": [
    "### Using with open() for Safe File Handling"
   ]
  },
  {
   "cell_type": "code",
   "execution_count": 49,
   "metadata": {},
   "outputs": [
    {
     "name": "stdout",
     "output_type": "stream",
     "text": [
      "python is fun!\n",
      " let's learn file handling.\n",
      "\n"
     ]
    }
   ],
   "source": [
    "with open('sample.txt', 'r') as file:\n",
    "    content = file.read()\n",
    "    print(content)"
   ]
  },
  {
   "cell_type": "markdown",
   "metadata": {},
   "source": [
    "#### ✔ Why use with open()?\n",
    "```\n",
    "Automatically closes the file after reading/writing.\n",
    "\n",
    "Prevents resource leaks and errors.\n",
    "```"
   ]
  },
  {
   "cell_type": "markdown",
   "metadata": {},
   "source": [
    "### Summary\n",
    "```\n",
    "✔ Text files store readable text data.\n",
    "✔ Python supports reading (\"r\"), writing (\"w\"), and appending (\"a\").\n",
    "✔ .read(), .readline(), and .readlines() allow different ways to read files.\n",
    "✔ .write() and .writelines() help write data into files.\n",
    "✔ with open() is the best practice for handling files safely.\n",
    "```"
   ]
  },
  {
   "cell_type": "markdown",
   "metadata": {},
   "source": [
    "## Handling File Exceptions in Python"
   ]
  },
  {
   "cell_type": "code",
   "execution_count": 50,
   "metadata": {},
   "outputs": [
    {
     "ename": "FileNotFoundError",
     "evalue": "[Errno 2] No such file or directory: 'missing.txt'",
     "output_type": "error",
     "traceback": [
      "\u001b[1;31m---------------------------------------------------------------------------\u001b[0m",
      "\u001b[1;31mFileNotFoundError\u001b[0m                         Traceback (most recent call last)",
      "\u001b[1;32m<ipython-input-50-b33d26550e8c>\u001b[0m in \u001b[0;36m<module>\u001b[1;34m\u001b[0m\n\u001b[1;32m----> 1\u001b[1;33m \u001b[0mfile\u001b[0m \u001b[1;33m=\u001b[0m \u001b[0mopen\u001b[0m\u001b[1;33m(\u001b[0m\u001b[1;34m\"missing.txt\"\u001b[0m\u001b[1;33m,\u001b[0m \u001b[1;34m'r'\u001b[0m\u001b[1;33m)\u001b[0m\u001b[1;33m\u001b[0m\u001b[1;33m\u001b[0m\u001b[0m\n\u001b[0m",
      "\u001b[1;31mFileNotFoundError\u001b[0m: [Errno 2] No such file or directory: 'missing.txt'"
     ]
    }
   ],
   "source": [
    "file = open(\"missing.txt\", 'r')"
   ]
  },
  {
   "cell_type": "code",
   "execution_count": 52,
   "metadata": {},
   "outputs": [
    {
     "name": "stdout",
     "output_type": "stream",
     "text": [
      "Error: the file does not exists!\n"
     ]
    }
   ],
   "source": [
    "try:\n",
    "    file = open(\"missing.txt\", 'r')\n",
    "    content = file.read()\n",
    "    print(content)\n",
    "    file.close()\n",
    "except FileNotFoundError:\n",
    "    print(\"Error: the file does not exists!\")"
   ]
  },
  {
   "cell_type": "code",
   "execution_count": 55,
   "metadata": {},
   "outputs": [
    {
     "name": "stdout",
     "output_type": "stream",
     "text": [
      "the file does not exist!\n"
     ]
    }
   ],
   "source": [
    "import os\n",
    "\n",
    "file_name = 'missing.txt'\n",
    "if os.path.exists(file_name):\n",
    "    with open(file_name, 'r') as file:\n",
    "        content = file.read()\n",
    "        print(content)\n",
    "else:\n",
    "    print(\"the file does not exist!\")"
   ]
  },
  {
   "cell_type": "markdown",
   "metadata": {},
   "source": [
    "## Working with JSON Files in Python"
   ]
  },
  {
   "cell_type": "markdown",
   "metadata": {},
   "source": [
    "#### we will learn:\n",
    "    1. read json data from a file\n",
    "    2. write a json data to a file\n",
    "    3. convert python objects to JSON\n",
    "    4. convert python objects to JSON format"
   ]
  },
  {
   "cell_type": "code",
   "execution_count": null,
   "metadata": {},
   "outputs": [],
   "source": [
    " Example JSON Data Format:\n",
    "{\n",
    "    \"name\": \"John\",\n",
    "    \"age\": 25,\n",
    "    \"city\": \"New York\",\n",
    "    \"is_student\": false\n",
    "}\n",
    "        "
   ]
  },
  {
   "cell_type": "code",
   "execution_count": 60,
   "metadata": {},
   "outputs": [
    {
     "name": "stdout",
     "output_type": "stream",
     "text": [
      "{'name': 'Alice', 'age': 25, 'city': 'New York', 'is_student': False}\n",
      "<class 'dict'>\n",
      "New York\n"
     ]
    }
   ],
   "source": [
    "import json\n",
    "\n",
    "with open('sample.json', 'r') as file:\n",
    "    data = json.load(file)\n",
    "\n",
    "print(data)\n",
    "print(type(data))\n",
    "print(data['city'])"
   ]
  },
  {
   "cell_type": "code",
   "execution_count": 62,
   "metadata": {},
   "outputs": [
    {
     "name": "stdout",
     "output_type": "stream",
     "text": [
      "Data successfully save to sample.json\n"
     ]
    }
   ],
   "source": [
    "import json\n",
    "\n",
    "data = {\n",
    "    \"name\": \"Neamatullah\",\n",
    "    \"age\": 25,\n",
    "    \"city\": \"new York\"\n",
    "}\n",
    "\n",
    "\n",
    "with open('sample.json',  'w') as file:\n",
    "    json.dump(data, file, indent=4)\n",
    "    \n",
    "print(\"Data successfully save to sample.json\")"
   ]
  },
  {
   "cell_type": "code",
   "execution_count": 65,
   "metadata": {},
   "outputs": [
    {
     "name": "stdout",
     "output_type": "stream",
     "text": [
      "{'name': 'Ali', 'age': 45, 'city': 'india'}\n",
      "{\n",
      "    \"name\": \"Ali\",\n",
      "    \"age\": 45,\n",
      "    \"city\": \"india\"\n",
      "}\n",
      "<class 'dict'>\n"
     ]
    }
   ],
   "source": [
    "import json\n",
    "\n",
    "data = {'name': 'Ali', 'age': 45, 'city': \"india\"}\n",
    "print(data)\n",
    "json_string = json.dumps(data, indent=4)\n",
    "print(json_string)\n",
    "print(type(data))"
   ]
  },
  {
   "cell_type": "code",
   "execution_count": 70,
   "metadata": {},
   "outputs": [
    {
     "name": "stdout",
     "output_type": "stream",
     "text": [
      "<class 'dict'>\n",
      "{'name': 'ali', 'age': 24}\n"
     ]
    }
   ],
   "source": [
    "import json\n",
    "\n",
    "json_string = '{\"name\": \"ali\", \"age\":24}'\n",
    "\n",
    "data = json.loads(json_string)\n",
    "\n",
    "print(type(data))\n",
    "print(data)"
   ]
  },
  {
   "cell_type": "code",
   "execution_count": null,
   "metadata": {},
   "outputs": [],
   "source": [
    "json.loads()     json.load()"
   ]
  },
  {
   "cell_type": "markdown",
   "metadata": {},
   "source": [
    "## Working with Binary Files in Python"
   ]
  },
  {
   "cell_type": "markdown",
   "metadata": {},
   "source": [
    "#### we will learn:\n",
    "    1. read and write binary files\n",
    "    2. work with image, audio, video\n",
    "    3. serialize and deserialize\n",
    "    "
   ]
  },
  {
   "cell_type": "code",
   "execution_count": 74,
   "metadata": {},
   "outputs": [
    {
     "name": "stdout",
     "output_type": "stream",
     "text": [
      "<class 'bytes'>\n"
     ]
    }
   ],
   "source": [
    "with open('pc.jpg', 'rb') as file:\n",
    "    binary_data = file.read()\n",
    "    \n",
    "print(type(binary_data))"
   ]
  },
  {
   "cell_type": "code",
   "execution_count": 75,
   "metadata": {},
   "outputs": [
    {
     "name": "stdout",
     "output_type": "stream",
     "text": [
      "image copied successfully\n"
     ]
    }
   ],
   "source": [
    "with open(\"pc.jpg\", 'rb') as source_file:\n",
    "    binary_data = source_file.read()\n",
    "    \n",
    "with open('copy.jpg', 'wb') as dest_file:\n",
    "    dest_file.write(binary_data)\n",
    "    \n",
    "print(\"image copied successfully\")"
   ]
  },
  {
   "cell_type": "code",
   "execution_count": 76,
   "metadata": {},
   "outputs": [
    {
     "name": "stdout",
     "output_type": "stream",
     "text": [
      "audio file copied successfully!\n"
     ]
    }
   ],
   "source": [
    "with open(\"music.mp3\", 'rb') as source_file:\n",
    "    audio_data = source_file.read()\n",
    "    \n",
    "with open(\"copy.mp3\", 'wb') as dest_file:\n",
    "    dest_file.write(audio_data)\n",
    "    \n",
    "print(\"audio file copied successfully!\")"
   ]
  },
  {
   "cell_type": "code",
   "execution_count": 77,
   "metadata": {},
   "outputs": [
    {
     "name": "stdout",
     "output_type": "stream",
     "text": [
      "object saved!\n"
     ]
    }
   ],
   "source": [
    "import pickle\n",
    "\n",
    "data = {\"name\": \"Neamatullah\", \"age\": 25, \"city\": \"India\"}\n",
    "\n",
    "with open(\"data.pkl\", 'wb') as file:\n",
    "    pickle.dump(data, file)\n",
    "\n",
    "print(\"object saved!\")\n"
   ]
  },
  {
   "cell_type": "code",
   "execution_count": 78,
   "metadata": {},
   "outputs": [
    {
     "name": "stdout",
     "output_type": "stream",
     "text": [
      "{'name': 'Neamatullah', 'age': 25, 'city': 'India'}\n"
     ]
    }
   ],
   "source": [
    "import pickle\n",
    "\n",
    "with open(\"data.pkl\", 'rb') as file:\n",
    "    loaded_data = pickle.load(file)\n",
    "    \n",
    "print(loaded_data)"
   ]
  },
  {
   "cell_type": "markdown",
   "metadata": {},
   "source": [
    "## Advanced File Handling in Python"
   ]
  },
  {
   "cell_type": "markdown",
   "metadata": {},
   "source": [
    "#### we will learn:\n",
    "    1. file iterators\n",
    "    2. seek(), tell()\n",
    "    3. large file efficiently"
   ]
  },
  {
   "cell_type": "code",
   "execution_count": 80,
   "metadata": {},
   "outputs": [
    {
     "name": "stdout",
     "output_type": "stream",
     "text": [
      "Python is a powerful programming language.\n",
      "It is widely used for web development, data science, automation, and more.\n",
      "File handling in Python allows you to read and write data efficiently.\n",
      "With the open() function, you can work with files easily.\n",
      "This file contains multiple lines to test different reading methods.\n",
      "Enjoy learning Python file handling!\n"
     ]
    }
   ],
   "source": [
    "with open('file.txt', 'r') as file:\n",
    "    for line in file:\n",
    "        print(line.strip())"
   ]
  },
  {
   "cell_type": "code",
   "execution_count": 87,
   "metadata": {},
   "outputs": [
    {
     "name": "stdout",
     "output_type": "stream",
     "text": [
      "current position: 0\n",
      "after reading 10 chars, position:  10\n",
      "after seeking to position 5: 5\n",
      "reading from new position: 5\n"
     ]
    }
   ],
   "source": [
    "with open('file.txt', 'r') as file:\n",
    "    print(\"current position:\", file.tell())\n",
    "    \n",
    "    file.read(10)\n",
    "    print(\"after reading 10 chars, position: \",file.tell())\n",
    "    \n",
    "    file.seek(5)\n",
    "    print(\"after seeking to position 5:\", file.tell())\n",
    "    \n",
    "    \n",
    "    print(\"reading from new position:\", file.tell())\n",
    "    "
   ]
  },
  {
   "cell_type": "code",
   "execution_count": 91,
   "metadata": {},
   "outputs": [
    {
     "name": "stdout",
     "output_type": "stream",
     "text": [
      "Python is a powerful programming language.\n",
      "It is widely used for web development, data science, auto\n"
     ]
    }
   ],
   "source": [
    "chunk_size = 1024\n",
    "\n",
    "with open(\"file.txt\", 'r') as file:\n",
    "    while True:\n",
    "        chunk = file.read(chunk_size)\n",
    "        if not chunk:\n",
    "            break\n",
    "        print(chunk[:100])"
   ]
  },
  {
   "cell_type": "code",
   "execution_count": 92,
   "metadata": {},
   "outputs": [
    {
     "name": "stdout",
     "output_type": "stream",
     "text": [
      "Python is a powerful programming language.\n",
      "It is widely used for web development, data science, automation, and more.\n",
      "File handling in Python allows you to read and write data efficiently.\n",
      "With the open() function, you can work with files easily.\n",
      "This file contains multiple lines to test different reading methods.\n",
      "Enjoy learning Python file handling!\n"
     ]
    }
   ],
   "source": [
    "with open('file.txt', 'r') as file:\n",
    "    for line in iter(file.readline, ''):\n",
    "        print(line.strip())"
   ]
  },
  {
   "cell_type": "markdown",
   "metadata": {},
   "source": [
    "## File and Directory Management in Python"
   ]
  },
  {
   "cell_type": "markdown",
   "metadata": {},
   "source": [
    "#### we will learn:\n",
    "    1. use os and shutil\n",
    "    2. create, rename, delete files\n",
    "    3. create and remove directories"
   ]
  },
  {
   "cell_type": "code",
   "execution_count": 95,
   "metadata": {},
   "outputs": [
    {
     "name": "stdout",
     "output_type": "stream",
     "text": [
      "file created!\n"
     ]
    }
   ],
   "source": [
    "import os\n",
    "import shutil\n",
    "\n",
    "with open('test_file.txt', 'w') as file:\n",
    "    file.write(\"hello, this is a test file!\")\n",
    "print('file created!')"
   ]
  },
  {
   "cell_type": "code",
   "execution_count": 94,
   "metadata": {},
   "outputs": [
    {
     "name": "stdout",
     "output_type": "stream",
     "text": [
      "file renamed!\n"
     ]
    }
   ],
   "source": [
    "import os\n",
    "\n",
    "os.rename('test_file.txt', 'renamed_file.txt')\n",
    "print(\"file renamed!\")"
   ]
  },
  {
   "cell_type": "code",
   "execution_count": 97,
   "metadata": {},
   "outputs": [
    {
     "name": "stdout",
     "output_type": "stream",
     "text": [
      "file does not exist.\n"
     ]
    }
   ],
   "source": [
    "import os\n",
    "\n",
    "if os.path.exists('renamed_file.txt'):\n",
    "    os.remove('renamed_file.txt')\n",
    "    print(\"file deleted!\")\n",
    "else:\n",
    "    print(\"file does not exist.\")"
   ]
  },
  {
   "cell_type": "code",
   "execution_count": 99,
   "metadata": {},
   "outputs": [
    {
     "ename": "FileExistsError",
     "evalue": "[WinError 183] Cannot create a file when that file already exists: 'newfolder'",
     "output_type": "error",
     "traceback": [
      "\u001b[1;31m---------------------------------------------------------------------------\u001b[0m",
      "\u001b[1;31mFileExistsError\u001b[0m                           Traceback (most recent call last)",
      "\u001b[1;32m<ipython-input-99-d35b0016000f>\u001b[0m in \u001b[0;36m<module>\u001b[1;34m\u001b[0m\n\u001b[0;32m      1\u001b[0m \u001b[1;32mimport\u001b[0m \u001b[0mos\u001b[0m\u001b[1;33m\u001b[0m\u001b[1;33m\u001b[0m\u001b[0m\n\u001b[0;32m      2\u001b[0m \u001b[1;33m\u001b[0m\u001b[0m\n\u001b[1;32m----> 3\u001b[1;33m \u001b[0mos\u001b[0m\u001b[1;33m.\u001b[0m\u001b[0mmkdir\u001b[0m\u001b[1;33m(\u001b[0m\u001b[1;34m\"newfolder\"\u001b[0m\u001b[1;33m)\u001b[0m\u001b[1;33m\u001b[0m\u001b[1;33m\u001b[0m\u001b[0m\n\u001b[0m\u001b[0;32m      4\u001b[0m \u001b[0mprint\u001b[0m\u001b[1;33m(\u001b[0m\u001b[1;34m'directory created!'\u001b[0m\u001b[1;33m)\u001b[0m\u001b[1;33m\u001b[0m\u001b[1;33m\u001b[0m\u001b[0m\n",
      "\u001b[1;31mFileExistsError\u001b[0m: [WinError 183] Cannot create a file when that file already exists: 'newfolder'"
     ]
    }
   ],
   "source": [
    "import os\n",
    "\n",
    "os.mkdir(\"newfolder\")\n",
    "print('directory created!')"
   ]
  },
  {
   "cell_type": "code",
   "execution_count": 100,
   "metadata": {},
   "outputs": [
    {
     "name": "stdout",
     "output_type": "stream",
     "text": [
      "directory renamed\n"
     ]
    }
   ],
   "source": [
    "import os\n",
    "\n",
    "os.rename(\"newfolder\", 'renamedfolder')\n",
    "print(\"directory renamed\")"
   ]
  },
  {
   "cell_type": "code",
   "execution_count": 101,
   "metadata": {},
   "outputs": [
    {
     "name": "stdout",
     "output_type": "stream",
     "text": [
      "empty directory deleted!\n"
     ]
    }
   ],
   "source": [
    "import os\n",
    "\n",
    "os.rmdir('renamedfolder')\n",
    "print('empty directory deleted!')"
   ]
  },
  {
   "cell_type": "code",
   "execution_count": 102,
   "metadata": {},
   "outputs": [
    {
     "name": "stdout",
     "output_type": "stream",
     "text": [
      "directory and its contents deleted!\n"
     ]
    }
   ],
   "source": [
    "import shutil\n",
    "\n",
    "shutil.rmtree('folder')\n",
    "print('directory and its contents deleted!')"
   ]
  },
  {
   "cell_type": "code",
   "execution_count": 103,
   "metadata": {},
   "outputs": [
    {
     "name": "stdout",
     "output_type": "stream",
     "text": [
      "files and directories:  ['.ipynb_checkpoints', 'copy.jpg', 'copy.mp3', 'data.pkl', 'file handling.ipynb', 'file.txt', 'music.mp3', 'pc.jpg', 'sample.json', 'sample.txt', 'test_file.txt']\n"
     ]
    }
   ],
   "source": [
    "import os\n",
    "\n",
    "items = os.listdir('.')\n",
    "print(\"files and directories: \", items)"
   ]
  },
  {
   "cell_type": "code",
   "execution_count": null,
   "metadata": {},
   "outputs": [],
   "source": []
  },
  {
   "cell_type": "code",
   "execution_count": null,
   "metadata": {},
   "outputs": [],
   "source": []
  },
  {
   "cell_type": "code",
   "execution_count": null,
   "metadata": {},
   "outputs": [],
   "source": []
  },
  {
   "cell_type": "code",
   "execution_count": null,
   "metadata": {},
   "outputs": [],
   "source": []
  },
  {
   "cell_type": "code",
   "execution_count": null,
   "metadata": {},
   "outputs": [],
   "source": []
  }
 ],
 "metadata": {
  "kernelspec": {
   "display_name": "Python 3 (ipykernel)",
   "language": "python",
   "name": "python3"
  },
  "language_info": {
   "codemirror_mode": {
    "name": "ipython",
    "version": 3
   },
   "file_extension": ".py",
   "mimetype": "text/x-python",
   "name": "python",
   "nbconvert_exporter": "python",
   "pygments_lexer": "ipython3",
   "version": "3.13.2"
  }
 },
 "nbformat": 4,
 "nbformat_minor": 2
}
