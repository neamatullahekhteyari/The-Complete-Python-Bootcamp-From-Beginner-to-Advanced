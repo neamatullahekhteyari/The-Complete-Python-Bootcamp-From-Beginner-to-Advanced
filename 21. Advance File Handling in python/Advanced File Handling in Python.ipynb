{
 "cells": [
  {
   "cell_type": "markdown",
   "metadata": {},
   "source": [
    "## Advanced File Handling in Python"
   ]
  },
  {
   "cell_type": "markdown",
   "metadata": {},
   "source": [
    "Python provides advanced techniques for handling files efficiently, especially when working with large files. In this section, we will cover:\n",
    "\n",
    "1. File Iterators – Reading files line by line\n",
    "\n",
    "2. seek() and tell() – Controlling the file pointer position\n",
    "\n",
    "3. Handling Large Files – Efficiently reading files in chunks\n",
    "\n",
    "### 1. Using File Iterators\n",
    "Python allows iterating over a file line by line, which is memory efficient and suitable for reading large files."
   ]
  },
  {
   "cell_type": "code",
   "execution_count": 80,
   "metadata": {},
   "outputs": [
    {
     "name": "stdout",
     "output_type": "stream",
     "text": [
      "Python is a powerful programming language.\n",
      "It is widely used for web development, data science, automation, and more.\n",
      "File handling in Python allows you to read and write data efficiently.\n",
      "With the open() function, you can work with files easily.\n",
      "This file contains multiple lines to test different reading methods.\n",
      "Enjoy learning Python file handling!\n"
     ]
    }
   ],
   "source": [
    "with open('file.txt', 'r') as file:\n",
    "    for line in file:\n",
    "        print(line.strip())"
   ]
  },
  {
   "cell_type": "markdown",
   "metadata": {},
   "source": [
    "#### Explanation:\n",
    "```\n",
    "- Opens file.txt in read ('r') mode.\n",
    "\n",
    "- Iterates through the file line by line using a for loop.\n",
    "\n",
    "- .strip() removes extra spaces or newline characters.\n",
    "\n",
    "- This method is efficient for reading large files because it doesn’t load the entire file into memory at once.\n",
    "```"
   ]
  },
  {
   "cell_type": "markdown",
   "metadata": {},
   "source": [
    "### 2. Using seek() and tell() Methods\n",
    "```\n",
    "The seek() method moves the file cursor to a specified position, while tell() returns the current position of the file cursor.\n",
    "```"
   ]
  },
  {
   "cell_type": "code",
   "execution_count": 87,
   "metadata": {},
   "outputs": [
    {
     "name": "stdout",
     "output_type": "stream",
     "text": [
      "current position: 0\n",
      "after reading 10 chars, position:  10\n",
      "after seeking to position 5: 5\n",
      "reading from new position: 5\n"
     ]
    }
   ],
   "source": [
    "with open('file.txt', 'r') as file:\n",
    "    print(\"current position:\", file.tell())\n",
    "    \n",
    "    file.read(10)\n",
    "    print(\"after reading 10 chars, position: \",file.tell())\n",
    "    \n",
    "    file.seek(5)\n",
    "    print(\"after seeking to position 5:\", file.tell())\n",
    "    \n",
    "    \n",
    "    print(\"reading from new position:\", file.tell())\n",
    "    "
   ]
  },
  {
   "cell_type": "markdown",
   "metadata": {},
   "source": [
    "#### Explanation:\n",
    "tell(): Returns the current cursor position in the file.\n",
    "\n",
    "read(n): Reads n characters from the file.\n",
    "\n",
    "seek(n): Moves the file cursor to the specified position n."
   ]
  },
  {
   "cell_type": "markdown",
   "metadata": {},
   "source": [
    "### 3. Reading Large Files in Chunks\n",
    "For large files, reading the entire content at once can be inefficient. Instead, we can read it in smaller chunks."
   ]
  },
  {
   "cell_type": "code",
   "execution_count": 91,
   "metadata": {},
   "outputs": [
    {
     "name": "stdout",
     "output_type": "stream",
     "text": [
      "Python is a powerful programming language.\n",
      "It is widely used for web development, data science, auto\n"
     ]
    }
   ],
   "source": [
    "chunk_size = 1024\n",
    "\n",
    "with open(\"file.txt\", 'r') as file:\n",
    "    while True:\n",
    "        chunk = file.read(chunk_size)\n",
    "        if not chunk:\n",
    "            break\n",
    "        print(chunk[:100])"
   ]
  },
  {
   "cell_type": "markdown",
   "metadata": {},
   "source": [
    "#### Explanation:\n",
    "```\n",
    "Defines a chunk size of 1024 bytes (1 KB).\n",
    "\n",
    "Reads the file chunk by chunk in a while loop.\n",
    "\n",
    "Stops when chunk is empty (end of file).\n",
    "\n",
    "More efficient for large files because it avoids excessive memory usage.\n",
    "```"
   ]
  },
  {
   "cell_type": "markdown",
   "metadata": {},
   "source": [
    "### 4. Using iter() for Efficient Line Reading\n",
    "```\n",
    "We can use iter() with readline to process large files line by line until an empty string '' is encountered.\n",
    "```\n"
   ]
  },
  {
   "cell_type": "code",
   "execution_count": 92,
   "metadata": {},
   "outputs": [
    {
     "name": "stdout",
     "output_type": "stream",
     "text": [
      "Python is a powerful programming language.\n",
      "It is widely used for web development, data science, automation, and more.\n",
      "File handling in Python allows you to read and write data efficiently.\n",
      "With the open() function, you can work with files easily.\n",
      "This file contains multiple lines to test different reading methods.\n",
      "Enjoy learning Python file handling!\n"
     ]
    }
   ],
   "source": [
    "with open('file.txt', 'r') as file:\n",
    "    for line in iter(file.readline, ''):\n",
    "        print(line.strip())"
   ]
  },
  {
   "cell_type": "markdown",
   "metadata": {},
   "source": [
    "#### Explanation:\n",
    "```\n",
    "Uses iter() with readline as an iterator.\n",
    "\n",
    "Reads one line at a time until it reaches an empty string '' (EOF).\n",
    "\n",
    "Memory-efficient, as it doesn’t load the full file into memory.\n",
    "```\n",
    "#### Summary of Advanced File Handling Techniques\n",
    "\n",
    "\n",
    "<table border=\"1\">\n",
    "    <tr>\n",
    "        <th>Technique</th>\n",
    "        <th>Description</th>\n",
    "    </tr>\n",
    "    <tr>\n",
    "        <td>File Iterators</td>\n",
    "        <td>Reads files line by line efficiently.</td>\n",
    "    </tr>\n",
    "    <tr>\n",
    "        <td>tell()</td>\n",
    "        <td>Returns the current file cursor position.</td>\n",
    "    </tr>\n",
    "    <tr>\n",
    "        <td>seek(n)</td>\n",
    "        <td>Moves the file cursor to position n.</td>\n",
    "    </tr>\n",
    "    <tr>\n",
    "        <td>Chunk Reading</td>\n",
    "        <td>Reads a file in small chunks for efficiency.</td>\n",
    "    </tr>\n",
    "    <tr>\n",
    "        <td>iter() with readline()</td>\n",
    "        <td>Reads large files line by line efficiently.</td>\n",
    "    </tr>\n",
    "</table>\n"
   ]
  }
 ],
 "metadata": {
  "kernelspec": {
   "display_name": "Python 3 (ipykernel)",
   "language": "python",
   "name": "python3"
  },
  "language_info": {
   "codemirror_mode": {
    "name": "ipython",
    "version": 3
   },
   "file_extension": ".py",
   "mimetype": "text/x-python",
   "name": "python",
   "nbconvert_exporter": "python",
   "pygments_lexer": "ipython3",
   "version": "3.13.2"
  }
 },
 "nbformat": 4,
 "nbformat_minor": 2
}
