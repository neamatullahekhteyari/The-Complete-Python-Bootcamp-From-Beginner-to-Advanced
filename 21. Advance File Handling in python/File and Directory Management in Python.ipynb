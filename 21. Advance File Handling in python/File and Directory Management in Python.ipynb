{
 "cells": [
  {
   "cell_type": "markdown",
   "metadata": {},
   "source": [
    "## File and Directory Management in Python"
   ]
  },
  {
   "cell_type": "markdown",
   "metadata": {},
   "source": [
    "#### we will learn:\n",
    "    1. use os and shutil\n",
    "    2. create, rename, delete files\n",
    "    3. create and remove directories\n",
    "    \n",
    "File and directory management in Python allows users to create, rename, delete, and list files and directories using the os and shutil modules. These operations help in organizing and handling files efficiently.\n",
    "\n",
    "#### Key Concepts:\n",
    "\n",
    "1. Using os and shutil Modules: These modules provide functions for managing files and directories.\n",
    "\n",
    "2. Creating, Renaming, and Deleting Files: Handling file operations such as creating, renaming, and removing files.\n",
    "\n",
    "3. Creating and Removing Directories: Managing directories to organize files efficiently."
   ]
  },
  {
   "cell_type": "markdown",
   "metadata": {},
   "source": [
    "### Creating a file"
   ]
  },
  {
   "cell_type": "code",
   "execution_count": 95,
   "metadata": {},
   "outputs": [
    {
     "name": "stdout",
     "output_type": "stream",
     "text": [
      "file created!\n"
     ]
    }
   ],
   "source": [
    "import os\n",
    "import shutil\n",
    "\n",
    "with open('test_file.txt', 'w') as file:\n",
    "    file.write(\"hello, this is a test file!\")\n",
    "print('file created!')"
   ]
  },
  {
   "cell_type": "markdown",
   "metadata": {},
   "source": [
    "- Opens (or creates) test_file.txt in write mode ('w').\n",
    "\n",
    "- Writes \"hello, this is a test file!\" into the file.\n",
    "\n",
    "- Closes the file automatically using with open().\n",
    "\n",
    "- Prints confirmation message."
   ]
  },
  {
   "cell_type": "markdown",
   "metadata": {},
   "source": [
    "### Renaming a file"
   ]
  },
  {
   "cell_type": "code",
   "execution_count": 94,
   "metadata": {},
   "outputs": [
    {
     "name": "stdout",
     "output_type": "stream",
     "text": [
      "file renamed!\n"
     ]
    }
   ],
   "source": [
    "import os\n",
    "\n",
    "os.rename('test_file.txt', 'renamed_file.txt')\n",
    "print(\"file renamed!\")"
   ]
  },
  {
   "cell_type": "markdown",
   "metadata": {},
   "source": [
    "- Renames test_file.txt to renamed_file.txt.\n",
    "\n",
    "- Prints confirmation message."
   ]
  },
  {
   "cell_type": "markdown",
   "metadata": {},
   "source": [
    "### Deleting a file"
   ]
  },
  {
   "cell_type": "code",
   "execution_count": 97,
   "metadata": {},
   "outputs": [
    {
     "name": "stdout",
     "output_type": "stream",
     "text": [
      "file does not exist.\n"
     ]
    }
   ],
   "source": [
    "import os\n",
    "\n",
    "if os.path.exists('renamed_file.txt'):\n",
    "    os.remove('renamed_file.txt')\n",
    "    print(\"file deleted!\")\n",
    "else:\n",
    "    print(\"file does not exist.\")"
   ]
  },
  {
   "cell_type": "markdown",
   "metadata": {},
   "source": [
    "Checks if renamed_file.txt exists.\n",
    "\n",
    "If found, deletes the file using os.remove().\n",
    "\n",
    "Otherwise, prints \"file does not exist.\""
   ]
  },
  {
   "cell_type": "markdown",
   "metadata": {},
   "source": [
    "### Creating a directory"
   ]
  },
  {
   "cell_type": "code",
   "execution_count": 99,
   "metadata": {},
   "outputs": [
    {
     "ename": "FileExistsError",
     "evalue": "[WinError 183] Cannot create a file when that file already exists: 'newfolder'",
     "output_type": "error",
     "traceback": [
      "\u001b[1;31m---------------------------------------------------------------------------\u001b[0m",
      "\u001b[1;31mFileExistsError\u001b[0m                           Traceback (most recent call last)",
      "\u001b[1;32m<ipython-input-99-d35b0016000f>\u001b[0m in \u001b[0;36m<module>\u001b[1;34m\u001b[0m\n\u001b[0;32m      1\u001b[0m \u001b[1;32mimport\u001b[0m \u001b[0mos\u001b[0m\u001b[1;33m\u001b[0m\u001b[1;33m\u001b[0m\u001b[0m\n\u001b[0;32m      2\u001b[0m \u001b[1;33m\u001b[0m\u001b[0m\n\u001b[1;32m----> 3\u001b[1;33m \u001b[0mos\u001b[0m\u001b[1;33m.\u001b[0m\u001b[0mmkdir\u001b[0m\u001b[1;33m(\u001b[0m\u001b[1;34m\"newfolder\"\u001b[0m\u001b[1;33m)\u001b[0m\u001b[1;33m\u001b[0m\u001b[1;33m\u001b[0m\u001b[0m\n\u001b[0m\u001b[0;32m      4\u001b[0m \u001b[0mprint\u001b[0m\u001b[1;33m(\u001b[0m\u001b[1;34m'directory created!'\u001b[0m\u001b[1;33m)\u001b[0m\u001b[1;33m\u001b[0m\u001b[1;33m\u001b[0m\u001b[0m\n",
      "\u001b[1;31mFileExistsError\u001b[0m: [WinError 183] Cannot create a file when that file already exists: 'newfolder'"
     ]
    }
   ],
   "source": [
    "import os\n",
    "\n",
    "os.mkdir(\"newfolder\")\n",
    "print('directory created!')"
   ]
  },
  {
   "cell_type": "markdown",
   "metadata": {},
   "source": [
    "- Creates a new directory called newfolder.\n",
    "\n",
    "- If the folder already exists, it raises a FileExistsError."
   ]
  },
  {
   "cell_type": "markdown",
   "metadata": {},
   "source": [
    "### Renaming a directory"
   ]
  },
  {
   "cell_type": "code",
   "execution_count": 100,
   "metadata": {},
   "outputs": [
    {
     "name": "stdout",
     "output_type": "stream",
     "text": [
      "directory renamed\n"
     ]
    }
   ],
   "source": [
    "import os\n",
    "\n",
    "os.rename(\"newfolder\", 'renamedfolder')\n",
    "print(\"directory renamed\")"
   ]
  },
  {
   "cell_type": "markdown",
   "metadata": {},
   "source": [
    "- Renames newfolder to renamedfolder.\n",
    "\n",
    "- Prints confirmation message."
   ]
  },
  {
   "cell_type": "markdown",
   "metadata": {},
   "source": [
    "### Deleting an Empty Directory"
   ]
  },
  {
   "cell_type": "code",
   "execution_count": 101,
   "metadata": {},
   "outputs": [
    {
     "name": "stdout",
     "output_type": "stream",
     "text": [
      "empty directory deleted!\n"
     ]
    }
   ],
   "source": [
    "import os\n",
    "\n",
    "os.rmdir('renamedfolder')\n",
    "print('empty directory deleted!')"
   ]
  },
  {
   "cell_type": "markdown",
   "metadata": {},
   "source": [
    "Removes renamedfolder if it's empty.\n",
    "\n",
    "If the folder contains files, it raises an error."
   ]
  },
  {
   "cell_type": "markdown",
   "metadata": {},
   "source": [
    "### Deleting a Directory with contents"
   ]
  },
  {
   "cell_type": "code",
   "execution_count": 102,
   "metadata": {},
   "outputs": [
    {
     "name": "stdout",
     "output_type": "stream",
     "text": [
      "directory and its contents deleted!\n"
     ]
    }
   ],
   "source": [
    "import shutil\n",
    "\n",
    "shutil.rmtree('folder')\n",
    "print('directory and its contents deleted!')"
   ]
  },
  {
   "cell_type": "markdown",
   "metadata": {},
   "source": [
    "Removes folder along with all its contents (files and subdirectories).\n",
    "\n",
    "Unlike os.rmdir(), this works for non-empty directories."
   ]
  },
  {
   "cell_type": "markdown",
   "metadata": {},
   "source": [
    "### Listing Files and Directories"
   ]
  },
  {
   "cell_type": "code",
   "execution_count": 103,
   "metadata": {},
   "outputs": [
    {
     "name": "stdout",
     "output_type": "stream",
     "text": [
      "files and directories:  ['.ipynb_checkpoints', 'copy.jpg', 'copy.mp3', 'data.pkl', 'file handling.ipynb', 'file.txt', 'music.mp3', 'pc.jpg', 'sample.json', 'sample.txt', 'test_file.txt']\n"
     ]
    }
   ],
   "source": [
    "import os\n",
    "\n",
    "items = os.listdir('.')\n",
    "print(\"files and directories: \", items)"
   ]
  },
  {
   "cell_type": "markdown",
   "metadata": {},
   "source": [
    "Lists all files and directories in the current directory ('.').\n",
    "\n",
    "Prints the list of files and folders."
   ]
  },
  {
   "cell_type": "markdown",
   "metadata": {},
   "source": [
    "### Summary of File and Directory Operations in Python:\n",
    "<table border=\"1\">\n",
    "    <tr>\n",
    "        <th>Task</th>\n",
    "        <th>Code Used</th>\n",
    "        <th>Purpose</th>\n",
    "    </tr>\n",
    "    <tr>\n",
    "        <td>Create a file</td>\n",
    "        <td><code>with open('file.txt', 'w')</code></td>\n",
    "        <td>Creates a new file or overwrites an existing file</td>\n",
    "    </tr>\n",
    "    <tr>\n",
    "        <td>Rename a file</td>\n",
    "        <td><code>os.rename('old.txt', 'new.txt')</code></td>\n",
    "        <td>Renames a file</td>\n",
    "    </tr>\n",
    "    <tr>\n",
    "        <td>Delete a file</td>\n",
    "        <td><code>os.remove('file.txt')</code></td>\n",
    "        <td>Deletes a file if it exists</td>\n",
    "    </tr>\n",
    "    <tr>\n",
    "        <td>Create a directory</td>\n",
    "        <td><code>os.mkdir('folder')</code></td>\n",
    "        <td>Creates a new folder</td>\n",
    "    </tr>\n",
    "    <tr>\n",
    "        <td>Rename a directory</td>\n",
    "        <td><code>os.rename('old', 'new')</code></td>\n",
    "        <td>Renames a folder</td>\n",
    "    </tr>\n",
    "    <tr>\n",
    "        <td>Delete an empty folder</td>\n",
    "        <td><code>os.rmdir('folder')</code></td>\n",
    "        <td>Deletes an empty directory</td>\n",
    "    </tr>\n",
    "    <tr>\n",
    "        <td>Delete a non-empty folder</td>\n",
    "        <td><code>shutil.rmtree('folder')</code></td>\n",
    "        <td>Deletes a directory and its contents</td>\n",
    "    </tr>\n",
    "    <tr>\n",
    "        <td>List files and folders</td>\n",
    "        <td><code>os.listdir('.')</code></td>\n",
    "        <td>Lists all files and directories in the current folder</td>\n",
    "    </tr>\n",
    "</table>\n"
   ]
  }
 ],
 "metadata": {
  "kernelspec": {
   "display_name": "Python 3 (ipykernel)",
   "language": "python",
   "name": "python3"
  },
  "language_info": {
   "codemirror_mode": {
    "name": "ipython",
    "version": 3
   },
   "file_extension": ".py",
   "mimetype": "text/x-python",
   "name": "python",
   "nbconvert_exporter": "python",
   "pygments_lexer": "ipython3",
   "version": "3.13.2"
  }
 },
 "nbformat": 4,
 "nbformat_minor": 2
}
