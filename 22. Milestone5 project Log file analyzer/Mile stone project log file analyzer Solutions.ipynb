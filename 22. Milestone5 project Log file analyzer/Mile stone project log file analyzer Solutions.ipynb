{
 "cells": [
  {
   "cell_type": "markdown",
   "metadata": {},
   "source": [
    "## Log File Analyzer Project\n",
    "\n",
    "## Goal:\n",
    "The Log File Analyzer project aims to read, process, and analyze log files to extract valuable insights such as error occurrences, timestamps, and patterns. This project is essential for system administrators, developers, and cybersecurity analysts who need to monitor application logs for troubleshooting and security analysis.\n",
    "\n",
    "\n",
    "### What will you learn ?\n",
    " 1.  Reading large text files efficiently\n",
    " 2.  Extracting useful information from log data\n",
    " 3.  Using string manipulation for pattern matching\n",
    " 4.  Writing summary reports to a new file\n",
    " 5.  Using Python's os module for file handling\n",
    " \n",
    " \n",
    " "
   ]
  },
  {
   "cell_type": "markdown",
   "metadata": {},
   "source": [
    "### Project Overview : \n",
    "Log files are automatically generated text files that record events, errors, and system messages. They are used by:\n",
    "\n",
    " 1. Web servers (e.g., tracking HTTP requests)\n",
    " 2. Operating systems (e.g., system logs, authentication logs)\n",
    " 3. Applications (e.g., error logs, debug logs)\n",
    "\n",
    "For this project, we will analyze a sample log file (log.txt) and extract key information such as:\n",
    "1. Error messages and their counts\n",
    "2. Warnings and other system messages\n",
    "3. Timestamps associated with critical events"
   ]
  },
  {
   "cell_type": "markdown",
   "metadata": {},
   "source": [
    "###  Step-by-Step Implementation\n",
    "\n",
    "#### 1. Sample Log file (log.txt)\n",
    "Before writing the script, let’s assume we have a sample log file with entries like this:\n",
    "\n"
   ]
  },
  {
   "cell_type": "markdown",
   "metadata": {},
   "source": [
    "\n",
    "<code>\n",
    "[2025-03-09 10:15:23]<span style='color:green'> INFO : Server started successfully.</span>\n",
    "[2025-03-09 10:16:05] <span style='color:orange'> Warning : High memory usage detected.</span>\n",
    "[2025-03-09 10:17:30] <span style='color:red'> ERROR:  Database connection failed.</span>\n",
    "[2025-03-09 10:18:45] <span style='color:red'> ERROR: File not found.</span>\n",
    "[2025-03-09 10:19:12] <span style='color:green'> INFO : User 'admin' logged in.\n",
    "</span>\n",
    "  </code>"
   ]
  },
  {
   "cell_type": "markdown",
   "metadata": {},
   "source": [
    "#### Each entry contains:\n",
    "1. A timestamp ([YYYY-MM-DD HH:MM:SS])\n",
    "2. A log level (INFO, WARNING, ERROR)\n",
    "3. A message (Server started successfully, Database connection failed, etc.)"
   ]
  },
  {
   "cell_type": "markdown",
   "metadata": {},
   "source": [
    "### Read and Analyze the Log File\n",
    "##### We will write a script that:\n",
    "1. Reads the log file\n",
    "2. Identifies ERROR, WARNING, and INFO messages\n",
    "3. Counts occurrences of each message type\n",
    "4. Saves a summary report to a new file (error_summary.txt)"
   ]
  },
  {
   "cell_type": "markdown",
   "metadata": {},
   "source": [
    "#### Step 1: Reading the Log file"
   ]
  },
  {
   "cell_type": "code",
   "execution_count": 10,
   "metadata": {},
   "outputs": [
    {
     "name": "stdout",
     "output_type": "stream",
     "text": [
      "[2025-03-09 10:15:23] INFO: Server started successfully.\n",
      "[2025-03-09 10:16:05] WARNING: High memory usage detected.\n",
      "[2025-03-09 10:17:30] ERROR: Database connection failed.\n",
      "[2025-03-09 10:18:45] ERROR: File not found.\n",
      "[2025-03-09 10:19:12] INFO: User 'admin' logged in.\n"
     ]
    }
   ],
   "source": [
    "# Open and read the log file\n",
    "\n",
    "with open(\"log.txt\", 'r') as file:\n",
    "    logs = file.readlines()\n",
    "\n",
    "\n",
    "# Display the log (for testing)\n",
    "for log in logs:\n",
    "    print(log.strip())\n",
    "\n",
    "\n",
    "\n"
   ]
  },
  {
   "cell_type": "markdown",
   "metadata": {},
   "source": [
    "#### Step 2: Extracting Errors and Warnings"
   ]
  },
  {
   "cell_type": "code",
   "execution_count": 16,
   "metadata": {},
   "outputs": [
    {
     "name": "stdout",
     "output_type": "stream",
     "text": [
      "Errors: 2, Warnings: 1, Info: 2\n",
      "Error Messages Breakdown: {'Database connection failed.': 1, 'File not found.': 1}\n"
     ]
    }
   ],
   "source": [
    "# Initialize counters\n",
    "error_count = 0\n",
    "warning_count = 0\n",
    "info_count = 0\n",
    "error_messages = {}\n",
    "\n",
    "# Process each log entry\n",
    "for log in logs:\n",
    "    if \"ERROR\" in log:\n",
    "        error_count += 1\n",
    "        message = log.split(\"ERROR:\")[1].strip()  # Extract message after \"ERROR:\"\n",
    "        error_messages[message] = error_messages.get(message, 0) + 1\n",
    "    elif \"WARNING\" in log:\n",
    "        warning_count += 1\n",
    "    elif \"INFO\" in log:\n",
    "        info_count += 1\n",
    "\n",
    "# Print results (for debugging)\n",
    "print(f\"Errors: {error_count}, Warnings: {warning_count}, Info: {info_count}\")\n",
    "print(\"Error Messages Breakdown:\", error_messages)\n"
   ]
  },
  {
   "cell_type": "markdown",
   "metadata": {},
   "source": [
    "#### Step 3: Writing the summary to a file"
   ]
  },
  {
   "cell_type": "code",
   "execution_count": 21,
   "metadata": {},
   "outputs": [
    {
     "name": "stdout",
     "output_type": "stream",
     "text": [
      "Analysis completed! sammary save in 'error_sammary.txt'\n"
     ]
    }
   ],
   "source": [
    "# save the summary report to a file\n",
    "\n",
    "with open('error_summary.txt', 'w') as summary:\n",
    "    summary.write(\"Log file Analysis Report\\n\")\n",
    "    summary.write(\"========================\\n\")\n",
    "    summary.write(f\"Total Erros: {error_count}\\n\")\n",
    "    summary.write(f\"Total Warning: {warning_count}\\n\")\n",
    "    summary.write(f\"Total Info Messages: {info_count}\\n\")\n",
    "    \n",
    "    summary.write(\"Error Breakdown:\\n\")\n",
    "    for message, count in error_messages.items():\n",
    "        summary.write(f\"{message}: {count} occurrances\\n\")\n",
    "    \n",
    "print(\"Analysis completed! sammary save in 'error_sammary.txt'\")\n",
    "\n",
    "\n"
   ]
  },
  {
   "cell_type": "markdown",
   "metadata": {},
   "source": [
    "#### Expected Output (error_summary.txt)"
   ]
  },
  {
   "cell_type": "markdown",
   "metadata": {},
   "source": [
    "<code style='color:orange'>\n",
    "Log File Analysis Report\n",
    "=======================\n",
    "Total Errors: 2\n",
    "Total Warnings: 1\n",
    "Total Info Messages: 2\n",
    "\n",
    "Error Breakdown:\n",
    "Database connection failed.: 1 occurrences\n",
    "File not found: 1 occurrences\n",
    "\n",
    "</code>"
   ]
  },
  {
   "cell_type": "markdown",
   "metadata": {},
   "source": [
    "##### happy coding!"
   ]
  }
 ],
 "metadata": {
  "kernelspec": {
   "display_name": "Python 3 (ipykernel)",
   "language": "python",
   "name": "python3"
  },
  "language_info": {
   "codemirror_mode": {
    "name": "ipython",
    "version": 3
   },
   "file_extension": ".py",
   "mimetype": "text/x-python",
   "name": "python",
   "nbconvert_exporter": "python",
   "pygments_lexer": "ipython3",
   "version": "3.13.2"
  }
 },
 "nbformat": 4,
 "nbformat_minor": 2
}
