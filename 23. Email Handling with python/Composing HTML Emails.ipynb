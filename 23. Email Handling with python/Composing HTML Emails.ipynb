{
 "cells": [
  {
   "cell_type": "markdown",
   "metadata": {},
   "source": [
    "## Formatting Emails\n",
    "When sending emails using Python, you can format them using HTML to include colors, fonts, images, and layouts. The email.mime module allows us to create well-structured HTML emails."
   ]
  },
  {
   "cell_type": "markdown",
   "metadata": {},
   "source": [
    "### Code Explanation\n",
    "```python\n",
    "import smtplib\n",
    "from email.mime.multipart import MIMEMultipart\n",
    "from email.mime.text import MIMEText\n",
    "```\n",
    "\n",
    "- smtplib – Handles the SMTP connection for sending emails.\n",
    "\n",
    "- MIMEMultipart – Allows creating complex emails (with attachments, images, and HTML content).\n",
    "\n",
    "- MIMEText – Used to specify the email content (plain text or HTML).\n",
    "\n",
    "### sender email credentials\n",
    "```python\n",
    "sender_email = 'cylog45@gmail.com'\n",
    "app_password = 'cfif zjvr hwzl itme'\n",
    "receiver_email = 'lucy71054@gmail.com'\n",
    "```\n",
    "- Define sender's email, app password, and recipient's email.\n",
    "\n",
    "```python\n",
    "msg = MIMEMultipart()\n",
    "msg[\"From\"] = sender_email\n",
    "msg[\"To\"] = receiver_email\n",
    "msg[\"Subject\"] = \"Test HTML Email\"\n",
    "```\n",
    "- Creates an email object.\n",
    "\n",
    "- Adds From, To, and Subject fields.\n",
    "\n",
    "### Adding HTML Content\n",
    "```python\n",
    "# HTML Content\n",
    "html_content = \"\"\"\n",
    "<html>\n",
    "<body>\n",
    "    <h2 style=\"color:blue;\">Hello!</h2>\n",
    "    <p>This is a test email with <b>HTML formatting.</b></p>\n",
    "</body>\n",
    "</html>\n",
    "\"\"\"\n",
    "msg.attach(MIMEText(html_content, \"html\"))\n",
    "```\n",
    "\n",
    "- HTML email formatting is done inside a <html> and <body> tag.\n",
    "\n",
    "- <h2 style=\"color:blue;\">Hello!</h2> – Creates a blue heading.\n",
    "\n",
    "- <p>This is a test email with <b>HTML formatting.</b></p> – Adds a paragraph with bold text.\n",
    "\n",
    "- msg.attach(MIMEText(html_content, \"html\")) – Attaches the HTML content to the email.\n",
    "\n",
    "### Sending the Email\n",
    "```python\n",
    "\n",
    "try:\n",
    "    with smtplib.SMTP(\"smtp.gmail.com\", 587) as server:\n",
    "        server.starttls()  # Secure the connection\n",
    "        server.login(sender_email, app_password)  # Login to the email account\n",
    "        server.sendmail(sender_email, receiver_email, msg.as_string())  # Send email\n",
    "    print(\"HTML email sent successfully!\")\n",
    "except Exception as e:\n",
    "    print(f\"Error: {e}\")\n",
    "```\n",
    "\n",
    "- Connects to Gmail’s SMTP server on port 587.\n",
    "\n",
    "- Secures the connection using starttls().\n",
    "\n",
    "- Logs in and sends the email.\n",
    "\n",
    "- Handles errors gracefully.\n",
    "\n",
    "### Why Use HTML Emails?\n",
    "1. Better Presentation – Use headings, colors, images, and formatting.\n",
    "\n",
    "2. Clickable Links & Buttons – Add hyperlinks and call-to-action buttons.\n",
    "\n",
    "3. More Engagement – Looks more professional than plain text emails.\n",
    "\n",
    "\n",
    "\n",
    "\n",
    "\n",
    "\n",
    "\n"
   ]
  },
  {
   "cell_type": "markdown",
   "metadata": {},
   "source": [
    "### Compose HTML emails full code"
   ]
  },
  {
   "cell_type": "code",
   "execution_count": 4,
   "metadata": {},
   "outputs": [],
   "source": [
    "import smtplib\n",
    "from email.mime.multipart import MIMEMultipart\n",
    "from email.mime.text import MIMEText\n"
   ]
  },
  {
   "cell_type": "code",
   "execution_count": 5,
   "metadata": {},
   "outputs": [
    {
     "name": "stdout",
     "output_type": "stream",
     "text": [
      "HTML email send successfully!\n"
     ]
    }
   ],
   "source": [
    "# sender email credentials\n",
    "sender_email = 'cylog45@gmail.com'\n",
    "app_password = 'cfif zjvr hwzl itme'\n",
    "receiver_email = 'lucy71054@gmail.com'\n",
    "\n",
    "msg = MIMEMultipart()\n",
    "msg[\"From\"] = sender_email\n",
    "msg[\"To\"] = receiver_email\n",
    "msg[\"Subject\"] = \"Test HTML Email\"\n",
    "\n",
    "# HTML Content\n",
    "html_content = \"\"\"\n",
    "<html>\n",
    "<body>\n",
    "    <h2 style=\"color:blue;\">Hello!</h2>\n",
    "    <p>This is a test email with <b>HTML formatting.</b></p>\n",
    "\n",
    "</body>\n",
    "</html>\n",
    "\"\"\"\n",
    "msg.attach(MIMEText(html_content, \"html\"))\n",
    "\n",
    "# send email\n",
    "\n",
    "try:\n",
    "    with smtplib.SMTP(\"smtp.gmail.com\", 587) as server:\n",
    "        server.starttls()\n",
    "        server.login(sender_email, app_password)\n",
    "        server.sendmail(sender_email, receiver_email, msg.as_string())\n",
    "    print(\"HTML email send successfully!\")\n",
    "except Exception as e:\n",
    "    print(f\"Error: {e}\")"
   ]
  }
 ],
 "metadata": {
  "kernelspec": {
   "display_name": "Python 3 (ipykernel)",
   "language": "python",
   "name": "python3"
  },
  "language_info": {
   "codemirror_mode": {
    "name": "ipython",
    "version": 3
   },
   "file_extension": ".py",
   "mimetype": "text/x-python",
   "name": "python",
   "nbconvert_exporter": "python",
   "pygments_lexer": "ipython3",
   "version": "3.13.2"
  }
 },
 "nbformat": 4,
 "nbformat_minor": 2
}
