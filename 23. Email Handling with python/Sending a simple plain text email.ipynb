{
 "cells": [
  {
   "cell_type": "markdown",
   "metadata": {},
   "source": [
    "### Email Handling In python"
   ]
  },
  {
   "cell_type": "code",
   "execution_count": 1,
   "metadata": {},
   "outputs": [],
   "source": [
    "# my_email_pass = 'cfif zjvr hwzl itme'\n",
    "# email = 'cylog45@gmail.com'"
   ]
  },
  {
   "cell_type": "markdown",
   "metadata": {},
   "source": [
    "#### How smtplib Works:\n",
    "1. Connect to an SMTP server.\n",
    "2. Authenticate with your email and password.\n",
    "3. Compose and send an email.\n",
    "\n",
    "##### SMTP Settings for Popular Email Providers\n",
    "<table border=\"1\" cellpadding=\"10\" cellspacing=\"0\">\n",
    "    <tr>\n",
    "        <th>Email Provider</th>\n",
    "        <th>SMTP Server</th>\n",
    "        <th>Port (TLS)</th>\n",
    "        <th>Port (SSL)</th>\n",
    "    </tr>\n",
    "    <tr>\n",
    "        <td>Gmail</td>\n",
    "        <td>smtp.gmail.com</td>\n",
    "        <td>587</td>\n",
    "        <td>465</td>\n",
    "    </tr>\n",
    "    <tr>\n",
    "        <td>Outlook/Hotmail</td>\n",
    "        <td>smtp.office365.com</td>\n",
    "        <td>587</td>\n",
    "        <td>465</td>\n",
    "    </tr>\n",
    "    <tr>\n",
    "        <td>Yahoo Mail</td>\n",
    "        <td>smtp.mail.yahoo.com</td>\n",
    "        <td>587</td>\n",
    "        <td>465</td>\n",
    "    </tr>\n",
    "</table>\n",
    "\n",
    "\n",
    "\n",
    "Note: Gmail requires App Passwords instead of regular passwords for security reasons."
   ]
  },
  {
   "cell_type": "markdown",
   "metadata": {},
   "source": [
    "Sending emails in Python is done using the smtplib module, which allows connecting to an SMTP (Simple Mail Transfer Protocol) server. To send an email, follow these steps:\n",
    "\n",
    "1. Connect to the SMTP Server – Establish a connection with the email provider’s SMTP server.\n",
    "\n",
    "2. Authenticate – Login using an email and app-specific password.\n",
    "\n",
    "3. Compose the Email – Create an email with a subject, body, and recipient details.\n",
    "\n",
    "4. Send the Email – Use the SMTP server to send the email."
   ]
  },
  {
   "cell_type": "markdown",
   "metadata": {},
   "source": [
    "### Code Explanation\n",
    "```python\n",
    "\n",
    "import smtplib\n",
    "from email.mime.text import MIMEText\n",
    "from email.mime.multipart import MIMEMultipart\n",
    "```\n",
    "- smtplib – Handles sending emails via SMTP.\n",
    "\n",
    "- MIMEText and MIMEMultipart – Allow sending formatted emails with a subject, body, and attachments.\n",
    "\n",
    "###  sender email credentials\n",
    "```python\n",
    "sender_email = 'cylog45@gmail.com'\n",
    "app_password = 'cfif zjvr hwzl itme'\n",
    "receiver_email = 'lucy71054@gmail.com'\n",
    "```\n",
    "- Define the sender’s email and app password (not a regular password for security reasons).\n",
    "\n",
    "- Specify the receiver’s email address.\n",
    "\n",
    "### email content\n",
    "```python\n",
    "\n",
    "subject = \"Test email from python\"\n",
    "body = \"Hello, \\n\\nthis is a test email sent using python!\\n\\nbest regards.\"\n",
    "```\n",
    "- Define the email subject and body text.\n",
    "\n",
    "### create email message\n",
    "```python\n",
    "msg = MIMEMultipart()\n",
    "msg['From'] = sender_email\n",
    "msg['To'] = receiver_email\n",
    "msg['Subject'] = subject\n",
    "msg.attach(MIMEText(body, \"plain\"))\n",
    "```\n",
    "- Creates a multipart email and sets From, To, and Subject fields.\n",
    "\n",
    "- Attaches the email body as plain text.\n",
    "\n",
    "### connect to Gmail SMTP server and send email\n",
    "```python\n",
    "try:\n",
    "    with smtplib.SMTP(\"smtp.gmail.com\", 587) as server:\n",
    "        server.starttls()  # Secures the connection\n",
    "        server.login(sender_email, app_password)  # Logs into the email account\n",
    "        server.sendmail(sender_email, receiver_email, msg.as_string())  # Sends email\n",
    "        print(\"Email sent successfully!\")\n",
    "except Exception as e:\n",
    "    print(f\"Error: {e}\")\n",
    "```\n",
    "- Connects to Gmail’s SMTP server on port 587.\n",
    "\n",
    "- Uses starttls() to secure the connection.\n",
    "\n",
    "- Logs in using credentials and sends the email.\n",
    "\n",
    "- Handles exceptions in case of errors.\n",
    "```If something goes wrong, an error message will be displayed.```"
   ]
  },
  {
   "cell_type": "markdown",
   "metadata": {},
   "source": [
    "### Sending Email full code"
   ]
  },
  {
   "cell_type": "code",
   "execution_count": 2,
   "metadata": {},
   "outputs": [],
   "source": [
    "import smtplib\n",
    "from email.mime.text import MIMEText\n",
    "from email.mime.multipart import MIMEMultipart"
   ]
  },
  {
   "cell_type": "code",
   "execution_count": 3,
   "metadata": {},
   "outputs": [
    {
     "name": "stdout",
     "output_type": "stream",
     "text": [
      "email send successfully!\n"
     ]
    }
   ],
   "source": [
    "# sender email credentials\n",
    "\n",
    "sender_email = 'cylog45@gmail.com'\n",
    "app_password = 'cfif zjvr hwzl itme'\n",
    "receiver_email = 'lucy71054@gmail.com'\n",
    "\n",
    "# email content\n",
    "subject = \"Test email from python\"\n",
    "body = \"Hello, \\n\\nthis is a test email sent using python!\\n\\nbest regards.\"\n",
    "\n",
    "# create email message\n",
    "msg = MIMEMultipart()\n",
    "msg['From'] = sender_email\n",
    "msg['To'] = receiver_email\n",
    "msg['Subject'] = subject\n",
    "\n",
    "msg.attach(MIMEText(body, \"plain\"))\n",
    "\n",
    "# connect to gmail SMTP server and send email\n",
    "try:\n",
    "    with smtplib.SMTP(\"smtp.gmail.com\", 587) as server:\n",
    "        server.starttls()\n",
    "        server.login(sender_email,app_password)\n",
    "        server.sendmail(sender_email,receiver_email, msg.as_string())\n",
    "        print(\"email send successfully!\")\n",
    "except Exception as e:\n",
    "    print(f\"Error: {e}\")"
   ]
  }
 ],
 "metadata": {
  "kernelspec": {
   "display_name": "Python 3 (ipykernel)",
   "language": "python",
   "name": "python3"
  },
  "language_info": {
   "codemirror_mode": {
    "name": "ipython",
    "version": 3
   },
   "file_extension": ".py",
   "mimetype": "text/x-python",
   "name": "python",
   "nbconvert_exporter": "python",
   "pygments_lexer": "ipython3",
   "version": "3.13.2"
  }
 },
 "nbformat": 4,
 "nbformat_minor": 2
}
