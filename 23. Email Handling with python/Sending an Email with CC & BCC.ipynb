{
 "cells": [
  {
   "cell_type": "markdown",
   "metadata": {},
   "source": [
    "### Sending an Email with CC & BCC in Python\n",
    "In email communication, CC (Carbon Copy) and BCC (Blind Carbon Copy) allow us to send emails to multiple recipients while controlling their visibility.\n",
    "\n",
    "- CC (Carbon Copy): Recipients in CC can see all other recipients in To and CC.\n",
    "\n",
    "- BCC (Blind Carbon Copy): Recipients in BCC are hidden from all other recipients."
   ]
  },
  {
   "cell_type": "markdown",
   "metadata": {},
   "source": [
    "### Code Explanation\n",
    "#### 1. Importing Required Modules\n",
    "\n",
    "```python\n",
    "import smtplib\n",
    "from email.mime.multipart import MIMEMultipart\n",
    "from email.mime.text import MIMEText\n",
    "```\n",
    "- smtplib – Handles the email-sending process via SMTP.\n",
    "\n",
    "- MIMEMultipart – Allows us to create an email with multiple parts.\n",
    "\n",
    "- MIMEText – Used to add plain text content to the email.\n",
    "\n",
    "#### 2. Setting Up Email Credentials and Recipients\n",
    "```python\n",
    "\n",
    "sender_email = \"cylog45@gmail.com\"\n",
    "to_email = \"lucy71054@gmail.com\"  # Primary recipient\n",
    "cc_email = \"ekhteyarin@gmail.com\"  # CC recipient\n",
    "bcc_email = \"mohdell427@gmail.com\"  # BCC recipient\n",
    "app_password = \"cfif zjvr hwzl itme\"\n",
    "```\n",
    "- Define sender's email and app password.\n",
    "\n",
    "- Specify recipients for To, CC, and BCC fields.\n",
    "\n",
    "#### 3. Creating the Email Message\n",
    "```python\n",
    "msg = MIMEMultipart()\n",
    "msg[\"From\"] = sender_email\n",
    "msg[\"To\"] = to_email\n",
    "msg[\"CC\"] = cc_email\n",
    "msg[\"Subject\"] = \"Email with CC & BCC\"\n",
    "```\n",
    "- Create a MIMEMultipart email message.\n",
    "\n",
    "- Set \"From\", \"To\", and \"CC\" headers.\n",
    "\n",
    "- BCC is not added in the header to keep it hidden from recipients.\n",
    "\n",
    "#### 4. Adding Email Body\n",
    "```python\n",
    "\n",
    "body = \"This email includes CC and BCC recipients.\"\n",
    "msg.attach(MIMEText(body, \"plain\"))\n",
    "```\n",
    "- Attach plain text content as the email body.\n",
    "\n",
    "#### 5. Sending the Email with CC & BCC\n",
    "```python\n",
    "\n",
    "try:\n",
    "    recipients = [to_email, cc_email, bcc_email]  # List of all recipients\n",
    "    with smtplib.SMTP(\"smtp.gmail.com\", 587) as server:\n",
    "        server.starttls()  # Secure connection\n",
    "        server.login(sender_email, app_password)  # Log in to the email account\n",
    "        server.sendmail(sender_email, recipients, msg.as_string())  # Send email\n",
    "    print(\"Email with CC & BCC sent successfully!\")\n",
    "except Exception as e:\n",
    "    print(f\"Error: {e}\")\n",
    "```\n",
    "- Combines all recipients (To, CC, BCC) in a list for sendmail().\n",
    "\n",
    "- Establishes a secure connection using starttls().\n",
    "\n",
    "- Logs in to the sender’s email account.\n",
    "\n",
    "- Sends the email to all recipients.\n",
    "\n",
    "- Handles errors during the process.\n",
    "\n",
    "### Why Use CC & BCC?\n",
    "<table border=\"1\">\n",
    "    <tr>\n",
    "        <th>Feature</th>\n",
    "        <th>Purpose</th>\n",
    "    </tr>\n",
    "    <tr>\n",
    "        <td><b>CC (Carbon Copy)</b></td>\n",
    "        <td>Used when multiple people need to receive a copy of the email and see who else received it.</td>\n",
    "    </tr>\n",
    "    <tr>\n",
    "        <td><b>BCC (Blind Carbon Copy)</b></td>\n",
    "        <td>Used when sending an email to multiple people while keeping their addresses hidden.</td>\n",
    "    </tr>\n",
    "</table>\n",
    "\n",
    "#### Use Cases\n",
    "- CC: Keeping team members informed in a discussion.\n",
    "\n",
    "- BCC: Sending newsletters to multiple recipients without revealing email addresses.\n",
    "\n"
   ]
  },
  {
   "cell_type": "markdown",
   "metadata": {},
   "source": [
    "### Sending an Email with CC & BCC Full Code"
   ]
  },
  {
   "cell_type": "code",
   "execution_count": 8,
   "metadata": {},
   "outputs": [],
   "source": [
    "import smtplib\n",
    "from email.mime.multipart import MIMEMultipart\n",
    "from email.mime.text import MIMEText"
   ]
  },
  {
   "cell_type": "code",
   "execution_count": 11,
   "metadata": {},
   "outputs": [
    {
     "name": "stdout",
     "output_type": "stream",
     "text": [
      "Email with CC & BCC sent successfully!\n"
     ]
    }
   ],
   "source": [
    "sender_email = \"cylog45@gmail.com\"\n",
    "to_email = \"lucy71054@gmail.com\"\n",
    "cc_email = \"ekhteyarin@gmail.com\"\n",
    "bcc_email = \"mohdell427@gmail.com\"\n",
    "app_password = \"cfif zjvr hwzl itme\"\n",
    "\n",
    "\n",
    "msg = MIMEMultipart()\n",
    "msg[\"From\"] = sender_email\n",
    "msg[\"To\"] = to_email\n",
    "msg[\"CC\"] = cc_email\n",
    "msg[\"Subject\"] = \"email with CC & BCC\"\n",
    "\n",
    "\n",
    "body = \"this email includes CC and BCC recipients.\"\n",
    "msg.attach(MIMEText(body, \"plain\"))\n",
    "\n",
    "\n",
    "try:\n",
    "    recipients = [to_email, cc_email, bcc_email ]\n",
    "    with smtplib.SMTP(\"smtp.gmail.com\", 587) as server:\n",
    "        server.starttls()\n",
    "        server.login(sender_email, app_password)\n",
    "        server.sendmail(sender_email, recipients, msg.as_string())\n",
    "    print(\"Email with CC & BCC sent successfully!\")\n",
    "except Exception as e:\n",
    "    print(f\" Error: {e}\")"
   ]
  }
 ],
 "metadata": {
  "kernelspec": {
   "display_name": "Python 3 (ipykernel)",
   "language": "python",
   "name": "python3"
  },
  "language_info": {
   "codemirror_mode": {
    "name": "ipython",
    "version": 3
   },
   "file_extension": ".py",
   "mimetype": "text/x-python",
   "name": "python",
   "nbconvert_exporter": "python",
   "pygments_lexer": "ipython3",
   "version": "3.13.2"
  }
 },
 "nbformat": 4,
 "nbformat_minor": 2
}
