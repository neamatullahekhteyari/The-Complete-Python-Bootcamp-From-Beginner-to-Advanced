{
 "cells": [
  {
   "cell_type": "markdown",
   "metadata": {},
   "source": [
    "### Sending an Email with an Attachment\n",
    "In Python, we can use the smtplib and email modules to send an email with an attachment. This method allows us to send PDF files, images, documents, or any other file type."
   ]
  },
  {
   "cell_type": "markdown",
   "metadata": {},
   "source": [
    "### Code Explanation\n",
    "#### 1. Importing Required Modules\n",
    "```python\n",
    "import smtplib\n",
    "from email.mime.multipart import MIMEMultipart\n",
    "from email.mime.text import MIMEText\n",
    "import os\n",
    "from email.mime.base import MIMEBase\n",
    "from email import encoders\n",
    "```\n",
    "- smtplib – Handles sending emails via SMTP.\n",
    "\n",
    "- MIMEMultipart – Allows us to create an email with multiple parts (body + attachments).\n",
    "\n",
    "- MIMEText – Used to add text content to the email.\n",
    "\n",
    "- os – Helps in handling file paths dynamically.\n",
    "\n",
    "- MIMEBase – Used to handle file attachments.\n",
    "\n",
    "- encoders – Encodes the attachment in a format suitable for email transmission.\n",
    "\n",
    "### 2. Setting Up Email Credentials\n",
    "```python\n",
    "\n",
    "# sender email credentials\n",
    "sender_email = 'cylog45@gmail.com'\n",
    "app_password = 'cfif zjvr hwzl itme'\n",
    "receiver_email = 'lucy71054@gmail.com'\n",
    "file_path = \"contract.pdf\"\n",
    "```\n",
    "- Define sender's email, app password, and recipient's email.\n",
    "\n",
    "- Specify the file path of the attachment.\n",
    "\n",
    "### 3. Creating the Email Message\n",
    "```python\n",
    "\n",
    "# create email message\n",
    "msg = MIMEMultipart()\n",
    "msg[\"From\"] = sender_email\n",
    "msg[\"To\"] = receiver_email\n",
    "msg[\"Subject\"] = \"Email with attachment\"\n",
    "```\n",
    "- Create a MIMEMultipart object to hold the email body and attachment.\n",
    "\n",
    "- Set From, To, and Subject fields.\n",
    "\n",
    "### 4. Adding Email Body\n",
    "```python\n",
    "\n",
    "# email body\n",
    "body = \"Please find the attached file.\"\n",
    "msg.attach(MIMEText(body, \"plain\"))\n",
    "```\n",
    "- Add a plain text message as the body of the email.\n",
    "\n",
    "### 5. Attaching a File\n",
    "```python\n",
    "\n",
    "try:\n",
    "    with open(file_path, 'rb') as attachment:\n",
    "        part = MIMEBase(\"application\", \"octet-stream\")  # Define attachment type\n",
    "        part.set_payload(attachment.read())  # Read the file\n",
    "        encoders.encode_base64(part)  # Encode in base64 to ensure safe transmission\n",
    "        part.add_header(\"Content-Disposition\", f\"attachment; filename={os.path.basename(file_path)}\")  # Set filename\n",
    "        msg.attach(part)  # Attach the file to the email\n",
    "except FileNotFoundError:\n",
    "    print(\"Attachment file not found!\")\n",
    "```\n",
    "- Opens the file in binary mode (rb) for reading.\n",
    "\n",
    "- Encodes the file using Base64 to make it email-safe.\n",
    "\n",
    "- Adds a Content-Disposition header to define it as an attachment.\n",
    "\n",
    "- Attaches the file to the email.\n",
    "\n",
    "- Handles file not found errors gracefully.\n",
    "\n",
    "### 6. Sending the Email\n",
    "```python\n",
    "\n",
    "try:\n",
    "    with smtplib.SMTP(\"smtp.gmail.com\", 587) as server:\n",
    "        server.starttls()  # Secure connection\n",
    "        server.login(sender_email, app_password)  # Log in to the email account\n",
    "        server.sendmail(sender_email, receiver_email, msg.as_string())  # Send the email\n",
    "    print(\"Email with Attachment sent successfully!\")\n",
    "except Exception as e:\n",
    "    print(f\"Error: {e}\")\n",
    "```\n",
    "- Connects to Gmail’s SMTP server on port 587.\n",
    "\n",
    "- Secures the connection using starttls().\n",
    "\n",
    "- Logs in and sends the email.\n",
    "\n",
    "- Handles any errors during the sending process.\n",
    "\n",
    "### Why Use Email Attachments?\n",
    "1. Send Important Documents – PDFs, invoices, reports.\n",
    "\n",
    "2. Share Multimedia Files – Images, audio, video.\n",
    "\n",
    "3. Automate File Distribution – Scheduled email reports, logs, etc."
   ]
  },
  {
   "cell_type": "markdown",
   "metadata": {},
   "source": [
    "### Sending an Email with an Attachemnt full code"
   ]
  },
  {
   "cell_type": "code",
   "execution_count": 6,
   "metadata": {},
   "outputs": [],
   "source": [
    "import smtplib\n",
    "from email.mime.multipart import MIMEMultipart\n",
    "from email.mime.text import MIMEText\n",
    "import os\n",
    "from email.mime.base import MIMEBase\n",
    "from email import encoders"
   ]
  },
  {
   "cell_type": "code",
   "execution_count": 7,
   "metadata": {},
   "outputs": [
    {
     "name": "stdout",
     "output_type": "stream",
     "text": [
      "Email with Attachment send successfully!\n"
     ]
    }
   ],
   "source": [
    "# sender email credentials\n",
    "sender_email = 'cylog45@gmail.com'\n",
    "app_password = 'cfif zjvr hwzl itme'\n",
    "receiver_email = 'lucy71054@gmail.com'\n",
    "file_path = \"contract.pdf\"\n",
    "\n",
    "# create email message\n",
    "msg = MIMEMultipart()\n",
    "msg[\"From\"] = sender_email\n",
    "msg[\"To\"] = receiver_email\n",
    "msg[\"Subject\"] = \"Email with attachment\"\n",
    "\n",
    "# email body\n",
    "body = \"please find the attached file.\"\n",
    "msg.attach(MIMEText(body, \"plain\"))\n",
    "\n",
    "# attach file\n",
    "try:\n",
    "    with open(file_path, 'rb') as attachment:\n",
    "        part = MIMEBase(\"application\", \"octet-stream\")\n",
    "        part.set_payload(attachment.read())\n",
    "        encoders.encode_base64(part)\n",
    "        part.add_header(\"Content-Disposition\", f\"attachment; filename={os.path.basename(file_path)}\")\n",
    "        msg.attach(part)\n",
    "except FileNotFoundError:\n",
    "    print(\"attachment file not found!\")\n",
    "    \n",
    "# send email\n",
    "\n",
    "try:\n",
    "    with smtplib.SMTP(\"smtp.gmail.com\", 587) as server:\n",
    "        server.starttls()\n",
    "        server.login(sender_email, app_password)\n",
    "        server.sendmail(sender_email, receiver_email, msg.as_string())\n",
    "    print(\"Email with Attachment send successfully!\")\n",
    "except Exception as e:\n",
    "    print(f\"Error: {e}\")"
   ]
  },
  {
   "cell_type": "markdown",
   "metadata": {},
   "source": [
    "### Sending an Email with CC & BCC"
   ]
  },
  {
   "cell_type": "code",
   "execution_count": 8,
   "metadata": {},
   "outputs": [],
   "source": [
    "import smtplib\n",
    "from email.mime.multipart import MIMEMultipart\n",
    "from email.mime.text import MIMEText"
   ]
  },
  {
   "cell_type": "code",
   "execution_count": 11,
   "metadata": {},
   "outputs": [
    {
     "name": "stdout",
     "output_type": "stream",
     "text": [
      "Email with CC & BCC sent successfully!\n"
     ]
    }
   ],
   "source": [
    "sender_email = \"cylog45@gmail.com\"\n",
    "to_email = \"lucy71054@gmail.com\"\n",
    "cc_email = \"ekhteyarin@gmail.com\"\n",
    "bcc_email = \"mohdell427@gmail.com\"\n",
    "app_password = \"cfif zjvr hwzl itme\"\n",
    "\n",
    "\n",
    "msg = MIMEMultipart()\n",
    "msg[\"From\"] = sender_email\n",
    "msg[\"To\"] = to_email\n",
    "msg[\"CC\"] = cc_email\n",
    "msg[\"Subject\"] = \"email with CC & BCC\"\n",
    "\n",
    "\n",
    "body = \"this email includes CC and BCC recipients.\"\n",
    "msg.attach(MIMEText(body, \"plain\"))\n",
    "\n",
    "\n",
    "try:\n",
    "    recipients = [to_email, cc_email, bcc_email ]\n",
    "    with smtplib.SMTP(\"smtp.gmail.com\", 587) as server:\n",
    "        server.starttls()\n",
    "        server.login(sender_email, app_password)\n",
    "        server.sendmail(sender_email, recipients, msg.as_string())\n",
    "    print(\"Email with CC & BCC sent successfully!\")\n",
    "except Exception as e:\n",
    "    print(f\" Error: {e}\")"
   ]
  }
 ],
 "metadata": {
  "kernelspec": {
   "display_name": "Python 3 (ipykernel)",
   "language": "python",
   "name": "python3"
  },
  "language_info": {
   "codemirror_mode": {
    "name": "ipython",
    "version": 3
   },
   "file_extension": ".py",
   "mimetype": "text/x-python",
   "name": "python",
   "nbconvert_exporter": "python",
   "pygments_lexer": "ipython3",
   "version": "3.13.2"
  }
 },
 "nbformat": 4,
 "nbformat_minor": 2
}
