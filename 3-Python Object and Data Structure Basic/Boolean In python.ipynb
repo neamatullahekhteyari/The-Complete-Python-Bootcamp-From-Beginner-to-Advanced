{
 "cells": [
  {
   "cell_type": "markdown",
   "id": "61af48fc",
   "metadata": {},
   "source": [
    "___\n",
    "\n",
    "<a href='https://www.udemy.com/user/Neamatullah-ekhteyari/'><img src='../Neamatullah.png'/></a>\n",
    "___\n",
    "<center><em>Content Copyright by Neamatullah Ekhteyari</em></center>"
   ]
  },
  {
   "cell_type": "markdown",
   "id": "c2ad2ac1",
   "metadata": {},
   "source": [
    "## Understanding Booleans in Python\n",
    "Introduction to Booleans\n",
    "In Python, Booleans represent one of the most fundamental data types, which can only have two values:\n",
    "- True\n",
    "- False\n",
    "\n",
    "Booleans are commonly used in conditional statements, comparisons, and logical operations to control the flow of programs.\n",
    "\n",
    "In this notebook, we will cover:\n",
    "\n",
    "1. Boolean Values (True and False)\n",
    "2. Checking Boolean Types\n",
    "3. Boolean Conditions in If Statements\n",
    "4. Comparison Operators\n",
    "5. Logical Operators (and, or, not)\n",
    "6. The None Type and its Boolean Value\n",
    "\n"
   ]
  },
  {
   "cell_type": "markdown",
   "id": "25eff6ed",
   "metadata": {},
   "source": [
    "## 1. Boolean Values in Python\n",
    "Python has two built-in Boolean values:\n",
    "- True\n",
    "- False\n",
    "\n",
    "These values are case-sensitive, meaning they must be written with an uppercase first letter."
   ]
  },
  {
   "cell_type": "code",
   "execution_count": 1,
   "id": "9aa61f47",
   "metadata": {},
   "outputs": [
    {
     "name": "stdout",
     "output_type": "stream",
     "text": [
      "True\n",
      "False\n"
     ]
    }
   ],
   "source": [
    "print(True)   # Output: True\n",
    "print(False)  # Output: False\n"
   ]
  },
  {
   "cell_type": "markdown",
   "id": "841ff78a",
   "metadata": {},
   "source": [
    "## 2. Checking the Type of Boolean Values\n",
    "In Python, Boolean values belong to the bool class. You can use the type() function to verify this:"
   ]
  },
  {
   "cell_type": "code",
   "execution_count": 2,
   "id": "4a73a9b1",
   "metadata": {},
   "outputs": [
    {
     "name": "stdout",
     "output_type": "stream",
     "text": [
      "<class 'bool'>\n",
      "<class 'bool'>\n"
     ]
    }
   ],
   "source": [
    "print(type(True))   # Output: <class 'bool'>\n",
    "print(type(False))  # Output: <class 'bool'>\n"
   ]
  },
  {
   "cell_type": "markdown",
   "id": "6bcc7f5d",
   "metadata": {},
   "source": [
    "## 3. Boolean Conditions in If Statements\n",
    "Booleans are commonly used in if statements to control program flow based on conditions.\n",
    "\n",
    "### Example:"
   ]
  },
  {
   "cell_type": "code",
   "execution_count": 4,
   "id": "5ee2c787",
   "metadata": {},
   "outputs": [
    {
     "name": "stdout",
     "output_type": "stream",
     "text": [
      "Enjoy the sunshine!\n"
     ]
    }
   ],
   "source": [
    "is_raining = False\n",
    "\n",
    "if is_raining:\n",
    "    print(\"Take an Umbrella!\")  \n",
    "else:\n",
    "    print(\"Enjoy the sunshine!\")  \n"
   ]
  },
  {
   "cell_type": "markdown",
   "id": "954b4fd5",
   "metadata": {},
   "source": [
    "Since is_raining is False, the else block executes."
   ]
  },
  {
   "cell_type": "markdown",
   "id": "e4751f31",
   "metadata": {},
   "source": [
    "## 4. Boolean Expressions Using Comparison Operators\n",
    "Comparison operators return Boolean values (True or False).\n",
    "\n",
    "### Common Comparison Operators:"
   ]
  },
  {
   "cell_type": "markdown",
   "id": "9f609386",
   "metadata": {},
   "source": [
    "<table border=\"1\">\n",
    "    <tr>\n",
    "        <th>Operator</th>\n",
    "        <th>Meaning</th>\n",
    "        <th>Example</th>\n",
    "        <th>Result</th>\n",
    "    </tr>\n",
    "    <tr>\n",
    "        <td>&gt;</td>\n",
    "        <td>Greater than</td>\n",
    "        <td>10 &gt; 5</td>\n",
    "        <td>True</td>\n",
    "    </tr>\n",
    "    <tr>\n",
    "        <td>&lt;</td>\n",
    "        <td>Less than</td>\n",
    "        <td>3 &lt; 2</td>\n",
    "        <td>False</td>\n",
    "    </tr>\n",
    "    <tr>\n",
    "        <td>==</td>\n",
    "        <td>Equal to</td>\n",
    "        <td>5 == 5</td>\n",
    "        <td>True</td>\n",
    "    </tr>\n",
    "    <tr>\n",
    "        <td>!=</td>\n",
    "        <td>Not equal to</td>\n",
    "        <td>6 != 3</td>\n",
    "        <td>True</td>\n",
    "    </tr>\n",
    "</table>\n"
   ]
  },
  {
   "cell_type": "code",
   "execution_count": 5,
   "id": "61ebfe80",
   "metadata": {},
   "outputs": [
    {
     "name": "stdout",
     "output_type": "stream",
     "text": [
      "True\n",
      "False\n",
      "True\n",
      "True\n"
     ]
    }
   ],
   "source": [
    "print(10 > 5)   # Output: True\n",
    "print(3 < 2)    # Output: False\n",
    "print(5 == 5)   # Output: True\n",
    "print(6 != 3)   # Output: True\n"
   ]
  },
  {
   "cell_type": "markdown",
   "id": "cc58a287",
   "metadata": {},
   "source": [
    "## 5. Boolean Logic with and, or, and not\n",
    "Python provides three logical operators to combine Boolean values:\n",
    "\n",
    "### Logical Operators Table:"
   ]
  },
  {
   "cell_type": "markdown",
   "id": "7bc18d89",
   "metadata": {},
   "source": [
    "<table border=\"1\">\n",
    "    <tr>\n",
    "        <th>Operator</th>\n",
    "        <th>Description</th>\n",
    "        <th>Example</th>\n",
    "        <th>Result</th>\n",
    "    </tr>\n",
    "    <tr>\n",
    "        <td>and</td>\n",
    "        <td>Returns True if both conditions are True</td>\n",
    "        <td>(10 &gt; 5 and 20 &gt; 15)</td>\n",
    "        <td>True</td>\n",
    "    </tr>\n",
    "    <tr>\n",
    "        <td>or</td>\n",
    "        <td>Returns True if at least one condition is True</td>\n",
    "        <td>(10 &gt; 5 or 20 &lt; 15)</td>\n",
    "        <td>True</td>\n",
    "    </tr>\n",
    "    <tr>\n",
    "        <td>not</td>\n",
    "        <td>Reverses the Boolean value</td>\n",
    "        <td>not(10 &gt; 5)</td>\n",
    "        <td>False</td>\n",
    "    </tr>\n",
    "</table>\n"
   ]
  },
  {
   "cell_type": "code",
   "execution_count": 6,
   "id": "1ab003b6",
   "metadata": {},
   "outputs": [
    {
     "name": "stdout",
     "output_type": "stream",
     "text": [
      "True\n",
      "True\n",
      "False\n"
     ]
    }
   ],
   "source": [
    "x = 10\n",
    "y = 20\n",
    "\n",
    "print(x > 5 and y > 15)  # True (Both conditions are True)\n",
    "print(x > 5 or y < 15)   # True (At least one condition is True)\n",
    "print(not(x > 5))        # False (Reverses True to False)\n"
   ]
  },
  {
   "cell_type": "code",
   "execution_count": null,
   "id": "5c89b92b",
   "metadata": {},
   "outputs": [],
   "source": []
  },
  {
   "cell_type": "markdown",
   "id": "5432b29e",
   "metadata": {},
   "source": [
    "## 6. The None Type and its Boolean Value\n",
    "In Python, None is a special type representing the absence of a value. It is not the same as False, but when used in Boolean expressions, it behaves like False.\n",
    "\n",
    "### Example:"
   ]
  },
  {
   "cell_type": "code",
   "execution_count": 7,
   "id": "e7ffed4d",
   "metadata": {},
   "outputs": [
    {
     "name": "stdout",
     "output_type": "stream",
     "text": [
      "None\n",
      "<class 'NoneType'>\n",
      "100\n"
     ]
    }
   ],
   "source": [
    "value = None\n",
    "print(value)         # Output: None\n",
    "print(type(value))   # Output: <class 'NoneType'>\n",
    "\n",
    "# Assigning a new value\n",
    "value = 100\n",
    "print(value)         # Output: 100\n"
   ]
  },
  {
   "cell_type": "markdown",
   "id": "8effe300",
   "metadata": {},
   "source": [
    "When None is used in a condition, it evaluates to False."
   ]
  },
  {
   "cell_type": "markdown",
   "id": "fcfec31a",
   "metadata": {},
   "source": [
    "### Conclusion\n",
    "In this notebook, we explored:\n",
    "1. Boolean values (True and False)\n",
    "2. Checking Boolean types (type(True))\n",
    "3. Using Booleans in if statements\n",
    "4. Comparison operators (>, <, ==, !=)\n",
    "5. Logical operators (and, or, not)\n",
    "6. The None type and its Boolean behavior\n",
    "\n",
    "With this knowledge, you are now able to use Boolean logic effectively in Python programs."
   ]
  },
  {
   "cell_type": "code",
   "execution_count": null,
   "id": "c9fe8ee9",
   "metadata": {},
   "outputs": [],
   "source": []
  }
 ],
 "metadata": {
  "kernelspec": {
   "display_name": "Python 3 (ipykernel)",
   "language": "python",
   "name": "python3"
  },
  "language_info": {
   "codemirror_mode": {
    "name": "ipython",
    "version": 3
   },
   "file_extension": ".py",
   "mimetype": "text/x-python",
   "name": "python",
   "nbconvert_exporter": "python",
   "pygments_lexer": "ipython3",
   "version": "3.13.2"
  }
 },
 "nbformat": 4,
 "nbformat_minor": 5
}
