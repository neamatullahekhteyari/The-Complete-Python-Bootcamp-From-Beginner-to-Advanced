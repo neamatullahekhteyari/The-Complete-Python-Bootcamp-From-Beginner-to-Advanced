{
 "cells": [
  {
   "cell_type": "markdown",
   "id": "bd525c47",
   "metadata": {},
   "source": [
    "___\n",
    "\n",
    "<a href='https://www.udemy.com/user/Neamatullah-ekhteyari/'><img src='../Neamatullah.png'/></a>\n",
    "___\n",
    "<center><em>Content Copyright by Neamatullah Ekhteyari</em></center>"
   ]
  },
  {
   "cell_type": "markdown",
   "id": "3a8857fe",
   "metadata": {},
   "source": [
    "### Dictionaries\n",
    "\n",
    "We've explored sequences in Python, and now we'll shift our focus to mappings. Unlike sequences, which store objects by their position, mappings use key-value pairs for storage. In other programming languages, dictionaries are often referred to as hash tables.\n",
    "\n",
    "This section will introduce dictionaries and cover:\n",
    "\n",
    "1. Creating a dictionary\n",
    "2. Accessing elements in a dictionary\n",
    "3. Nesting dictionaries\n",
    "4. Common dictionary methods"
   ]
  },
  {
   "cell_type": "markdown",
   "id": "7b9ad14d",
   "metadata": {},
   "source": [
    "#### Understanding Mappings\n",
    "Mappings store objects using a key rather than their order in a sequence. This means dictionaries do not retain order by default. A dictionary consists of keys and their corresponding values, which can be any valid Python object.\n"
   ]
  },
  {
   "cell_type": "markdown",
   "id": "7466f7f2",
   "metadata": {},
   "source": [
    "### Creating a Dictionary\n",
    "Let's create a dictionary to understand its structure:\n",
    "```python\n",
    "# Define a dictionary using {} and : to separate keys and values\n",
    "my_dict = {'key1': 'value1', 'key2': 'value2'}\n",
    "\n",
    "# Access a value using its key\n",
    "print(my_dict['key2'])  # Output: 'value2'\n",
    "```\n",
    "\n"
   ]
  },
  {
   "cell_type": "markdown",
   "id": "01fbee35",
   "metadata": {},
   "source": [
    "\n",
    "Dictionaries can store different data types:\n",
    "\n",
    "```python\n",
    "my_dict = {'key1': 123, 'key2': [12, 23, 33], 'key3': ['item0', 'item1', 'item2']}\n",
    "\n",
    "# Retrieve a list\n",
    "print(my_dict['key3'])  # Output: ['item0', 'item1', 'item2']\n",
    "\n",
    "# Access an element within a list\n",
    "print(my_dict['key3'][0])  # Output: 'item0'\n",
    "\n",
    "# Apply a string method\n",
    "print(my_dict['key3'][0].upper())  # Output: 'ITEM0'\n",
    "```\n"
   ]
  },
  {
   "cell_type": "markdown",
   "id": "a8febd08",
   "metadata": {},
   "source": [
    "\n",
    "### Modifying Dictionary Values\n",
    "You can update dictionary values like this:\n",
    "\n",
    "```python\n",
    "my_dict['key1'] = my_dict['key1'] - 123\n",
    "print(my_dict['key1'])  \n",
    "\n",
    "# Output: 0\n",
    "```\n",
    "\n",
    "Python provides shorthand operators for updating values:\n",
    "\n",
    "```python\n",
    "my_dict['key1'] -= 123\n",
    "print(my_dict['key1'])  # Output: -123\n",
    "```\n"
   ]
  },
  {
   "cell_type": "markdown",
   "id": "bd9ee970",
   "metadata": {},
   "source": [
    "\n",
    "### Adding New Key-Value Pairs\n",
    "Dictionaries allow dynamic addition of key-value pairs:\n",
    "\n",
    "```python\n",
    "# Create an empty dictionary\n",
    "d = {}\n",
    "\n",
    "# Add key-value pairs\n",
    "d['animal'] = 'Dog'\n",
    "d['answer'] = 42\n",
    "\n",
    "print(d)  # Output: {'animal': 'Dog', 'answer': 42}\n",
    "```\n"
   ]
  },
  {
   "cell_type": "markdown",
   "id": "59e40a2a",
   "metadata": {},
   "source": [
    "\n",
    "### Nested Dictionaries\n",
    "Python dictionaries support nesting:\n",
    "\n",
    "```python\n",
    "d = {'key1': {'nestkey': {'subnestkey': 'value'}}}\n",
    "\n",
    "# Retrieve a deeply nested value\n",
    "print(d['key1']['nestkey']['subnestkey'])  # Output: 'value'\n",
    "```\n"
   ]
  },
  {
   "cell_type": "markdown",
   "id": "3b70e029",
   "metadata": {},
   "source": [
    "### Dictionary Methods\n",
    "Python provides built-in methods to interact with dictionaries:\n",
    "\n",
    "```python\n",
    "# Create a dictionary\n",
    "d = {'key1': 1, 'key2': 2, 'key3': 3}\n",
    "\n",
    "# Get all keys\n",
    "print(d.keys())  # Output: dict_keys(['key1', 'key2', 'key3'])\n",
    "\n",
    "# Get all values\n",
    "print(d.values())  # Output: dict_values([1, 2, 3])\n",
    "\n",
    "# Get all key-value pairs as tuples\n",
    "print(d.items())  # Output: dict_items([('key1', 1), ('key2', 2), ('key3', 3)])\n",
    "```\n"
   ]
  },
  {
   "cell_type": "markdown",
   "id": "34ec6495",
   "metadata": {},
   "source": [
    "\n",
    "### Summary\n",
    "Dictionaries are a fundamental part of Python. You now understand how to create, access, modify, and nest dictionaries, as well as how to use common dictionary methods. You'll continue to see dictionaries used throughout Python, so getting comfortable with them is essential!\n"
   ]
  }
 ],
 "metadata": {
  "kernelspec": {
   "display_name": "Python 3 (ipykernel)",
   "language": "python",
   "name": "python3"
  },
  "language_info": {
   "codemirror_mode": {
    "name": "ipython",
    "version": 3
   },
   "file_extension": ".py",
   "mimetype": "text/x-python",
   "name": "python",
   "nbconvert_exporter": "python",
   "pygments_lexer": "ipython3",
   "version": "3.13.2"
  }
 },
 "nbformat": 4,
 "nbformat_minor": 5
}
