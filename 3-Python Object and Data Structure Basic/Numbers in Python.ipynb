{
 "cells": [
  {
   "cell_type": "markdown",
   "id": "a0e82233",
   "metadata": {},
   "source": [
    "___\n",
    "\n",
    "<a href='https://www.udemy.com/user/Neamatullah-ekhteyari/'><img src='../Neamatullah.png'/></a>\n",
    "___\n",
    "<center><em>Content Copyright by Neamatullah Ekhteyari</em></center>"
   ]
  },
  {
   "cell_type": "markdown",
   "id": "9333bde1",
   "metadata": {},
   "source": [
    "# Numbers and more in Python!\n",
    "\n",
    "In this lecture, we will learn about numbers in Python and how to use them.\n",
    "\n",
    "We will learn about the following topics:\n",
    "\n",
    "    1. Types of Numbers in Python\n",
    "    2. Basic Arithmetic\n",
    "    3. Object Assignment in Python"
   ]
  },
  {
   "cell_type": "markdown",
   "id": "a54a95f2",
   "metadata": {},
   "source": [
    "## Types of Numbers in Python\n",
    "Python provides different types of numeric literals that we can use for calculations and data processing. The two main types of numbers we commonly work with are integers and floating-point numbers.\n"
   ]
  },
  {
   "cell_type": "markdown",
   "id": "dae2b2fa",
   "metadata": {},
   "source": [
    "### 1. Integers (int)\n",
    "Integers are whole numbers that can be either positive or negative, including zero. They do not have a decimal point.\n",
    "\n",
    "Examples of Integers:"
   ]
  },
  {
   "cell_type": "code",
   "execution_count": null,
   "id": "1de21fb9",
   "metadata": {},
   "outputs": [],
   "source": [
    "5\n",
    "\n",
    "-12\n",
    "\n",
    "0\n",
    "\n",
    "100000"
   ]
  },
  {
   "cell_type": "markdown",
   "id": "a9976a0e",
   "metadata": {},
   "source": [
    "In Python, integers are used when we need to count whole units, such as counting objects, indexing in lists, or working with loop iterations."
   ]
  },
  {
   "cell_type": "markdown",
   "id": "02362022",
   "metadata": {},
   "source": [
    "### 2. Floating-Point Numbers (float)\n",
    "Floating-point numbers have a decimal point or use scientific notation (exponential form) to represent large or small numbers.\n",
    "Examples of Floating-Point Numbers:"
   ]
  },
  {
   "cell_type": "code",
   "execution_count": null,
   "id": "bb00a31d",
   "metadata": {},
   "outputs": [],
   "source": [
    "3.14 (a decimal number)\n",
    "\n",
    "-0.75\n",
    "\n",
    "2e3 (which is 2 × 10³ = 2000)\n",
    "\n",
    "5E-2 (which is 5 × 10⁻² = 0.05)"
   ]
  },
  {
   "cell_type": "markdown",
   "id": "3c8ade9c",
   "metadata": {},
   "source": [
    "\n",
    "\n",
    "Floating-point numbers are used in Python for precise calculations involving fractions, measurements, and scientific computations."
   ]
  },
  {
   "cell_type": "markdown",
   "id": "830f5cee",
   "metadata": {},
   "source": [
    "## Comparison Table of Number Types\n",
    "\n",
    "<table>\n",
    "<tr>\n",
    "    <th>Examples</th> \n",
    "    <th>Number \"Type\"</th>\n",
    "</tr>\n",
    "\n",
    "<tr>\n",
    "    <td>7, -20, 1024, 0</td>\n",
    "    <td>Integers(int)</td> \n",
    "</tr>\n",
    "\n",
    "<tr>\n",
    "    <td>3.5, -2.75, 1e4, 6E-3</td> \n",
    "    <td>Floats(float)</td> \n",
    "</tr>\n",
    " </table>"
   ]
  },
  {
   "cell_type": "markdown",
   "id": "5ad18fb3",
   "metadata": {},
   "source": [
    "### Basic Arithmetic Operations\n",
    "Now, let’s perform some basic arithmetic operations using both integers and floating-point numbers in Python:"
   ]
  },
  {
   "cell_type": "markdown",
   "id": "9952e59f",
   "metadata": {},
   "source": [
    "#### Addition (+)"
   ]
  },
  {
   "cell_type": "code",
   "execution_count": 15,
   "id": "c16816ee",
   "metadata": {},
   "outputs": [
    {
     "name": "stdout",
     "output_type": "stream",
     "text": [
      "12.5\n"
     ]
    }
   ],
   "source": [
    "x = 10  # Integer\n",
    "y = 2.5  # Float\n",
    "result = x + y\n",
    "print(result)  # Output: 12.5"
   ]
  },
  {
   "cell_type": "markdown",
   "id": "766ef628",
   "metadata": {},
   "source": [
    "#### Subtraction (-)"
   ]
  },
  {
   "cell_type": "code",
   "execution_count": 16,
   "id": "36604785",
   "metadata": {},
   "outputs": [
    {
     "name": "stdout",
     "output_type": "stream",
     "text": [
      "11.5\n"
     ]
    }
   ],
   "source": [
    "a = 15\n",
    "b = 3.5\n",
    "print(a - b)  # Output: 11.5"
   ]
  },
  {
   "cell_type": "markdown",
   "id": "c73f1bd1",
   "metadata": {},
   "source": [
    "#### Multiplication (*)"
   ]
  },
  {
   "cell_type": "code",
   "execution_count": 17,
   "id": "8f1f4ee8",
   "metadata": {},
   "outputs": [
    {
     "name": "stdout",
     "output_type": "stream",
     "text": [
      "8\n",
      "8.0\n"
     ]
    }
   ],
   "source": [
    "\n",
    "print(4 * 2)      # Output: 8\n",
    "print(2.5 * 3.2)  # Output: 8.0"
   ]
  },
  {
   "cell_type": "markdown",
   "id": "1362cbec",
   "metadata": {},
   "source": [
    "\n",
    "#### Division (/)"
   ]
  },
  {
   "cell_type": "code",
   "execution_count": 19,
   "id": "f2bd1f81",
   "metadata": {},
   "outputs": [
    {
     "name": "stdout",
     "output_type": "stream",
     "text": [
      "3.3333333333333335\n"
     ]
    }
   ],
   "source": [
    "\n",
    "print(10 / 3)  # Output: 3.3333..."
   ]
  },
  {
   "cell_type": "markdown",
   "id": "91cee189",
   "metadata": {},
   "source": [
    "\n",
    "#### Exponentiation (**)"
   ]
  },
  {
   "cell_type": "code",
   "execution_count": 21,
   "id": "54c8d8f1",
   "metadata": {},
   "outputs": [
    {
     "name": "stdout",
     "output_type": "stream",
     "text": [
      "8\n"
     ]
    }
   ],
   "source": [
    "\n",
    "print(2 ** 3)  # Output: 8 (2 raised to the power of 3)"
   ]
  },
  {
   "cell_type": "markdown",
   "id": "02354db8",
   "metadata": {},
   "source": [
    "\n",
    "#### Scientific Notation Example"
   ]
  },
  {
   "cell_type": "code",
   "execution_count": 23,
   "id": "42552c89",
   "metadata": {},
   "outputs": [
    {
     "name": "stdout",
     "output_type": "stream",
     "text": [
      "5000000.0 0.002\n"
     ]
    }
   ],
   "source": [
    "large_num = 5e6  # 5 × 10⁶ = 5000000.0\n",
    "small_num = 2E-3  # 2 × 10⁻³ = 0.002\n",
    "print(large_num, small_num)"
   ]
  },
  {
   "cell_type": "markdown",
   "id": "c0b367bd",
   "metadata": {},
   "source": [
    "## Arithmetic in Python (Continued)\n",
    "Now that we have covered basic arithmetic operations, let's explore a few more important concepts, including powers, roots, and order of operations.\n",
    "\n",
    "### 1. Powers and Roots\n",
    "Python allows us to perform exponentiation (raising a number to a power) using the ** operator.\n",
    "\n",
    "#### Exponentiation (Powers)"
   ]
  },
  {
   "cell_type": "code",
   "execution_count": 25,
   "id": "ee204380",
   "metadata": {},
   "outputs": [
    {
     "data": {
      "text/plain": [
       "8"
      ]
     },
     "execution_count": 25,
     "metadata": {},
     "output_type": "execute_result"
    }
   ],
   "source": [
    "\n",
    "# 2 raised to the power of 3 (2³)\n",
    "2 ** 3  \n",
    "# Output: 8"
   ]
  },
  {
   "cell_type": "markdown",
   "id": "aa977f75",
   "metadata": {},
   "source": [
    "### Square Roots and Other Roots\n",
    "We can also calculate square roots (or any root) using exponentiation with fractions."
   ]
  },
  {
   "cell_type": "code",
   "execution_count": 27,
   "id": "c854d96a",
   "metadata": {},
   "outputs": [
    {
     "data": {
      "text/plain": [
       "3.0"
      ]
     },
     "execution_count": 27,
     "metadata": {},
     "output_type": "execute_result"
    }
   ],
   "source": [
    "# Square root of 16 (same as 16^(1/2))\n",
    "16 ** 0.5  \n",
    "# Output: 4.0\n",
    "# Cube root of 27 (same as 27^(1/3))\n",
    "27 ** (1/3)  \n",
    "# Output: 3.0"
   ]
  },
  {
   "cell_type": "markdown",
   "id": "ce77773a",
   "metadata": {},
   "source": [
    "### 2. Order of Operations in Python\n",
    "Python follows the standard mathematical rules of order of operations, also known as PEMDAS:\n",
    "\n",
    "P → Parentheses\n",
    "\n",
    "E → Exponents\n",
    "\n",
    "MD → Multiplication & Division (from left to right)\n",
    "\n",
    "AS → Addition & Subtraction (from left to right)\n",
    "\n",
    "#### Example without Parentheses"
   ]
  },
  {
   "cell_type": "code",
   "execution_count": 28,
   "id": "c32e96de",
   "metadata": {},
   "outputs": [
    {
     "data": {
      "text/plain": [
       "105"
      ]
     },
     "execution_count": 28,
     "metadata": {},
     "output_type": "execute_result"
    }
   ],
   "source": [
    "\n",
    "2 + 10 * 10 + 3  \n",
    "# Output: 105\n",
    "# Explanation: 10 * 10 = 100 → 2 + 100 + 3 = 105"
   ]
  },
  {
   "cell_type": "markdown",
   "id": "7abf629b",
   "metadata": {},
   "source": [
    "\n",
    "    \n",
    "#### Example with Parentheses (Changing the Order)"
   ]
  },
  {
   "cell_type": "code",
   "execution_count": 29,
   "id": "f5f331f4",
   "metadata": {},
   "outputs": [
    {
     "data": {
      "text/plain": [
       "156"
      ]
     },
     "execution_count": 29,
     "metadata": {},
     "output_type": "execute_result"
    }
   ],
   "source": [
    "\n",
    "(2 + 10) * (10 + 3)  \n",
    "# Output: 156\n",
    "# Explanation: (12) * (13) = 156"
   ]
  },
  {
   "cell_type": "markdown",
   "id": "e251f726",
   "metadata": {},
   "source": [
    "\n",
    "Using parentheses ensures clarity and prevents errors in complex calculations."
   ]
  },
  {
   "cell_type": "markdown",
   "id": "665c918c",
   "metadata": {},
   "source": [
    "\n",
    "## Variable Assignments in Python\n",
    "So far, we've been using Python as a calculator. Now, let's learn how to store values in variables using variable assignment.\n",
    "\n",
    "### 3. Assigning Values to Variables\n",
    "In Python, we use the = sign to assign values to variables.\n",
    "\n",
    "#### Example 1: Assigning an Integer"
   ]
  },
  {
   "cell_type": "code",
   "execution_count": 30,
   "id": "683b2c8e",
   "metadata": {},
   "outputs": [
    {
     "name": "stdout",
     "output_type": "stream",
     "text": [
      "5\n"
     ]
    }
   ],
   "source": [
    "# Assign 5 to variable 'x'\n",
    "x = 5  \n",
    "# Print the value of x\n",
    "print(x)  \n",
    "# Output: 5"
   ]
  },
  {
   "cell_type": "markdown",
   "id": "c01a0bbd",
   "metadata": {},
   "source": [
    "\n",
    "#### Example 2: Performing Arithmetic with Variables"
   ]
  },
  {
   "cell_type": "code",
   "execution_count": 31,
   "id": "a1731c0f",
   "metadata": {},
   "outputs": [
    {
     "name": "stdout",
     "output_type": "stream",
     "text": [
      "15\n"
     ]
    }
   ],
   "source": [
    "y = 10  \n",
    "z = x + y  # 5 + 10  \n",
    "print(z)  \n",
    "# Output: 15"
   ]
  },
  {
   "cell_type": "markdown",
   "id": "44a8d384",
   "metadata": {},
   "source": [
    "#### 4. Reassigning Variables\n",
    "Python allows us to reassign values to existing variables.\n"
   ]
  },
  {
   "cell_type": "code",
   "execution_count": 33,
   "id": "7f755d9f",
   "metadata": {},
   "outputs": [
    {
     "name": "stdout",
     "output_type": "stream",
     "text": [
      "5\n",
      "20\n"
     ]
    }
   ],
   "source": [
    "x = 5  \n",
    "print(x)  # Output: 5\n",
    "# Reassign a new value\n",
    "x = 20  \n",
    "print(x)  # Output: 20"
   ]
  },
  {
   "cell_type": "markdown",
   "id": "0b1ac26f",
   "metadata": {},
   "source": [
    "#### Reassignment Using Itself\n"
   ]
  },
  {
   "cell_type": "code",
   "execution_count": 34,
   "id": "b5a50b2a",
   "metadata": {},
   "outputs": [
    {
     "name": "stdout",
     "output_type": "stream",
     "text": [
      "40\n"
     ]
    }
   ],
   "source": [
    "x = x + x  # 20 + 20  \n",
    "print(x)  \n",
    "# Output: 40"
   ]
  },
  {
   "cell_type": "markdown",
   "id": "890cfe6a",
   "metadata": {},
   "source": [
    "### 5. Rules for Naming Variables in Python\n",
    "When creating variable names, follow these rules and best practices:\n",
    "\n",
    "Allowed:\n",
    "1. Variable names must start with a letter (a-z, A-Z) or an underscore (_)\n",
    "2. Variable names can contain letters, numbers (0-9), and underscores (_)\n",
    "3. Variable names are case-sensitive (myVar and myvar are different)\n",
    "\n",
    "Not Allowed:\n",
    "#### 1. Names cannot start with a number"
   ]
  },
  {
   "cell_type": "code",
   "execution_count": 35,
   "id": "7c3a5708",
   "metadata": {},
   "outputs": [
    {
     "ename": "SyntaxError",
     "evalue": "invalid decimal literal (1350542733.py, line 1)",
     "output_type": "error",
     "traceback": [
      "\u001b[0;36m  Cell \u001b[0;32mIn[35], line 1\u001b[0;36m\u001b[0m\n\u001b[0;31m    1st_value = 10  #  SyntaxError\u001b[0m\n\u001b[0m    ^\u001b[0m\n\u001b[0;31mSyntaxError\u001b[0m\u001b[0;31m:\u001b[0m invalid decimal literal\n"
     ]
    }
   ],
   "source": [
    "1st_value = 10  #  SyntaxError"
   ]
  },
  {
   "cell_type": "markdown",
   "id": "192f3629",
   "metadata": {},
   "source": [
    "### 2. No spaces in variable names (use underscores _ instead)"
   ]
  },
  {
   "cell_type": "code",
   "execution_count": 36,
   "id": "cc157533",
   "metadata": {},
   "outputs": [
    {
     "ename": "SyntaxError",
     "evalue": "invalid syntax (1880786589.py, line 1)",
     "output_type": "error",
     "traceback": [
      "\u001b[0;36m  Cell \u001b[0;32mIn[36], line 1\u001b[0;36m\u001b[0m\n\u001b[0;31m    my variable = 5  #  SyntaxError\u001b[0m\n\u001b[0m       ^\u001b[0m\n\u001b[0;31mSyntaxError\u001b[0m\u001b[0;31m:\u001b[0m invalid syntax\n"
     ]
    }
   ],
   "source": [
    "my variable = 5  #  SyntaxError\n",
    "my_variable = 5  #  Correct"
   ]
  },
  {
   "cell_type": "markdown",
   "id": "cd364b13",
   "metadata": {},
   "source": [
    "3. Cannot use special characters: '\",<>/?()!@#%^&*~-+\n",
    "4. Avoid using Python's built-in keywords like list, str, int, print, etc."
   ]
  },
  {
   "cell_type": "code",
   "execution_count": 38,
   "id": "55f0bfba",
   "metadata": {},
   "outputs": [],
   "source": [
    "list = [1, 2, 3]  #  Bad practice (overwrites Python's built-in 'list')"
   ]
  },
  {
   "cell_type": "markdown",
   "id": "3f8993bf",
   "metadata": {},
   "source": [
    "#### Example of a Good Variable Naming"
   ]
  },
  {
   "cell_type": "code",
   "execution_count": 39,
   "id": "26394469",
   "metadata": {},
   "outputs": [],
   "source": [
    "\n",
    "student_name = \"Alice\"\n",
    "total_score = 95"
   ]
  },
  {
   "cell_type": "markdown",
   "id": "6ba16a7e",
   "metadata": {},
   "source": [
    "### 6. Using Variables in Real-World Examples\n",
    "Using variables makes our code more readable and manageable.\n",
    "\n",
    "#### Example: Calculating Taxes\n"
   ]
  },
  {
   "cell_type": "code",
   "execution_count": 40,
   "id": "ed76cb8c",
   "metadata": {},
   "outputs": [],
   "source": [
    "# Assign income and tax rate\n",
    "monthly_income = 5000  \n",
    "tax_rate = 0.15 "
   ]
  },
  {
   "cell_type": "code",
   "execution_count": 41,
   "id": "41968d24",
   "metadata": {},
   "outputs": [
    {
     "name": "stdout",
     "output_type": "stream",
     "text": [
      "750.0\n"
     ]
    }
   ],
   "source": [
    "# Calculate tax\n",
    "monthly_tax = monthly_income * tax_rate  \n",
    "print(monthly_tax)  \n",
    "# Output: 750.0"
   ]
  },
  {
   "cell_type": "markdown",
   "id": "fa6f2181",
   "metadata": {},
   "source": [
    "\n",
    "This approach makes it easier to update values later."
   ]
  }
 ],
 "metadata": {
  "kernelspec": {
   "display_name": "Python 3 (ipykernel)",
   "language": "python",
   "name": "python3"
  },
  "language_info": {
   "codemirror_mode": {
    "name": "ipython",
    "version": 3
   },
   "file_extension": ".py",
   "mimetype": "text/x-python",
   "name": "python",
   "nbconvert_exporter": "python",
   "pygments_lexer": "ipython3",
   "version": "3.13.2"
  }
 },
 "nbformat": 4,
 "nbformat_minor": 5
}
