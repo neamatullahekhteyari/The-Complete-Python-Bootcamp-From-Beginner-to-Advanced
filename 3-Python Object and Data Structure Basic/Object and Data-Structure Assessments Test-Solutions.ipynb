{
 "cells": [
  {
   "cell_type": "markdown",
   "id": "61b4cfe0",
   "metadata": {},
   "source": [
    "___\n",
    "\n",
    "<a href='https://www.udemy.com/user/Neamatullah-ekhteyari/'><img src='../Neamatullah.png'/></a>\n",
    "___\n",
    "<center><em>Content Copyright by Neamatullah Ekhteyari</em></center>"
   ]
  },
  {
   "cell_type": "markdown",
   "id": "62762c4e",
   "metadata": {},
   "source": [
    "# Test Your Knowledge \n",
    "Answer the following questions to test your understanding of Python’s fundamental concepts."
   ]
  },
  {
   "cell_type": "markdown",
   "id": "6cd6226f",
   "metadata": {},
   "source": [
    "## Section 1: Object Types and Data Structures\n",
    "Describe the following data types and structures. What are they used for? How are they different from one another?\n",
    "(Double-click this markdown cell to write your answers.)\n",
    "\n",
    "Numbers:\n",
    "\n",
    "```Numbers in Python include integers (int), floating-point numbers (float), and complex numbers (complex). They are used for mathematical operations.```\n",
    "\n",
    "Strings:\n",
    "\n",
    "```A string (str) is a sequence of characters enclosed in single or double quotes. Strings are immutable and support indexing and slicing.```\n",
    "\n",
    "Lists:\n",
    "\n",
    "```A list is an ordered collection of elements that can store multiple data types. Lists are mutable, meaning they can be changed (elements can be added, removed, or modified).```\n",
    "\n",
    "Tuples:\n",
    "\n",
    "```A tuple is similar to a list but immutable, meaning its values cannot be changed after creation. Tuples are used when data should remain constant.```\n",
    "\n",
    "Dictionaries:\n",
    "\n",
    "```A dictionary (dict) is an unordered collection of key-value pairs. Keys must be unique and immutable, while values can be of any data type. Dictionaries allow for fast data retrieval.```\n",
    "\n",
    "Sets:\n",
    "\n",
    "```A set is an unordered collection of unique elements. Sets do not allow duplicates and support mathematical operations like union, intersection, and difference.```"
   ]
  },
  {
   "cell_type": "markdown",
   "id": "5941965f",
   "metadata": {},
   "source": [
    "## Section 2: Numbers and Arithmetic Operations\n",
    "Write an equation that uses multiplication, division, an exponent, addition, and subtraction that is equal to 100.25.\n",
    "\n",
    "Hint: This is just to test your memory of the basic arithmetic commands, work backwards from 100.25\n",
    "\n"
   ]
  },
  {
   "cell_type": "code",
   "execution_count": 12,
   "id": "bc86a3eb",
   "metadata": {},
   "outputs": [
    {
     "data": {
      "text/plain": [
       "100.25"
      ]
     },
     "execution_count": 12,
     "metadata": {},
     "output_type": "execute_result"
    }
   ],
   "source": [
    "# Your answer is probably different\n",
    "(60 + (10 ** 2) / 4 * 7) - 134.75\n"
   ]
  },
  {
   "cell_type": "markdown",
   "id": "c4ee12a0",
   "metadata": {},
   "source": [
    "Without running the code, predict the output of the following expressions:"
   ]
  },
  {
   "cell_type": "code",
   "execution_count": 13,
   "id": "8110ed2b",
   "metadata": {},
   "outputs": [
    {
     "data": {
      "text/plain": [
       "55"
      ]
     },
     "execution_count": 13,
     "metadata": {},
     "output_type": "execute_result"
    }
   ],
   "source": [
    "5 * (8 + 3)"
   ]
  },
  {
   "cell_type": "code",
   "execution_count": 14,
   "id": "1599242a",
   "metadata": {},
   "outputs": [
    {
     "data": {
      "text/plain": [
       "43"
      ]
     },
     "execution_count": 14,
     "metadata": {},
     "output_type": "execute_result"
    }
   ],
   "source": [
    "5 * 8 + 3"
   ]
  },
  {
   "cell_type": "code",
   "execution_count": 15,
   "id": "9fa480b6",
   "metadata": {},
   "outputs": [
    {
     "data": {
      "text/plain": [
       "29"
      ]
     },
     "execution_count": 15,
     "metadata": {},
     "output_type": "execute_result"
    }
   ],
   "source": [
    "5 + 8 * 3"
   ]
  },
  {
   "cell_type": "markdown",
   "id": "84d4194b",
   "metadata": {},
   "source": [
    "What is the data type of the following expression?"
   ]
  },
  {
   "cell_type": "code",
   "execution_count": 16,
   "id": "1051ec4b",
   "metadata": {},
   "outputs": [
    {
     "data": {
      "text/plain": [
       "15.5"
      ]
     },
     "execution_count": 16,
     "metadata": {},
     "output_type": "execute_result"
    }
   ],
   "source": [
    "7 + 2.5 + 6"
   ]
  },
  {
   "cell_type": "markdown",
   "id": "5f5c2544",
   "metadata": {},
   "source": [
    "How do you calculate a number’s square root and its square in Python?\n",
    "\n",
    "- Square root:\n",
    "- Square:"
   ]
  },
  {
   "cell_type": "code",
   "execution_count": 17,
   "id": "6444c9f6",
   "metadata": {},
   "outputs": [],
   "source": [
    "import math\n",
    "square_root = math.sqrt(25)  # 5.0\n",
    "square = 5 ** 2  # 25\n"
   ]
  },
  {
   "cell_type": "markdown",
   "id": "5f5b55b0",
   "metadata": {},
   "source": [
    "## Section 3: Strings\n",
    "Given the string \"python\", write an index command that returns 'y'."
   ]
  },
  {
   "cell_type": "code",
   "execution_count": 18,
   "id": "c60ab85e",
   "metadata": {},
   "outputs": [
    {
     "name": "stdout",
     "output_type": "stream",
     "text": [
      "y\n"
     ]
    }
   ],
   "source": [
    "s = \"python\"\n",
    "print(s[1])  # Output: 'y'\n"
   ]
  },
  {
   "cell_type": "markdown",
   "id": "2cc85183",
   "metadata": {},
   "source": [
    "Reverse the string \"python\" using slicing."
   ]
  },
  {
   "cell_type": "code",
   "execution_count": 19,
   "id": "d3c60ff6",
   "metadata": {},
   "outputs": [
    {
     "name": "stdout",
     "output_type": "stream",
     "text": [
      "nohtyp\n"
     ]
    }
   ],
   "source": [
    "s = \"python\"\n",
    "print(s[::-1])  # Output: \"nohtyp\"\n"
   ]
  },
  {
   "cell_type": "markdown",
   "id": "5b8242d8",
   "metadata": {},
   "source": [
    "Extract the letter \"n\" from the string \"python\" using two different methods."
   ]
  },
  {
   "cell_type": "code",
   "execution_count": 20,
   "id": "673fcc85",
   "metadata": {},
   "outputs": [
    {
     "name": "stdout",
     "output_type": "stream",
     "text": [
      "n\n",
      "n\n"
     ]
    }
   ],
   "source": [
    "s = \"python\"\n",
    "# Method 1\n",
    "print(s[-1])  \n",
    "\n",
    "# Method 2\n",
    "print(s[5])  \n",
    "\n"
   ]
  },
  {
   "cell_type": "markdown",
   "id": "76c1513d",
   "metadata": {},
   "source": [
    "## Section 4: Lists\n",
    "Create the list [1,1,1] in two different ways."
   ]
  },
  {
   "cell_type": "code",
   "execution_count": 21,
   "id": "6d86064b",
   "metadata": {},
   "outputs": [],
   "source": [
    "# Method 1\n",
    "my_list = [1, 1, 1]\n",
    "\n",
    "# Method 2\n",
    "my_list = [1] * 3\n"
   ]
  },
  {
   "cell_type": "markdown",
   "id": "39bb5ba2",
   "metadata": {},
   "source": [
    "Change the word \"hello\" in the following nested list to \"goodbye\"."
   ]
  },
  {
   "cell_type": "code",
   "execution_count": 23,
   "id": "6039ac3b",
   "metadata": {},
   "outputs": [
    {
     "data": {
      "text/plain": [
       "[5, [10, 15, ['goodbye']]]"
      ]
     },
     "execution_count": 23,
     "metadata": {},
     "output_type": "execute_result"
    }
   ],
   "source": [
    "my_list = [5, [10, 15, [\"hello\"]]]\n",
    "my_list[1][2][0] = \"goodbye\"\n",
    "my_list\n",
    "\n"
   ]
  },
  {
   "cell_type": "markdown",
   "id": "47a0b77d",
   "metadata": {},
   "source": [
    "Sort the following list in ascending order."
   ]
  },
  {
   "cell_type": "code",
   "execution_count": 24,
   "id": "fab2d63e",
   "metadata": {},
   "outputs": [
    {
     "name": "stdout",
     "output_type": "stream",
     "text": [
      "[1, 3, 4, 6, 9]\n"
     ]
    }
   ],
   "source": [
    "num_list = [9, 1, 6, 4, 3]\n",
    "num_list.sort()\n",
    "print(num_list)  # Output: [1, 3, 4, 6, 9]\n",
    "\n"
   ]
  },
  {
   "cell_type": "markdown",
   "id": "80755483",
   "metadata": {},
   "source": [
    "## Section 5: Dictionaries\n",
    "Use dictionary indexing to extract \"world\" from the following dictionary:"
   ]
  },
  {
   "cell_type": "code",
   "execution_count": 25,
   "id": "c9cd0a2a",
   "metadata": {},
   "outputs": [
    {
     "name": "stdout",
     "output_type": "stream",
     "text": [
      "world\n"
     ]
    }
   ],
   "source": [
    "d = {\"key1\": \"world\"}\n",
    "print(d[\"key1\"])  # Output: \"world\"\n",
    "\n"
   ]
  },
  {
   "cell_type": "markdown",
   "id": "39873dd3",
   "metadata": {},
   "source": [
    "Retrieve \"world\" from this nested dictionary:"
   ]
  },
  {
   "cell_type": "code",
   "execution_count": 7,
   "id": "5b220f0c",
   "metadata": {},
   "outputs": [],
   "source": [
    "d = {\"level1\": {\"level2\": {\"target\": \"world\"}}}\n",
    "# your code here\n"
   ]
  },
  {
   "cell_type": "markdown",
   "id": "431a6950",
   "metadata": {},
   "source": [
    "Extract \"world\" from the deeply nested dictionary below:"
   ]
  },
  {
   "cell_type": "code",
   "execution_count": 26,
   "id": "fd148d56",
   "metadata": {},
   "outputs": [
    {
     "name": "stdout",
     "output_type": "stream",
     "text": [
      "world\n"
     ]
    }
   ],
   "source": [
    "d = {\"level1\": {\"level2\": {\"target\": \"world\"}}}\n",
    "print(d[\"level1\"][\"level2\"][\"target\"])  \n"
   ]
  },
  {
   "cell_type": "markdown",
   "id": "60ac4a94",
   "metadata": {},
   "source": [
    "```Can you sort a dictionary? Why or why not?```"
   ]
  },
  {
   "cell_type": "code",
   "execution_count": 30,
   "id": "f53ffd4f",
   "metadata": {},
   "outputs": [
    {
     "data": {
      "text/plain": [
       "{'level1': {'level2': {'target': 'world'}}}"
      ]
     },
     "execution_count": 30,
     "metadata": {},
     "output_type": "execute_result"
    }
   ],
   "source": [
    "# Dictionaries cannot be sorted directly, but you can use sorted() to sort by keys or values.\n",
    "sorted_dict = dict(sorted(d.items()))\n",
    "sorted_dict"
   ]
  },
  {
   "cell_type": "markdown",
   "id": "2c314e94",
   "metadata": {},
   "source": [
    "## Dictionaries (Advanced Questions)\n",
    "```Create a dictionary that stores information about a student, including their name, age, grades (list of numbers), and enrolled courses (a list of course names).```"
   ]
  },
  {
   "cell_type": "code",
   "execution_count": 32,
   "id": "edb58b5d",
   "metadata": {},
   "outputs": [],
   "source": [
    "# Your code here\n",
    "student = {\n",
    "    \"name\": \"John\",\n",
    "    \"age\": 20,\n",
    "    \"grades\": [85, 90, 78],\n",
    "    \"enrolled_courses\": [\"Math\", \"CS\"]\n",
    "}\n",
    "\n"
   ]
  },
  {
   "cell_type": "markdown",
   "id": "a643bab2",
   "metadata": {},
   "source": [
    "Update the dictionary you created above to:\n",
    "\n",
    "- Change the student's age.\n",
    "- Add a new course to their list of enrolled courses.\n",
    "- Remove one of the grades."
   ]
  },
  {
   "cell_type": "code",
   "execution_count": 31,
   "id": "1e67fe78",
   "metadata": {},
   "outputs": [
    {
     "data": {
      "text/plain": [
       "90"
      ]
     },
     "execution_count": 31,
     "metadata": {},
     "output_type": "execute_result"
    }
   ],
   "source": [
    "# Your code here\n",
    "student[\"age\"] = 21\n",
    "student[\"enrolled_courses\"].append(\"Physics\")\n",
    "student[\"grades\"].pop()\n"
   ]
  },
  {
   "cell_type": "markdown",
   "id": "bf35b621",
   "metadata": {},
   "source": [
    "```Given the following dictionary, write a Python program to check if the key \"salary\" exists. If it does, print its value; otherwise, print \"Key not found\".```"
   ]
  },
  {
   "cell_type": "code",
   "execution_count": 33,
   "id": "063e5da0",
   "metadata": {},
   "outputs": [
    {
     "name": "stdout",
     "output_type": "stream",
     "text": [
      "Key not found\n"
     ]
    }
   ],
   "source": [
    "employee = {\"name\": \"John\", \"age\": 30, \"department\": \"IT\"}\n",
    "print(employee.get(\"salary\", \"Key not found\"))\n"
   ]
  },
  {
   "cell_type": "markdown",
   "id": "c8c62e11",
   "metadata": {},
   "source": [
    "Merge the two dictionaries below into a single dictionary."
   ]
  },
  {
   "cell_type": "code",
   "execution_count": 35,
   "id": "e548473c",
   "metadata": {},
   "outputs": [
    {
     "data": {
      "text/plain": [
       "{'a': 1, 'b': 2, 'c': 3, 'd': 4}"
      ]
     },
     "execution_count": 35,
     "metadata": {},
     "output_type": "execute_result"
    }
   ],
   "source": [
    "dict1 = {\"a\": 1, \"b\": 2}\n",
    "dict2 = {\"c\": 3, \"d\": 4}\n",
    "merged_dict = {**dict1, **dict2}\n",
    "merged_dict\n"
   ]
  },
  {
   "cell_type": "markdown",
   "id": "a5a97c3e",
   "metadata": {},
   "source": [
    "Convert the following list of tuples into a dictionary:"
   ]
  },
  {
   "cell_type": "code",
   "execution_count": 37,
   "id": "64c16936",
   "metadata": {},
   "outputs": [
    {
     "data": {
      "text/plain": [
       "{'name': 'Alice', 'age': 25, 'city': 'New York'}"
      ]
     },
     "execution_count": 37,
     "metadata": {},
     "output_type": "execute_result"
    }
   ],
   "source": [
    "data = [(\"name\", \"Alice\"), (\"age\", 25), (\"city\", \"New York\")]\n",
    "dict_data = dict(data)\n",
    "\n",
    "dict_data"
   ]
  },
  {
   "cell_type": "markdown",
   "id": "db85c0cb",
   "metadata": {},
   "source": [
    "Write a Python program to count the frequency of each letter in the given string and store it in a dictionary."
   ]
  },
  {
   "cell_type": "code",
   "execution_count": 39,
   "id": "ef192f2b",
   "metadata": {},
   "outputs": [
    {
     "data": {
      "text/plain": [
       "{'g': 2,\n",
       " 't': 1,\n",
       " 'p': 2,\n",
       " ' ': 1,\n",
       " 'i': 1,\n",
       " 'n': 2,\n",
       " 'r': 2,\n",
       " 'h': 1,\n",
       " 'y': 1,\n",
       " 'm': 2,\n",
       " 'a': 1,\n",
       " 'o': 2}"
      ]
     },
     "execution_count": 39,
     "metadata": {},
     "output_type": "execute_result"
    }
   ],
   "source": [
    "text = \"python programming\"\n",
    "letter_count = {char: text.count(char) for char in set(text)}\n",
    "letter_count"
   ]
  },
  {
   "cell_type": "markdown",
   "id": "34099f01",
   "metadata": {},
   "source": [
    "## Section 6: Tuples\n",
    "\n",
    "What is the key difference between tuples and lists?\n",
    "```Tuples are immutable, while lists are mutable.```\n",
    "\n",
    "How do you define a tuple in Python? Provide an example."
   ]
  },
  {
   "cell_type": "code",
   "execution_count": 40,
   "id": "ce91f153",
   "metadata": {},
   "outputs": [],
   "source": [
    "# your example here\n",
    "my_tuple = (1, 2, 3)\n"
   ]
  },
  {
   "cell_type": "markdown",
   "id": "ca3ff374",
   "metadata": {},
   "source": [
    "Create a tuple with only one element."
   ]
  },
  {
   "cell_type": "code",
   "execution_count": 41,
   "id": "22539619",
   "metadata": {},
   "outputs": [],
   "source": [
    "# Your code here\n",
    "single_element_tuple = (5,)\n"
   ]
  },
  {
   "cell_type": "markdown",
   "id": "bbd29013",
   "metadata": {},
   "source": [
    "Given the tuple below, extract only the first and last elements."
   ]
  },
  {
   "cell_type": "code",
   "execution_count": 42,
   "id": "744703bf",
   "metadata": {},
   "outputs": [
    {
     "name": "stdout",
     "output_type": "stream",
     "text": [
      "10 50\n"
     ]
    }
   ],
   "source": [
    "my_tuple = (10, 20, 30, 40, 50)\n",
    "print(my_tuple[0], my_tuple[-1])\n"
   ]
  },
  {
   "cell_type": "markdown",
   "id": "ce49bced",
   "metadata": {},
   "source": [
    "Convert the following tuple into a list, modify the second element, and convert it back to a tuple.\n",
    "\n"
   ]
  },
  {
   "cell_type": "code",
   "execution_count": 44,
   "id": "334b5f5b",
   "metadata": {},
   "outputs": [
    {
     "data": {
      "text/plain": [
       "(1, 10, 3, 4, 5)"
      ]
     },
     "execution_count": 44,
     "metadata": {},
     "output_type": "execute_result"
    }
   ],
   "source": [
    "t = (1, 2, 3, 4, 5)\n",
    "t_list = list(t)\n",
    "t_list[1] = 10\n",
    "t = tuple(t_list)\n",
    "t"
   ]
  },
  {
   "cell_type": "markdown",
   "id": "e8405909",
   "metadata": {},
   "source": [
    "Given two tuples, concatenate them into a single tuple."
   ]
  },
  {
   "cell_type": "code",
   "execution_count": 46,
   "id": "bee89b07",
   "metadata": {},
   "outputs": [
    {
     "data": {
      "text/plain": [
       "(1, 2, 3, 4, 5, 6)"
      ]
     },
     "execution_count": 46,
     "metadata": {},
     "output_type": "execute_result"
    }
   ],
   "source": [
    "tuple1 = (1, 2, 3)\n",
    "tuple2 = (4, 5, 6)\n",
    "new_tuple = tuple1 + tuple2\n",
    "new_tuple"
   ]
  },
  {
   "cell_type": "markdown",
   "id": "72e0ccc7",
   "metadata": {},
   "source": [
    "Write a Python program to find the index of the value 25 in the tuple below:"
   ]
  },
  {
   "cell_type": "code",
   "execution_count": 47,
   "id": "dae160fa",
   "metadata": {},
   "outputs": [
    {
     "name": "stdout",
     "output_type": "stream",
     "text": [
      "4\n"
     ]
    }
   ],
   "source": [
    "numbers = (5, 10, 15, 20, 25, 30)\n",
    "print(numbers.index(25))\n",
    "\n"
   ]
  },
  {
   "cell_type": "markdown",
   "id": "f1257b13",
   "metadata": {},
   "source": [
    "Given the tuple below, find the maximum and minimum values."
   ]
  },
  {
   "cell_type": "code",
   "execution_count": 48,
   "id": "f8011562",
   "metadata": {},
   "outputs": [
    {
     "name": "stdout",
     "output_type": "stream",
     "text": [
      "20 2\n"
     ]
    }
   ],
   "source": [
    "numbers = (8, 3, 15, 2, 9, 20)\n",
    "print(max(numbers), min(numbers))\n"
   ]
  },
  {
   "cell_type": "markdown",
   "id": "6cdf24c1",
   "metadata": {},
   "source": [
    "Can you modify a tuple after it has been created? Why or why not?\n",
    "``` \n",
    "No, you cannot modify a tuple after it has been created because tuples are immutable in Python.\n",
    "\n",
    "Explanation:\n",
    "Immutability means that once a tuple is created, its elements cannot be changed, added, or removed.\n",
    "\n",
    "This is different from lists, which are mutable and allow modifications.\n",
    "```"
   ]
  },
  {
   "cell_type": "markdown",
   "id": "fa9398f9",
   "metadata": {},
   "source": [
    "# Section 7: Sets\n",
    "What makes sets unique compared to other data structures?\n",
    "\n",
    "Use a set to find unique values from the list below:"
   ]
  },
  {
   "cell_type": "code",
   "execution_count": 50,
   "id": "7e9ba223",
   "metadata": {},
   "outputs": [
    {
     "data": {
      "text/plain": [
       "{2, 4, 5, 6, 7, 8, 9}"
      ]
     },
     "execution_count": 50,
     "metadata": {},
     "output_type": "execute_result"
    }
   ],
   "source": [
    "values = [4, 5, 5, 6, 7, 8, 8, 9, 4, 2]\n",
    "unique_values = set(values)\n",
    "\n",
    "unique_values"
   ]
  },
  {
   "cell_type": "markdown",
   "id": "67a1638a",
   "metadata": {},
   "source": [
    "Create a set containing numbers from 1 to 10."
   ]
  },
  {
   "cell_type": "code",
   "execution_count": 52,
   "id": "f758c108",
   "metadata": {},
   "outputs": [
    {
     "data": {
      "text/plain": [
       "{1, 2, 3, 4, 5, 6, 7, 8, 9, 10}"
      ]
     },
     "execution_count": 52,
     "metadata": {},
     "output_type": "execute_result"
    }
   ],
   "source": [
    "# Your code here\n",
    "num_set = set(range(1, 11))\n",
    "num_set"
   ]
  },
  {
   "cell_type": "markdown",
   "id": "d4b154ae",
   "metadata": {},
   "source": [
    "Given two sets below, perform the following operations:\n",
    "\n",
    "- Find the union of the sets.\n",
    "- Find the intersection of the sets.\n",
    "- Find the difference between set1 and set2."
   ]
  },
  {
   "cell_type": "code",
   "execution_count": 56,
   "id": "bfad0cf7",
   "metadata": {},
   "outputs": [],
   "source": [
    "set1 = {1, 2, 3, 4, 5}\n",
    "set2 = {4, 5, 6, 7, 8}\n",
    "\n",
    "# Your Code here\n",
    "\n",
    "union = set1 | set2\n",
    "intersection = set1 & set2\n",
    "difference = set1 - set2\n",
    "\n"
   ]
  },
  {
   "cell_type": "markdown",
   "id": "5685490e",
   "metadata": {},
   "source": [
    "Remove an element from a set safely (without causing an error if the element doesn’t exist).\n"
   ]
  },
  {
   "cell_type": "code",
   "execution_count": 57,
   "id": "e7b6e7c3",
   "metadata": {},
   "outputs": [],
   "source": [
    "my_set = {1, 2, 3}\n",
    "my_set.discard(4)\n"
   ]
  },
  {
   "cell_type": "markdown",
   "id": "f7e6aef2",
   "metadata": {},
   "source": [
    "\n",
    "Given a list with duplicate values, remove the duplicates using a set."
   ]
  },
  {
   "cell_type": "code",
   "execution_count": 60,
   "id": "0e633d81",
   "metadata": {},
   "outputs": [
    {
     "name": "stdout",
     "output_type": "stream",
     "text": [
      "[1, 2, 3, 4, 5, 6, 7]\n"
     ]
    }
   ],
   "source": [
    "nums = [1, 2, 2, 3, 4, 4, 5, 6, 6, 7]\n",
    "\n",
    "# Convert the list to a set to remove duplicates\n",
    "unique_nums = list(set(nums))\n",
    "\n",
    "print(unique_nums)  # Output: [1, 2, 3, 4, 5, 6, 7] (Order may vary)\n"
   ]
  },
  {
   "cell_type": "markdown",
   "id": "355d06c8",
   "metadata": {},
   "source": [
    "### Explanation:\n",
    "set(nums) → Removes duplicates since sets cannot have repeated elements.\n",
    "\n",
    "list(set(nums)) → Converts the set back into a list."
   ]
  },
  {
   "cell_type": "markdown",
   "id": "c4f97806",
   "metadata": {},
   "source": [
    "Check if set_a is a subset of set_b."
   ]
  },
  {
   "cell_type": "code",
   "execution_count": 61,
   "id": "633418eb",
   "metadata": {},
   "outputs": [
    {
     "name": "stdout",
     "output_type": "stream",
     "text": [
      "True\n"
     ]
    }
   ],
   "source": [
    "set_a = {1, 2, 3}\n",
    "set_b = {1, 2, 3, 4, 5}\n",
    "print(set_a.issubset(set_b))\n",
    "\n"
   ]
  },
  {
   "cell_type": "markdown",
   "id": "9b7b5d53",
   "metadata": {},
   "source": [
    "Write a Python program to generate a set of unique random numbers between 1 and 100 with 10 elements.\n",
    "\n"
   ]
  },
  {
   "cell_type": "code",
   "execution_count": 69,
   "id": "1e9a97b7",
   "metadata": {},
   "outputs": [
    {
     "data": {
      "text/plain": [
       "{37, 38, 40, 56, 62, 65, 70, 87, 90, 98}"
      ]
     },
     "execution_count": 69,
     "metadata": {},
     "output_type": "execute_result"
    }
   ],
   "source": [
    "import random\n",
    "random_set = set(random.sample(range(1, 101), 10))\n",
    "\n",
    "random_set"
   ]
  },
  {
   "cell_type": "markdown",
   "id": "7b00a64b",
   "metadata": {},
   "source": [
    "What is the difference between .remove() and .discard() in sets?"
   ]
  },
  {
   "cell_type": "code",
   "execution_count": 26,
   "id": "9269a5a5",
   "metadata": {},
   "outputs": [],
   "source": [
    "# your description here\n",
    "\n"
   ]
  },
  {
   "cell_type": "markdown",
   "id": "08804f4c",
   "metadata": {},
   "source": [
    "## Section 8: Boolean Logic and Comparison Operators\n",
    "What will be the output of the following boolean expressions? Answer before running the code."
   ]
  },
  {
   "cell_type": "code",
   "execution_count": 70,
   "id": "1b43a883",
   "metadata": {},
   "outputs": [
    {
     "data": {
      "text/plain": [
       "True"
      ]
     },
     "execution_count": 70,
     "metadata": {},
     "output_type": "execute_result"
    }
   ],
   "source": [
    "10 > 3\n",
    "# your answer before running: "
   ]
  },
  {
   "cell_type": "code",
   "execution_count": 71,
   "id": "c0e2b39e",
   "metadata": {},
   "outputs": [
    {
     "data": {
      "text/plain": [
       "False"
      ]
     },
     "execution_count": 71,
     "metadata": {},
     "output_type": "execute_result"
    }
   ],
   "source": [
    "5 <= 2\n",
    "\n",
    "# your answer before running:"
   ]
  },
  {
   "cell_type": "code",
   "execution_count": 72,
   "id": "cff83194",
   "metadata": {},
   "outputs": [
    {
     "data": {
      "text/plain": [
       "False"
      ]
     },
     "execution_count": 72,
     "metadata": {},
     "output_type": "execute_result"
    }
   ],
   "source": [
    "3 == 3.5\n",
    "\n",
    "# your answer before running:"
   ]
  },
  {
   "cell_type": "code",
   "execution_count": 73,
   "id": "393a39f7",
   "metadata": {},
   "outputs": [
    {
     "data": {
      "text/plain": [
       "True"
      ]
     },
     "execution_count": 73,
     "metadata": {},
     "output_type": "execute_result"
    }
   ],
   "source": [
    "4.0 == 4\n",
    "\n",
    "# your answer before running:"
   ]
  },
  {
   "cell_type": "code",
   "execution_count": 74,
   "id": "f571f565",
   "metadata": {},
   "outputs": [
    {
     "data": {
      "text/plain": [
       "False"
      ]
     },
     "execution_count": 74,
     "metadata": {},
     "output_type": "execute_result"
    }
   ],
   "source": [
    "9**0.5 != 3\n",
    "\n",
    "# your answer before running:"
   ]
  },
  {
   "cell_type": "markdown",
   "id": "08afd0a1",
   "metadata": {},
   "source": [
    "Given two lists, determine whether the last element of the first list is greater than or equal to the dictionary value in the second list."
   ]
  },
  {
   "cell_type": "code",
   "execution_count": 76,
   "id": "77e62023",
   "metadata": {},
   "outputs": [
    {
     "data": {
      "text/plain": [
       "True"
      ]
     },
     "execution_count": 76,
     "metadata": {},
     "output_type": "execute_result"
    }
   ],
   "source": [
    "list_a = [1, 2, [7, 8]]\n",
    "list_b = [1, 2, {\"key\": 8}]\n",
    "\n",
    "# your code here\n",
    "list_a[2][1] >= list_b[2][\"key\"]"
   ]
  },
  {
   "cell_type": "code",
   "execution_count": 77,
   "id": "27e90820",
   "metadata": {},
   "outputs": [
    {
     "data": {
      "text/plain": [
       "True"
      ]
     },
     "execution_count": 77,
     "metadata": {},
     "output_type": "execute_result"
    }
   ],
   "source": [
    "# Your answer: True or False?\n",
    "list_a[2][1] >= list_b[2][\"key\"]\n",
    "\n",
    "# your answer before running:"
   ]
  },
  {
   "cell_type": "markdown",
   "id": "e88d53df",
   "metadata": {},
   "source": [
    "## Final Question\n",
    "You've completed your assessment! What concept did you find the most challenging, and what would you like to review further?"
   ]
  }
 ],
 "metadata": {
  "kernelspec": {
   "display_name": "Python 3 (ipykernel)",
   "language": "python",
   "name": "python3"
  },
  "language_info": {
   "codemirror_mode": {
    "name": "ipython",
    "version": 3
   },
   "file_extension": ".py",
   "mimetype": "text/x-python",
   "name": "python",
   "nbconvert_exporter": "python",
   "pygments_lexer": "ipython3",
   "version": "3.13.2"
  }
 },
 "nbformat": 4,
 "nbformat_minor": 5
}
