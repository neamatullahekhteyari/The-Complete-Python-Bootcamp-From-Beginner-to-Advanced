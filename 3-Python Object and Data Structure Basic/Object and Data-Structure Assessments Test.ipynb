{
 "cells": [
  {
   "cell_type": "markdown",
   "id": "0941c629",
   "metadata": {},
   "source": [
    "___\n",
    "\n",
    "<a href='https://www.udemy.com/user/Neamatullah-ekhteyari/'><img src='../Neamatullah.png'/></a>\n",
    "___\n",
    "<center><em>Content Copyright by Neamatullah Ekhteyari</em></center>"
   ]
  },
  {
   "cell_type": "markdown",
   "id": "cdbb50af",
   "metadata": {},
   "source": [
    "# Test Your Knowledge \n",
    "Answer the following questions to test your understanding of Python’s fundamental concepts."
   ]
  },
  {
   "cell_type": "markdown",
   "id": "be7e651c",
   "metadata": {},
   "source": [
    "## Section 1: Object Types and Data Structures\n",
    "Describe the following data types and structures. What are they used for? How are they different from one another?\n",
    "(Double-click this markdown cell to write your answers.)\n",
    "\n",
    "Numbers: \n",
    "\n",
    "Strings:\n",
    "\n",
    "Lists:\n",
    "\n",
    "Tuples:\n",
    "\n",
    "Dictionaries:\n",
    "\n",
    "Sets:"
   ]
  },
  {
   "cell_type": "markdown",
   "id": "edd73368",
   "metadata": {},
   "source": [
    "## Section 2: Numbers and Arithmetic Operations\n",
    "Write an equation that uses multiplication, division, an exponent, addition, and subtraction that is equal to 100.25.\n",
    "\n",
    "Hint: This is just to test your memory of the basic arithmetic commands, work backwards from 100.25\n",
    "\n"
   ]
  },
  {
   "cell_type": "code",
   "execution_count": 28,
   "id": "47c53bb2",
   "metadata": {},
   "outputs": [],
   "source": [
    "# Your Answer here\n"
   ]
  },
  {
   "cell_type": "markdown",
   "id": "c7ab3653",
   "metadata": {},
   "source": [
    "Without running the code, predict the output of the following expressions:"
   ]
  },
  {
   "cell_type": "code",
   "execution_count": null,
   "id": "55df8ba1",
   "metadata": {},
   "outputs": [],
   "source": [
    "5 * (8 + 3)"
   ]
  },
  {
   "cell_type": "code",
   "execution_count": null,
   "id": "1389c971",
   "metadata": {},
   "outputs": [],
   "source": [
    "5 * 8 + 3"
   ]
  },
  {
   "cell_type": "code",
   "execution_count": null,
   "id": "1d97afcd",
   "metadata": {},
   "outputs": [],
   "source": [
    "5 + 8 * 3"
   ]
  },
  {
   "cell_type": "markdown",
   "id": "bda81c0a",
   "metadata": {},
   "source": [
    "What is the data type of the following expression?"
   ]
  },
  {
   "cell_type": "code",
   "execution_count": null,
   "id": "56eee43f",
   "metadata": {},
   "outputs": [],
   "source": [
    "7 + 2.5 + 6"
   ]
  },
  {
   "cell_type": "markdown",
   "id": "a66f5093",
   "metadata": {},
   "source": [
    "How do you calculate a number’s square root and its square in Python?\n",
    "\n",
    "- Square root:\n",
    "- Square:"
   ]
  },
  {
   "cell_type": "markdown",
   "id": "d654806c",
   "metadata": {},
   "source": [
    "## Section 3: Strings\n",
    "Given the string \"python\", write an index command that returns 'y'."
   ]
  },
  {
   "cell_type": "code",
   "execution_count": null,
   "id": "75bb736a",
   "metadata": {},
   "outputs": [],
   "source": [
    "s = \"python\"\n",
    "# Your code here\n"
   ]
  },
  {
   "cell_type": "markdown",
   "id": "03153b46",
   "metadata": {},
   "source": [
    "Reverse the string \"python\" using slicing."
   ]
  },
  {
   "cell_type": "code",
   "execution_count": null,
   "id": "d4648640",
   "metadata": {},
   "outputs": [],
   "source": [
    "s = \"python\"\n",
    "# Your code here\n"
   ]
  },
  {
   "cell_type": "markdown",
   "id": "6a8eeb1b",
   "metadata": {},
   "source": [
    "Extract the letter \"n\" from the string \"python\" using two different methods."
   ]
  },
  {
   "cell_type": "code",
   "execution_count": null,
   "id": "5f986bae",
   "metadata": {},
   "outputs": [],
   "source": [
    "s = \"python\"\n",
    "# Method 1:\n",
    "\n",
    "# Method 2:\n"
   ]
  },
  {
   "cell_type": "markdown",
   "id": "ac325ea4",
   "metadata": {},
   "source": [
    "## Section 4: Lists\n",
    "Create the list [1,1,1] in two different ways."
   ]
  },
  {
   "cell_type": "code",
   "execution_count": 3,
   "id": "d13e3abc",
   "metadata": {},
   "outputs": [],
   "source": [
    "# Method 1:\n",
    "\n",
    "# Method 2:\n"
   ]
  },
  {
   "cell_type": "markdown",
   "id": "3b5976b2",
   "metadata": {},
   "source": [
    "Change the word \"hello\" in the following nested list to \"goodbye\"."
   ]
  },
  {
   "cell_type": "code",
   "execution_count": null,
   "id": "1221f6fb",
   "metadata": {},
   "outputs": [],
   "source": [
    "my_list = [5, [10, 15, [\"hello\"]]]\n"
   ]
  },
  {
   "cell_type": "markdown",
   "id": "b034771d",
   "metadata": {},
   "source": [
    "Sort the following list in ascending order."
   ]
  },
  {
   "cell_type": "code",
   "execution_count": 4,
   "id": "f63ed469",
   "metadata": {},
   "outputs": [],
   "source": [
    "num_list = [9, 1, 6, 4, 3]\n",
    "# your code here\n"
   ]
  },
  {
   "cell_type": "markdown",
   "id": "35dcfcdb",
   "metadata": {},
   "source": [
    "## Section 5: Dictionaries\n",
    "Use dictionary indexing to extract \"world\" from the following dictionary:"
   ]
  },
  {
   "cell_type": "code",
   "execution_count": 6,
   "id": "6a47df3f",
   "metadata": {},
   "outputs": [],
   "source": [
    "d = {\"key1\": \"world\"}\n",
    "# your code here\n"
   ]
  },
  {
   "cell_type": "markdown",
   "id": "b9f2f521",
   "metadata": {},
   "source": [
    "Retrieve \"world\" from this nested dictionary:"
   ]
  },
  {
   "cell_type": "code",
   "execution_count": 7,
   "id": "40273b12",
   "metadata": {},
   "outputs": [],
   "source": [
    "d = {\"level1\": {\"level2\": {\"target\": \"world\"}}}\n",
    "# your code here\n"
   ]
  },
  {
   "cell_type": "markdown",
   "id": "f2dd337f",
   "metadata": {},
   "source": [
    "Extract \"world\" from the deeply nested dictionary below:"
   ]
  },
  {
   "cell_type": "code",
   "execution_count": 8,
   "id": "01762c66",
   "metadata": {},
   "outputs": [],
   "source": [
    "d = {\"outer\": [{\"inner_key\": [\"ignore this\", [\"world\"]]}]}\n",
    "# your code here\n"
   ]
  },
  {
   "cell_type": "markdown",
   "id": "bcaeaccf",
   "metadata": {},
   "source": [
    "```Can you sort a dictionary? Why or why not?```"
   ]
  },
  {
   "cell_type": "markdown",
   "id": "6c059a15",
   "metadata": {},
   "source": [
    "## Dictionaries (Advanced Questions)\n",
    "```Create a dictionary that stores information about a student, including their name, age, grades (list of numbers), and enrolled courses (a list of course names).```"
   ]
  },
  {
   "cell_type": "code",
   "execution_count": 9,
   "id": "58e961c1",
   "metadata": {},
   "outputs": [],
   "source": [
    "# Your code here\n"
   ]
  },
  {
   "cell_type": "markdown",
   "id": "c654869e",
   "metadata": {},
   "source": [
    "Update the dictionary you created above to:\n",
    "\n",
    "- Change the student's age.\n",
    "- Add a new course to their list of enrolled courses.\n",
    "- Remove one of the grades."
   ]
  },
  {
   "cell_type": "code",
   "execution_count": 10,
   "id": "e72da3ec",
   "metadata": {},
   "outputs": [],
   "source": [
    "# Your code here\n"
   ]
  },
  {
   "cell_type": "markdown",
   "id": "9a21ddd3",
   "metadata": {},
   "source": [
    "```Given the following dictionary, write a Python program to check if the key \"salary\" exists. If it does, print its value; otherwise, print \"Key not found\".```"
   ]
  },
  {
   "cell_type": "code",
   "execution_count": null,
   "id": "0b45f8cb",
   "metadata": {},
   "outputs": [],
   "source": [
    "employee = {\"name\": \"John\", \"age\": 30, \"department\": \"IT\"}\n",
    "# your code here\n"
   ]
  },
  {
   "cell_type": "markdown",
   "id": "dacfc284",
   "metadata": {},
   "source": [
    "Merge the two dictionaries below into a single dictionary."
   ]
  },
  {
   "cell_type": "code",
   "execution_count": 12,
   "id": "aa804d50",
   "metadata": {},
   "outputs": [],
   "source": [
    "dict1 = {\"a\": 1, \"b\": 2}\n",
    "dict2 = {\"c\": 3, \"d\": 4}\n",
    "# your code here\n"
   ]
  },
  {
   "cell_type": "markdown",
   "id": "344d4590",
   "metadata": {},
   "source": [
    "Convert the following list of tuples into a dictionary:"
   ]
  },
  {
   "cell_type": "code",
   "execution_count": 14,
   "id": "25568a59",
   "metadata": {},
   "outputs": [],
   "source": [
    "data = [(\"name\", \"Alice\"), (\"age\", 25), (\"city\", \"New York\")]\n",
    "# your code here\n"
   ]
  },
  {
   "cell_type": "markdown",
   "id": "43dc3d87",
   "metadata": {},
   "source": [
    "Write a Python program to count the frequency of each letter in the given string and store it in a dictionary."
   ]
  },
  {
   "cell_type": "code",
   "execution_count": 15,
   "id": "8ab554c7",
   "metadata": {},
   "outputs": [],
   "source": [
    "text = \"python programming\"\n",
    "# your code here"
   ]
  },
  {
   "cell_type": "markdown",
   "id": "90e9b49f",
   "metadata": {},
   "source": [
    "## Section 6: Tuples\n",
    "\n",
    "What is the key difference between tuples and lists?\n",
    "\n",
    "How do you define a tuple in Python? Provide an example."
   ]
  },
  {
   "cell_type": "code",
   "execution_count": null,
   "id": "bf7aa866",
   "metadata": {},
   "outputs": [],
   "source": [
    "# your example here\n"
   ]
  },
  {
   "cell_type": "markdown",
   "id": "d3c8e887",
   "metadata": {},
   "source": [
    "Create a tuple with only one element."
   ]
  },
  {
   "cell_type": "code",
   "execution_count": 16,
   "id": "fa7219ae",
   "metadata": {},
   "outputs": [],
   "source": [
    "# Your code here\n"
   ]
  },
  {
   "cell_type": "markdown",
   "id": "c7cf9460",
   "metadata": {},
   "source": [
    "Given the tuple below, extract only the first and last elements."
   ]
  },
  {
   "cell_type": "code",
   "execution_count": 17,
   "id": "63194442",
   "metadata": {},
   "outputs": [],
   "source": [
    "my_tuple = (10, 20, 30, 40, 50)\n",
    "# your code here\n"
   ]
  },
  {
   "cell_type": "markdown",
   "id": "ecd28472",
   "metadata": {},
   "source": [
    "Convert the following tuple into a list, modify the second element, and convert it back to a tuple.\n",
    "\n"
   ]
  },
  {
   "cell_type": "code",
   "execution_count": null,
   "id": "aecbcdc8",
   "metadata": {},
   "outputs": [],
   "source": [
    "t = (1, 2, 3, 4, 5)\n",
    "# your code here\n"
   ]
  },
  {
   "cell_type": "markdown",
   "id": "bbdcbcf3",
   "metadata": {},
   "source": [
    "Given two tuples, concatenate them into a single tuple."
   ]
  },
  {
   "cell_type": "code",
   "execution_count": 18,
   "id": "e4bfa308",
   "metadata": {},
   "outputs": [],
   "source": [
    "tuple1 = (1, 2, 3)\n",
    "tuple2 = (4, 5, 6)\n",
    "# your code here\n"
   ]
  },
  {
   "cell_type": "markdown",
   "id": "6d54704b",
   "metadata": {},
   "source": [
    "Write a Python program to find the index of the value 25 in the tuple below:"
   ]
  },
  {
   "cell_type": "code",
   "execution_count": 19,
   "id": "2e4f9416",
   "metadata": {},
   "outputs": [],
   "source": [
    "numbers = (5, 10, 15, 20, 25, 30)\n",
    "# your code here\n"
   ]
  },
  {
   "cell_type": "markdown",
   "id": "6cecbeec",
   "metadata": {},
   "source": [
    "Given the tuple below, find the maximum and minimum values."
   ]
  },
  {
   "cell_type": "code",
   "execution_count": 20,
   "id": "92d432f4",
   "metadata": {},
   "outputs": [],
   "source": [
    "numbers = (8, 3, 15, 2, 9, 20)\n",
    "# your code here\n"
   ]
  },
  {
   "cell_type": "markdown",
   "id": "63af301e",
   "metadata": {},
   "source": [
    "Can you modify a tuple after it has been created? Why or why not?"
   ]
  },
  {
   "cell_type": "markdown",
   "id": "b572d176",
   "metadata": {},
   "source": [
    "# Section 7: Sets\n",
    "What makes sets unique compared to other data structures?\n",
    "\n",
    "Use a set to find unique values from the list below:"
   ]
  },
  {
   "cell_type": "code",
   "execution_count": 21,
   "id": "40e7bda7",
   "metadata": {},
   "outputs": [],
   "source": [
    "values = [4, 5, 5, 6, 7, 8, 8, 9, 4, 2]\n",
    "# your code here\n"
   ]
  },
  {
   "cell_type": "markdown",
   "id": "913831c6",
   "metadata": {},
   "source": [
    "Create a set containing numbers from 1 to 10."
   ]
  },
  {
   "cell_type": "code",
   "execution_count": 22,
   "id": "c91e54f1",
   "metadata": {},
   "outputs": [],
   "source": [
    "# Your code here\n"
   ]
  },
  {
   "cell_type": "markdown",
   "id": "1c3248ae",
   "metadata": {},
   "source": [
    "Given two sets below, perform the following operations:\n",
    "\n",
    "- Find the union of the sets.\n",
    "- Find the intersection of the sets.\n",
    "- Find the difference between set1 and set2."
   ]
  },
  {
   "cell_type": "code",
   "execution_count": 23,
   "id": "9aa60867",
   "metadata": {},
   "outputs": [],
   "source": [
    "set1 = {1, 2, 3, 4, 5}\n",
    "set2 = {4, 5, 6, 7, 8}\n",
    "\n",
    "# Your Code here\n"
   ]
  },
  {
   "cell_type": "markdown",
   "id": "d4fa21b4",
   "metadata": {},
   "source": [
    "Remove an element from a set safely (without causing an error if the element doesn’t exist).\n"
   ]
  },
  {
   "cell_type": "code",
   "execution_count": null,
   "id": "98f1b4c9",
   "metadata": {},
   "outputs": [],
   "source": [
    "# Your Code here\n"
   ]
  },
  {
   "cell_type": "markdown",
   "id": "8662ee82",
   "metadata": {},
   "source": [
    "\n",
    "Given a list with duplicate values, remove the duplicates using a set."
   ]
  },
  {
   "cell_type": "code",
   "execution_count": 24,
   "id": "b72a7b64",
   "metadata": {},
   "outputs": [],
   "source": [
    "nums = [1, 2, 2, 3, 4, 4, 5, 6, 6, 7]\n",
    "# Your Code here\n"
   ]
  },
  {
   "cell_type": "markdown",
   "id": "7343e817",
   "metadata": {},
   "source": [
    "Check if set_a is a subset of set_b."
   ]
  },
  {
   "cell_type": "code",
   "execution_count": 25,
   "id": "3148a663",
   "metadata": {},
   "outputs": [],
   "source": [
    "set_a = {1, 2, 3}\n",
    "set_b = {1, 2, 3, 4, 5}\n",
    "\n",
    "# Your Code here\n"
   ]
  },
  {
   "cell_type": "markdown",
   "id": "747d7dd4",
   "metadata": {},
   "source": [
    "Write a Python program to generate a set of unique random numbers between 1 and 100 with 10 elements.\n",
    "\n"
   ]
  },
  {
   "cell_type": "code",
   "execution_count": null,
   "id": "8800cc20",
   "metadata": {},
   "outputs": [],
   "source": [
    "import random\n",
    "\n",
    "# your code here\n"
   ]
  },
  {
   "cell_type": "markdown",
   "id": "8ef70d8b",
   "metadata": {},
   "source": [
    "What is the difference between .remove() and .discard() in sets?"
   ]
  },
  {
   "cell_type": "code",
   "execution_count": 26,
   "id": "00640bb8",
   "metadata": {},
   "outputs": [],
   "source": [
    "# your description here\n",
    "\n"
   ]
  },
  {
   "cell_type": "markdown",
   "id": "145bbcd9",
   "metadata": {},
   "source": [
    "## Section 8: Boolean Logic and Comparison Operators\n",
    "What will be the output of the following boolean expressions? Answer before running the code."
   ]
  },
  {
   "cell_type": "code",
   "execution_count": null,
   "id": "872e61ab",
   "metadata": {},
   "outputs": [],
   "source": [
    "10 > 3\n",
    "# your answer before running: "
   ]
  },
  {
   "cell_type": "code",
   "execution_count": null,
   "id": "2815a61d",
   "metadata": {},
   "outputs": [],
   "source": [
    "5 <= 2\n",
    "\n",
    "# your answer before running:"
   ]
  },
  {
   "cell_type": "code",
   "execution_count": null,
   "id": "6784ae2a",
   "metadata": {},
   "outputs": [],
   "source": [
    "3 == 3.5\n",
    "\n",
    "# your answer before running:"
   ]
  },
  {
   "cell_type": "code",
   "execution_count": null,
   "id": "015f576e",
   "metadata": {},
   "outputs": [],
   "source": [
    "4.0 == 4\n",
    "\n",
    "# your answer before running:"
   ]
  },
  {
   "cell_type": "code",
   "execution_count": null,
   "id": "2e4ba48d",
   "metadata": {},
   "outputs": [],
   "source": [
    "9**0.5 != 3\n",
    "\n",
    "# your answer before running:"
   ]
  },
  {
   "cell_type": "markdown",
   "id": "1c002757",
   "metadata": {},
   "source": [
    "Given two lists, determine whether the last element of the first list is greater than or equal to the dictionary value in the second list."
   ]
  },
  {
   "cell_type": "code",
   "execution_count": null,
   "id": "da9dbf3d",
   "metadata": {},
   "outputs": [],
   "source": [
    "list_a = [1, 2, [7, 8]]\n",
    "list_b = [1, 2, {\"key\": 8}]\n",
    "\n",
    "# your code here"
   ]
  },
  {
   "cell_type": "code",
   "execution_count": null,
   "id": "95913c3f",
   "metadata": {},
   "outputs": [],
   "source": [
    "# Your answer: True or False?\n",
    "list_a[2][1] >= list_b[2][\"key\"]\n",
    "\n",
    "# your answer before running:"
   ]
  },
  {
   "cell_type": "markdown",
   "id": "d8bf336c",
   "metadata": {},
   "source": [
    "## Final Question\n",
    "You've completed your assessment! What concept did you find the most challenging, and what would you like to review further?"
   ]
  }
 ],
 "metadata": {
  "kernelspec": {
   "display_name": "Python 3 (ipykernel)",
   "language": "python",
   "name": "python3"
  },
  "language_info": {
   "codemirror_mode": {
    "name": "ipython",
    "version": 3
   },
   "file_extension": ".py",
   "mimetype": "text/x-python",
   "name": "python",
   "nbconvert_exporter": "python",
   "pygments_lexer": "ipython3",
   "version": "3.13.2"
  }
 },
 "nbformat": 4,
 "nbformat_minor": 5
}
