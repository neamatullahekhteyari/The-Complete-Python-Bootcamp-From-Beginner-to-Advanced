{
 "cells": [
  {
   "cell_type": "markdown",
   "id": "40c47ca6",
   "metadata": {},
   "source": [
    "___\n",
    "\n",
    "<a href='https://www.udemy.com/user/Neamatullah-ekhteyari/'><img src='../Neamatullah.png'/></a>\n",
    "___\n",
    "<center><em>Content Copyright by Neamatullah Ekhteyari</em></center>"
   ]
  },
  {
   "cell_type": "markdown",
   "id": "ddb49e38",
   "metadata": {},
   "source": [
    "### Introduction to Sets in Python\n",
    "In Python, a set is an unordered collection of unique items. Unlike lists or tuples, sets do not allow duplicate elements, which makes them ideal for situations where you want to ensure all elements are distinct.\n",
    "\n",
    "This notebook will walk you through:\n",
    "\n",
    "1. Creating a set\n",
    "2. Adding elements\n",
    "3. Understanding set properties\n",
    "4. Converting lists to sets\n",
    "5. Set operations and methods"
   ]
  },
  {
   "cell_type": "markdown",
   "id": "fe782035",
   "metadata": {},
   "source": [
    "### Step 1: Creating a Set\n",
    "A set is created using the set() constructor or by using curly braces {} with comma-separated elements."
   ]
  },
  {
   "cell_type": "code",
   "execution_count": 1,
   "id": "11d46a93",
   "metadata": {},
   "outputs": [
    {
     "name": "stdout",
     "output_type": "stream",
     "text": [
      "set()\n"
     ]
    }
   ],
   "source": [
    "# Creating an empty set\n",
    "my_set = set()\n",
    "print(my_set)  # Output: set()\n",
    "\n"
   ]
  },
  {
   "cell_type": "code",
   "execution_count": 2,
   "id": "be9bdaf0",
   "metadata": {},
   "outputs": [
    {
     "name": "stdout",
     "output_type": "stream",
     "text": [
      "{1, 2, 3}\n"
     ]
    }
   ],
   "source": [
    "# Another way to create a set using curly braces\n",
    "my_set = {1, 2, 3}\n",
    "print(my_set)  # Output: {1, 2, 3}\n"
   ]
  },
  {
   "cell_type": "markdown",
   "id": "82b91407",
   "metadata": {},
   "source": [
    "An empty set can only be created using set() because {} creates an empty dictionary, not a set.\n",
    "\n",
    "A set can contain various types of elements such as integers, strings, etc."
   ]
  },
  {
   "cell_type": "markdown",
   "id": "871c42ee",
   "metadata": {},
   "source": [
    "### Step 2: Adding Elements to a Set\n",
    "Sets are mutable, meaning you can add new elements after the set is created. However, sets automatically handle duplicates, meaning if you try to add a duplicate element, it will be ignored."
   ]
  },
  {
   "cell_type": "code",
   "execution_count": 3,
   "id": "21c25f58",
   "metadata": {},
   "outputs": [
    {
     "name": "stdout",
     "output_type": "stream",
     "text": [
      "{1, 2, 3}\n"
     ]
    }
   ],
   "source": [
    "# Adding elements to the set\n",
    "my_set.add(1)\n",
    "my_set.add(2)\n",
    "my_set.add(2)  # Duplicate element, will not be added\n",
    "print(my_set)  # Output: {1, 2}\n"
   ]
  },
  {
   "cell_type": "markdown",
   "id": "7781aa61",
   "metadata": {},
   "source": [
    "Notice that even though we tried to add 2 again, it didn't appear in the set because sets do not allow duplicates."
   ]
  },
  {
   "cell_type": "markdown",
   "id": "8765b3ef",
   "metadata": {},
   "source": [
    "### Step 3: Checking the Type of a Set\n",
    "You can check the type of the object to confirm that it is a set."
   ]
  },
  {
   "cell_type": "code",
   "execution_count": 5,
   "id": "9b5c08db",
   "metadata": {},
   "outputs": [
    {
     "name": "stdout",
     "output_type": "stream",
     "text": [
      "<class 'set'>\n"
     ]
    }
   ],
   "source": [
    "# Checking the type of the object\n",
    "print(type(my_set))  # Output: <class 'set'>\n"
   ]
  },
  {
   "cell_type": "markdown",
   "id": "144aecef",
   "metadata": {},
   "source": [
    "This tells you that my_set is indeed a set, as opposed to other data types like lists or dictionaries."
   ]
  },
  {
   "cell_type": "markdown",
   "id": "0c5e637b",
   "metadata": {},
   "source": [
    "### Step 4: Sets vs. Dictionaries\n",
    "While both sets and dictionaries use curly braces {}, there's a significant difference between them:\n",
    "\n",
    "Sets: Contain only unique elements.\n",
    "\n",
    "Dictionaries: Contain key-value pairs."
   ]
  },
  {
   "cell_type": "code",
   "execution_count": 6,
   "id": "ecfb7051",
   "metadata": {},
   "outputs": [
    {
     "name": "stdout",
     "output_type": "stream",
     "text": [
      "<class 'dict'>\n"
     ]
    }
   ],
   "source": [
    "# Example of a dictionary\n",
    "my_dict = {1: \"one\", 2: \"two\", 3: \"three\"}\n",
    "print(type(my_dict))  # Output: <class 'dict'>\n"
   ]
  },
  {
   "cell_type": "markdown",
   "id": "dd272809",
   "metadata": {},
   "source": [
    "Dictionaries are different from sets because they store key-value pairs, while sets only store unique values."
   ]
  },
  {
   "cell_type": "markdown",
   "id": "9e2c58ec",
   "metadata": {},
   "source": [
    "### Step 5: Converting a List to a Set\n",
    "You can convert a list into a set to eliminate duplicates. Here's an example of a list with repeated elements:"
   ]
  },
  {
   "cell_type": "code",
   "execution_count": 7,
   "id": "2a5431bf",
   "metadata": {},
   "outputs": [
    {
     "name": "stdout",
     "output_type": "stream",
     "text": [
      "{1, 2, 3, 4, 5}\n"
     ]
    }
   ],
   "source": [
    "# List with duplicate values\n",
    "my_list = [1, 1, 2, 2, 3, 3, 4, 5]\n",
    "\n",
    "# Converting the list to a set to remove duplicates\n",
    "unique_values = set(my_list)\n",
    "print(unique_values)  # Output: {1, 2, 3, 4, 5}\n"
   ]
  },
  {
   "cell_type": "markdown",
   "id": "ce05d78f",
   "metadata": {},
   "source": [
    "The set() constructor removes all duplicate elements from the list, leaving you with only the unique values."
   ]
  },
  {
   "cell_type": "markdown",
   "id": "c03b4b88",
   "metadata": {},
   "source": [
    "### Step 6: Understanding Set Ordering\n",
    "One key feature of sets is that they are unordered. This means that the elements in a set do not have a specific order, and the order can vary every time the set is printed or accessed."
   ]
  },
  {
   "cell_type": "code",
   "execution_count": 8,
   "id": "975c3968",
   "metadata": {},
   "outputs": [
    {
     "name": "stdout",
     "output_type": "stream",
     "text": [
      "{1, 2, 3, 4}\n"
     ]
    }
   ],
   "source": [
    "# Set elements are unordered\n",
    "my_set = {3, 1, 4, 2}\n",
    "print(my_set)  # Output: {1, 2, 3, 4} (order may vary)\n"
   ]
  },
  {
   "cell_type": "markdown",
   "id": "632afe5b",
   "metadata": {},
   "source": [
    "Even though we created the set with the elements {3, 1, 4, 2}, when printed, the order of the elements may not be the same as how they were inserted."
   ]
  },
  {
   "cell_type": "markdown",
   "id": "e4bbf8bd",
   "metadata": {},
   "source": [
    "### Conclusion\n",
    "At this point, you should have a solid understanding of the following concepts related to sets:\n",
    "\n",
    "1. Creating sets and adding elements to them.\n",
    "2. Understanding the immutability of sets (no duplicates).\n",
    "3. Using the set() constructor to convert lists into sets.\n",
    "4. Differentiating between sets and dictionaries."
   ]
  }
 ],
 "metadata": {
  "kernelspec": {
   "display_name": "Python 3 (ipykernel)",
   "language": "python",
   "name": "python3"
  },
  "language_info": {
   "codemirror_mode": {
    "name": "ipython",
    "version": 3
   },
   "file_extension": ".py",
   "mimetype": "text/x-python",
   "name": "python",
   "nbconvert_exporter": "python",
   "pygments_lexer": "ipython3",
   "version": "3.13.2"
  }
 },
 "nbformat": 4,
 "nbformat_minor": 5
}
