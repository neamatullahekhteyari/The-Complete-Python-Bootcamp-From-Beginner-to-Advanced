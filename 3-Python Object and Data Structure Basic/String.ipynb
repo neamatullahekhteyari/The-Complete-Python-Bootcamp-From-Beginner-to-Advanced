{
 "cells": [
  {
   "cell_type": "markdown",
   "id": "8e3d1437",
   "metadata": {},
   "source": [
    "___\n",
    "\n",
    "<a href='https://www.udemy.com/user/Neamatullah-ekhteyari/'><img src='../Neamatullah.png'/></a>\n",
    "___\n",
    "<center><em>Content Copyright by Neamatullah Ekhteyari</em></center>"
   ]
  },
  {
   "cell_type": "markdown",
   "id": "7ca3a4d6",
   "metadata": {},
   "source": [
    "\n",
    "### Python Basics: Numbers, Variables, and Strings\n",
    "\n",
    "This Jupyter Notebook covers fundamental concepts in Python, including:\n",
    "- Types of Numbers\n",
    "- Arithmetic Operations\n",
    "- Variable Assignment\n",
    "- Dynamic Typing\n",
    "- Rules for Variable Names\n",
    "- Strings and String Manipulation\n",
    "- String Indexing and Slicing\n",
    "- String Properties\n",
    "- String Methods\n",
    "- String Formatting\n",
    "\n",
    "Strings are used in Python to record text information, such as names. Strings in Python are actually a sequence, which basically means Python keeps track of every element in the string as a sequence. For example, Python understands the string \"hello' to be a sequence of letters in a specific order. This means we will be able to use indexing to grab particular letters (like the first letter, or the last letter).\n"
   ]
  },
  {
   "cell_type": "markdown",
   "id": "b61e883c",
   "metadata": {},
   "source": [
    "# Types of Numbers in Python\n"
   ]
  },
  {
   "cell_type": "markdown",
   "id": "12b369e8",
   "metadata": {},
   "source": [
    "## Integers (whole numbers)"
   ]
  },
  {
   "cell_type": "code",
   "execution_count": 5,
   "id": "5b7ee9d5",
   "metadata": {},
   "outputs": [],
   "source": [
    "int_example_1 = 2  # Example of a positive integer\n",
    "int_example_2 = -5  # Example of a negative integer\n",
    "int_example_3 = 1000  # Large integer example"
   ]
  },
  {
   "cell_type": "markdown",
   "id": "8956f754",
   "metadata": {},
   "source": [
    "### Floating-point numbers (numbers with decimals or exponent notation)\n"
   ]
  },
  {
   "cell_type": "code",
   "execution_count": 6,
   "id": "0ce91bc6",
   "metadata": {},
   "outputs": [],
   "source": [
    "float_example_1 = 2.0  # Example of a float number\n",
    "float_example_2 = -0.5  # Negative floating-point number\n",
    "float_example_3 = 4E2  # Equivalent to 4 * 10^2 (exponential notation)"
   ]
  },
  {
   "cell_type": "markdown",
   "id": "dcb5e0bb",
   "metadata": {},
   "source": [
    "### Dispaly the examplese"
   ]
  },
  {
   "cell_type": "code",
   "execution_count": 8,
   "id": "707151d4",
   "metadata": {},
   "outputs": [
    {
     "name": "stdout",
     "output_type": "stream",
     "text": [
      "Integer Examples: 2 -5 1000\n",
      "Floating-point Examples: 2.0 -0.5 400.0\n"
     ]
    }
   ],
   "source": [
    "\n",
    "print(\"Integer Examples:\", int_example_1, int_example_2, int_example_3)\n",
    "print(\"Floating-point Examples:\", float_example_1, float_example_2, float_example_3)"
   ]
  },
  {
   "cell_type": "markdown",
   "id": "315ee33f",
   "metadata": {},
   "source": [
    "#### Arithmetic Operations"
   ]
  },
  {
   "cell_type": "code",
   "execution_count": 9,
   "id": "af284493",
   "metadata": {},
   "outputs": [
    {
     "name": "stdout",
     "output_type": "stream",
     "text": [
      "Addition (2 + 3): 5\n",
      "Subtraction (10 - 4): 6\n",
      "Multiplication (5 * 6): 30\n",
      "Division (20 / 4): 5.0\n",
      "Exponentiation (2 ** 3): 8\n",
      "Square Root (4 ** 0.5): 2.0\n"
     ]
    }
   ],
   "source": [
    "print(\"Addition (2 + 3):\", 2 + 3)\n",
    "print(\"Subtraction (10 - 4):\", 10 - 4)\n",
    "print(\"Multiplication (5 * 6):\", 5 * 6)\n",
    "print(\"Division (20 / 4):\", 20 / 4)\n",
    "print(\"Exponentiation (2 ** 3):\", 2 ** 3)  # 2 raised to the power of 3\n",
    "print(\"Square Root (4 ** 0.5):\", 4 ** 0.5)  # Equivalent to sqrt(4)"
   ]
  },
  {
   "cell_type": "markdown",
   "id": "325a230d",
   "metadata": {},
   "source": [
    "#### Order of operations (follows BODMAS/PEMDAS rules)"
   ]
  },
  {
   "cell_type": "code",
   "execution_count": 10,
   "id": "330a1667",
   "metadata": {},
   "outputs": [
    {
     "name": "stdout",
     "output_type": "stream",
     "text": [
      "Order of operations (2 + 10 * 10 + 3): 105\n",
      "Using parentheses ((2 + 10) * (10 + 3)): 156\n"
     ]
    }
   ],
   "source": [
    "print(\"Order of operations (2 + 10 * 10 + 3):\", 2 + 10 * 10 + 3)\n",
    "print(\"Using parentheses ((2 + 10) * (10 + 3)):\", (2 + 10) * (10 + 3))"
   ]
  },
  {
   "cell_type": "markdown",
   "id": "83becf9d",
   "metadata": {},
   "source": [
    "#### Rules for Variable Names"
   ]
  },
  {
   "cell_type": "code",
   "execution_count": 11,
   "id": "629cc547",
   "metadata": {},
   "outputs": [
    {
     "name": "stdout",
     "output_type": "stream",
     "text": [
      "\n",
      "Rules for Variable Names:\n",
      "- Names cannot start with a number\n",
      "- Names cannot contain spaces, use underscores (_) instead\n",
      "- Names cannot contain special symbols like: :'\"<>/?|\\!@#%^&*~-+\n",
      "- Use lowercase letters with underscores (PEP8 best practice)\n",
      "- Avoid using Python built-in keywords like 'list' and 'str'\n",
      "- Avoid single characters like 'l', 'O', and 'I' as they resemble 1 and 0\n"
     ]
    }
   ],
   "source": [
    "print(\"\\nRules for Variable Names:\")\n",
    "print(\"- Names cannot start with a number\")\n",
    "print(\"- Names cannot contain spaces, use underscores (_) instead\")\n",
    "print(\"- Names cannot contain special symbols like: :'\\\"<>/?|\\\\!@#%^&*~-+\")\n",
    "print(\"- Use lowercase letters with underscores (PEP8 best practice)\")\n",
    "print(\"- Avoid using Python built-in keywords like 'list' and 'str'\")\n",
    "print(\"- Avoid single characters like 'l', 'O', and 'I' as they resemble 1 and 0\")"
   ]
  },
  {
   "cell_type": "code",
   "execution_count": 13,
   "id": "22719be0",
   "metadata": {},
   "outputs": [
    {
     "name": "stdout",
     "output_type": "stream",
     "text": [
      "\n",
      "Variable Assignment:\n",
      "Value of a: 5\n",
      "Reassigned a (a + a): 10\n",
      "After += 10: 20\n"
     ]
    }
   ],
   "source": [
    "# Variable Assignment\n",
    "\n",
    "print(\"\\nVariable Assignment:\")\n",
    "a = 5  # Assigning a value to variable 'a'\n",
    "print(\"Value of a:\", a)\n",
    "a = a + a  # Reassigning 'a' by doubling its value\n",
    "print(\"Reassigned a (a + a):\", a)\n",
    "\n",
    "a += 10  # Using shorthand for addition assignment\n",
    "print(\"After += 10:\", a)"
   ]
  },
  {
   "cell_type": "code",
   "execution_count": 14,
   "id": "75434906",
   "metadata": {},
   "outputs": [
    {
     "name": "stdout",
     "output_type": "stream",
     "text": [
      "Type of a: <class 'int'>\n"
     ]
    }
   ],
   "source": [
    "# Checking variable type\n",
    "print(\"Type of a:\", type(a))"
   ]
  },
  {
   "cell_type": "code",
   "execution_count": 15,
   "id": "11a60ece",
   "metadata": {},
   "outputs": [
    {
     "name": "stdout",
     "output_type": "stream",
     "text": [
      "\n",
      "Dynamic Typing:\n",
      "my_var as int: 10 Type: <class 'int'>\n",
      "my_var as string: Hello Type: <class 'str'>\n"
     ]
    }
   ],
   "source": [
    "# Dynamic Typing\n",
    "print(\"\\nDynamic Typing:\")\n",
    "my_var = 10  # Initially an integer\n",
    "print(\"my_var as int:\", my_var, \"Type:\", type(my_var))\n",
    "my_var = \"Hello\"  # Reassigned to a string\n",
    "print(\"my_var as string:\", my_var, \"Type:\", type(my_var))"
   ]
  },
  {
   "cell_type": "code",
   "execution_count": 16,
   "id": "9ffef91b",
   "metadata": {},
   "outputs": [
    {
     "name": "stdout",
     "output_type": "stream",
     "text": [
      "\n",
      "String Basics:\n",
      "Original String: Hello World\n",
      "Length of String: 11\n"
     ]
    }
   ],
   "source": [
    "# Strings\n",
    "print(\"\\nString Basics:\")\n",
    "s = \"Hello World\"\n",
    "print(\"Original String:\", s)\n",
    "print(\"Length of String:\", len(s))"
   ]
  },
  {
   "cell_type": "code",
   "execution_count": 17,
   "id": "87d505e0",
   "metadata": {},
   "outputs": [
    {
     "name": "stdout",
     "output_type": "stream",
     "text": [
      "First character (s[0]): H\n",
      "Last character (s[-1]): d\n",
      "Slicing (first 5 characters, s[:5]): Hello\n",
      "Reverse String (s[::-1]): dlroW olleH\n"
     ]
    }
   ],
   "source": [
    "# String Indexing\n",
    "print(\"First character (s[0]):\", s[0])\n",
    "print(\"Last character (s[-1]):\", s[-1])\n",
    "print(\"Slicing (first 5 characters, s[:5]):\", s[:5])\n",
    "print(\"Reverse String (s[::-1]):\", s[::-1])"
   ]
  },
  {
   "cell_type": "code",
   "execution_count": 18,
   "id": "2b2e9eaa",
   "metadata": {},
   "outputs": [
    {
     "name": "stdout",
     "output_type": "stream",
     "text": [
      "\n",
      "String Properties:\n",
      "- Strings are immutable (cannot be changed after creation)\n",
      "- You can concatenate strings using +\n",
      "- You can multiply strings using *\n"
     ]
    }
   ],
   "source": [
    "# String Properties\n",
    "print(\"\\nString Properties:\")\n",
    "print(\"- Strings are immutable (cannot be changed after creation)\")\n",
    "print(\"- You can concatenate strings using +\")\n",
    "print(\"- You can multiply strings using *\")"
   ]
  },
  {
   "cell_type": "code",
   "execution_count": 19,
   "id": "b421b6d1",
   "metadata": {},
   "outputs": [
    {
     "name": "stdout",
     "output_type": "stream",
     "text": [
      "Concatenated String: Hello World concatenate me!\n"
     ]
    }
   ],
   "source": [
    "# Concatenation Example\n",
    "s = s + \" concatenate me!\"\n",
    "print(\"Concatenated String:\", s)"
   ]
  },
  {
   "cell_type": "code",
   "execution_count": 20,
   "id": "efdcd904",
   "metadata": {},
   "outputs": [
    {
     "name": "stdout",
     "output_type": "stream",
     "text": [
      "\n",
      "String Methods:\n",
      "Uppercase (s.upper()): HELLO WORLD CONCATENATE ME!\n",
      "Lowercase (s.lower()): hello world concatenate me!\n",
      "Splitting (s.split()): ['Hello', 'World', 'concatenate', 'me!']\n",
      "Splitting by 'W' (s.split('W')): ['Hello ', 'orld concatenate me!']\n"
     ]
    }
   ],
   "source": [
    "# String Methods\n",
    "print(\"\\nString Methods:\")\n",
    "print(\"Uppercase (s.upper()):\", s.upper())\n",
    "print(\"Lowercase (s.lower()):\", s.lower())\n",
    "print(\"Splitting (s.split()):\", s.split())\n",
    "print(\"Splitting by 'W' (s.split('W')):\", s.split(\"W\"))"
   ]
  },
  {
   "cell_type": "code",
   "execution_count": 21,
   "id": "33a3723b",
   "metadata": {},
   "outputs": [
    {
     "name": "stdout",
     "output_type": "stream",
     "text": [
      "\n",
      "String Formatting:\n",
      "Insert another string here: Python\n"
     ]
    }
   ],
   "source": [
    "# String Formatting\n",
    "print(\"\\nString Formatting:\")\n",
    "formatted_str = \"Insert another string here: {}\".format(\"Python\")\n",
    "print(formatted_str)"
   ]
  },
  {
   "cell_type": "markdown",
   "id": "b3588557",
   "metadata": {},
   "source": [
    "\n",
    "### Summary\n",
    "In this notebook, we covered:\n",
    "- Types of numbers (integers, floating points)\n",
    "- Basic arithmetic operations\n",
    "- Rules for variable names\n",
    "- Variable assignment and dynamic typing\n",
    "- String manipulation and methods\n",
    "- String formatting techniques\n",
    "\n",
    "Continue exploring Python with more advanced topics!"
   ]
  }
 ],
 "metadata": {
  "kernelspec": {
   "display_name": "Python 3 (ipykernel)",
   "language": "python",
   "name": "python3"
  },
  "language_info": {
   "codemirror_mode": {
    "name": "ipython",
    "version": 3
   },
   "file_extension": ".py",
   "mimetype": "text/x-python",
   "name": "python",
   "nbconvert_exporter": "python",
   "pygments_lexer": "ipython3",
   "version": "3.13.2"
  }
 },
 "nbformat": 4,
 "nbformat_minor": 5
}
