{
 "cells": [
  {
   "cell_type": "markdown",
   "id": "13d37407",
   "metadata": {},
   "source": [
    "___\n",
    "\n",
    "<a href='https://www.udemy.com/user/Neamatullah-ekhteyari/'><img src='../Neamatullah.png'/></a>\n",
    "___\n",
    "<center><em>Content Copyright by Neamatullah Ekhteyari</em></center>"
   ]
  },
  {
   "cell_type": "markdown",
   "id": "bd95572a",
   "metadata": {},
   "source": [
    "## Tuples in Python\n",
    "In Python, tuples are similar to lists but with one key difference: they are immutable. This means once a tuple is created, its elements cannot be modified. Tuples are ideal for storing data that should not change, such as the days of the week or specific dates.\n",
    "\n",
    "This section will give you a brief introduction to the following topics:\n",
    "1. Creating Tuples\n",
    "2. Basic Tuple Methods\n",
    "3. Immutability\n",
    "4. When to Use Tuples\n",
    "\n",
    "By now, you're likely familiar with lists, and tuples function in much the same way, with the important distinction that tuples are immutable."
   ]
  },
  {
   "cell_type": "markdown",
   "id": "c058a44e",
   "metadata": {},
   "source": [
    "## Creating Tuples\n",
    "Tuples are created using parentheses () with elements separated by commas. Here's an example:"
   ]
  },
  {
   "cell_type": "code",
   "execution_count": 10,
   "id": "754a1137",
   "metadata": {},
   "outputs": [],
   "source": [
    "# Create a tuple\n",
    "t = (1, 2, 3)"
   ]
  },
  {
   "cell_type": "code",
   "execution_count": 11,
   "id": "74031584",
   "metadata": {},
   "outputs": [
    {
     "data": {
      "text/plain": [
       "3"
      ]
     },
     "execution_count": 11,
     "metadata": {},
     "output_type": "execute_result"
    }
   ],
   "source": [
    "# Check the length of the tuple (similar to lists)\n",
    "len(t)\n",
    "# Output: 3"
   ]
  },
  {
   "cell_type": "code",
   "execution_count": 12,
   "id": "021a28ca",
   "metadata": {},
   "outputs": [],
   "source": [
    "\n",
    "# You can mix different object types in a tuple\n",
    "t = ('one', 2)"
   ]
  },
  {
   "cell_type": "code",
   "execution_count": 13,
   "id": "888515b5",
   "metadata": {},
   "outputs": [
    {
     "data": {
      "text/plain": [
       "('one', 2)"
      ]
     },
     "execution_count": 13,
     "metadata": {},
     "output_type": "execute_result"
    }
   ],
   "source": [
    "# Display the tuple\n",
    "t\n",
    "# Output: ('one', 2)"
   ]
  },
  {
   "cell_type": "markdown",
   "id": "9825cca3",
   "metadata": {},
   "source": [
    "You can access tuple elements using indexing and slicing, just like you would with a list:"
   ]
  },
  {
   "cell_type": "code",
   "execution_count": 14,
   "id": "24dad856",
   "metadata": {},
   "outputs": [
    {
     "data": {
      "text/plain": [
       "'one'"
      ]
     },
     "execution_count": 14,
     "metadata": {},
     "output_type": "execute_result"
    }
   ],
   "source": [
    "# Access first element\n",
    "t[0]\n",
    "# Output: 'one'\n"
   ]
  },
  {
   "cell_type": "code",
   "execution_count": 15,
   "id": "84e9085c",
   "metadata": {},
   "outputs": [
    {
     "data": {
      "text/plain": [
       "2"
      ]
     },
     "execution_count": 15,
     "metadata": {},
     "output_type": "execute_result"
    }
   ],
   "source": [
    "# Access last element\n",
    "t[-1]\n",
    "# Output: 2"
   ]
  },
  {
   "cell_type": "markdown",
   "id": "e4ce1539",
   "metadata": {},
   "source": [
    "## Basic Tuple Methods\n",
    "Tuples have fewer built-in methods than lists, but they still offer useful functionality. Let's take a look at two common methods:"
   ]
  },
  {
   "cell_type": "code",
   "execution_count": 16,
   "id": "da7dee80",
   "metadata": {},
   "outputs": [
    {
     "data": {
      "text/plain": [
       "0"
      ]
     },
     "execution_count": 16,
     "metadata": {},
     "output_type": "execute_result"
    }
   ],
   "source": [
    "# Use .index() to find the index of a value in the tuple\n",
    "t.index('one')\n",
    "# Output: 0"
   ]
  },
  {
   "cell_type": "code",
   "execution_count": 17,
   "id": "3625fe62",
   "metadata": {},
   "outputs": [
    {
     "data": {
      "text/plain": [
       "1"
      ]
     },
     "execution_count": 17,
     "metadata": {},
     "output_type": "execute_result"
    }
   ],
   "source": [
    "# Use .count() to count how many times a value appears in the tuple\n",
    "t.count('one')\n",
    "# Output: 1"
   ]
  },
  {
   "cell_type": "markdown",
   "id": "a3f1f06b",
   "metadata": {},
   "source": [
    "## Immutability\n",
    "One of the most important characteristics of tuples is their immutability. This means that once a tuple is created, its contents cannot be changed. For example:"
   ]
  },
  {
   "cell_type": "code",
   "execution_count": 18,
   "id": "c5e02d34",
   "metadata": {},
   "outputs": [
    {
     "ename": "TypeError",
     "evalue": "'tuple' object does not support item assignment",
     "output_type": "error",
     "traceback": [
      "\u001b[0;31m---------------------------------------------------------------------------\u001b[0m",
      "\u001b[0;31mTypeError\u001b[0m                                 Traceback (most recent call last)",
      "Cell \u001b[0;32mIn[18], line 2\u001b[0m\n\u001b[1;32m      1\u001b[0m \u001b[38;5;66;03m# Try to change an element (this will raise an error)\u001b[39;00m\n\u001b[0;32m----> 2\u001b[0m \u001b[43mt\u001b[49m\u001b[43m[\u001b[49m\u001b[38;5;241;43m0\u001b[39;49m\u001b[43m]\u001b[49m \u001b[38;5;241m=\u001b[39m \u001b[38;5;124m'\u001b[39m\u001b[38;5;124mchange\u001b[39m\u001b[38;5;124m'\u001b[39m\n\u001b[1;32m      3\u001b[0m \u001b[38;5;66;03m# Output: TypeError: 'tuple' object does not support item assignment\u001b[39;00m\n",
      "\u001b[0;31mTypeError\u001b[0m: 'tuple' object does not support item assignment"
     ]
    }
   ],
   "source": [
    "# Try to change an element (this will raise an error)\n",
    "t[0] = 'change'\n",
    "# Output: TypeError: 'tuple' object does not support item assignment\n"
   ]
  },
  {
   "cell_type": "markdown",
   "id": "b69a3cea",
   "metadata": {},
   "source": [
    "Since tuples are immutable, they also don't support methods that would modify their content, such as append():"
   ]
  },
  {
   "cell_type": "code",
   "execution_count": 19,
   "id": "c7693755",
   "metadata": {},
   "outputs": [
    {
     "ename": "AttributeError",
     "evalue": "'tuple' object has no attribute 'append'",
     "output_type": "error",
     "traceback": [
      "\u001b[0;31m---------------------------------------------------------------------------\u001b[0m",
      "\u001b[0;31mAttributeError\u001b[0m                            Traceback (most recent call last)",
      "Cell \u001b[0;32mIn[19], line 2\u001b[0m\n\u001b[1;32m      1\u001b[0m \u001b[38;5;66;03m# Attempting to add an element will result in an error\u001b[39;00m\n\u001b[0;32m----> 2\u001b[0m \u001b[43mt\u001b[49m\u001b[38;5;241;43m.\u001b[39;49m\u001b[43mappend\u001b[49m(\u001b[38;5;124m'\u001b[39m\u001b[38;5;124mnope\u001b[39m\u001b[38;5;124m'\u001b[39m)\n\u001b[1;32m      3\u001b[0m \u001b[38;5;66;03m# Output: AttributeError: 'tuple' object has no attribute 'append'\u001b[39;00m\n",
      "\u001b[0;31mAttributeError\u001b[0m: 'tuple' object has no attribute 'append'"
     ]
    }
   ],
   "source": [
    "# Attempting to add an element will result in an error\n",
    "t.append('nope')\n",
    "# Output: AttributeError: 'tuple' object has no attribute 'append'\n"
   ]
  },
  {
   "cell_type": "markdown",
   "id": "d177b84e",
   "metadata": {},
   "source": [
    "### When to Use Tuples\n",
    "While tuples aren't used as frequently as lists, they are essential when you need to ensure data integrity. Tuples are useful when you need to pass an object around your program and want to make sure that it remains unchanged.\n",
    "\n",
    "Although tuples have fewer methods available than lists, their immutability makes them a valuable tool for preserving the integrity of your data.\n",
    "\n",
    "By now, you should have a good understanding of how to create and use tuples in your Python programs, as well as why and when they are useful.\n",
    "\n",
    "Next, we'll dive into working with files!"
   ]
  }
 ],
 "metadata": {
  "kernelspec": {
   "display_name": "Python 3 (ipykernel)",
   "language": "python",
   "name": "python3"
  },
  "language_info": {
   "codemirror_mode": {
    "name": "ipython",
    "version": 3
   },
   "file_extension": ".py",
   "mimetype": "text/x-python",
   "name": "python",
   "nbconvert_exporter": "python",
   "pygments_lexer": "ipython3",
   "version": "3.13.2"
  }
 },
 "nbformat": 4,
 "nbformat_minor": 5
}
