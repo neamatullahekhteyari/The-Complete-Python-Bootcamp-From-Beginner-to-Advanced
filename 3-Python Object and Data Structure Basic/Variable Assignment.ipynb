{
 "cells": [
  {
   "cell_type": "markdown",
   "id": "68185b6b",
   "metadata": {},
   "source": [
    "___\n",
    "\n",
    "<a href='https://www.udemy.com/user/Neamatullah-ekhteyari/'><img src='../Neamatullah.png'/></a>\n",
    "___\n",
    "<center><em>Content Copyright by Neamatullah Ekhteyari</em></center>"
   ]
  },
  {
   "cell_type": "markdown",
   "id": "ab12dacf",
   "metadata": {},
   "source": [
    "# Variable Assignment\n",
    "\n",
    "## Rules for variable names\n",
    "Allowed:\n",
    "\n",
    "* Variable names must start with a letter (a-z, A-Z) or an underscore (_)\n",
    "* Variable names can contain letters, numbers (0-9), and underscores (_)\n",
    "* Python is case-sensitive (name and Name are different)\n",
    "\n",
    "      :'\",<>/?|\\!@#%^&*~-+\n",
    "       \n",
    "* it's considered best practice ([PEP8](https://www.python.org/dev/peps/pep-0008/#function-and-variable-names)) that names are lowercase with underscores\n",
    "* avoid using Python built-in keywords like `list` and `str`\n",
    "* avoid using the single characters `l` (lowercase letter el), `O` (uppercase letter oh) and `I` (uppercase letter eye) as they can be confused with `1` and `0`"
   ]
  },
  {
   "cell_type": "markdown",
   "id": "9680f5c9",
   "metadata": {},
   "source": [
    "## Dynamic Typing in Python\n",
    "Unlike statically typed languages (like C or Java), Python uses dynamic typing, meaning you can change a variable’s data type on the fly.\n",
    "\n",
    "### Example: Assigning Different Types to the Same Variable"
   ]
  },
  {
   "cell_type": "code",
   "execution_count": 2,
   "id": "ab4f7c4b",
   "metadata": {},
   "outputs": [
    {
     "name": "stdout",
     "output_type": "stream",
     "text": [
      "3\n",
      "['Dog', 'Cat', 'Rabbit']\n"
     ]
    }
   ],
   "source": [
    "# Assign an integer\n",
    "my_pet = 3  \n",
    "print(my_pet)  # Output: 3\n",
    "\n",
    "# Reassign to a list\n",
    "my_pet = ['Dog', 'Cat', 'Rabbit']  \n",
    "print(my_pet)  # Output: ['Dog', 'Cat', 'Rabbit']"
   ]
  },
  {
   "cell_type": "markdown",
   "id": "b1aced75",
   "metadata": {},
   "source": [
    "#### Pros and Cons of Dynamic Typing\n",
    " Pros:\n",
    "* ✔ Very easy to work with\n",
    "* ✔ Faster development time\n",
    "\n",
    " Cons:\n",
    "* ✘ Can lead to unexpected bugs\n",
    "* ✘ You need to check types using type()"
   ]
  },
  {
   "cell_type": "markdown",
   "id": "44eb924b",
   "metadata": {},
   "source": [
    "## Assigning Variables\n",
    "Variable assignment follows the structure:"
   ]
  },
  {
   "cell_type": "code",
   "execution_count": 4,
   "id": "e35345e3",
   "metadata": {},
   "outputs": [],
   "source": [
    "# variable_name = value"
   ]
  },
  {
   "cell_type": "markdown",
   "id": "5276f20d",
   "metadata": {},
   "source": [
    "where = is the assignment operator.\n",
    "\n",
    "### Example: Basic Assignment"
   ]
  },
  {
   "cell_type": "code",
   "execution_count": 6,
   "id": "4aca587e",
   "metadata": {},
   "outputs": [
    {
     "name": "stdout",
     "output_type": "stream",
     "text": [
      "10\n"
     ]
    }
   ],
   "source": [
    "x = 10  \n",
    "print(x)  # Output: 10"
   ]
  },
  {
   "cell_type": "markdown",
   "id": "b5962edb",
   "metadata": {},
   "source": [
    "### Example: Using Variables in Expressions"
   ]
  },
  {
   "cell_type": "code",
   "execution_count": 7,
   "id": "6d52424d",
   "metadata": {},
   "outputs": [
    {
     "name": "stdout",
     "output_type": "stream",
     "text": [
      "20\n"
     ]
    }
   ],
   "source": [
    "a = 5  \n",
    "b = a + 15  \n",
    "print(b)  # Output: 20"
   ]
  },
  {
   "cell_type": "markdown",
   "id": "e97ea4ed",
   "metadata": {},
   "source": [
    "## Reassigning Variables\n",
    "Python allows you to reassign a variable to a new value at any time."
   ]
  },
  {
   "cell_type": "code",
   "execution_count": 9,
   "id": "12fd76d1",
   "metadata": {},
   "outputs": [
    {
     "name": "stdout",
     "output_type": "stream",
     "text": [
      "7\n",
      "10\n"
     ]
    }
   ],
   "source": [
    "x = 7  \n",
    "print(x)  # Output: 7\n",
    "\n",
    "x = x + 3  \n",
    "print(x)  # Output: 10"
   ]
  },
  {
   "cell_type": "markdown",
   "id": "4e14b44b",
   "metadata": {},
   "source": [
    "### Shortcut for Reassignment\n",
    "Instead of writing x = x + 3, Python allows shorthand operators:"
   ]
  },
  {
   "cell_type": "code",
   "execution_count": 10,
   "id": "8210c255",
   "metadata": {},
   "outputs": [
    {
     "name": "stdout",
     "output_type": "stream",
     "text": [
      "13\n",
      "26\n"
     ]
    }
   ],
   "source": [
    "x += 3  # Same as x = x + 3  \n",
    "print(x)  # Output: 13\n",
    "\n",
    "x *= 2  # Same as x = x * 2  \n",
    "print(x)  # Output: 26"
   ]
  },
  {
   "cell_type": "markdown",
   "id": "c4da9848",
   "metadata": {},
   "source": [
    "### Determining Variable Type\n",
    "You can check the data type of a variable using type().\n",
    "\n",
    "#### Common Data Types in Python\n",
    "int → Integer\n",
    "\n",
    "float → Floating-point number\n",
    "\n",
    "str → String\n",
    "\n",
    "list → List\n",
    "\n",
    "tuple → Tuple\n",
    "\n",
    "dict → Dictionary\n",
    "\n",
    "set → Set\n",
    "\n",
    "bool → Boolean (True / False)\n",
    "\n",
    "#### Example: Checking Types"
   ]
  },
  {
   "cell_type": "code",
   "execution_count": 12,
   "id": "afd8bcef",
   "metadata": {},
   "outputs": [
    {
     "name": "stdout",
     "output_type": "stream",
     "text": [
      "<class 'int'>\n",
      "<class 'float'>\n",
      "<class 'str'>\n",
      "<class 'list'>\n"
     ]
    }
   ],
   "source": [
    "x = 42  \n",
    "print(type(x))  # Output: <class 'int'>\n",
    "\n",
    "y = 3.14  \n",
    "print(type(y))  # Output: <class 'float'>\n",
    "\n",
    "z = \"Hello\"  \n",
    "print(type(z))  # Output: <class 'str'>\n",
    "\n",
    "w = [1, 2, 3]  \n",
    "print(type(w))  # Output: <class 'list'>\n"
   ]
  },
  {
   "cell_type": "markdown",
   "id": "252c0f15",
   "metadata": {},
   "source": [
    "### Simple Exercise: Income Tax Calculation\n",
    "Variables make calculations easier to understand."
   ]
  },
  {
   "cell_type": "code",
   "execution_count": 14,
   "id": "656bc518",
   "metadata": {},
   "outputs": [
    {
     "name": "stdout",
     "output_type": "stream",
     "text": [
      "1000.0\n"
     ]
    }
   ],
   "source": [
    "income = 5000  \n",
    "tax_rate = 0.2  \n",
    "tax = income * tax_rate  \n",
    "print(tax)  \n",
    "# Output: 1000.0\n"
   ]
  },
  {
   "cell_type": "markdown",
   "id": "56fddc05",
   "metadata": {},
   "source": [
    "### What We Learned\n",
    "* ✔ Variable Naming Rules\n",
    "* ✔ Dynamic Typing in Python\n",
    "* ✔ Variable Assignment and Reassignment\n",
    "* ✔ Shorthand Operators (+=, *=, etc.)\n",
    "* ✔ Checking Variable Types with type()\n",
    "* ✔ Using Variables in Real-World Scenarios"
   ]
  },
  {
   "cell_type": "markdown",
   "id": "21c1238c",
   "metadata": {},
   "source": [
    "Thanks!"
   ]
  }
 ],
 "metadata": {
  "kernelspec": {
   "display_name": "Python 3 (ipykernel)",
   "language": "python",
   "name": "python3"
  },
  "language_info": {
   "codemirror_mode": {
    "name": "ipython",
    "version": 3
   },
   "file_extension": ".py",
   "mimetype": "text/x-python",
   "name": "python",
   "nbconvert_exporter": "python",
   "pygments_lexer": "ipython3",
   "version": "3.13.2"
  }
 },
 "nbformat": 4,
 "nbformat_minor": 5
}
