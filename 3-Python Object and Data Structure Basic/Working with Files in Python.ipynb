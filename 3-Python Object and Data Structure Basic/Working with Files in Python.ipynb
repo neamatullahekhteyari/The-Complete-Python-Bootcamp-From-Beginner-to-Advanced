{
 "cells": [
  {
   "cell_type": "markdown",
   "id": "59b81262",
   "metadata": {},
   "source": [
    "___\n",
    "\n",
    "<a href='https://www.udemy.com/user/Neamatullah-ekhteyari/'><img src='../Neamatullah.png'/></a>\n",
    "___\n",
    "<center><em>Content Copyright by Neamatullah Ekhteyari</em></center>"
   ]
  },
  {
   "cell_type": "markdown",
   "id": "a2c94c36",
   "metadata": {},
   "source": [
    "# Working with Files in Python\n",
    "## Introduction\n",
    "Files are an essential part of any programming language. Python provides built-in functions to handle files, allowing us to read, write, and append content. Working with files involves three primary operations:\n",
    "\n",
    "1. Reading files – Retrieving data from an existing file.\n",
    "2. Writing to files – Creating a new file or modifying an existing one.\n",
    "3. Appending to files – Adding content without overwriting the existing data.\n",
    "\n",
    "Python provides the open() function to work with files. Let's explore file handling in Python step by step."
   ]
  },
  {
   "cell_type": "markdown",
   "id": "91508aec",
   "metadata": {},
   "source": [
    "## 1. Writing to a File (w mode)\n",
    "The w (write) mode is used to create a new file or overwrite an existing one."
   ]
  },
  {
   "cell_type": "code",
   "execution_count": 1,
   "id": "4fbdca46",
   "metadata": {},
   "outputs": [
    {
     "name": "stdout",
     "output_type": "stream",
     "text": [
      "Writing my_file.txt\n"
     ]
    }
   ],
   "source": [
    "%%writefile my_file.txt\n",
    "Hello, this is my file for testing.\n",
    "This is the second line of my file.\n",
    "This is something else.\n"
   ]
  },
  {
   "cell_type": "markdown",
   "id": "1d211770",
   "metadata": {},
   "source": [
    "- This command creates a file named my_file.txt and writes the given text into it.\n",
    "- If the file already exists, it overwrites the content."
   ]
  },
  {
   "cell_type": "markdown",
   "id": "eca97726",
   "metadata": {},
   "source": [
    "## 2. Checking the Current Working Directory\n",
    "Before opening a file, it is important to know where your Python script is running. You can check your current directory using the os module."
   ]
  },
  {
   "cell_type": "code",
   "execution_count": 2,
   "id": "e0756ff9",
   "metadata": {},
   "outputs": [
    {
     "name": "stdout",
     "output_type": "stream",
     "text": [
      "/home/neamatullah/Documents/Udemy/python Mastery/python files/00-Python Object and Data Structure Basic\n"
     ]
    }
   ],
   "source": [
    "import os\n",
    "print(os.getcwd())  # Prints the current working directory\n"
   ]
  },
  {
   "cell_type": "markdown",
   "id": "5bbfc13d",
   "metadata": {},
   "source": [
    "- The function os.getcwd() returns the path where your Python script is being executed.\n",
    "\n",
    "- This helps locate the files you are working with"
   ]
  },
  {
   "cell_type": "markdown",
   "id": "946f966e",
   "metadata": {},
   "source": [
    "## 3. Reading a File (r mode)\n",
    "Python provides different ways to read a file.\n",
    "\n",
    "### Reading the Entire Content"
   ]
  },
  {
   "cell_type": "code",
   "execution_count": 3,
   "id": "c5320d15",
   "metadata": {},
   "outputs": [
    {
     "name": "stdout",
     "output_type": "stream",
     "text": [
      "Hello, this is my file for testing.\n",
      "This is the second line of my file.\n",
      "This is something else.\n",
      "\n"
     ]
    }
   ],
   "source": [
    "my_file = open(\"my_file.txt\", \"r\")  # Open the file in read mode\n",
    "content = my_file.read()  # Read the entire content\n",
    "print(content)  # Print the content\n",
    "my_file.close()  # Always close the file after reading\n"
   ]
  },
  {
   "cell_type": "markdown",
   "id": "d7a8c5ed",
   "metadata": {},
   "source": [
    "- The open() function is used to open the file in read mode (r).\n",
    "- The read() method reads the entire content.\n",
    "- The close() method closes the file after reading."
   ]
  },
  {
   "cell_type": "markdown",
   "id": "41cbeaa7",
   "metadata": {},
   "source": [
    "### Handling a Closed File Error\n",
    "If you try to read a file after closing it, Python will throw an error:"
   ]
  },
  {
   "cell_type": "code",
   "execution_count": 4,
   "id": "aa7e2bcd",
   "metadata": {},
   "outputs": [
    {
     "ename": "ValueError",
     "evalue": "I/O operation on closed file.",
     "output_type": "error",
     "traceback": [
      "\u001b[0;31m---------------------------------------------------------------------------\u001b[0m",
      "\u001b[0;31mValueError\u001b[0m                                Traceback (most recent call last)",
      "Cell \u001b[0;32mIn[4], line 1\u001b[0m\n\u001b[0;32m----> 1\u001b[0m \u001b[43mmy_file\u001b[49m\u001b[38;5;241;43m.\u001b[39;49m\u001b[43mseek\u001b[49m\u001b[43m(\u001b[49m\u001b[38;5;241;43m0\u001b[39;49m\u001b[43m)\u001b[49m  \u001b[38;5;66;03m# Move the cursor to the beginning\u001b[39;00m\n\u001b[1;32m      2\u001b[0m lines \u001b[38;5;241m=\u001b[39m my_file\u001b[38;5;241m.\u001b[39mreadlines()  \u001b[38;5;66;03m# Read all lines\u001b[39;00m\n\u001b[1;32m      3\u001b[0m \u001b[38;5;28mprint\u001b[39m(lines)\n",
      "\u001b[0;31mValueError\u001b[0m: I/O operation on closed file."
     ]
    }
   ],
   "source": [
    "my_file.seek(0)  # Move the cursor to the beginning\n",
    "lines = my_file.readlines()  # Read all lines\n",
    "print(lines)\n"
   ]
  },
  {
   "cell_type": "markdown",
   "id": "b7cf6336",
   "metadata": {},
   "source": [
    "- To prevent this, always check if the file is open before performing operations."
   ]
  },
  {
   "cell_type": "markdown",
   "id": "9aecd4e2",
   "metadata": {},
   "source": [
    "### 4. Reading a File Using with Statement\n",
    "The with statement ensures that the file is properly closed after reading."
   ]
  },
  {
   "cell_type": "code",
   "execution_count": 5,
   "id": "54776f63",
   "metadata": {},
   "outputs": [
    {
     "name": "stdout",
     "output_type": "stream",
     "text": [
      "Hello, this is my file for testing.\n",
      "This is the second line of my file.\n",
      "This is something else.\n",
      "\n"
     ]
    }
   ],
   "source": [
    "with open(\"my_file.txt\", \"r\") as my_file:\n",
    "    content = my_file.read()  # Read content\n",
    "print(content)  # The file is automatically closed after this block\n"
   ]
  },
  {
   "cell_type": "markdown",
   "id": "51f73186",
   "metadata": {},
   "source": [
    "- Advantage: No need to manually close the file."
   ]
  },
  {
   "cell_type": "markdown",
   "id": "6ecafcf5",
   "metadata": {},
   "source": [
    "## 5. Writing to a File (w mode)\n",
    "Using w mode will overwrite the file with new content."
   ]
  },
  {
   "cell_type": "code",
   "execution_count": 6,
   "id": "3ecf51a8",
   "metadata": {},
   "outputs": [],
   "source": [
    "with open(\"my_file.txt\", \"w\") as my_file:\n",
    "    my_file.write(\"This is a new file content.\")\n"
   ]
  },
  {
   "cell_type": "markdown",
   "id": "2c9bb36d",
   "metadata": {},
   "source": [
    "- This overwrites any existing content in my_file.txt."
   ]
  },
  {
   "cell_type": "markdown",
   "id": "69c9d7a4",
   "metadata": {},
   "source": [
    "## 6. Appending to a File (a mode)\n",
    "If you want to add content without overwriting, use append mode (a)."
   ]
  },
  {
   "cell_type": "code",
   "execution_count": 8,
   "id": "5656386f",
   "metadata": {},
   "outputs": [],
   "source": [
    "with open(\"my_file.txt\", \"a\") as my_file:\n",
    "    my_file.write(\"\\nAdding a new line.\")  # \\n ensures content appears on a new line\n"
   ]
  },
  {
   "cell_type": "markdown",
   "id": "38e17f8b",
   "metadata": {},
   "source": [
    "- This adds the new content to the file instead of overwriting."
   ]
  },
  {
   "cell_type": "markdown",
   "id": "5af0abb7",
   "metadata": {},
   "source": [
    "## 7. File Modes in Python"
   ]
  },
  {
   "cell_type": "markdown",
   "id": "3506b23d",
   "metadata": {},
   "source": [
    "<table border=\"1\">\n",
    "    <thead>\n",
    "        <tr>\n",
    "            <th>Mode</th>\n",
    "            <th>Description</th>\n",
    "        </tr>\n",
    "    </thead>\n",
    "    <tbody>\n",
    "        <tr>\n",
    "            <td><code>r</code></td>\n",
    "            <td>Read mode (default). Opens the file for reading.</td>\n",
    "        </tr>\n",
    "        <tr>\n",
    "            <td><code>w</code></td>\n",
    "            <td>Write mode. Overwrites the file if it exists. Creates a new file if it doesn't.</td>\n",
    "        </tr>\n",
    "        <tr>\n",
    "            <td><code>a</code></td>\n",
    "            <td>Append mode. Adds content to the end of the file.</td>\n",
    "        </tr>\n",
    "        <tr>\n",
    "            <td><code>r+</code></td>\n",
    "            <td>Read and write mode. Keeps existing content.</td>\n",
    "        </tr>\n",
    "        <tr>\n",
    "            <td><code>w+</code></td>\n",
    "            <td>Write and read mode. Overwrites existing content.</td>\n",
    "        </tr>\n",
    "        <tr>\n",
    "            <td><code>a+</code></td>\n",
    "            <td>Append and read mode. Adds content while allowing reading.</td>\n",
    "        </tr>\n",
    "    </tbody>\n",
    "</table>\n"
   ]
  },
  {
   "cell_type": "markdown",
   "id": "6a81e671",
   "metadata": {},
   "source": [
    "## 8. Creating a New File and Writing to It"
   ]
  },
  {
   "cell_type": "code",
   "execution_count": 9,
   "id": "05f4daf2",
   "metadata": {},
   "outputs": [],
   "source": [
    "with open(\"new_file.txt\", \"w\") as file:\n",
    "    file.write(\"This file was created automatically!\")\n"
   ]
  },
  {
   "cell_type": "markdown",
   "id": "e0fba992",
   "metadata": {},
   "source": [
    "- If new_file.txt does not exist, this command will create it.\n",
    "\n",
    "- If the file exists, it will be overwritten."
   ]
  },
  {
   "cell_type": "markdown",
   "id": "167b110c",
   "metadata": {},
   "source": [
    "## 9. Reading a File That Doesn't Exist\n",
    "If you try to open a non-existing file in read mode (r), Python will raise an error."
   ]
  },
  {
   "cell_type": "code",
   "execution_count": 10,
   "id": "1103540e",
   "metadata": {},
   "outputs": [
    {
     "ename": "FileNotFoundError",
     "evalue": "[Errno 2] No such file or directory: 'non_existent_file.txt'",
     "output_type": "error",
     "traceback": [
      "\u001b[0;31m---------------------------------------------------------------------------\u001b[0m",
      "\u001b[0;31mFileNotFoundError\u001b[0m                         Traceback (most recent call last)",
      "Cell \u001b[0;32mIn[10], line 1\u001b[0m\n\u001b[0;32m----> 1\u001b[0m \u001b[38;5;28;01mwith\u001b[39;00m \u001b[38;5;28;43mopen\u001b[39;49m\u001b[43m(\u001b[49m\u001b[38;5;124;43m\"\u001b[39;49m\u001b[38;5;124;43mnon_existent_file.txt\u001b[39;49m\u001b[38;5;124;43m\"\u001b[39;49m\u001b[43m,\u001b[49m\u001b[43m \u001b[49m\u001b[38;5;124;43m\"\u001b[39;49m\u001b[38;5;124;43mr\u001b[39;49m\u001b[38;5;124;43m\"\u001b[39;49m\u001b[43m)\u001b[49m \u001b[38;5;28;01mas\u001b[39;00m file:\n\u001b[1;32m      2\u001b[0m     \u001b[38;5;28mprint\u001b[39m(file\u001b[38;5;241m.\u001b[39mread())  \n",
      "File \u001b[0;32m/usr/lib/python3/dist-packages/IPython/core/interactiveshell.py:324\u001b[0m, in \u001b[0;36m_modified_open\u001b[0;34m(file, *args, **kwargs)\u001b[0m\n\u001b[1;32m    317\u001b[0m \u001b[38;5;28;01mif\u001b[39;00m file \u001b[38;5;129;01min\u001b[39;00m {\u001b[38;5;241m0\u001b[39m, \u001b[38;5;241m1\u001b[39m, \u001b[38;5;241m2\u001b[39m}:\n\u001b[1;32m    318\u001b[0m     \u001b[38;5;28;01mraise\u001b[39;00m \u001b[38;5;167;01mValueError\u001b[39;00m(\n\u001b[1;32m    319\u001b[0m         \u001b[38;5;124mf\u001b[39m\u001b[38;5;124m\"\u001b[39m\u001b[38;5;124mIPython won\u001b[39m\u001b[38;5;124m'\u001b[39m\u001b[38;5;124mt let you open fd=\u001b[39m\u001b[38;5;132;01m{\u001b[39;00mfile\u001b[38;5;132;01m}\u001b[39;00m\u001b[38;5;124m by default \u001b[39m\u001b[38;5;124m\"\u001b[39m\n\u001b[1;32m    320\u001b[0m         \u001b[38;5;124m\"\u001b[39m\u001b[38;5;124mas it is likely to crash IPython. If you know what you are doing, \u001b[39m\u001b[38;5;124m\"\u001b[39m\n\u001b[1;32m    321\u001b[0m         \u001b[38;5;124m\"\u001b[39m\u001b[38;5;124myou can use builtins\u001b[39m\u001b[38;5;124m'\u001b[39m\u001b[38;5;124m open.\u001b[39m\u001b[38;5;124m\"\u001b[39m\n\u001b[1;32m    322\u001b[0m     )\n\u001b[0;32m--> 324\u001b[0m \u001b[38;5;28;01mreturn\u001b[39;00m \u001b[43mio_open\u001b[49m\u001b[43m(\u001b[49m\u001b[43mfile\u001b[49m\u001b[43m,\u001b[49m\u001b[43m \u001b[49m\u001b[38;5;241;43m*\u001b[39;49m\u001b[43margs\u001b[49m\u001b[43m,\u001b[49m\u001b[43m \u001b[49m\u001b[38;5;241;43m*\u001b[39;49m\u001b[38;5;241;43m*\u001b[39;49m\u001b[43mkwargs\u001b[49m\u001b[43m)\u001b[49m\n",
      "\u001b[0;31mFileNotFoundError\u001b[0m: [Errno 2] No such file or directory: 'non_existent_file.txt'"
     ]
    }
   ],
   "source": [
    "with open(\"non_existent_file.txt\", \"r\") as file:\n",
    "    print(file.read())  \n"
   ]
  },
  {
   "cell_type": "markdown",
   "id": "f3d45d12",
   "metadata": {},
   "source": [
    "### Solution: Use try-except to handle errors."
   ]
  },
  {
   "cell_type": "code",
   "execution_count": 11,
   "id": "1df938f6",
   "metadata": {},
   "outputs": [
    {
     "name": "stdout",
     "output_type": "stream",
     "text": [
      "File does not exist!\n"
     ]
    }
   ],
   "source": [
    "try:\n",
    "    with open(\"non_existent_file.txt\", \"r\") as file:\n",
    "        print(file.read())\n",
    "except FileNotFoundError:\n",
    "    print(\"File does not exist!\")\n"
   ]
  },
  {
   "cell_type": "markdown",
   "id": "4c3a3136",
   "metadata": {},
   "source": [
    "### Conclusion\n",
    "You have now learned how to: \n",
    "- Create and write to files.\n",
    "- Read files and handle errors.\n",
    "- Append content without overwriting.\n",
    "- Use different file modes (r, w, a, etc.).\n",
    "\n",
    "By mastering file handling, you can efficiently store and process data in Python programs. Happy coding! "
   ]
  }
 ],
 "metadata": {
  "kernelspec": {
   "display_name": "Python 3 (ipykernel)",
   "language": "python",
   "name": "python3"
  },
  "language_info": {
   "codemirror_mode": {
    "name": "ipython",
    "version": 3
   },
   "file_extension": ".py",
   "mimetype": "text/x-python",
   "name": "python",
   "nbconvert_exporter": "python",
   "pygments_lexer": "ipython3",
   "version": "3.13.2"
  }
 },
 "nbformat": 4,
 "nbformat_minor": 5
}
