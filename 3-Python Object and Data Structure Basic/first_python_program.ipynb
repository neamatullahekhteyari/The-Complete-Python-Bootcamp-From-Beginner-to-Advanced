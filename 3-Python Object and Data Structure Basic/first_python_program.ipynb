{
 "cells": [
  {
   "cell_type": "markdown",
   "id": "92377143-85aa-44ae-93b6-ef04a410e9f4",
   "metadata": {},
   "source": [
    "# Introduction to Python Data Types\n"
   ]
  },
  {
   "cell_type": "markdown",
   "id": "cce83b2d-5b9b-49e7-9efb-32b6652a302b",
   "metadata": {},
   "source": [
    "- Basic Data Types\n",
    "  "
   ]
  },
  {
   "cell_type": "code",
   "execution_count": 11,
   "id": "98c1d672-3c81-4786-9b3f-3921cf8bfc98",
   "metadata": {},
   "outputs": [
    {
     "data": {
      "text/plain": [
       "float"
      ]
     },
     "execution_count": 11,
     "metadata": {},
     "output_type": "execute_result"
    }
   ],
   "source": [
    "x = 10 # this is an integer\n",
    "name = \"Ali\" # this is a stirng\n",
    "pi = 3.14 # this is a float\n",
    "type(x)\n",
    "type(name)\n",
    "type(pi)\n",
    "\n"
   ]
  },
  {
   "cell_type": "markdown",
   "id": "4fb8a23f-65ae-4776-bf36-d1916ba2bc18",
   "metadata": {},
   "source": [
    "## Number in Python"
   ]
  },
  {
   "cell_type": "code",
   "execution_count": 12,
   "id": "f1f0d5ea-66f5-484a-887f-5ddd75cee742",
   "metadata": {},
   "outputs": [
    {
     "data": {
      "text/plain": [
       "3"
      ]
     },
     "execution_count": 12,
     "metadata": {},
     "output_type": "execute_result"
    }
   ],
   "source": [
    "2 + 1"
   ]
  },
  {
   "cell_type": "code",
   "execution_count": 15,
   "id": "79c0eb10-eda7-4489-bae5-2883a706eb35",
   "metadata": {},
   "outputs": [
    {
     "data": {
      "text/plain": [
       "1"
      ]
     },
     "execution_count": 15,
     "metadata": {},
     "output_type": "execute_result"
    }
   ],
   "source": [
    "2 - 1"
   ]
  },
  {
   "cell_type": "code",
   "execution_count": 17,
   "id": "38b5339e-c4e3-4453-8e93-0ab43a1f7548",
   "metadata": {},
   "outputs": [
    {
     "data": {
      "text/plain": [
       "4"
      ]
     },
     "execution_count": 17,
     "metadata": {},
     "output_type": "execute_result"
    }
   ],
   "source": [
    "2 * 2"
   ]
  },
  {
   "cell_type": "code",
   "execution_count": 18,
   "id": "36ba8812-e914-4645-8fc9-02dfa05ab908",
   "metadata": {},
   "outputs": [
    {
     "data": {
      "text/plain": [
       "1.5"
      ]
     },
     "execution_count": 18,
     "metadata": {},
     "output_type": "execute_result"
    }
   ],
   "source": [
    "3 / 2 "
   ]
  },
  {
   "cell_type": "code",
   "execution_count": 23,
   "id": "30637796-d44b-4723-aab4-3ef8efbd6489",
   "metadata": {},
   "outputs": [
    {
     "name": "stdout",
     "output_type": "stream",
     "text": [
      "3\n",
      "1\n",
      "4\n",
      "1.5\n"
     ]
    }
   ],
   "source": [
    "print(2+1)\n",
    "print(2-1)\n",
    "print(2*2)\n",
    "print(3/2)"
   ]
  },
  {
   "cell_type": "code",
   "execution_count": 24,
   "id": "6c0b32cf-2f5a-465d-aa3f-dd9bcfc52f91",
   "metadata": {},
   "outputs": [
    {
     "data": {
      "text/plain": [
       "3"
      ]
     },
     "execution_count": 24,
     "metadata": {},
     "output_type": "execute_result"
    }
   ],
   "source": [
    "7 % 4"
   ]
  },
  {
   "cell_type": "code",
   "execution_count": 26,
   "id": "920a3a86-ee86-4c5b-812f-036f4bdd934b",
   "metadata": {},
   "outputs": [
    {
     "data": {
      "text/plain": [
       "8"
      ]
     },
     "execution_count": 26,
     "metadata": {},
     "output_type": "execute_result"
    }
   ],
   "source": [
    "2 ** 3\n",
    "2 * 2 * 2\n"
   ]
  },
  {
   "cell_type": "code",
   "execution_count": 29,
   "id": "dd9d79fb-1712-419d-bcf2-11ea4cd7a2b6",
   "metadata": {},
   "outputs": [
    {
     "name": "stdout",
     "output_type": "stream",
     "text": [
      "1\n",
      "8\n"
     ]
    }
   ],
   "source": [
    "print(23 % 2)\n",
    "print(2**3)"
   ]
  },
  {
   "cell_type": "code",
   "execution_count": 33,
   "id": "b821be45-6171-4475-9be9-0e40bce3cbb8",
   "metadata": {},
   "outputs": [
    {
     "name": "stdout",
     "output_type": "stream",
     "text": [
      "105\n",
      "156\n"
     ]
    },
    {
     "data": {
      "text/plain": [
       "156"
      ]
     },
     "execution_count": 33,
     "metadata": {},
     "output_type": "execute_result"
    }
   ],
   "source": [
    "print(2 + 10 * 10 + 3)\n",
    "print((2 + 10) * (10 + 3))\n",
    "12 * 13"
   ]
  },
  {
   "cell_type": "markdown",
   "id": "74024ad7-ff90-46cd-8692-33ca2f333dee",
   "metadata": {},
   "source": [
    "# Variable Assignments in pythonm"
   ]
  },
  {
   "cell_type": "code",
   "execution_count": 41,
   "id": "f32d8664-03dd-4823-9961-686fa88bc50f",
   "metadata": {},
   "outputs": [
    {
     "name": "stdout",
     "output_type": "stream",
     "text": [
      "25\n"
     ]
    }
   ],
   "source": [
    "x = 10 # x is 10\n",
    "x = 20 # x is 20\n",
    "\n",
    "y = 5\n",
    "result = x + y # 15\n",
    "print(result)"
   ]
  },
  {
   "cell_type": "markdown",
   "id": "0f84aa1e-8f76-466b-8556-60782febffaf",
   "metadata": {},
   "source": [
    "## Valid Naming Rules:\n",
    "\n",
    "- Must start with a letter or underscore _\n",
    "- Cannot start with a number\n",
    "- No spaces (use _ instead)\n",
    "- Cannot use special characters (@, $, %, !, etc.)\n",
    "- Should not be Python reserved keywords (e.g., list, int, for, class)"
   ]
  },
  {
   "cell_type": "code",
   "execution_count": null,
   "id": "46857798-514f-4b78-92b2-f2feb41ed4ef",
   "metadata": {},
   "outputs": [],
   "source": [
    "my_variable = 10 \n",
    "myVariable = 20\n",
    "_my_var = 5\n",
    "\n",
    "\n",
    "\n",
    "#incorrect variable name\n",
    "2myvar = 30\n",
    "my var = 20\n",
    "my-var = 50 \n",
    "int = 60\n",
    "\n"
   ]
  },
  {
   "cell_type": "markdown",
   "id": "640a0621-d56a-4e87-a927-7398c36a012b",
   "metadata": {},
   "source": [
    "## Dynamic Typing in Python"
   ]
  },
  {
   "cell_type": "code",
   "execution_count": 50,
   "id": "3ee7215e-0e41-4835-8ac0-b706422853bf",
   "metadata": {},
   "outputs": [],
   "source": [
    "x = 10 \n",
    "x = 'hello'\n",
    "type(x)\n",
    "x = [1,2,3]\n"
   ]
  },
  {
   "cell_type": "markdown",
   "id": "474ec6af-355b-4e20-86db-f154c6e7be05",
   "metadata": {},
   "source": [
    "## Introduction to Strings"
   ]
  },
  {
   "cell_type": "code",
   "execution_count": null,
   "id": "82fadd2c-9e74-4c35-a26f-60da415c8e6b",
   "metadata": {},
   "outputs": [],
   "source": [
    "string1 = 'hello'\n",
    "string2 = \"World\"\n",
    "string3 = \"python is fun!\""
   ]
  },
  {
   "cell_type": "code",
   "execution_count": 55,
   "id": "67926368-9bb7-4925-94a8-a9b8717b76e4",
   "metadata": {},
   "outputs": [
    {
     "name": "stdout",
     "output_type": "stream",
     "text": [
      "I don\"t like bugs.\n"
     ]
    }
   ],
   "source": [
    "sentence = 'I don\"t like bugs.'\n",
    "print(sentence)"
   ]
  },
  {
   "cell_type": "code",
   "execution_count": 58,
   "id": "569be07b-9167-41bb-9a85-03da29ff18f0",
   "metadata": {},
   "outputs": [
    {
     "name": "stdout",
     "output_type": "stream",
     "text": [
      "e\n",
      "H\n",
      "o\n"
     ]
    }
   ],
   "source": [
    "# H E L L O\n",
    "# 0 1 2 3 4\n",
    "\n",
    "Text = \"Hello\"\n",
    "print(Text[1])\n",
    "print(Text[0])\n",
    "print(Text[4])"
   ]
  },
  {
   "cell_type": "markdown",
   "id": "36aea1ab-bb96-4a57-8e34-ea8171390bbc",
   "metadata": {},
   "source": [
    "## slicing string"
   ]
  },
  {
   "cell_type": "code",
   "execution_count": 63,
   "id": "b78f3e37-1dc2-4839-b391-a6909eff1c35",
   "metadata": {},
   "outputs": [
    {
     "name": "stdout",
     "output_type": "stream",
     "text": [
      "Hello\n",
      "World\n",
      "Hello\n",
      "HloWrd\n"
     ]
    }
   ],
   "source": [
    "# string[start:end:step]\n",
    "text = \"Hello World\"\n",
    "print(text[0:5])\n",
    "print(text[6:])\n",
    "print(text[:5])\n",
    "print(text[::2])"
   ]
  },
  {
   "cell_type": "code",
   "execution_count": 66,
   "id": "d00615d1-8284-4b78-b471-5b814ab2c07d",
   "metadata": {},
   "outputs": [
    {
     "name": "stdout",
     "output_type": "stream",
     "text": [
      "123jhkjh^&%\n"
     ]
    }
   ],
   "source": [
    "print(\"123jhkjh^&%\")"
   ]
  },
  {
   "cell_type": "markdown",
   "id": "431a45c8-11e4-4dfb-b54f-09b4c5e32d07",
   "metadata": {},
   "source": [
    "## Escape Sequences"
   ]
  },
  {
   "cell_type": "code",
   "execution_count": 74,
   "id": "26eeb3cd-7602-4268-8954-466e30d96d25",
   "metadata": {},
   "outputs": [
    {
     "name": "stdout",
     "output_type": "stream",
     "text": [
      "Hello\n",
      "World\n",
      "Hello\tWorld\n",
      "She said ' python is awesome!'\n"
     ]
    }
   ],
   "source": [
    "#  \\n \\t \\' \\\" \\\\\n",
    "print(\"Hello\\nWorld\")\n",
    "print(\"Hello\\tWorld\")\n",
    "print(\"She said \\' python is awesome!\\'\")"
   ]
  },
  {
   "cell_type": "markdown",
   "id": "eb9bf270-1b83-45a3-a816-f3c156ef696a",
   "metadata": {},
   "source": [
    "## String Methods (Manipulation)"
   ]
  },
  {
   "cell_type": "code",
   "execution_count": 81,
   "id": "d28c216f-0f1b-41ee-9f56-006ac114b758",
   "metadata": {},
   "outputs": [
    {
     "data": {
      "text/plain": [
       "['hello', 'world']"
      ]
     },
     "execution_count": 81,
     "metadata": {},
     "output_type": "execute_result"
    }
   ],
   "source": [
    "\"hello\".upper()\n",
    "\"HELLO\".lower()\n",
    "\" hello \".strip()\n",
    "\"Hello\".replace(\"H\",\"J\")\n",
    "\"hello world\".split()"
   ]
  },
  {
   "cell_type": "markdown",
   "id": "24756096-13cd-4862-95fa-a41623785ffa",
   "metadata": {},
   "source": [
    "## finding string length"
   ]
  },
  {
   "cell_type": "code",
   "execution_count": 82,
   "id": "27527838-20ad-4559-a6d1-532b09a10038",
   "metadata": {},
   "outputs": [
    {
     "name": "stdout",
     "output_type": "stream",
     "text": [
      "6\n"
     ]
    }
   ],
   "source": [
    "text = \"python\"\n",
    "print(len(text))"
   ]
  },
  {
   "cell_type": "markdown",
   "id": "3a87dccb-6aae-4953-92b5-5f4b75465e89",
   "metadata": {},
   "source": [
    "## String Concatenation and Repetition\n"
   ]
  },
  {
   "cell_type": "code",
   "execution_count": 84,
   "id": "af50be72-3969-4a9a-9e63-21e1af82d632",
   "metadata": {},
   "outputs": [
    {
     "name": "stdout",
     "output_type": "stream",
     "text": [
      "Hello World\n",
      "HelloHelloHello\n"
     ]
    }
   ],
   "source": [
    "first = \"Hello\"\n",
    "second = \"World\"\n",
    "result = first + \" \" + second\n",
    "print(result)\n",
    "print(\"Hello\" * 3)"
   ]
  },
  {
   "cell_type": "code",
   "execution_count": null,
   "id": "8981480f-2f9a-4cfe-9fd7-f3cc68823949",
   "metadata": {},
   "outputs": [],
   "source": []
  },
  {
   "cell_type": "code",
   "execution_count": null,
   "id": "76d5cc83-ed55-4575-abf5-bd3fea63466e",
   "metadata": {},
   "outputs": [],
   "source": []
  },
  {
   "cell_type": "code",
   "execution_count": null,
   "id": "5a9bf748-c18d-447a-8d95-545403ee9c09",
   "metadata": {},
   "outputs": [],
   "source": []
  },
  {
   "cell_type": "code",
   "execution_count": null,
   "id": "2caa40a3-e4ad-4eae-a9a5-b5064322d3e0",
   "metadata": {},
   "outputs": [],
   "source": []
  },
  {
   "cell_type": "code",
   "execution_count": null,
   "id": "bb7b8d17-b09e-4a89-8620-d4861b4861df",
   "metadata": {},
   "outputs": [],
   "source": [
    "\n",
    "\n",
    "\n",
    "\n",
    "\n",
    "\n",
    "\n",
    "\n",
    "\n",
    "\n",
    "\n",
    "\n",
    "\n",
    "\n",
    "\n",
    "\n",
    "\n",
    "\n",
    "\n",
    "\n",
    "\n",
    "\n",
    "\n",
    "\n",
    "\n",
    "\n",
    "\n",
    "\n",
    "\n",
    "\n",
    "\n",
    "\n"
   ]
  }
 ],
 "metadata": {
  "kernelspec": {
   "display_name": "Python 3 (ipykernel)",
   "language": "python",
   "name": "python3"
  },
  "language_info": {
   "codemirror_mode": {
    "name": "ipython",
    "version": 3
   },
   "file_extension": ".py",
   "mimetype": "text/x-python",
   "name": "python",
   "nbconvert_exporter": "python",
   "pygments_lexer": "ipython3",
   "version": "3.13.2"
  }
 },
 "nbformat": 4,
 "nbformat_minor": 5
}
