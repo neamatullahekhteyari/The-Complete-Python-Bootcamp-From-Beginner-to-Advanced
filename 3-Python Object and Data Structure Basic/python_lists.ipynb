{
 "cells": [
  {
   "cell_type": "markdown",
   "id": "21fa0d80",
   "metadata": {},
   "source": [
    "___\n",
    "\n",
    "<a href='https://www.udemy.com/user/Neamatullah-ekhteyari/'><img src='../Neamatullah.png'/></a>\n",
    "___\n",
    "<center><em>Content Copyright by Neamatullah Ekhteyari</em></center>"
   ]
  },
  {
   "cell_type": "markdown",
   "id": "7d626207",
   "metadata": {},
   "source": [
    "###  List in python \n",
    "Earlier when discussing strings, we introduced the concept of a sequence in Python. Lists can be considered the most general version of a sequence. Unlike strings, lists are mutable, meaning the elements inside a list can be changed!"
   ]
  },
  {
   "cell_type": "markdown",
   "id": "dafd4850",
   "metadata": {},
   "source": [
    "### Topics Covered:\n",
    "1. Creating Lists\n",
    "2. Indexing and Slicing Lists\n",
    "3. Basic List Methods\n",
    "4. Nesting Lists\n",
    "5. Introduction to List Comprehensions\n",
    "\n",
    "Lists are constructed using brackets `[]`, with elements separated by commas. Let's explore how to create and manipulate lists in Python."
   ]
  },
  {
   "cell_type": "markdown",
   "id": "418653cb",
   "metadata": {},
   "source": [
    "### Creating Lists"
   ]
  },
  {
   "cell_type": "code",
   "execution_count": 2,
   "id": "bb4306fe",
   "metadata": {},
   "outputs": [],
   "source": [
    "# Assigning a list to a variable\n",
    "my_list = [1, 2, 3]  "
   ]
  },
  {
   "cell_type": "code",
   "execution_count": 3,
   "id": "3e7f3820",
   "metadata": {},
   "outputs": [],
   "source": [
    "# Lists can store multiple data types\n",
    "my_list = ['A string', 23, 100.232, 'o']\n"
   ]
  },
  {
   "cell_type": "code",
   "execution_count": 4,
   "id": "fef48341",
   "metadata": {},
   "outputs": [
    {
     "data": {
      "text/plain": [
       "4"
      ]
     },
     "execution_count": 4,
     "metadata": {},
     "output_type": "execute_result"
    }
   ],
   "source": [
    "len(my_list)  \n",
    "\n",
    "# Output: 4"
   ]
  },
  {
   "cell_type": "markdown",
   "id": "099a4e21",
   "metadata": {},
   "source": [
    "### Indexing and Slicing"
   ]
  },
  {
   "cell_type": "markdown",
   "id": "5fc95e93",
   "metadata": {},
   "source": [
    "Indexing and slicing work just like in strings. Let's make a new list to remind ourselves of how this works:"
   ]
  },
  {
   "cell_type": "code",
   "execution_count": 5,
   "id": "2b8fa91e",
   "metadata": {},
   "outputs": [],
   "source": [
    "# Example list\n",
    "my_list = ['one', 'two', 'three', 4, 5]  \n"
   ]
  },
  {
   "cell_type": "code",
   "execution_count": 7,
   "id": "1a4cf8d9",
   "metadata": {},
   "outputs": [
    {
     "data": {
      "text/plain": [
       "'one'"
      ]
     },
     "execution_count": 7,
     "metadata": {},
     "output_type": "execute_result"
    }
   ],
   "source": [
    "\n",
    "# Accessing elements using index\n",
    "my_list[0]  \n",
    "# Output: 'one'  "
   ]
  },
  {
   "cell_type": "code",
   "execution_count": 8,
   "id": "1d84af5c",
   "metadata": {},
   "outputs": [
    {
     "data": {
      "text/plain": [
       "['two', 'three', 4, 5]"
      ]
     },
     "execution_count": 8,
     "metadata": {},
     "output_type": "execute_result"
    }
   ],
   "source": [
    "# Slicing the list\n",
    "my_list[1:]  \n",
    "# Output: ['two', 'three', 4, 5]  "
   ]
  },
  {
   "cell_type": "code",
   "execution_count": 9,
   "id": "f40107f0",
   "metadata": {},
   "outputs": [
    {
     "data": {
      "text/plain": [
       "['one', 'two', 'three']"
      ]
     },
     "execution_count": 9,
     "metadata": {},
     "output_type": "execute_result"
    }
   ],
   "source": [
    "my_list[:3]  \n",
    "# Output: ['one', 'two', 'three']"
   ]
  },
  {
   "cell_type": "code",
   "execution_count": 10,
   "id": "2a55bbe2",
   "metadata": {},
   "outputs": [
    {
     "data": {
      "text/plain": [
       "['one', 'two', 'three', 4, 5, 'new item']"
      ]
     },
     "execution_count": 10,
     "metadata": {},
     "output_type": "execute_result"
    }
   ],
   "source": [
    "# Concatenation\n",
    "my_list + ['new item']  \n"
   ]
  },
  {
   "cell_type": "code",
   "execution_count": 11,
   "id": "2c2ce4d3",
   "metadata": {},
   "outputs": [],
   "source": [
    "# Reassigning\n",
    "my_list = my_list + ['add new item permanently']  \n"
   ]
  },
  {
   "cell_type": "code",
   "execution_count": 12,
   "id": "f2487831",
   "metadata": {},
   "outputs": [
    {
     "data": {
      "text/plain": [
       "['one',\n",
       " 'two',\n",
       " 'three',\n",
       " 4,\n",
       " 5,\n",
       " 'add new item permanently',\n",
       " 'one',\n",
       " 'two',\n",
       " 'three',\n",
       " 4,\n",
       " 5,\n",
       " 'add new item permanently']"
      ]
     },
     "execution_count": 12,
     "metadata": {},
     "output_type": "execute_result"
    }
   ],
   "source": [
    "# Duplication\n",
    "my_list * 2  "
   ]
  },
  {
   "cell_type": "markdown",
   "id": "4732cdad",
   "metadata": {},
   "source": [
    "### Basic List Methods"
   ]
  },
  {
   "cell_type": "markdown",
   "id": "14bf4489",
   "metadata": {},
   "source": [
    "If you are familiar with another programming language, you might start to draw parallels between arrays in another language and lists in Python. Lists in Python however, tend to be more flexible than arrays in other languages for a two good reasons: they have no fixed size (meaning we don't have to specify how big a list will be), and they have no fixed type constraint (like we've seen above).\n",
    "\n",
    "Let's go ahead and explore some more special methods for lists:"
   ]
  },
  {
   "cell_type": "code",
   "execution_count": 36,
   "id": "ca3a1e73",
   "metadata": {},
   "outputs": [],
   "source": [
    "# Creating a list\n",
    "list1 = [1, 2, 3]  \n"
   ]
  },
  {
   "cell_type": "code",
   "execution_count": 37,
   "id": "4325a58b",
   "metadata": {},
   "outputs": [
    {
     "name": "stdout",
     "output_type": "stream",
     "text": [
      "[1, 2, 3, 'append me!']\n"
     ]
    }
   ],
   "source": [
    "# Appending an item\n",
    "list1.append('append me!')  \n",
    "print(list1)"
   ]
  },
  {
   "cell_type": "code",
   "execution_count": 38,
   "id": "318b1ef1",
   "metadata": {},
   "outputs": [
    {
     "name": "stdout",
     "output_type": "stream",
     "text": [
      "[2, 3, 'append me!']\n"
     ]
    }
   ],
   "source": [
    "# Removing an item\n",
    "list1.pop(0)  \n",
    "print(list1)"
   ]
  },
  {
   "cell_type": "code",
   "execution_count": 39,
   "id": "d28097cf",
   "metadata": {},
   "outputs": [
    {
     "name": "stdout",
     "output_type": "stream",
     "text": [
      "append me!\n"
     ]
    }
   ],
   "source": [
    "# Removing the last item\n",
    "popped_item = list1.pop()\n",
    "print(popped_item)"
   ]
  },
  {
   "cell_type": "markdown",
   "id": "64e9c5a0",
   "metadata": {},
   "source": [
    "### Sorting and Reversing Lists"
   ]
  },
  {
   "cell_type": "code",
   "execution_count": 21,
   "id": "d80262c7",
   "metadata": {},
   "outputs": [
    {
     "name": "stdout",
     "output_type": "stream",
     "text": [
      "['a', 'e', 'x', 'b', 'c']\n"
     ]
    }
   ],
   "source": [
    "# Creating a new list\n",
    "new_list = ['a', 'e', 'x', 'b', 'c']  \n",
    "print(new_list)"
   ]
  },
  {
   "cell_type": "code",
   "execution_count": 22,
   "id": "3c7d8d49",
   "metadata": {},
   "outputs": [
    {
     "name": "stdout",
     "output_type": "stream",
     "text": [
      "['c', 'b', 'x', 'e', 'a']\n"
     ]
    }
   ],
   "source": [
    "# Reversing the list\n",
    "new_list.reverse()  \n",
    "print(new_list)"
   ]
  },
  {
   "cell_type": "code",
   "execution_count": 20,
   "id": "89a47b2c",
   "metadata": {},
   "outputs": [
    {
     "name": "stdout",
     "output_type": "stream",
     "text": [
      "['a', 'b', 'c', 'e', 'x']\n"
     ]
    }
   ],
   "source": [
    "# Sorting the list\n",
    "new_list.sort()  \n",
    "print(new_list)"
   ]
  },
  {
   "cell_type": "markdown",
   "id": "07b5ec30",
   "metadata": {},
   "source": [
    "### Nesting Lists\n",
    "\n",
    "A great feature of of Python data structures is that they support nesting. This means we can have data structures within data structures. For example: A list inside a list.\n",
    "\n",
    "Let's see how this works!"
   ]
  },
  {
   "cell_type": "markdown",
   "id": "5ff19fcb",
   "metadata": {},
   "source": [
    "#### Let's Create three lists"
   ]
  },
  {
   "cell_type": "code",
   "execution_count": 42,
   "id": "ed92bb17",
   "metadata": {},
   "outputs": [],
   "source": [
    "lst_1 = [1, 2, 3]"
   ]
  },
  {
   "cell_type": "code",
   "execution_count": 43,
   "id": "17e7e994",
   "metadata": {},
   "outputs": [],
   "source": [
    "lst_2 = [4, 5, 6]"
   ]
  },
  {
   "cell_type": "code",
   "execution_count": 44,
   "id": "5f58c4c9",
   "metadata": {},
   "outputs": [],
   "source": [
    "lst_3 = [7, 8, 9]"
   ]
  },
  {
   "cell_type": "code",
   "execution_count": 45,
   "id": "0df6ec2d",
   "metadata": {},
   "outputs": [],
   "source": [
    "# Creating a matrix (list of lists)\n",
    "matrix = [lst_1, lst_2, lst_3]  "
   ]
  },
  {
   "cell_type": "code",
   "execution_count": 46,
   "id": "3c529ac7",
   "metadata": {},
   "outputs": [
    {
     "data": {
      "text/plain": [
       "[1, 2, 3]"
      ]
     },
     "execution_count": 46,
     "metadata": {},
     "output_type": "execute_result"
    }
   ],
   "source": [
    "# Accessing elements\n",
    "matrix[0]  \n",
    "\n",
    "# Output: [1, 2, 3]  "
   ]
  },
  {
   "cell_type": "code",
   "execution_count": 48,
   "id": "0aaa5f1c",
   "metadata": {},
   "outputs": [
    {
     "data": {
      "text/plain": [
       "1"
      ]
     },
     "execution_count": 48,
     "metadata": {},
     "output_type": "execute_result"
    }
   ],
   "source": [
    "matrix[0][0]  \n",
    "\n",
    "# Output: 1"
   ]
  },
  {
   "cell_type": "code",
   "execution_count": 49,
   "id": "63902975",
   "metadata": {},
   "outputs": [
    {
     "data": {
      "text/plain": [
       "[[1, 2, 3], [4, 5, 6], [7, 8, 9]]"
      ]
     },
     "execution_count": 49,
     "metadata": {},
     "output_type": "execute_result"
    }
   ],
   "source": [
    "#show all\n",
    "matrix"
   ]
  },
  {
   "cell_type": "markdown",
   "id": "de5c9a29",
   "metadata": {},
   "source": [
    "### List Comprehensions"
   ]
  },
  {
   "cell_type": "markdown",
   "id": "3ccb51b3",
   "metadata": {},
   "source": [
    "Python has an advanced feature called list comprehensions. They allow for quick construction of lists. To fully understand list comprehensions we need to understand for loops. So don't worry if you don't completely understand this section, and feel free to just skip it since we will return to this topic later.\n",
    "\n",
    "But in case you want to know now, here are a few examples!"
   ]
  },
  {
   "cell_type": "code",
   "execution_count": 52,
   "id": "af225430",
   "metadata": {},
   "outputs": [],
   "source": [
    "# Extract first element from each row\n",
    "first_col = [row[0] for row in matrix]  "
   ]
  },
  {
   "cell_type": "code",
   "execution_count": 54,
   "id": "107cc988",
   "metadata": {},
   "outputs": [
    {
     "data": {
      "text/plain": [
       "[1, 4, 7]"
      ]
     },
     "execution_count": 54,
     "metadata": {},
     "output_type": "execute_result"
    }
   ],
   "source": [
    "first_col"
   ]
  },
  {
   "cell_type": "markdown",
   "id": "00220cf7",
   "metadata": {},
   "source": [
    "We used a list comprehension here to grab the first element of every row in the matrix object. We will cover this in much more detail later on!\n"
   ]
  }
 ],
 "metadata": {
  "kernelspec": {
   "display_name": "Python 3 (ipykernel)",
   "language": "python",
   "name": "python3"
  },
  "language_info": {
   "codemirror_mode": {
    "name": "ipython",
    "version": 3
   },
   "file_extension": ".py",
   "mimetype": "text/x-python",
   "name": "python",
   "nbconvert_exporter": "python",
   "pygments_lexer": "ipython3",
   "version": "3.13.2"
  }
 },
 "nbformat": 4,
 "nbformat_minor": 5
}
