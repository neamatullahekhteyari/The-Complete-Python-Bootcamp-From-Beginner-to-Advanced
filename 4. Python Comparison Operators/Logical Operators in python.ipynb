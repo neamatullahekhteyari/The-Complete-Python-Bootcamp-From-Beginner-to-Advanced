{
 "cells": [
  {
   "cell_type": "markdown",
   "metadata": {},
   "source": [
    "___\n",
    "\n",
    "<a href='https://www.udemy.com/user/Neamatullah-ekhteyari/'><img src='../Neamatullah.png'/></a>\n",
    "___\n",
    "<center><em>Content Copyright by Neamatullah Ekhteyari</em></center>"
   ]
  },
  {
   "cell_type": "markdown",
   "metadata": {},
   "source": [
    "## Logical Operators in Python\n",
    "Python's logical operators allow you to combine multiple conditions and control the flow of execution based on those conditions. The primary logical operators in Python are:\n",
    "\n",
    "- <b>and:</b> ``` Returns True if both conditions are True. ```\n",
    "- <b>or:</b> ``` Returns True if at least one condition is True. ```\n",
    "- <b>not:</b> ``` Reverses the result, returns True if the condition is False, and False if the condition is True. ```"
   ]
  },
  {
   "cell_type": "markdown",
   "metadata": {},
   "source": [
    "### and Operator"
   ]
  },
  {
   "cell_type": "code",
   "execution_count": 2,
   "metadata": {},
   "outputs": [
    {
     "name": "stdout",
     "output_type": "stream",
     "text": [
      "True\n"
     ]
    }
   ],
   "source": [
    "print(1 < 2 and 2 < 3)"
   ]
  },
  {
   "cell_type": "markdown",
   "metadata": {},
   "source": [
    "#### Description:\n",
    "\n",
    "```The and operator checks if both conditions are True. Here, both 1 < 2 and 2 < 3 are True, so the result is True. Output: True```"
   ]
  },
  {
   "cell_type": "markdown",
   "metadata": {},
   "source": [
    "### and Operator with False Condition"
   ]
  },
  {
   "cell_type": "code",
   "execution_count": 3,
   "metadata": {},
   "outputs": [
    {
     "name": "stdout",
     "output_type": "stream",
     "text": [
      "False\n"
     ]
    }
   ],
   "source": [
    "print(1 < 2 and 2 > 3)"
   ]
  },
  {
   "cell_type": "markdown",
   "metadata": {},
   "source": [
    "#### Description: \n",
    "\n",
    "```In this case, 1 < 2 is True, but 2 > 3 is False. Since the and operator requires both conditions to be True, the result is False. Output: False```"
   ]
  },
  {
   "cell_type": "markdown",
   "metadata": {},
   "source": [
    "### Using and with Multiple Variables"
   ]
  },
  {
   "cell_type": "code",
   "execution_count": 4,
   "metadata": {},
   "outputs": [
    {
     "name": "stdout",
     "output_type": "stream",
     "text": [
      "True\n"
     ]
    }
   ],
   "source": [
    "a = 10\n",
    "b = 20\n",
    "c = 30\n",
    "print(a < b and b < c)"
   ]
  },
  {
   "cell_type": "markdown",
   "metadata": {},
   "source": [
    "#### Description:\n",
    "```\n",
    "Here, a < b is True and b < c is also True, so the and operator returns True as both conditions are satisfied. Output: True```"
   ]
  },
  {
   "cell_type": "markdown",
   "metadata": {},
   "source": [
    "### Parentheses with and Operator"
   ]
  },
  {
   "cell_type": "code",
   "execution_count": 5,
   "metadata": {},
   "outputs": [
    {
     "name": "stdout",
     "output_type": "stream",
     "text": [
      "True\n"
     ]
    }
   ],
   "source": [
    "print((1 < 2) and (2 < 3))"
   ]
  },
  {
   "cell_type": "markdown",
   "metadata": {},
   "source": [
    "#### Description: \n",
    "```Using parentheses explicitly groups the conditions, but the outcome is the same as the first example. Both conditions are True, so the result is True. Output: True```"
   ]
  },
  {
   "cell_type": "markdown",
   "metadata": {},
   "source": [
    "## or Operator\n"
   ]
  },
  {
   "cell_type": "code",
   "execution_count": 6,
   "metadata": {},
   "outputs": [
    {
     "name": "stdout",
     "output_type": "stream",
     "text": [
      "True\n"
     ]
    }
   ],
   "source": [
    "print(1 == 1 or 2 == 3)\n"
   ]
  },
  {
   "cell_type": "markdown",
   "metadata": {},
   "source": [
    "#### Description: \n",
    "\n",
    "```The or operator returns True if at least one condition is True. Here, 1 == 1 is True and 2 == 3 is False, so the result is True. Output: True ```\n"
   ]
  },
  {
   "cell_type": "markdown",
   "metadata": {},
   "source": [
    "### or Operator with Both Conditions False\n"
   ]
  },
  {
   "cell_type": "code",
   "execution_count": 7,
   "metadata": {},
   "outputs": [
    {
     "name": "stdout",
     "output_type": "stream",
     "text": [
      "False\n"
     ]
    }
   ],
   "source": [
    "print(1 == 2 or 2 == 3)"
   ]
  },
  {
   "cell_type": "markdown",
   "metadata": {},
   "source": [
    "#### Description:\n",
    "```Both 1 == 2 and 2 == 3 are False. Since the or operator requires at least one condition to be True, the result is False. Output: False```"
   ]
  },
  {
   "cell_type": "markdown",
   "metadata": {},
   "source": [
    "### Using or with Variables"
   ]
  },
  {
   "cell_type": "code",
   "execution_count": 8,
   "metadata": {},
   "outputs": [
    {
     "name": "stdout",
     "output_type": "stream",
     "text": [
      "True\n"
     ]
    }
   ],
   "source": [
    "a = 5\n",
    "b = 10\n",
    "print(a == 5 or b == 20)"
   ]
  },
  {
   "cell_type": "markdown",
   "metadata": {},
   "source": [
    "#### Description: \n",
    "```The or operator returns True if any one condition is True. Here, a == 5 is True, so the result is True, regardless of the second condition. Output: True```"
   ]
  },
  {
   "cell_type": "markdown",
   "metadata": {},
   "source": [
    "### not Operator"
   ]
  },
  {
   "cell_type": "code",
   "execution_count": 9,
   "metadata": {},
   "outputs": [
    {
     "name": "stdout",
     "output_type": "stream",
     "text": [
      "False\n"
     ]
    }
   ],
   "source": [
    "print(not (1 == 1))"
   ]
  },
  {
   "cell_type": "markdown",
   "metadata": {},
   "source": [
    "#### Description: \n",
    "```The not operator negates the condition. Since 1 == 1 is True, not True becomes False. Output: False```"
   ]
  },
  {
   "cell_type": "markdown",
   "metadata": {},
   "source": [
    "### not with a False Condition"
   ]
  },
  {
   "cell_type": "code",
   "execution_count": 10,
   "metadata": {},
   "outputs": [
    {
     "name": "stdout",
     "output_type": "stream",
     "text": [
      "True\n"
     ]
    }
   ],
   "source": [
    "print(not (2 > 3))\n"
   ]
  },
  {
   "cell_type": "markdown",
   "metadata": {},
   "source": [
    "#### Description:\n",
    "```The condition 2 > 3 is False. The not operator negates it, so the result is True. Output: True```"
   ]
  },
  {
   "cell_type": "markdown",
   "metadata": {},
   "source": [
    "### Negating a Boolean Variable"
   ]
  },
  {
   "cell_type": "code",
   "execution_count": 12,
   "metadata": {},
   "outputs": [
    {
     "name": "stdout",
     "output_type": "stream",
     "text": [
      "True\n"
     ]
    }
   ],
   "source": [
    "is_raining = False\n",
    "print(not is_raining)\n"
   ]
  },
  {
   "cell_type": "markdown",
   "metadata": {},
   "source": [
    "#### Description: \n",
    "```The variable is_raining is False. The not operator negates it, so the result is True. Output: True```"
   ]
  },
  {
   "cell_type": "markdown",
   "metadata": {},
   "source": [
    "### Summary of Python Logical Operators:\n",
    "1. <b>and:</b> \n",
    "\n",
    "```\n",
    "Both conditions must be True for the result to be True. If either condition is False, the result is False.\n",
    "\n",
    "```\n",
    "\n",
    "- Example: (A and B) will be True if both A and B are True.\n",
    "\n",
    "2.<b> or:</b> \n",
    "\n",
    "```\n",
    "Only one condition needs to be True for the result to be True. If both are False, the result is False.\n",
    "\n",
    "```\n",
    "\n",
    "- Example: (A or B) will be True if either A or B is True.\n",
    "\n",
    "3. <b> not:</b>\n",
    "```\n",
    "Reverses the condition. If the condition is True, not makes it False, and if it is False, not makes it True.\n",
    "\n",
    "```\n",
    "- Example: not A will be True if A is False and False if A is True.\n",
    "\n",
    "These logical operators are fundamental in Python for controlling the flow of logic and are commonly used in conditional statements like if, while, and more."
   ]
  }
 ],
 "metadata": {
  "kernelspec": {
   "display_name": "Python 3 (ipykernel)",
   "language": "python",
   "name": "python3"
  },
  "language_info": {
   "codemirror_mode": {
    "name": "ipython",
    "version": 3
   },
   "file_extension": ".py",
   "mimetype": "text/x-python",
   "name": "python",
   "nbconvert_exporter": "python",
   "pygments_lexer": "ipython3",
   "version": "3.13.2"
  }
 },
 "nbformat": 4,
 "nbformat_minor": 2
}
