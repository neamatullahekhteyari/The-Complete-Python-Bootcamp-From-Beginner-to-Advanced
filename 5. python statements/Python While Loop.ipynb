{
 "cells": [
  {
   "cell_type": "markdown",
   "id": "6c7a0d7e",
   "metadata": {},
   "source": [
    "___\n",
    "\n",
    "<a href='https://www.udemy.com/user/Neamatullah-ekhteyari/'><img src='../Neamatullah.png'/></a>\n",
    "___\n",
    "<center><em>Content Copyright by Neamatullah Ekhteyari</em></center>"
   ]
  },
  {
   "cell_type": "markdown",
   "id": "9a66d5a0",
   "metadata": {},
   "source": [
    "### Python while Loop Explanation:\n",
    "```\n",
    "A while loop in Python allows you to execute a block of code repeatedly as long as a specified condition is True. If the condition evaluates to False, the loop terminates.\n",
    "```\n",
    "The basic structure of a while loop is:"
   ]
  },
  {
   "cell_type": "code",
   "execution_count": null,
   "id": "69cb1c0d",
   "metadata": {},
   "outputs": [],
   "source": [
    "while condition:\n",
    "    # execute code\n"
   ]
  },
  {
   "cell_type": "markdown",
   "id": "1380fb06",
   "metadata": {},
   "source": [
    "```\n",
    "condition: The condition that is checked before each iteration. If the condition is True, the loop continues executing.\n",
    "\n",
    "# execute code: The block of code that gets executed repeatedly until the condition becomes False.\n",
    "```"
   ]
  },
  {
   "cell_type": "markdown",
   "id": "36b02a7e",
   "metadata": {},
   "source": [
    "### Code Examples with Descriptions:\n"
   ]
  },
  {
   "cell_type": "markdown",
   "id": "62536e31",
   "metadata": {},
   "source": [
    "#### Basic while Loop:\n"
   ]
  },
  {
   "cell_type": "code",
   "execution_count": 1,
   "id": "d7766596",
   "metadata": {},
   "outputs": [
    {
     "name": "stdout",
     "output_type": "stream",
     "text": [
      "The current value of x is 0\n",
      "The current value of x is 1\n",
      "The current value of x is 2\n",
      "The current value of x is 3\n",
      "The current value of x is 4\n"
     ]
    }
   ],
   "source": [
    "x = 0\n",
    "while x < 5:\n",
    "    print(f\"The current value of x is {x}\")\n",
    "    x += 1\n"
   ]
  },
  {
   "cell_type": "markdown",
   "id": "b816f291",
   "metadata": {},
   "source": [
    "\n",
    "#### Description:\n",
    "```    \n",
    "This loop will continue to execute as long as the value of x is less than 5. In each iteration, the value of x is printed, and then x is incremented by 1. The loop runs for values of x from 0 to 4. \n",
    "```"
   ]
  },
  {
   "cell_type": "markdown",
   "id": "dfd85699",
   "metadata": {},
   "source": [
    "### while Loop with else Clause:"
   ]
  },
  {
   "cell_type": "code",
   "execution_count": 2,
   "id": "a909932a",
   "metadata": {},
   "outputs": [
    {
     "name": "stdout",
     "output_type": "stream",
     "text": [
      "The current value of x is 0\n",
      "The current value of x is 1\n",
      "The current value of x is 2\n",
      "The current value of x is 3\n",
      "The current value of x is 4\n",
      "X is no longer less than 5\n"
     ]
    }
   ],
   "source": [
    "x = 0\n",
    "while x < 5:\n",
    "    print(f\"The current value of x is {x}\")\n",
    "    x += 1\n",
    "else:\n",
    "    print(\"X is no longer less than 5\")\n"
   ]
  },
  {
   "cell_type": "markdown",
   "id": "269ab12c",
   "metadata": {},
   "source": [
    "#### Description: \n",
    "```\n",
    "This loop is similar to the first example but includes an else block. The else block executes after the while loop finishes, which happens when the condition x < 5 becomes False. This means the message \"X is no longer less than 5\" is printed after the loop has completed. \n",
    "```"
   ]
  },
  {
   "cell_type": "markdown",
   "id": "0ac5cf77",
   "metadata": {},
   "source": [
    "### Breaking the Loop with break:"
   ]
  },
  {
   "cell_type": "code",
   "execution_count": 3,
   "id": "9a3f0c32",
   "metadata": {},
   "outputs": [
    {
     "name": "stdout",
     "output_type": "stream",
     "text": [
      "The current value of x is 0\n",
      "The current value of x is 1\n",
      "breaking the loop at x = 2\n"
     ]
    }
   ],
   "source": [
    "x = 0\n",
    "while x < 5:\n",
    "    if x == 2:\n",
    "        print(\"breaking the loop at x = 2\")\n",
    "        break\n",
    "    print(f\"The current value of x is {x}\")\n",
    "    x += 1\n"
   ]
  },
  {
   "cell_type": "markdown",
   "id": "b7b6ead0",
   "metadata": {},
   "source": [
    "\n",
    "#### Description:\n",
    "```\n",
    "In this example, the loop continues until the value of x reaches 2. When x equals 2, the if condition is true, and the break statement is executed, which immediately terminates the loop. The message \"breaking the loop at x = 2\" is printed when the loop is interrupted.\n",
    "```"
   ]
  },
  {
   "cell_type": "markdown",
   "id": "5178ad63",
   "metadata": {},
   "source": [
    "### Skipping an Iteration with continue:"
   ]
  },
  {
   "cell_type": "code",
   "execution_count": 4,
   "id": "182b1e10",
   "metadata": {},
   "outputs": [
    {
     "name": "stdout",
     "output_type": "stream",
     "text": [
      "the current value of x is 1\n",
      "the current value of x is 2\n",
      "skipping x = 3\n",
      "the current value of x is 4\n",
      "the current value of x is 5\n"
     ]
    }
   ],
   "source": [
    "x = 0\n",
    "while x < 5:\n",
    "    x += 1\n",
    "    if x == 3:\n",
    "        print(\"skipping x = 3\")\n",
    "        continue\n",
    "    print(f\"the current value of x is {x}\")\n"
   ]
  },
  {
   "cell_type": "markdown",
   "id": "02ee16b0",
   "metadata": {},
   "source": [
    "#### Description: \n",
    "```\n",
    "In this example, when the value of x equals 3, the if condition is met, and the continue statement is executed. The continue statement skips the current iteration of the loop and moves to the next iteration. As a result, x = 3 is skipped, and the message \"skipping x = 3\" is printed. \n",
    "```"
   ]
  },
  {
   "cell_type": "markdown",
   "id": "d8baa453",
   "metadata": {},
   "source": [
    "### Using pass to Do Nothing:"
   ]
  },
  {
   "cell_type": "code",
   "execution_count": 5,
   "id": "d48381ec",
   "metadata": {},
   "outputs": [
    {
     "name": "stdout",
     "output_type": "stream",
     "text": [
      "the current value of x is 1\n",
      "the current value of x is 2\n",
      "the current value of x is 3\n",
      "the current value of x is 4\n",
      "the current value of x is 5\n"
     ]
    }
   ],
   "source": [
    "x = 0\n",
    "while x < 5:\n",
    "    x += 1\n",
    "    if x == 3:\n",
    "        pass  # Do nothing when x == 3\n",
    "    print(f\"the current value of x is {x}\")\n"
   ]
  },
  {
   "cell_type": "markdown",
   "id": "a5774620",
   "metadata": {},
   "source": [
    "#### Description:\n",
    "```\n",
    "The pass statement is a placeholder in Python. It does nothing when executed. In this example, when x equals 3, the if condition is true, but the loop continues without doing anything, and x = 3 is printed normally. The pass is just there to show where you can add code without altering the flow.\n",
    "```"
   ]
  },
  {
   "cell_type": "markdown",
   "id": "30717f5a",
   "metadata": {},
   "source": [
    "### Summary of Python while Loop:\n",
    "```\n",
    "1. The while loop continues executing as long as the specified condition is True.\n",
    "2. Once the condition becomes False, the loop terminates.\n",
    "3. The else block after a while loop runs if the loop finishes normally (without a break).\n",
    "4. The break statement can be used to terminate the loop prematurely when a certain condition is met.\n",
    "5. The continue statement allows you to skip the current iteration and proceed to the next one.\n",
    "\n",
    "6. The pass statement is a placeholder that does nothing, allowing you to leave an empty block of code.\n",
    "\n",
    "The while loop is useful when you don't know in advance how many times you'll need to loop and need to continue based on a specific condition.\n",
    "```"
   ]
  }
 ],
 "metadata": {
  "kernelspec": {
   "display_name": "Python 3 (ipykernel)",
   "language": "python",
   "name": "python3"
  },
  "language_info": {
   "codemirror_mode": {
    "name": "ipython",
    "version": 3
   },
   "file_extension": ".py",
   "mimetype": "text/x-python",
   "name": "python",
   "nbconvert_exporter": "python",
   "pygments_lexer": "ipython3",
   "version": "3.13.2"
  }
 },
 "nbformat": 4,
 "nbformat_minor": 5
}
