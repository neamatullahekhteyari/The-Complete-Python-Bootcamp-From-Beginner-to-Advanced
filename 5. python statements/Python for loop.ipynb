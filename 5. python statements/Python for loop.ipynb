{
 "cells": [
  {
   "cell_type": "markdown",
   "id": "28f40984",
   "metadata": {},
   "source": [
    "___\n",
    "\n",
    "<a href='https://www.udemy.com/user/Neamatullah-ekhteyari/'><img src='../Neamatullah.png'/></a>\n",
    "___\n",
    "<center><em>Content Copyright by Neamatullah Ekhteyari</em></center>"
   ]
  },
  {
   "cell_type": "markdown",
   "id": "d978378c",
   "metadata": {},
   "source": [
    "## Python for Loop Explanation:\n",
    "A for loop in Python is used to iterate over a sequence (which could be a list, string, dictionary, tuple, or other iterable objects) and execute a block of code for each item in that sequence.\n",
    "\n",
    "The basic structure is:"
   ]
  },
  {
   "cell_type": "code",
   "execution_count": null,
   "id": "ee7a2d69",
   "metadata": {},
   "outputs": [],
   "source": [
    "for item in iterable_object:\n",
    "    # execute code\n"
   ]
  },
  {
   "cell_type": "markdown",
   "id": "90c86ea7",
   "metadata": {},
   "source": [
    "- ```iterable_object:``` The object that you want to loop through (a list, string, dictionary, etc.).\n",
    "\n",
    "- ``` item:``` The variable that takes the value of the current element in the loop for each iteration."
   ]
  },
  {
   "cell_type": "markdown",
   "id": "34e3726c",
   "metadata": {},
   "source": [
    "### Code Examples with Descriptions:\n",
    "Iterating Over a String:\n"
   ]
  },
  {
   "cell_type": "code",
   "execution_count": 4,
   "id": "ee63d40c",
   "metadata": {},
   "outputs": [
    {
     "name": "stdout",
     "output_type": "stream",
     "text": [
      "P\n",
      "y\n",
      "t\n",
      "h\n",
      "o\n",
      "n\n"
     ]
    }
   ],
   "source": [
    "word = \"Python\"\n",
    "for letter in word:\n",
    "    print(letter)\n"
   ]
  },
  {
   "cell_type": "markdown",
   "id": "9ec4aebf",
   "metadata": {},
   "source": [
    "#### Description: \n",
    "```\n",
    "This loop iterates over each character in the string word. In each iteration, the letter variable takes the value of the current character, and it is printed. The output will be the letters of the string, each printed on a new line. \n",
    "```"
   ]
  },
  {
   "cell_type": "markdown",
   "id": "06203fa0",
   "metadata": {},
   "source": [
    "### Iterating Over a List:"
   ]
  },
  {
   "cell_type": "code",
   "execution_count": 6,
   "id": "3bff3439",
   "metadata": {},
   "outputs": [
    {
     "name": "stdout",
     "output_type": "stream",
     "text": [
      "I Love apple!\n",
      "I Love banana!\n",
      "I Love cherry!\n",
      "I Love date!\n"
     ]
    }
   ],
   "source": [
    "fruits = [\"apple\", \"banana\", \"cherry\", \"date\"]\n",
    "for fruit in fruits:\n",
    "    print(f\"I Love {fruit}!\")\n"
   ]
  },
  {
   "cell_type": "markdown",
   "id": "950e8d1e",
   "metadata": {},
   "source": [
    "#### Description: \n",
    "```\n",
    "This loop iterates over the list fruits. In each iteration, the fruit variable takes the value of the current fruit in the list, and a sentence is printed with that fruit. \n",
    "```\n"
   ]
  },
  {
   "cell_type": "markdown",
   "id": "48091e04",
   "metadata": {},
   "source": [
    "### Iterating Over a Dictionary (Key-Value Pairs):"
   ]
  },
  {
   "cell_type": "code",
   "execution_count": 7,
   "id": "74487878",
   "metadata": {},
   "outputs": [
    {
     "name": "stdout",
     "output_type": "stream",
     "text": [
      "The capital of France is Paris.\n",
      "The capital of Japan is Tokyo.\n",
      "The capital of India is New Delhi.\n"
     ]
    }
   ],
   "source": [
    "capitals = {\"France\": \"Paris\", \"Japan\": \"Tokyo\", \"India\": \"New Delhi\"}\n",
    "for country, capital in capitals.items():\n",
    "    print(f\"The capital of {country} is {capital}.\")\n"
   ]
  },
  {
   "cell_type": "markdown",
   "id": "7a59e3de",
   "metadata": {},
   "source": [
    "#### Description: \n",
    "\n",
    "```\n",
    "This loop iterates over the dictionary capitals using the items() method, which returns key-value pairs. For each iteration, country gets the key, and capital gets the value. The capital of each country is printed.\n",
    "```"
   ]
  },
  {
   "cell_type": "markdown",
   "id": "5cf45ccd",
   "metadata": {},
   "source": [
    "### Using a Conditional Inside a Loop (Even Numbers):"
   ]
  },
  {
   "cell_type": "code",
   "execution_count": 8,
   "id": "10059a58",
   "metadata": {},
   "outputs": [
    {
     "name": "stdout",
     "output_type": "stream",
     "text": [
      "Even Number: 10\n",
      "Even Number: 20\n",
      "Even Number: 30\n",
      "Even Number: 40\n"
     ]
    }
   ],
   "source": [
    "numbers = [10, 15, 20, 25, 30, 35, 40]\n",
    "for num in numbers:\n",
    "    if num % 2 == 0:\n",
    "        print(f\"Even Number: {num}\")\n"
   ]
  },
  {
   "cell_type": "markdown",
   "id": "219fb168",
   "metadata": {},
   "source": [
    "#### Description:\n",
    "```\n",
    "This loop iterates over the numbers list and checks if the number is even (num % 2 == 0). If the condition is true, it prints the even number.\n",
    "```"
   ]
  },
  {
   "cell_type": "markdown",
   "id": "392598aa",
   "metadata": {},
   "source": [
    "### Summing Values in a List:"
   ]
  },
  {
   "cell_type": "code",
   "execution_count": 9,
   "id": "35a5298f",
   "metadata": {},
   "outputs": [
    {
     "name": "stdout",
     "output_type": "stream",
     "text": [
      "Total sum: 36\n"
     ]
    }
   ],
   "source": [
    "values = [3, 7, 12, 5, 9]\n",
    "total = 0\n",
    "for val in values:\n",
    "    total += val\n",
    "print(f\"Total sum: {total}\")\n"
   ]
  },
  {
   "cell_type": "markdown",
   "id": "830ef8cb",
   "metadata": {},
   "source": [
    "#### Description:\n",
    "```\n",
    "This loop iterates over the values list and adds each value to the total variable. The sum of all the values is printed after the loop.\n",
    "```"
   ]
  },
  {
   "cell_type": "markdown",
   "id": "df56960e",
   "metadata": {},
   "source": [
    "### Using the Loop Without a Variable (Underscore as a Placeholder):"
   ]
  },
  {
   "cell_type": "code",
   "execution_count": 10,
   "id": "9059dbc9",
   "metadata": {},
   "outputs": [
    {
     "name": "stdout",
     "output_type": "stream",
     "text": [
      "hello world!\n",
      "hello world!\n",
      "hello world!\n",
      "hello world!\n",
      "hello world!\n"
     ]
    }
   ],
   "source": [
    "for _ in range(5):\n",
    "    print(\"hello world!\")\n"
   ]
  },
  {
   "cell_type": "markdown",
   "id": "ff403041",
   "metadata": {},
   "source": [
    "#### Description:\n",
    "```\n",
    "This loop will execute the print statement 5 times. The _ is often used as a placeholder when the loop variable is not needed.\n",
    "```"
   ]
  },
  {
   "cell_type": "markdown",
   "id": "a2c3b537",
   "metadata": {},
   "source": [
    "### Enumerating Through a List (Index and Value):"
   ]
  },
  {
   "cell_type": "code",
   "execution_count": 11,
   "id": "56d748d4",
   "metadata": {},
   "outputs": [
    {
     "name": "stdout",
     "output_type": "stream",
     "text": [
      "1. Inception\n",
      "2. Interstellar\n"
     ]
    }
   ],
   "source": [
    "movies = [\"Inception\", \"Interstellar\"]\n",
    "for index, movie in enumerate(movies, start=1):\n",
    "    print(f\"{index}. {movie}\")\n"
   ]
  },
  {
   "cell_type": "markdown",
   "id": "281d575b",
   "metadata": {},
   "source": [
    "#### Description: \n",
    "```\n",
    "This loop uses the enumerate() function to get both the index and the value of each element in the list movies. The start=1 argument makes the index start at 1 instead of 0.\n",
    "```"
   ]
  },
  {
   "cell_type": "markdown",
   "id": "04ea75a3",
   "metadata": {},
   "source": [
    "### Iterating Over a Tuple:"
   ]
  },
  {
   "cell_type": "code",
   "execution_count": 12,
   "id": "d2651149",
   "metadata": {},
   "outputs": [
    {
     "name": "stdout",
     "output_type": "stream",
     "text": [
      "10\n",
      "20\n",
      "30\n"
     ]
    }
   ],
   "source": [
    "my_tuple = (10, 20, 30)\n",
    "for item in my_tuple:\n",
    "    print(item)\n"
   ]
  },
  {
   "cell_type": "markdown",
   "id": "7ffe6b63",
   "metadata": {},
   "source": [
    "#### Description:\n",
    "```\n",
    "This loop iterates over each element in the tuple my_tuple and prints it\n",
    "```"
   ]
  },
  {
   "cell_type": "markdown",
   "id": "c7739ddb",
   "metadata": {},
   "source": [
    "### Iterating Over a List of Tuples (Unpacking):"
   ]
  },
  {
   "cell_type": "code",
   "execution_count": 13,
   "id": "585a81c6",
   "metadata": {},
   "outputs": [
    {
     "name": "stdout",
     "output_type": "stream",
     "text": [
      "NUmbers: 1, letter: a, number: 2\n",
      "NUmbers: 2, letter: b, number: 3\n",
      "NUmbers: 3, letter: c, number: 4\n"
     ]
    }
   ],
   "source": [
    "pairs = [(1, 'a', 2), (2, 'b', 3), (3, 'c', 4)]\n",
    "for num, letter, ext in pairs:\n",
    "    print(f\"NUmbers: {num}, letter: {letter}, number: {ext}\")\n"
   ]
  },
  {
   "cell_type": "markdown",
   "id": "8202c787",
   "metadata": {},
   "source": [
    "#### Description: \n",
    "```\n",
    "This loop iterates over the list of tuples pairs, and each tuple is unpacked into the variables num, letter, and ext. These values are printed in a formatted string.\n",
    "```"
   ]
  },
  {
   "cell_type": "markdown",
   "id": "48f95545",
   "metadata": {},
   "source": [
    "### Iterating Over a Dictionary (Key-Value Pairs):"
   ]
  },
  {
   "cell_type": "code",
   "execution_count": 15,
   "id": "66c26a07",
   "metadata": {},
   "outputs": [
    {
     "name": "stdout",
     "output_type": "stream",
     "text": [
      "apple 5\n",
      "banana 3\n"
     ]
    }
   ],
   "source": [
    "my_dict = {\"apple\": 5, \"banana\": 3}\n",
    "for key, value in my_dict.items():\n",
    "    print(key, value)\n"
   ]
  },
  {
   "cell_type": "markdown",
   "id": "0b17b732",
   "metadata": {},
   "source": [
    "#### Description:\n",
    "```\n",
    "This loop iterates over the dictionary my_dict and prints each key-value pair using the items() method. \n",
    "\n",
    "```"
   ]
  },
  {
   "cell_type": "markdown",
   "id": "91b2a495",
   "metadata": {},
   "source": [
    "### Summary of Python for Loop:\n",
    "```\n",
    "The for loop in Python is versatile and can iterate over any iterable object, including lists, tuples, strings, dictionaries, and more. It is commonly used for:\n",
    "\n",
    "1- Iterating over elements in a sequence (e.g., list, string).\n",
    "2- Using conditional statements inside loops to filter or modify elements.\n",
    "3- Accessing both the index and value in an iterable using enumerate().\n",
    "4- Unpacking elements from tuples or lists in each iteration.\n",
    "\n",
    "By using the for loop, you can efficiently handle repetitive tasks, making your code concise and readable.\n",
    "```"
   ]
  }
 ],
 "metadata": {
  "kernelspec": {
   "display_name": "Python 3 (ipykernel)",
   "language": "python",
   "name": "python3"
  },
  "language_info": {
   "codemirror_mode": {
    "name": "ipython",
    "version": 3
   },
   "file_extension": ".py",
   "mimetype": "text/x-python",
   "name": "python",
   "nbconvert_exporter": "python",
   "pygments_lexer": "ipython3",
   "version": "3.13.2"
  }
 },
 "nbformat": 4,
 "nbformat_minor": 5
}
