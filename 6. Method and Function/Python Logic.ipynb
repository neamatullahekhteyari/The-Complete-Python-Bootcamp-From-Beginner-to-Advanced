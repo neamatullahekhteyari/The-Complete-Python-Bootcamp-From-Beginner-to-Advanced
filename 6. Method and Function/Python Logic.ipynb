{
 "cells": [
  {
   "cell_type": "markdown",
   "id": "17b482dc",
   "metadata": {},
   "source": [
    "___\n",
    "\n",
    "<a href='https://www.udemy.com/user/Neamatullah-ekhteyari/'><img src='../Neamatullah.png'/></a>\n",
    "___\n",
    "<center><em>Content Copyright by Neamatullah Ekhteyari</em></center>"
   ]
  },
  {
   "cell_type": "markdown",
   "id": "e2b842bf",
   "metadata": {},
   "source": [
    "## What is Python Logic?\n",
    "```\n",
    "Python logic refers to the use of conditional statements, loops, and functions to perform decision-making and problem-solving tasks. Logical operations like comparisons (==, >, <), conditionals (if, else), and boolean expressions (True, False) help structure programs to make decisions dynamically.\n",
    "```"
   ]
  },
  {
   "cell_type": "markdown",
   "id": "149d7bac",
   "metadata": {},
   "source": [
    "### 1. Function with Parameter"
   ]
  },
  {
   "cell_type": "code",
   "execution_count": 2,
   "id": "73a85717",
   "metadata": {},
   "outputs": [
    {
     "name": "stdout",
     "output_type": "stream",
     "text": [
      "Hello, Alice\n"
     ]
    }
   ],
   "source": [
    "def say_hello(name):\n",
    "    print(f\"Hello, {name}\")\n",
    "\n",
    "say_hello(\"Alice\")\n"
   ]
  },
  {
   "cell_type": "markdown",
   "id": "5c2fa618",
   "metadata": {},
   "source": [
    "#### Description:\n",
    "\n",
    "- A function say_hello(name) takes a parameter name and prints a greeting."
   ]
  },
  {
   "cell_type": "markdown",
   "id": "99576d6e",
   "metadata": {},
   "source": [
    "#### 2. Function with a Default Parameter"
   ]
  },
  {
   "cell_type": "code",
   "execution_count": 3,
   "id": "bff398ad",
   "metadata": {},
   "outputs": [
    {
     "name": "stdout",
     "output_type": "stream",
     "text": [
      "Hello, Default\n"
     ]
    }
   ],
   "source": [
    "def say_hello(name=\"Default\"):\n",
    "    print(f\"Hello, {name}\")\n",
    "\n",
    "say_hello()\n"
   ]
  },
  {
   "cell_type": "markdown",
   "id": "08b32707",
   "metadata": {},
   "source": [
    "#### Description:\n",
    "\n",
    "- If no argument is provided, the function uses \"Default\" as the name"
   ]
  },
  {
   "cell_type": "markdown",
   "id": "3d57bd2e",
   "metadata": {},
   "source": [
    "### 3. Function with Return Statement"
   ]
  },
  {
   "cell_type": "code",
   "execution_count": 4,
   "id": "51ab78d4",
   "metadata": {},
   "outputs": [
    {
     "name": "stdout",
     "output_type": "stream",
     "text": [
      "6\n"
     ]
    },
    {
     "data": {
      "text/plain": [
       "6"
      ]
     },
     "execution_count": 4,
     "metadata": {},
     "output_type": "execute_result"
    }
   ],
   "source": [
    "def my_function(a, b):\n",
    "    print(a + b)\n",
    "    return a + b\n",
    "\n",
    "my_function(2, 4)\n"
   ]
  },
  {
   "cell_type": "markdown",
   "id": "4bc9a385",
   "metadata": {},
   "source": [
    "#### Description:\n",
    "\n",
    "- Adds two numbers and prints the sum (6), then returns it.\n",
    "\n",
    "- The return value can be used for further calculations."
   ]
  },
  {
   "cell_type": "markdown",
   "id": "296b693a",
   "metadata": {},
   "source": [
    "### 4. Modulo Operator (%)"
   ]
  },
  {
   "cell_type": "code",
   "execution_count": 5,
   "id": "20652a4e",
   "metadata": {},
   "outputs": [
    {
     "name": "stdout",
     "output_type": "stream",
     "text": [
      "0\n",
      "1\n"
     ]
    }
   ],
   "source": [
    "print(4 % 2)\n",
    "print(7 % 2)\n"
   ]
  },
  {
   "cell_type": "markdown",
   "id": "86ebf43e",
   "metadata": {},
   "source": [
    "#### Description:\n",
    "```\n",
    "- The % operator finds the remainder of a division.\n",
    "\n",
    "- 4 % 2 = 0 (even number)\n",
    "\n",
    "- 7 % 2 = 1 (odd number)\n",
    "```"
   ]
  },
  {
   "cell_type": "markdown",
   "id": "78457732",
   "metadata": {},
   "source": [
    "### 5. Checking Even Numbers"
   ]
  },
  {
   "cell_type": "code",
   "execution_count": 6,
   "id": "0914210d",
   "metadata": {},
   "outputs": [
    {
     "name": "stdout",
     "output_type": "stream",
     "text": [
      "True\n",
      "False\n"
     ]
    }
   ],
   "source": [
    "def even_check(num):\n",
    "    return num % 2 == 0\n",
    "\n",
    "print(even_check(20))  # True\n",
    "print(even_check(21))  # False\n"
   ]
  },
  {
   "cell_type": "markdown",
   "id": "1f6dfa10",
   "metadata": {},
   "source": [
    "#### Description:\n",
    "\n",
    "- The function even_check(num) returns True if the number is even (num % 2 == 0), otherwise False."
   ]
  },
  {
   "cell_type": "markdown",
   "id": "b5c7f1cf",
   "metadata": {},
   "source": [
    "### 6. Checking If a List Has an Even Number"
   ]
  },
  {
   "cell_type": "code",
   "execution_count": 7,
   "id": "5d45f885",
   "metadata": {},
   "outputs": [
    {
     "name": "stdout",
     "output_type": "stream",
     "text": [
      "True\n"
     ]
    }
   ],
   "source": [
    "def check_even_list(num_list):\n",
    "    for num in num_list:\n",
    "        if num % 2 == 0:\n",
    "            return True  # Stops the function once it finds an even number\n",
    "    \n",
    "    return False  # If no even numbers are found, return False\n",
    "\n",
    "print(check_even_list([1, 2, 3]))  # True\n"
   ]
  },
  {
   "cell_type": "markdown",
   "id": "a3161623",
   "metadata": {},
   "source": [
    "#### Description:\n",
    "\n",
    "- This function checks if at least one even number exists in a list.\n",
    "\n",
    "- If it finds an even number, it returns True immediately.\n",
    "\n",
    "- Otherwise, it returns False."
   ]
  },
  {
   "cell_type": "markdown",
   "id": "d0f61b18",
   "metadata": {},
   "source": [
    "### Conclusion\n",
    "- Python logic helps in decision-making using functions and conditions.\n",
    "\n",
    "- The % operator is useful for checking even/odd numbers.\n",
    "\n",
    "- Return statements allow functions to provide results for further use.\n",
    "\n",
    "- Logical conditions inside functions (if-else) help check values dynamically.\n",
    "\n",
    " Mastering logic is key to writing efficient Python programs!"
   ]
  }
 ],
 "metadata": {
  "kernelspec": {
   "display_name": "Python 3 (ipykernel)",
   "language": "python",
   "name": "python3"
  },
  "language_info": {
   "codemirror_mode": {
    "name": "ipython",
    "version": 3
   },
   "file_extension": ".py",
   "mimetype": "text/x-python",
   "name": "python",
   "nbconvert_exporter": "python",
   "pygments_lexer": "ipython3",
   "version": "3.13.2"
  }
 },
 "nbformat": 4,
 "nbformat_minor": 5
}
