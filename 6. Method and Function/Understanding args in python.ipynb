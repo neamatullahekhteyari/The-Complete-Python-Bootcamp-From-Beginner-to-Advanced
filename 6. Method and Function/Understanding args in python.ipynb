{
 "cells": [
  {
   "cell_type": "markdown",
   "metadata": {},
   "source": [
    "___\n",
    "\n",
    "<a href='https://www.udemy.com/user/Neamatullah-ekhteyari/'><img src='../Neamatullah.png'/></a>\n",
    "___\n",
    "<center><em>Content Copyright by Neamatullah Ekhteyari</em></center>"
   ]
  },
  {
   "cell_type": "markdown",
   "metadata": {},
   "source": [
    "### Understanding *args and **kwargs in Python\n",
    "```\n",
    "In Python, *args and **kwargs allow us to create flexible functions that accept any number of arguments.\n",
    "\n",
    "- *args (Arguments) → Allows passing multiple positional arguments as a tuple.\n",
    "\n",
    "- **kwargs (Keyword Arguments) → Allows passing multiple named arguments as a dictionary.\n",
    "```"
   ]
  },
  {
   "cell_type": "markdown",
   "metadata": {},
   "source": [
    "### 1. Function with Fixed Arguments"
   ]
  },
  {
   "cell_type": "code",
   "execution_count": 7,
   "metadata": {},
   "outputs": [
    {
     "name": "stdout",
     "output_type": "stream",
     "text": [
      "1.5\n",
      "1.5\n"
     ]
    }
   ],
   "source": [
    "def my_func(a, b, c = 0, d = 0, e = 0):\n",
    "    return 0.05 * (a + b)\n",
    "\n",
    "print(my_func(10, 20))\n",
    "print(my_func(10, 20, 30))\n"
   ]
  },
  {
   "cell_type": "markdown",
   "metadata": {},
   "source": [
    "#### Description:\n",
    "```\n",
    "- This function accepts two required parameters (a, b) and three optional ones (c, d, e with default values 0).\n",
    "\n",
    "- It returns 5% of the sum of a and b.\n",
    "\n",
    "- Additional arguments like c=30 are ignored because they are not included in the calculation.\n",
    "```"
   ]
  },
  {
   "cell_type": "markdown",
   "metadata": {},
   "source": [
    "### 2. Using *args to Handle Variable Positional Arguments"
   ]
  },
  {
   "cell_type": "code",
   "execution_count": 1,
   "metadata": {},
   "outputs": [
    {
     "name": "stdout",
     "output_type": "stream",
     "text": [
      "5.0\n",
      "10.0\n",
      "35.0\n"
     ]
    }
   ],
   "source": [
    "def my_func(*args):\n",
    "    return 0.05 * sum(args)\n",
    "\n",
    "print(my_func(40, 60))\n",
    "print(my_func(40, 60, 100))\n",
    "print(my_func(40, 60, 100, 200, 300))\n"
   ]
  },
  {
   "cell_type": "markdown",
   "metadata": {},
   "source": [
    "#### Description:\n",
    "```\n",
    "- *args allows passing any number of arguments, which are treated as a tuple.\n",
    "\n",
    "- sum(args) adds all arguments, and the function returns 5% of the total sum.\n",
    "```"
   ]
  },
  {
   "cell_type": "markdown",
   "metadata": {},
   "source": [
    "### 3. Printing *args as a Tuple"
   ]
  },
  {
   "cell_type": "code",
   "execution_count": 2,
   "metadata": {},
   "outputs": [
    {
     "name": "stdout",
     "output_type": "stream",
     "text": [
      "(10, 20, 30)\n"
     ]
    }
   ],
   "source": [
    "def print_args(*args):\n",
    "    print(args)\n",
    "print_args(10, 20, 30)"
   ]
  },
  {
   "cell_type": "markdown",
   "metadata": {},
   "source": [
    "#### Description:\n",
    "```\n",
    "- args stores (10, 20, 30) as a tuple.\n",
    "- The function prints the tuple directly.\n",
    "```"
   ]
  },
  {
   "cell_type": "markdown",
   "metadata": {},
   "source": [
    "### 4. Using **kwargs to Handle Variable Keyword Arguments"
   ]
  },
  {
   "cell_type": "code",
   "execution_count": 3,
   "metadata": {},
   "outputs": [
    {
     "name": "stdout",
     "output_type": "stream",
     "text": [
      "MY fruit of choice is Apple\n"
     ]
    }
   ],
   "source": [
    "def my_func(**kwargs):\n",
    "    if \"fruit\" in kwargs:\n",
    "        print(f\"MY fruit of choice is {kwargs['fruit']}\")\n",
    "    else:\n",
    "              print(\"no fruit found!\")\n",
    "my_func(fruit=\"Apple\", Veggie=\"lettuce\")"
   ]
  },
  {
   "cell_type": "markdown",
   "metadata": {},
   "source": [
    "#### Description:\n",
    "```\n",
    "- **kwargs stores keyword arguments as a dictionary.\n",
    "- The function checks if the key \"fruit\" exists, then prints its value.\n",
    "- If \"fruit\" is missing, it prints \"No fruit found!\".\n",
    "```"
   ]
  },
  {
   "cell_type": "markdown",
   "metadata": {},
   "source": [
    "### 5. Printing **kwargs as a Dictionary"
   ]
  },
  {
   "cell_type": "code",
   "execution_count": 4,
   "metadata": {},
   "outputs": [
    {
     "name": "stdout",
     "output_type": "stream",
     "text": [
      "{'name': 'Alice', 'age': 26}\n"
     ]
    }
   ],
   "source": [
    "def print_kwargs(**kwargs):\n",
    "    print(kwargs)\n",
    "    \n",
    "    \n",
    "print_kwargs(name=\"Alice\", age=26)"
   ]
  },
  {
   "cell_type": "markdown",
   "metadata": {},
   "source": [
    "#### Description:\n",
    "```\n",
    "- kwargs stores {\"name\": \"Alice\", \"age\": 26}.\n",
    "- The function prints the dictionary.\n",
    "```"
   ]
  },
  {
   "cell_type": "markdown",
   "metadata": {},
   "source": [
    "### 6. Combining *args and **kwargs"
   ]
  },
  {
   "cell_type": "code",
   "execution_count": 16,
   "metadata": {},
   "outputs": [
    {
     "name": "stdout",
     "output_type": "stream",
     "text": [
      "positional arguments: (10, 20, 30)\n",
      "keyword arguments: {'fruit': 'Apple', 'food': 'Pizza'}\n"
     ]
    }
   ],
   "source": [
    "def my_func(*args, **kwargs):\n",
    "    print(\"positional arguments:\",args)\n",
    "    print(\"keyword arguments:\", kwargs)\n",
    "\n",
    "my_func(10, 20, 30, fruit=\"Apple\", food=\"Pizza\")"
   ]
  },
  {
   "cell_type": "markdown",
   "metadata": {},
   "source": [
    "#### Description:\n",
    "```\n",
    "- *args stores (10, 20, 30) as a tuple.\n",
    "- **kwargs stores {'fruit': 'Apple', 'food': 'Pizza'} as a dictionary.\n",
    "- The function prints both positional and keyword arguments.\n",
    "```"
   ]
  },
  {
   "cell_type": "markdown",
   "metadata": {},
   "source": [
    "### Key Takeaways\n",
    "```\n",
    "-  *args allows passing a variable number of positional arguments (stored as a tuple).\n",
    "-  **kwargs allows passing a variable number of named arguments (stored as a dictionary).\n",
    "-  We can use both together, but *args must come first in the function definition.\n",
    "-  Best for flexible functions that accept different numbers of arguments dynamically.\n",
    "> *args and **kwargs make functions more dynamic and adapta\n",
    "```"
   ]
  }
 ],
 "metadata": {
  "kernelspec": {
   "display_name": "Python 3 (ipykernel)",
   "language": "python",
   "name": "python3"
  },
  "language_info": {
   "codemirror_mode": {
    "name": "ipython",
    "version": 3
   },
   "file_extension": ".py",
   "mimetype": "text/x-python",
   "name": "python",
   "nbconvert_exporter": "python",
   "pygments_lexer": "ipython3",
   "version": "3.13.2"
  }
 },
 "nbformat": 4,
 "nbformat_minor": 2
}
