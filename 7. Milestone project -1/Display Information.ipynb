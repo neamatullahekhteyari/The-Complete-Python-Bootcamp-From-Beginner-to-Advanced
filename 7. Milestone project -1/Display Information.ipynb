{
 "cells": [
  {
   "cell_type": "markdown",
   "metadata": {},
   "source": [
    "___\n",
    "\n",
    "<a href='https://www.udemy.com/user/Neamatullah-ekhteyari/'><img src='../Neamatullah.png'/></a>\n",
    "___\n",
    "<center><em>Content Copyright by Neamatullah Ekhteyari</em></center>"
   ]
  },
  {
   "cell_type": "markdown",
   "metadata": {},
   "source": [
    "## Tic Tac Toe Game in Python: Explanation & Breakdown\n",
    "#### What is Tic Tac Toe?\n",
    "```\n",
    "Tic Tac Toe is a two-player game where players take turns marking spaces in a 3×3 grid. One player uses \"X\", and the other uses \"O\". The goal is to get three of the same marks in a row, column, or diagonal. If all spaces are filled without a winner, the game is a draw.\n",
    "```"
   ]
  },
  {
   "cell_type": "markdown",
   "metadata": {},
   "source": [
    "### 1. Displaying the Tic Tac Toe Board"
   ]
  },
  {
   "cell_type": "code",
   "execution_count": 1,
   "metadata": {},
   "outputs": [
    {
     "name": "stdout",
     "output_type": "stream",
     "text": [
      "[1, 2, 3]\n",
      "[4, 5, 6]\n",
      "[7, 8, 9]\n"
     ]
    }
   ],
   "source": [
    "print([1, 2, 3])\n",
    "print([4, 5, 6])\n",
    "print([7, 8, 9])"
   ]
  },
  {
   "cell_type": "markdown",
   "metadata": {},
   "source": [
    "#### Description:\n",
    "```\n",
    "This prints a simple 3×3 Tic Tac Toe board using a list format.\n",
    "\n",
    "The numbers 1-9 represent positions where players can place \"X\" or \"O\".\n",
    "```"
   ]
  },
  {
   "cell_type": "markdown",
   "metadata": {},
   "source": [
    "### 2. Fixing the display_board() Function"
   ]
  },
  {
   "cell_type": "code",
   "execution_count": 7,
   "metadata": {},
   "outputs": [
    {
     "name": "stdout",
     "output_type": "stream",
     "text": [
      "['X', 'O', 'X']\n",
      "['O', 'X', 'O']\n",
      "['X', 'O', 'X']\n"
     ]
    }
   ],
   "source": [
    "def display_board(row1, row2, row3):\n",
    "    print(row1)\n",
    "    print(row2)\n",
    "    print(row3)\n",
    "    \n",
    "row1 = [\"X\", \"O\", \"X\"]\n",
    "row2 = [\"O\", \"X\", \"O\"]\n",
    "row3 = [\"X\", \"O\", \"X\"]\n",
    "display_board(row1, row2, row3)\n",
    "\n",
    "    "
   ]
  },
  {
   "cell_type": "markdown",
   "metadata": {},
   "source": [
    "#### Description: \n",
    "```\n",
    "This function displays the Tic Tac Toe board by printing each row.\n",
    "```"
   ]
  },
  {
   "cell_type": "code",
   "execution_count": null,
   "metadata": {},
   "outputs": [],
   "source": []
  },
  {
   "cell_type": "markdown",
   "metadata": {},
   "source": [
    "### 3. Improved Board Display"
   ]
  },
  {
   "cell_type": "code",
   "execution_count": 10,
   "metadata": {},
   "outputs": [],
   "source": [
    "def display_board2(r1, r2, r3):\n",
    "    print(\" | \".join(r1))\n",
    "    print(\"---------\")\n",
    "    print(\" | \".join(r2))\n",
    "    print(\"---------\")\n",
    "    print(\" | \".join(r3))"
   ]
  },
  {
   "cell_type": "code",
   "execution_count": 11,
   "metadata": {},
   "outputs": [
    {
     "name": "stdout",
     "output_type": "stream",
     "text": [
      "O |   | O\n",
      "---------\n",
      "  | X |  \n",
      "---------\n",
      "X |   |  \n"
     ]
    }
   ],
   "source": [
    "r1 = [\"O\", \" \",\"O\"]\n",
    "r2 = [\" \", \"X\",\" \"]\n",
    "r3 = [\"X\", \" \",\" \"]\n",
    "\n",
    "display_board2(r1, r2, r3)"
   ]
  },
  {
   "cell_type": "markdown",
   "metadata": {},
   "source": [
    "#### Description:\n",
    "```\n",
    "This version formats the board better by adding \" | \" between elements and \"---------\" as separators.\n",
    "\n",
    "It creates a clear and structured game board.\n",
    "```"
   ]
  }
 ],
 "metadata": {
  "kernelspec": {
   "display_name": "Python 3 (ipykernel)",
   "language": "python",
   "name": "python3"
  },
  "language_info": {
   "codemirror_mode": {
    "name": "ipython",
    "version": 3
   },
   "file_extension": ".py",
   "mimetype": "text/x-python",
   "name": "python",
   "nbconvert_exporter": "python",
   "pygments_lexer": "ipython3",
   "version": "3.13.2"
  }
 },
 "nbformat": 4,
 "nbformat_minor": 2
}
