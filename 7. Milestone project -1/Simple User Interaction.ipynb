{
 "cells": [
  {
   "cell_type": "markdown",
   "metadata": {},
   "source": [
    "___\n",
    "\n",
    "<a href='https://www.udemy.com/user/Neamatullah-ekhteyari/'><img src='../Neamatullah.png'/></a>\n",
    "___\n",
    "<center><em>Content Copyright by Neamatullah Ekhteyari</em></center>"
   ]
  },
  {
   "cell_type": "markdown",
   "metadata": {},
   "source": [
    "### 8. Creating a Simple Game with User Interaction"
   ]
  },
  {
   "cell_type": "code",
   "execution_count": 162,
   "metadata": {},
   "outputs": [],
   "source": [
    "def display_game(game_list):\n",
    "    print(\"current list:\",game_list)\n",
    "\n",
    "    \n",
    "    \n",
    "def position_choice():\n",
    "    choice = \"invalid\"\n",
    "    \n",
    "    while choice not in ['0', '1', '2']:\n",
    "        choice = input(\"pick a position to replace (0, 1 or 2): \")\n",
    "        if choice not in ['0', '1', '2']:\n",
    "            print(\"Invalid choice! please select 0, 1 or 2.\")\n",
    "    \n",
    "    return int(choice)\n",
    "    \n",
    "def replacement_choice(game_list, position):\n",
    "    new_value = input(f\"enter a new value for postion {position}\")\n",
    "    game_list[position] = new_value\n",
    "    return game_list\n",
    "\n",
    "def game_on_choice():\n",
    "    choice = \"invalid\"\n",
    "    \n",
    "    while choice not in ['y', 'n']:\n",
    "        choice = input(\"would you like to keep playing? (y/n): \").lower()\n",
    "        if choice not in ['y', 'n']:\n",
    "            print(\"Invalid choice! please enter 'y' or 'n'.\")\n",
    "    \n",
    "    return choice == 'y'\n",
    "    \n",
    "    \n",
    "def play_game():\n",
    "    game_list = [0, 1, 2]\n",
    "    playing = True\n",
    "    \n",
    "    while playing:\n",
    "        display_game(game_list)\n",
    "        position = position_choice()\n",
    "        game_list = replacement_choice(game_list, position)\n",
    "        playing = game_on_choice()\n",
    "    print(\"thanks for playing!\")\n"
   ]
  },
  {
   "cell_type": "code",
   "execution_count": 163,
   "metadata": {},
   "outputs": [
    {
     "name": "stdout",
     "output_type": "stream",
     "text": [
      "current list: [0, 1, 2]\n",
      "pick a position to replace (0, 1 or 2): 0\n",
      "enter a new value for postion 04\n",
      "would you like to keep playing? (y/n): y\n",
      "current list: ['4', 1, 2]\n",
      "pick a position to replace (0, 1 or 2): h\n",
      "Invalid choice! please select 0, 1 or 2.\n",
      "pick a position to replace (0, 1 or 2): 3\n",
      "Invalid choice! please select 0, 1 or 2.\n",
      "pick a position to replace (0, 1 or 2): 1\n",
      "enter a new value for postion 1h\n",
      "would you like to keep playing? (y/n): y\n",
      "current list: ['4', 'h', 2]\n",
      "pick a position to replace (0, 1 or 2): 2\n",
      "enter a new value for postion 2l\n",
      "would you like to keep playing? (y/n): n\n",
      "thanks for playing!\n"
     ]
    }
   ],
   "source": [
    "play_game()"
   ]
  },
  {
   "cell_type": "markdown",
   "metadata": {},
   "source": [
    "#### Description:\n",
    "```\n",
    "This allows the user to pick a position, replace a value, and decide whether to continue playing.\n",
    "\n",
    "Uses loops to handle invalid input.\n",
    "```"
   ]
  },
  {
   "cell_type": "markdown",
   "metadata": {},
   "source": [
    "### Final Thoughts\n",
    "```\n",
    "This code covers board display, user input handling, input validation, and game interaction.\n",
    "It prevents errors with loops and exceptions.\n",
    "A complete Tic Tac Toe game can be built by adding win-checking logic! 🚀\n",
    "```"
   ]
  }
 ],
 "metadata": {
  "kernelspec": {
   "display_name": "Python 3 (ipykernel)",
   "language": "python",
   "name": "python3"
  },
  "language_info": {
   "codemirror_mode": {
    "name": "ipython",
    "version": 3
   },
   "file_extension": ".py",
   "mimetype": "text/x-python",
   "name": "python",
   "nbconvert_exporter": "python",
   "pygments_lexer": "ipython3",
   "version": "3.13.2"
  }
 },
 "nbformat": 4,
 "nbformat_minor": 2
}
