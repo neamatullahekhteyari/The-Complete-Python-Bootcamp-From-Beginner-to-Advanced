{
 "cells": [
  {
   "cell_type": "markdown",
   "id": "f8527a7b-6820-429a-9b35-1ea630d297a6",
   "metadata": {},
   "source": [
    "# Milestone Project: Tic Tac Toe Game"
   ]
  },
  {
   "cell_type": "markdown",
   "id": "f32127e5-e8e1-4c66-9d29-fd4f5fd54d7a",
   "metadata": {},
   "source": [
    "## Understanding the Game"
   ]
  },
  {
   "cell_type": "markdown",
   "id": "311a8afb-e53e-4cf4-9bb6-ae80357190f4",
   "metadata": {},
   "source": [
    "Tic Tac Toe is a classic two-player game where players take turns marking spaces on a 3x3 grid. The goal is to get three of your marks (X or O) in a row, column, or diagonal before your opponent does."
   ]
  },
  {
   "cell_type": "markdown",
   "id": "60b7bccd-96cf-45b5-8b6c-bf173a8bf0a4",
   "metadata": {},
   "source": [
    "## Game Requirements\n",
    "1. Two players should be able to play the game on the same computer.\n",
    "2. The game board should be displayed after each move.\n",
    "3. Players should be able to input their move using the keyboard.\n",
    "4. The program should check for a winner or a tie after every move.\n",
    "5. The game should allow replaying after completion."
   ]
  },
  {
   "cell_type": "markdown",
   "id": "b2c81836-d7f2-4b9e-bf95-91ee609167ea",
   "metadata": {},
   "source": [
    "## Breaking Down the Problem\n",
    "\n",
    "To efficiently implement this project, we should break it down into smaller subproblems:\n",
    "\n",
    "### 1- Displaying the Board:\n",
    "Create a function to display the Tic Tac Toe board in a readable format.\n",
    "\n",
    "### 2- Taking Player Input:\n",
    "Get input from players for their moves.\n",
    "\n",
    "### 3- Placing a Mark on the Board:\n",
    "Update the board with the player's move.\n",
    "\n",
    "### 4- Checking for a Win:\n",
    "Determine if a player has won.\n",
    "\n",
    "### 5- Checking for a Tie: \n",
    "Identify if the game has ended in a draw.\n",
    "\n",
    "### 6- Switching Players: \n",
    "Alternate turns between Player X and Player O.\n",
    "\n",
    "### 7- Replay Option:\n",
    "Ask if the players want to play again after a game ends"
   ]
  },
  {
   "cell_type": "code",
   "execution_count": null,
   "id": "40b2829d-904c-4025-b401-40c9be59eea9",
   "metadata": {},
   "outputs": [],
   "source": [
    "7 | 8 | 9\n",
    "---------\n",
    "4 | 5 | 6\n",
    "---------\n",
    "1 | 2 | 3"
   ]
  },
  {
   "cell_type": "code",
   "execution_count": 10,
   "id": "fa0fc3f5-f692-4c21-917a-cacdf462f811",
   "metadata": {},
   "outputs": [],
   "source": [
    "from IPython.display import clear_output\n",
    "\n",
    "def display_board(board):\n",
    "    clear_output()\n",
    "    print(f\"{board[7]} | {board[8]} | {board[9]}\")\n",
    "    print(\"--+---+--\")\n",
    "    print(f\"{board[4]} | {board[5]} | {board[6]}\")\n",
    "    print(\"--+---+--\")\n",
    "    print(f\"{board[1]} | {board[2]} | {board[3]}\")\n",
    "    "
   ]
  },
  {
   "cell_type": "code",
   "execution_count": 9,
   "id": "17e2b50b-7e96-4f77-86c3-1f103ffd3021",
   "metadata": {},
   "outputs": [
    {
     "name": "stdout",
     "output_type": "stream",
     "text": [
      "X | O | X\n",
      "--+---+--\n",
      "  |   |  \n",
      "--+---+--\n",
      "  |   |  \n"
     ]
    }
   ],
   "source": [
    "test_board = ['#',' ',' ',' ',' ',' ',' ','X','O','X']\n",
    "display_board(test_board)"
   ]
  },
  {
   "cell_type": "code",
   "execution_count": 17,
   "id": "7b05d8f8-e0ac-45d5-bf26-9e3c8c996107",
   "metadata": {},
   "outputs": [],
   "source": [
    "def player_input():\n",
    "    choice = ''\n",
    "    while choice not in [\"X\", \"O\"]:\n",
    "        choice = input(\"player 1, do you want ot be X or O?\").upper()\n",
    "    return ('X', 'O') if choice == 'X' else ('O','X')"
   ]
  },
  {
   "cell_type": "code",
   "execution_count": 18,
   "id": "aba0e76c-df29-4bc8-8c6d-0d167f438edb",
   "metadata": {},
   "outputs": [],
   "source": [
    "def player_input():\n",
    "    choice = ''\n",
    "    while choice not in [\"X\", \"O\"]:\n",
    "        choice = input(\"player 1, do you want ot be X or O?\").upper()\n",
    "    if choice == 'X':\n",
    "        return ('X', \"O\")\n",
    "    else:\n",
    "        return (\"O\", \"X\")"
   ]
  },
  {
   "cell_type": "code",
   "execution_count": 19,
   "id": "765e6547-756d-43a5-858d-b58e044ae94e",
   "metadata": {},
   "outputs": [
    {
     "name": "stdin",
     "output_type": "stream",
     "text": [
      "player 1, do you want ot be X or O? i\n",
      "player 1, do you want ot be X or O? o\n"
     ]
    },
    {
     "name": "stdout",
     "output_type": "stream",
     "text": [
      "Player 1: O, player 2: X\n"
     ]
    }
   ],
   "source": [
    "player1_marker, player2_marker = player_input()\n",
    "print(f\"Player 1: {player1_marker}, player 2: {player2_marker}\")"
   ]
  },
  {
   "cell_type": "code",
   "execution_count": 20,
   "id": "2448412f-e91f-4d1e-9cd9-ba119d92b9d4",
   "metadata": {},
   "outputs": [],
   "source": [
    "def place_marker(board, marker, position):\n",
    "    board[position] = marker"
   ]
  },
  {
   "cell_type": "code",
   "execution_count": 23,
   "id": "ee1f42c1-cfb2-45ac-a74f-a17955294a6d",
   "metadata": {},
   "outputs": [
    {
     "name": "stdout",
     "output_type": "stream",
     "text": [
      "  |   |  \n",
      "--+---+--\n",
      "  |   |  \n",
      "--+---+--\n",
      "O |   |  \n"
     ]
    }
   ],
   "source": [
    "test_board = ['#', ' ', ' ', ' ', ' ', ' ', ' ', ' ', ' ', ' ']\n",
    "place_marker(test_board, 'O', 1)\n",
    "display_board(test_board)"
   ]
  },
  {
   "cell_type": "code",
   "execution_count": 24,
   "id": "72d39e37-4c62-44d4-ab57-94e9e832c643",
   "metadata": {},
   "outputs": [],
   "source": [
    "def check_win(board, marker):\n",
    "    return (\n",
    "        (board[1] == board[2] == board[3] == marker) or\n",
    "        (board[4] == board[5] == board[6] == marker) or\n",
    "        (board[7] == board[8] == board[9] == marker) or\n",
    "        (board[1] == board[4] == board[7] == marker) or\n",
    "        (board[2] == board[5] == board[8] == marker) or\n",
    "        (board[3] == board[6] == board[9] == marker) or\n",
    "        (board[1] == board[5] == board[9] == marker) or\n",
    "        (board[3] == board[5] == board[7] == marker) \n",
    "        \n",
    "    )"
   ]
  },
  {
   "cell_type": "code",
   "execution_count": 26,
   "id": "b805c298-3a00-48f6-96af-d2c3a6cf30ea",
   "metadata": {},
   "outputs": [
    {
     "name": "stdout",
     "output_type": "stream",
     "text": [
      "False\n"
     ]
    }
   ],
   "source": [
    "test_board = ['#', 'X', 'X', '', 'X', ' ', ' ', ' ', ' ', ' ']\n",
    "print(check_win(test_board, 'X'))"
   ]
  },
  {
   "cell_type": "code",
   "execution_count": null,
   "id": "f376efa3-d130-45d0-93b9-4bddb41d5378",
   "metadata": {},
   "outputs": [],
   "source": []
  },
  {
   "cell_type": "code",
   "execution_count": 14,
   "id": "27a39a21-67b6-4343-83f4-05f0a62e949c",
   "metadata": {},
   "outputs": [],
   "source": [
    "def switch_player(turn):\n",
    "    return \"O\" if turn == 'X' else 'X'\n",
    "    "
   ]
  },
  {
   "cell_type": "code",
   "execution_count": 15,
   "id": "5406f559-08b2-4b06-b339-5aa08aa20a47",
   "metadata": {},
   "outputs": [],
   "source": [
    "def replay():\n",
    "    return input(\"Do you want to play again? Enter yes or no: \").lower().startswith('y')"
   ]
  },
  {
   "cell_type": "code",
   "execution_count": 16,
   "id": "c5df17db-6ba2-4406-9285-0c8e8814715c",
   "metadata": {},
   "outputs": [
    {
     "name": "stdout",
     "output_type": "stream",
     "text": [
      "O | X |  \n",
      "--+---+--\n",
      "  | X | O\n",
      "--+---+--\n",
      "X | X | O\n",
      "Congratualtions! X wins!\n"
     ]
    },
    {
     "name": "stdin",
     "output_type": "stream",
     "text": [
      "Do you want to play again? Enter yes or no:  no\n"
     ]
    }
   ],
   "source": [
    "print(\"Welcome to Tic Tac Toe!\")\n",
    "while True:\n",
    "    board = [' '] * 10\n",
    "    player1_marker, player2_marker = player_input()\n",
    "    turn = 'X' \n",
    "    game_on = True\n",
    "\n",
    "    while game_on:\n",
    "        display_board(board)\n",
    "        position = int(input(f\"{turn}'s turn. Enter position (1-9): \"))\n",
    "        if board[position] == ' ':\n",
    "            place_marker(board, turn, position)\n",
    "\n",
    "            if check_win(board, turn):\n",
    "                display_board(board)\n",
    "                print(f\"Congratualtions! {turn} wins!\")\n",
    "                game_on = False\n",
    "            else:\n",
    "                turn = switch_player(turn)\n",
    "        else:\n",
    "            print(\"position occupied. Try again.\")\n",
    "    if not replay():\n",
    "        break"
   ]
  },
  {
   "cell_type": "code",
   "execution_count": null,
   "id": "147c92ef-f6b2-4aed-a01b-3405f33a780e",
   "metadata": {},
   "outputs": [],
   "source": []
  },
  {
   "cell_type": "code",
   "execution_count": null,
   "id": "3865050c-faf1-4ab4-bc03-f005ce785891",
   "metadata": {},
   "outputs": [],
   "source": []
  },
  {
   "cell_type": "code",
   "execution_count": null,
   "id": "d0c628ff-1be2-4e59-b7aa-1ee49d9a4995",
   "metadata": {},
   "outputs": [],
   "source": []
  }
 ],
 "metadata": {
  "kernelspec": {
   "display_name": "Python 3 (ipykernel)",
   "language": "python",
   "name": "python3"
  },
  "language_info": {
   "codemirror_mode": {
    "name": "ipython",
    "version": 3
   },
   "file_extension": ".py",
   "mimetype": "text/x-python",
   "name": "python",
   "nbconvert_exporter": "python",
   "pygments_lexer": "ipython3",
   "version": "3.13.2"
  }
 },
 "nbformat": 4,
 "nbformat_minor": 5
}
