{
 "cells": [
  {
   "cell_type": "markdown",
   "metadata": {},
   "source": [
    "___\n",
    "\n",
    "<a href='https://www.udemy.com/user/Neamatullah-ekhteyari/'><img src='../Neamatullah.png'/></a>\n",
    "___\n",
    "<center><em>Content Copyright by Neamatullah Ekhteyari</em></center>"
   ]
  },
  {
   "cell_type": "markdown",
   "metadata": {},
   "source": [
    "## Tic Tac Toe Game in Python: Explanation & Breakdown\n",
    "#### What is Tic Tac Toe?\n",
    "```\n",
    "Tic Tac Toe is a two-player game where players take turns marking spaces in a 3×3 grid. One player uses \"X\", and the other uses \"O\". The goal is to get three of the same marks in a row, column, or diagonal. If all spaces are filled without a winner, the game is a draw.\n",
    "```"
   ]
  },
  {
   "cell_type": "markdown",
   "metadata": {},
   "source": [
    "### 1. Displaying the Tic Tac Toe Board"
   ]
  },
  {
   "cell_type": "code",
   "execution_count": 1,
   "metadata": {},
   "outputs": [
    {
     "name": "stdout",
     "output_type": "stream",
     "text": [
      "[1, 2, 3]\n",
      "[4, 5, 6]\n",
      "[7, 8, 9]\n"
     ]
    }
   ],
   "source": [
    "print([1, 2, 3])\n",
    "print([4, 5, 6])\n",
    "print([7, 8, 9])"
   ]
  },
  {
   "cell_type": "markdown",
   "metadata": {},
   "source": [
    "#### Description:\n",
    "```\n",
    "This prints a simple 3×3 Tic Tac Toe board using a list format.\n",
    "\n",
    "The numbers 1-9 represent positions where players can place \"X\" or \"O\".\n",
    "```"
   ]
  },
  {
   "cell_type": "markdown",
   "metadata": {},
   "source": [
    "### 2. Fixing the display_board() Function"
   ]
  },
  {
   "cell_type": "code",
   "execution_count": 7,
   "metadata": {},
   "outputs": [
    {
     "name": "stdout",
     "output_type": "stream",
     "text": [
      "['X', 'O', 'X']\n",
      "['O', 'X', 'O']\n",
      "['X', 'O', 'X']\n"
     ]
    }
   ],
   "source": [
    "def display_board(row1, row2, row3):\n",
    "    print(row1)\n",
    "    print(row2)\n",
    "    print(row3)\n",
    "    \n",
    "row1 = [\"X\", \"O\", \"X\"]\n",
    "row2 = [\"O\", \"X\", \"O\"]\n",
    "row3 = [\"X\", \"O\", \"X\"]\n",
    "display_board(row1, row2, row3)\n",
    "\n",
    "    "
   ]
  },
  {
   "cell_type": "markdown",
   "metadata": {},
   "source": [
    "#### Description: \n",
    "```\n",
    "This function displays the Tic Tac Toe board by printing each row.\n",
    "```"
   ]
  },
  {
   "cell_type": "code",
   "execution_count": null,
   "metadata": {},
   "outputs": [],
   "source": []
  },
  {
   "cell_type": "markdown",
   "metadata": {},
   "source": [
    "### 3. Improved Board Display"
   ]
  },
  {
   "cell_type": "code",
   "execution_count": 10,
   "metadata": {},
   "outputs": [],
   "source": [
    "def display_board2(r1, r2, r3):\n",
    "    print(\" | \".join(r1))\n",
    "    print(\"---------\")\n",
    "    print(\" | \".join(r2))\n",
    "    print(\"---------\")\n",
    "    print(\" | \".join(r3))"
   ]
  },
  {
   "cell_type": "code",
   "execution_count": 11,
   "metadata": {},
   "outputs": [
    {
     "name": "stdout",
     "output_type": "stream",
     "text": [
      "O |   | O\n",
      "---------\n",
      "  | X |  \n",
      "---------\n",
      "X |   |  \n"
     ]
    }
   ],
   "source": [
    "r1 = [\"O\", \" \",\"O\"]\n",
    "r2 = [\" \", \"X\",\" \"]\n",
    "r3 = [\"X\", \" \",\" \"]\n",
    "\n",
    "display_board2(r1, r2, r3)"
   ]
  },
  {
   "cell_type": "markdown",
   "metadata": {},
   "source": [
    "#### Description:\n",
    "```\n",
    "This version formats the board better by adding \" | \" between elements and \"---------\" as separators.\n",
    "\n",
    "It creates a clear and structured game board.\n",
    "```"
   ]
  },
  {
   "cell_type": "markdown",
   "metadata": {},
   "source": [
    "### 4. Modifying the Board (Updating a Cell)"
   ]
  },
  {
   "cell_type": "code",
   "execution_count": 107,
   "metadata": {},
   "outputs": [
    {
     "name": "stdout",
     "output_type": "stream",
     "text": [
      "[' ', ' ', ' ']\n",
      "[' ', 'X', ' ']\n",
      "[' ', ' ', ' ']\n"
     ]
    }
   ],
   "source": [
    "r2[1] = \"X\"\n",
    "display_board2(r1, r2, r3)"
   ]
  },
  {
   "cell_type": "markdown",
   "metadata": {},
   "source": [
    "#### Description:\n",
    "```\n",
    "This updates position [1,1] (center of the board) to \"X\", then re-displays the board.\n",
    "```"
   ]
  },
  {
   "cell_type": "code",
   "execution_count": 13,
   "metadata": {},
   "outputs": [
    {
     "name": "stdout",
     "output_type": "stream",
     "text": [
      "Enter a value: 21\n"
     ]
    },
    {
     "data": {
      "text/plain": [
       "'21'"
      ]
     },
     "execution_count": 13,
     "metadata": {},
     "output_type": "execute_result"
    }
   ],
   "source": [
    "input(\"Enter a value: \")\n"
   ]
  },
  {
   "cell_type": "markdown",
   "metadata": {},
   "source": [
    "### 5. Taking User Input"
   ]
  },
  {
   "cell_type": "code",
   "execution_count": 14,
   "metadata": {},
   "outputs": [
    {
     "name": "stdout",
     "output_type": "stream",
     "text": [
      "Please enter a value: 123\n",
      "You entered:  123\n"
     ]
    }
   ],
   "source": [
    "user_input = input(\"Please enter a value: \")\n",
    "print(\"You entered: \", user_input)"
   ]
  },
  {
   "cell_type": "markdown",
   "metadata": {},
   "source": [
    "#### Description:\n",
    "```\n",
    "This asks the user for input and stores it in user_input.\n",
    "```"
   ]
  },
  {
   "cell_type": "markdown",
   "metadata": {},
   "source": [
    "### Numeric Input Handling"
   ]
  },
  {
   "cell_type": "code",
   "execution_count": 129,
   "metadata": {},
   "outputs": [
    {
     "name": "stdout",
     "output_type": "stream",
     "text": [
      "Enter a number: 34\n",
      "The number doubled is:  68\n"
     ]
    }
   ],
   "source": [
    "num = int(input(\"Enter a number: \"))\n",
    "print(\"The number doubled is: \", num * 2)"
   ]
  },
  {
   "cell_type": "markdown",
   "metadata": {},
   "source": [
    "#### Description:\n",
    "```\n",
    "Converts input to an integer and doubles it.\n",
    "```"
   ]
  },
  {
   "cell_type": "markdown",
   "metadata": {},
   "source": [
    "### Handling Float Numbers"
   ]
  },
  {
   "cell_type": "code",
   "execution_count": 131,
   "metadata": {},
   "outputs": [
    {
     "name": "stdout",
     "output_type": "stream",
     "text": [
      "Enter a decimal number: 11\n",
      "Half of the number is :  5.5\n"
     ]
    }
   ],
   "source": [
    "num = float(input(\"Enter a decimal number: \"))\n",
    "print(\"Half of the number is : \", num / 2)"
   ]
  },
  {
   "cell_type": "markdown",
   "metadata": {},
   "source": [
    "#### Description:\n",
    "```\n",
    "Converts input to a floating-point number and divides it by 2.\n",
    "```"
   ]
  },
  {
   "cell_type": "markdown",
   "metadata": {},
   "source": [
    "### Handling List Indexing"
   ]
  },
  {
   "cell_type": "code",
   "execution_count": 17,
   "metadata": {},
   "outputs": [
    {
     "name": "stdout",
     "output_type": "stream",
     "text": [
      "Enter an index: 2\n",
      "30\n"
     ]
    }
   ],
   "source": [
    "my_list = [10, 20, 30]\n",
    "index = int(input(\"Enter an index: \"))\n",
    "print(my_list[index])"
   ]
  },
  {
   "cell_type": "markdown",
   "metadata": {},
   "source": [
    "#### Description:\n",
    "```\n",
    "Takes an index from the user and retrieves the corresponding value.\n",
    "```"
   ]
  },
  {
   "cell_type": "markdown",
   "metadata": {},
   "source": [
    "### 6. Handling Invalid User Input (Try-Except)"
   ]
  },
  {
   "cell_type": "code",
   "execution_count": 144,
   "metadata": {},
   "outputs": [
    {
     "name": "stdout",
     "output_type": "stream",
     "text": [
      "enter a number: \n",
      "Invalid input! please enter a valid number!\n"
     ]
    }
   ],
   "source": [
    "try:\n",
    "    num = int(input(\"enter a number: \"))\n",
    "    print(\"Your number is : \", num)\n",
    "except ValueError:\n",
    "    print(\"Invalid input! please enter a valid number!\")"
   ]
  },
  {
   "cell_type": "markdown",
   "metadata": {},
   "source": [
    "#### Description:\n",
    "```\n",
    "Prevents errors if a user enters text instead of a number.\n",
    "```"
   ]
  },
  {
   "cell_type": "markdown",
   "metadata": {},
   "source": [
    "### Handling While Loop for Input Validation"
   ]
  },
  {
   "cell_type": "code",
   "execution_count": 19,
   "metadata": {},
   "outputs": [
    {
     "name": "stdout",
     "output_type": "stream",
     "text": [
      "Enter a number: five\n",
      "Invalid input. Please enter a number.\n",
      "Enter a number: two\n",
      "Invalid input. Please enter a number.\n",
      "Enter a number: we\n",
      "Invalid input. Please enter a number.\n",
      "Enter a number: 23\n"
     ]
    }
   ],
   "source": [
    "while True:\n",
    "    try:\n",
    "        num = int(input(\"Enter a number: \"))\n",
    "        break\n",
    "    except ValueError:\n",
    "        print(\"Invalid input. Please enter a number.\")\n"
   ]
  },
  {
   "cell_type": "markdown",
   "metadata": {},
   "source": [
    "#### Description:\n",
    "```\n",
    "Keeps asking until the user enters a valid number.\n",
    "```"
   ]
  },
  {
   "cell_type": "markdown",
   "metadata": {},
   "source": [
    "### 7. Validating User Input for Tic Tac Toe"
   ]
  },
  {
   "cell_type": "code",
   "execution_count": 21,
   "metadata": {},
   "outputs": [],
   "source": [
    "def user_choice():\n",
    "    choice = \"wrong\"\n",
    "    while choice.isdigit() == False:\n",
    "        choice = input(\"Please enter a number between 0 and 10: \")\n",
    "        \n",
    "        if choice.isdigit() == False:\n",
    "            print(\"sorry, that's not a valid number.\")\n",
    "    return int(choice)"
   ]
  },
  {
   "cell_type": "code",
   "execution_count": 150,
   "metadata": {},
   "outputs": [
    {
     "name": "stdout",
     "output_type": "stream",
     "text": [
      "Please enter a number between 0 and 10: five\n",
      "sorry, that's not a valid number.\n",
      "Please enter a number between 0 and 10: ten\n",
      "sorry, that's not a valid number.\n",
      "Please enter a number between 0 and 10: one\n",
      "sorry, that's not a valid number.\n",
      "Please enter a number between 0 and 10: 1\n",
      "You selected: 1\n"
     ]
    }
   ],
   "source": [
    "user_input = user_choice()\n",
    "print(f\"You selected: {user_input}\")"
   ]
  },
  {
   "cell_type": "markdown",
   "metadata": {},
   "source": [
    "####  Description:\n",
    "```\n",
    "Ensures the user enters a valid digit.\n",
    "\n",
    "Keeps asking if input is not a number.\n",
    "```"
   ]
  },
  {
   "cell_type": "markdown",
   "metadata": {},
   "source": [
    " ### Validating Number Range"
   ]
  },
  {
   "cell_type": "code",
   "execution_count": 151,
   "metadata": {},
   "outputs": [],
   "source": [
    "def user_choice():\n",
    "    choice = \"wrong\"\n",
    "    within_range = False\n",
    "    \n",
    "    while choice.isdigit() == False or within_range == False:\n",
    "        choice = input(\"please enter a number between 0 and 10: \")\n",
    "        \n",
    "        if choice.isdigit() == False:\n",
    "            print(\"Sorry, that's not a valid number!\")\n",
    "        else:\n",
    "            if 0 <= int(choice) <= 10:\n",
    "                within_range = True\n",
    "            else:\n",
    "                print(\"out of range. try again.\")\n",
    "                \n",
    "                \n",
    "    return int(choice)\n",
    "\n"
   ]
  },
  {
   "cell_type": "code",
   "execution_count": 153,
   "metadata": {},
   "outputs": [
    {
     "name": "stdout",
     "output_type": "stream",
     "text": [
      "enter a number: five\n",
      "Invalid input. Please enter a number.\n",
      "enter a number: 12\n"
     ]
    }
   ],
   "source": [
    "while True:\n",
    "    try:\n",
    "        num = int(input(\"enter a number: \"))\n",
    "        break\n",
    "    except ValueError:\n",
    "        print(\"Invalid input. Please enter a number.\")"
   ]
  },
  {
   "cell_type": "code",
   "execution_count": 152,
   "metadata": {},
   "outputs": [
    {
     "name": "stdout",
     "output_type": "stream",
     "text": [
      "please enter a number between 0 and 10: 11\n",
      "out of range. try again.\n",
      "please enter a number between 0 and 10: ten\n",
      "Sorry, that's not a valid number!\n",
      "please enter a number between 0 and 10: 8\n",
      "You selected: 8\n"
     ]
    }
   ],
   "source": [
    "user_input = user_choice()\n",
    "print(f\"You selected: {user_input}\")"
   ]
  },
  {
   "cell_type": "markdown",
   "metadata": {},
   "source": [
    "#### Description:\n",
    "```\n",
    "Ensures the user enters a number within a valid range (0-10).\n",
    "```"
   ]
  },
  {
   "cell_type": "markdown",
   "metadata": {},
   "source": [
    "### 8. Creating a Simple Game with User Interaction"
   ]
  },
  {
   "cell_type": "code",
   "execution_count": 162,
   "metadata": {},
   "outputs": [],
   "source": [
    "def display_game(game_list):\n",
    "    print(\"current list:\",game_list)\n",
    "\n",
    "    \n",
    "    \n",
    "def position_choice():\n",
    "    choice = \"invalid\"\n",
    "    \n",
    "    while choice not in ['0', '1', '2']:\n",
    "        choice = input(\"pick a position to replace (0, 1 or 2): \")\n",
    "        if choice not in ['0', '1', '2']:\n",
    "            print(\"Invalid choice! please select 0, 1 or 2.\")\n",
    "    \n",
    "    return int(choice)\n",
    "    \n",
    "def replacement_choice(game_list, position):\n",
    "    new_value = input(f\"enter a new value for postion {position}\")\n",
    "    game_list[position] = new_value\n",
    "    return game_list\n",
    "\n",
    "def game_on_choice():\n",
    "    choice = \"invalid\"\n",
    "    \n",
    "    while choice not in ['y', 'n']:\n",
    "        choice = input(\"would you like to keep playing? (y/n): \").lower()\n",
    "        if choice not in ['y', 'n']:\n",
    "            print(\"Invalid choice! please enter 'y' or 'n'.\")\n",
    "    \n",
    "    return choice == 'y'\n",
    "    \n",
    "    \n",
    "def play_game():\n",
    "    game_list = [0, 1, 2]\n",
    "    playing = True\n",
    "    \n",
    "    while playing:\n",
    "        display_game(game_list)\n",
    "        position = position_choice()\n",
    "        game_list = replacement_choice(game_list, position)\n",
    "        playing = game_on_choice()\n",
    "    print(\"thanks for playing!\")\n"
   ]
  },
  {
   "cell_type": "code",
   "execution_count": 163,
   "metadata": {},
   "outputs": [
    {
     "name": "stdout",
     "output_type": "stream",
     "text": [
      "current list: [0, 1, 2]\n",
      "pick a position to replace (0, 1 or 2): 0\n",
      "enter a new value for postion 04\n",
      "would you like to keep playing? (y/n): y\n",
      "current list: ['4', 1, 2]\n",
      "pick a position to replace (0, 1 or 2): h\n",
      "Invalid choice! please select 0, 1 or 2.\n",
      "pick a position to replace (0, 1 or 2): 3\n",
      "Invalid choice! please select 0, 1 or 2.\n",
      "pick a position to replace (0, 1 or 2): 1\n",
      "enter a new value for postion 1h\n",
      "would you like to keep playing? (y/n): y\n",
      "current list: ['4', 'h', 2]\n",
      "pick a position to replace (0, 1 or 2): 2\n",
      "enter a new value for postion 2l\n",
      "would you like to keep playing? (y/n): n\n",
      "thanks for playing!\n"
     ]
    }
   ],
   "source": [
    "play_game()"
   ]
  },
  {
   "cell_type": "markdown",
   "metadata": {},
   "source": [
    "#### Description:\n",
    "```\n",
    "This allows the user to pick a position, replace a value, and decide whether to continue playing.\n",
    "\n",
    "Uses loops to handle invalid input.\n",
    "```"
   ]
  },
  {
   "cell_type": "markdown",
   "metadata": {},
   "source": [
    "### Final Thoughts\n",
    "```\n",
    "This code covers board display, user input handling, input validation, and game interaction.\n",
    "It prevents errors with loops and exceptions.\n",
    "A complete Tic Tac Toe game can be built by adding win-checking logic! 🚀\n",
    "```"
   ]
  }
 ],
 "metadata": {
  "kernelspec": {
   "display_name": "Python 3 (ipykernel)",
   "language": "python",
   "name": "python3"
  },
  "language_info": {
   "codemirror_mode": {
    "name": "ipython",
    "version": 3
   },
   "file_extension": ".py",
   "mimetype": "text/x-python",
   "name": "python",
   "nbconvert_exporter": "python",
   "pygments_lexer": "ipython3",
   "version": "3.13.2"
  }
 },
 "nbformat": 4,
 "nbformat_minor": 2
}
