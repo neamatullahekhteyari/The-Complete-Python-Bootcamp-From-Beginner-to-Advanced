{
 "cells": [
  {
   "cell_type": "markdown",
   "metadata": {},
   "source": [
    "___\n",
    "\n",
    "<a href='https://www.udemy.com/user/Neamatullah-ekhteyari/'><img src='../Neamatullah.png'/></a>\n",
    "___\n",
    "<center><em>Content Copyright by Neamatullah Ekhteyari</em></center>"
   ]
  },
  {
   "cell_type": "markdown",
   "metadata": {},
   "source": [
    "### 7. Validating User Input for Tic Tac Toe"
   ]
  },
  {
   "cell_type": "code",
   "execution_count": 21,
   "metadata": {},
   "outputs": [],
   "source": [
    "def user_choice():\n",
    "    choice = \"wrong\"\n",
    "    while choice.isdigit() == False:\n",
    "        choice = input(\"Please enter a number between 0 and 10: \")\n",
    "        \n",
    "        if choice.isdigit() == False:\n",
    "            print(\"sorry, that's not a valid number.\")\n",
    "    return int(choice)"
   ]
  },
  {
   "cell_type": "code",
   "execution_count": 150,
   "metadata": {},
   "outputs": [
    {
     "name": "stdout",
     "output_type": "stream",
     "text": [
      "Please enter a number between 0 and 10: five\n",
      "sorry, that's not a valid number.\n",
      "Please enter a number between 0 and 10: ten\n",
      "sorry, that's not a valid number.\n",
      "Please enter a number between 0 and 10: one\n",
      "sorry, that's not a valid number.\n",
      "Please enter a number between 0 and 10: 1\n",
      "You selected: 1\n"
     ]
    }
   ],
   "source": [
    "user_input = user_choice()\n",
    "print(f\"You selected: {user_input}\")"
   ]
  },
  {
   "cell_type": "markdown",
   "metadata": {},
   "source": [
    "####  Description:\n",
    "```\n",
    "Ensures the user enters a valid digit.\n",
    "\n",
    "Keeps asking if input is not a number.\n",
    "```"
   ]
  },
  {
   "cell_type": "markdown",
   "metadata": {},
   "source": [
    " ### Validating Number Range"
   ]
  },
  {
   "cell_type": "code",
   "execution_count": 151,
   "metadata": {},
   "outputs": [],
   "source": [
    "def user_choice():\n",
    "    choice = \"wrong\"\n",
    "    within_range = False\n",
    "    \n",
    "    while choice.isdigit() == False or within_range == False:\n",
    "        choice = input(\"please enter a number between 0 and 10: \")\n",
    "        \n",
    "        if choice.isdigit() == False:\n",
    "            print(\"Sorry, that's not a valid number!\")\n",
    "        else:\n",
    "            if 0 <= int(choice) <= 10:\n",
    "                within_range = True\n",
    "            else:\n",
    "                print(\"out of range. try again.\")\n",
    "                \n",
    "                \n",
    "    return int(choice)\n",
    "\n"
   ]
  },
  {
   "cell_type": "code",
   "execution_count": 153,
   "metadata": {},
   "outputs": [
    {
     "name": "stdout",
     "output_type": "stream",
     "text": [
      "enter a number: five\n",
      "Invalid input. Please enter a number.\n",
      "enter a number: 12\n"
     ]
    }
   ],
   "source": [
    "while True:\n",
    "    try:\n",
    "        num = int(input(\"enter a number: \"))\n",
    "        break\n",
    "    except ValueError:\n",
    "        print(\"Invalid input. Please enter a number.\")"
   ]
  },
  {
   "cell_type": "code",
   "execution_count": 152,
   "metadata": {},
   "outputs": [
    {
     "name": "stdout",
     "output_type": "stream",
     "text": [
      "please enter a number between 0 and 10: 11\n",
      "out of range. try again.\n",
      "please enter a number between 0 and 10: ten\n",
      "Sorry, that's not a valid number!\n",
      "please enter a number between 0 and 10: 8\n",
      "You selected: 8\n"
     ]
    }
   ],
   "source": [
    "user_input = user_choice()\n",
    "print(f\"You selected: {user_input}\")"
   ]
  },
  {
   "cell_type": "markdown",
   "metadata": {},
   "source": [
    "#### Description:\n",
    "```\n",
    "Ensures the user enters a number within a valid range (0-10).\n",
    "```"
   ]
  }
 ],
 "metadata": {
  "kernelspec": {
   "display_name": "Python 3 (ipykernel)",
   "language": "python",
   "name": "python3"
  },
  "language_info": {
   "codemirror_mode": {
    "name": "ipython",
    "version": 3
   },
   "file_extension": ".py",
   "mimetype": "text/x-python",
   "name": "python",
   "nbconvert_exporter": "python",
   "pygments_lexer": "ipython3",
   "version": "3.13.2"
  }
 },
 "nbformat": 4,
 "nbformat_minor": 2
}
