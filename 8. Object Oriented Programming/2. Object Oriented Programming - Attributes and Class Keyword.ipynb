{
 "cells": [
  {
   "cell_type": "code",
   "execution_count": null,
   "id": "16cd1cd4",
   "metadata": {},
   "outputs": [],
   "source": []
  },
  {
   "cell_type": "markdown",
   "id": "315fd1ab",
   "metadata": {},
   "source": [
    "### Understanding Object-Oriented Programming (OOP) in Python\n",
    "```\n",
    "Object-Oriented Programming (OOP) is a programming paradigm that uses objects and classes to structure code. It provides a way to model real-world entities using attributes (data) and behaviors (methods). OOP promotes modularity, reusability, and scalability, making it a popular approach in software development.\n",
    "```\n",
    "#### Key Concepts of OOP:\n",
    "```\n",
    "Class: A blueprint for creating objects. It defines attributes and methods that objects of the class will have.\n",
    "\n",
    "Object: An instance of a class. Each object has its own set of data but follows the structure defined by the class.\n",
    "\n",
    "Attributes (Properties): Variables associated with a class that store information about an object.\n",
    "\n",
    "Methods: Functions defined inside a class that describe the behavior of objects.\n",
    "\n",
    "Encapsulation: Restricting direct access to some details of an object, ensuring controlled interaction.\n",
    "\n",
    "Inheritance: A mechanism where a class can inherit attributes and behaviors from another class.\n",
    "\n",
    "Polymorphism: The ability of different classes to respond to the same method in different ways.\n",
    "```"
   ]
  },
  {
   "cell_type": "markdown",
   "id": "95e66f67",
   "metadata": {},
   "source": [
    "### 1. Identifying Object Types in Python"
   ]
  },
  {
   "cell_type": "code",
   "execution_count": 27,
   "id": "c57415a4-039d-45b5-b7af-12ef01047183",
   "metadata": {},
   "outputs": [
    {
     "name": "stdout",
     "output_type": "stream",
     "text": [
      "<class 'list'>\n"
     ]
    }
   ],
   "source": [
    "my_list = [1,2,3]\n",
    "print(type(my_list))"
   ]
  },
  {
   "cell_type": "code",
   "execution_count": 28,
   "id": "9b5a6534-1ec5-40ae-a8cc-d8f4aa122ddf",
   "metadata": {},
   "outputs": [
    {
     "name": "stdout",
     "output_type": "stream",
     "text": [
      "<class 'set'>\n"
     ]
    }
   ],
   "source": [
    "my_set = {1, 2, 3}\n",
    "print(type(my_set))"
   ]
  },
  {
   "cell_type": "markdown",
   "id": "e32e1f63",
   "metadata": {},
   "source": [
    "### Explanation:\n",
    "```\n",
    "my_list is a list object, and type(my_list) confirms that its type is <class 'list'>.\n",
    "\n",
    "my_set is a set object, and type(my_set) confirms that its type is <class 'set'>.\n",
    "\n",
    "In Python, everything is an object, and type() is used to check the data type of an object.\n",
    "```"
   ]
  },
  {
   "cell_type": "markdown",
   "id": "dd635c93",
   "metadata": {},
   "source": [
    "### 2. Creating a Basic Class in Python"
   ]
  },
  {
   "cell_type": "code",
   "execution_count": 29,
   "id": "450c8b27-4c71-4587-a156-965f7c1ce805",
   "metadata": {},
   "outputs": [],
   "source": [
    "class Sample:\n",
    "    pass"
   ]
  },
  {
   "cell_type": "code",
   "execution_count": 30,
   "id": "831b4ecb-6703-4bb6-9429-7773f4ae7040",
   "metadata": {},
   "outputs": [
    {
     "name": "stdout",
     "output_type": "stream",
     "text": [
      "<class '__main__.Sample'>\n"
     ]
    }
   ],
   "source": [
    "my_sample = Sample()\n",
    "print(type(my_sample))"
   ]
  },
  {
   "cell_type": "markdown",
   "id": "b9319599",
   "metadata": {},
   "source": [
    "#### Explanation:\n",
    "```\n",
    "The Sample class is defined using the class keyword.\n",
    "\n",
    "The pass statement is used as a placeholder since no attributes or methods are defined.\n",
    "\n",
    "my_sample = Sample() creates an instance (object) of the Sample class.\n",
    "\n",
    "print(type(my_sample)) confirms that my_sample is an instance of the Sample class.\n",
    "```"
   ]
  },
  {
   "cell_type": "markdown",
   "id": "cb6ce12d",
   "metadata": {},
   "source": [
    "### 3. Creating a Class with an Attribute (Instance Variable)"
   ]
  },
  {
   "cell_type": "code",
   "execution_count": 3,
   "id": "731e1e9f-e8c6-4c6e-85b5-84303c77e5ca",
   "metadata": {
    "scrolled": false
   },
   "outputs": [
    {
     "name": "stdout",
     "output_type": "stream",
     "text": [
      "Labrador\n",
      "Bulldog\n"
     ]
    }
   ],
   "source": [
    "class Dog:\n",
    "    def __init__(self, breed):\n",
    "        self.breed = breed\n",
    "\n",
    "my_dog = Dog(\"Labrador\")\n",
    "print(my_dog.breed)\n",
    "\n",
    "another_dog = Dog(\"Bulldog\")\n",
    "print(another_dog.breed)"
   ]
  },
  {
   "cell_type": "markdown",
   "id": "4b6b1472",
   "metadata": {},
   "source": [
    "#### Explanation:\n",
    "```\n",
    "The Dog class is defined with an __init__ method, which is a special method (constructor) that initializes an object.\n",
    "\n",
    "The self.breed attribute stores the breed of the dog.\n",
    "\n",
    "my_dog = Dog(\"Labrador\") creates a Dog object with the breed \"Labrador\".\n",
    "\n",
    "another_dog = Dog(\"Bulldog\") creates another Dog object with the breed \"Bulldog\".\n",
    "\n",
    "Each object has its own breed attribute, demonstrating how instance variables store unique data for each object.\n",
    "```\n"
   ]
  },
  {
   "cell_type": "markdown",
   "id": "0b4daafb",
   "metadata": {},
   "source": [
    "### at the end of this section you will: "
   ]
  },
  {
   "cell_type": "markdown",
   "id": "08336dbf-2e2b-460d-ba03-7b2c3457baa1",
   "metadata": {
    "editable": false,
    "slideshow": {
     "slide_type": "slide"
    },
    "tags": []
   },
   "source": [
    ". Create a BankAccount class.\n",
    ". Include two attributes:\n",
    "  1. owner (a string representing the account holder's name).\n",
    "  2. balance (a numerical value representing the initial account balance).\n",
    ". Implement two methods:\n",
    "  1. deposit(amount): Adds money to the balance.\n",
    "  2. withdraw(amount): Deducts money from the balance but ensures withdrawals do not exceed available funds.\n",
    ". Implement a special method:\n",
    "   . __str__(): To customize how the account object prints."
   ]
  }
 ],
 "metadata": {
  "kernelspec": {
   "display_name": "Python 3 (ipykernel)",
   "language": "python",
   "name": "python3"
  },
  "language_info": {
   "codemirror_mode": {
    "name": "ipython",
    "version": 3
   },
   "file_extension": ".py",
   "mimetype": "text/x-python",
   "name": "python",
   "nbconvert_exporter": "python",
   "pygments_lexer": "ipython3",
   "version": "3.13.2"
  }
 },
 "nbformat": 4,
 "nbformat_minor": 5
}
