{
 "cells": [
  {
   "cell_type": "code",
   "execution_count": null,
   "id": "f3ad32dd",
   "metadata": {},
   "outputs": [],
   "source": []
  },
  {
   "cell_type": "markdown",
   "id": "0a555310",
   "metadata": {},
   "source": [
    "### 1. Class Attribute vs Instance Attribute"
   ]
  },
  {
   "cell_type": "code",
   "execution_count": 1,
   "id": "8089a2f9-63aa-4cfe-bf26-26bd5581b6d6",
   "metadata": {},
   "outputs": [
    {
     "name": "stdout",
     "output_type": "stream",
     "text": [
      "Mammal\n",
      "Mammal\n"
     ]
    }
   ],
   "source": [
    "class Dog:\n",
    "    species = \"Mammal\"  # Class attribute shared among all instances\n",
    "\n",
    "    def __init__(self, breed, name):\n",
    "        self.breed = breed  # Instance attribute (unique for each object)\n",
    "        self.name = name    # Instance attribute (unique for each object)\n",
    "\n",
    "dog1 = Dog(\"Labrador\", \"Sammy\")\n",
    "dog2 = Dog(\"Husky\", \"Frankie\")\n",
    "\n",
    "print(dog1.species)  # Output: Mammal\n",
    "print(dog2.species)  # Output: Mammal\n"
   ]
  },
  {
   "cell_type": "markdown",
   "id": "97d6e54c",
   "metadata": {},
   "source": [
    "### Explanation:\n",
    "```\n",
    "species is a class attribute, meaning it is shared by all instances of the Dog class.\n",
    "\n",
    "Each Dog object (dog1 and dog2) has its own instance attributes (breed and name).\n",
    "\n",
    "Regardless of the breed and name, all dogs share the same species, which is \"Mammal\".\n",
    "```"
   ]
  },
  {
   "cell_type": "markdown",
   "id": "b730678e",
   "metadata": {},
   "source": [
    "### 2. Adding a Method to a Class"
   ]
  },
  {
   "cell_type": "code",
   "execution_count": 2,
   "id": "1e7594f8-3fc6-452d-ac06-560c96cd4af7",
   "metadata": {},
   "outputs": [
    {
     "name": "stdout",
     "output_type": "stream",
     "text": [
      "Woof! my name is Frankie\n"
     ]
    }
   ],
   "source": [
    "class Dog:\n",
    "    species = \"Mammal\"\n",
    "\n",
    "    def __init__(self, breed, name):\n",
    "        self.breed = breed\n",
    "        self.name = name\n",
    "\n",
    "    def bark(self):\n",
    "        print(f\"Woof! my name is {self.name}\")\n",
    "\n",
    "\n",
    "dog = Dog(\"Labrador\", \"Frankie\")\n",
    "\n",
    "dog.bark()\n"
   ]
  },
  {
   "cell_type": "markdown",
   "id": "e5bbef32",
   "metadata": {},
   "source": [
    "#### Explanation:\n",
    "```\n",
    "The bark method is a function inside the class that allows a Dog object to \"bark.\"\n",
    "\n",
    "The method uses self.name to print the dog’s name dynamically.\n",
    "\n",
    "When dog.bark() is called, it prints:\n",
    "```"
   ]
  },
  {
   "cell_type": "markdown",
   "id": "fbcdebeb",
   "metadata": {},
   "source": [
    "### Key Takeaways:\n",
    "```\n",
    "Class Attributes (species) are shared among all objects.\n",
    "\n",
    "Instance Attributes (breed, name) are unique to each object.\n",
    "\n",
    "Methods (bark()) define behaviors for objects.\n",
    "\n",
    "self keyword is used to refer to the instance itself.\n",
    "```"
   ]
  },
  {
   "cell_type": "markdown",
   "id": "08336dbf-2e2b-460d-ba03-7b2c3457baa1",
   "metadata": {
    "editable": false,
    "slideshow": {
     "slide_type": "slide"
    },
    "tags": []
   },
   "source": [
    ". Create a BankAccount class.\n",
    ". Include two attributes:\n",
    "  1. owner (a string representing the account holder's name).\n",
    "  2. balance (a numerical value representing the initial account balance).\n",
    ". Implement two methods:\n",
    "  1. deposit(amount): Adds money to the balance.\n",
    "  2. withdraw(amount): Deducts money from the balance but ensures withdrawals do not exceed available funds.\n",
    ". Implement a special method:\n",
    "   . __str__(): To customize how the account object prints."
   ]
  }
 ],
 "metadata": {
  "kernelspec": {
   "display_name": "Python 3 (ipykernel)",
   "language": "python",
   "name": "python3"
  },
  "language_info": {
   "codemirror_mode": {
    "name": "ipython",
    "version": 3
   },
   "file_extension": ".py",
   "mimetype": "text/x-python",
   "name": "python",
   "nbconvert_exporter": "python",
   "pygments_lexer": "ipython3",
   "version": "3.13.2"
  }
 },
 "nbformat": 4,
 "nbformat_minor": 5
}
