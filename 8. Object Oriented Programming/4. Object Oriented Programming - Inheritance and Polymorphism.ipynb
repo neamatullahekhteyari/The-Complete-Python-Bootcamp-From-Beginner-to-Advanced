{
 "cells": [
  {
   "cell_type": "markdown",
   "id": "e8ca8398",
   "metadata": {},
   "source": [
    "## Understanding Inheritance and Polymorphism in Python\n",
    "```\n",
    "Inheritance and Polymorphism are two core concepts of Object-Oriented Programming (OOP) that enable code reusability and flexibility.\n",
    "```"
   ]
  },
  {
   "cell_type": "markdown",
   "id": "c3faddac",
   "metadata": {},
   "source": [
    "### 1. Inheritance: Reusing Code Across Classes"
   ]
  },
  {
   "cell_type": "code",
   "execution_count": 3,
   "id": "411188a7-86d1-4602-993d-fdb68faff391",
   "metadata": {},
   "outputs": [],
   "source": [
    "class Animal:\n",
    "    def __init__(self):\n",
    "        print(\"Animal Created\")\n",
    "\n",
    "    def who_am_i(self):\n",
    "        print(\"I am an Animal\")\n",
    "\n",
    "    def eat(self):\n",
    "        print(\"I am eating\")"
   ]
  },
  {
   "cell_type": "code",
   "execution_count": 40,
   "id": "82e1a0d4-9a56-432d-bfa7-516675399ab8",
   "metadata": {},
   "outputs": [
    {
     "name": "stdout",
     "output_type": "stream",
     "text": [
      "Animal Created\n",
      "I am an Animal\n",
      "I am eating\n"
     ]
    }
   ],
   "source": [
    "a = Animal()\n",
    "a.who_am_i()\n",
    "a.eat()"
   ]
  },
  {
   "cell_type": "markdown",
   "id": "2f74f34d",
   "metadata": {},
   "source": [
    "### Explanation:\n",
    "```\n",
    "Animal is a base (parent) class that defines common behavior for all animals.\n",
    "\n",
    "The constructor (__init__) prints \"Animal Created\" when an instance is created.\n",
    "\n",
    "The methods who_am_i and eat are available to any class that inherits from Animal.\n",
    "```"
   ]
  },
  {
   "cell_type": "markdown",
   "id": "d9c5aa8d",
   "metadata": {},
   "source": [
    "### 2. Inheritance: Creating a Derived Class\n",
    "#### Derived Class: Dog (Inheriting from Animal)"
   ]
  },
  {
   "cell_type": "code",
   "execution_count": 4,
   "id": "1f7023e6-3aa4-4a5a-b432-e4a3988e57e2",
   "metadata": {},
   "outputs": [],
   "source": [
    "class Dog(Animal):\n",
    "    def __init__(self):\n",
    "        super().__init__()\n",
    "        print(\"Dog Created\")\n",
    "\n",
    "    def who_am_i(self):\n",
    "        print(\"I am a Dog\")\n",
    "\n",
    "    def bark(self):\n",
    "        print(\"Woof!\")\n",
    "        "
   ]
  },
  {
   "cell_type": "code",
   "execution_count": 5,
   "id": "b5ccd55b-90f0-4785-9355-7b1d968a1646",
   "metadata": {},
   "outputs": [
    {
     "name": "stdout",
     "output_type": "stream",
     "text": [
      "Animal Created\n",
      "Dog Created\n",
      "I am a Dog\n",
      "I am eating\n",
      "Woof!\n"
     ]
    }
   ],
   "source": [
    "d = Dog()\n",
    "d.who_am_i()\n",
    "d.eat()\n",
    "d.bark()"
   ]
  },
  {
   "cell_type": "markdown",
   "id": "b1feb1c9",
   "metadata": {},
   "source": [
    "#### Explanation:\n",
    "```\n",
    "Dog inherits from Animal, meaning it gets all methods and attributes from Animal.\n",
    "\n",
    "The super().__init__() calls the parent class constructor, so \"Animal Created\" is printed before \"Dog Created\".\n",
    "\n",
    "Overriding: The who_am_i method in Dog replaces the one in Animal.\n",
    "```\n"
   ]
  },
  {
   "cell_type": "markdown",
   "id": "9cbce60c",
   "metadata": {},
   "source": [
    "### 3. Polymorphism: Defining a Common Interface"
   ]
  },
  {
   "cell_type": "code",
   "execution_count": 46,
   "id": "ab8748db-2419-42cf-8318-c65a2d0981e2",
   "metadata": {},
   "outputs": [],
   "source": [
    "class Dog:\n",
    "    def __init__(self, name):\n",
    "        self.name = name\n",
    "\n",
    "    def speak(self):\n",
    "        return f\"{self.name} says Woof!\"\n",
    "\n",
    "class Cat:\n",
    "    def __init__(self, name):\n",
    "        self.name = name\n",
    "        \n",
    "    def speak(self):\n",
    "        return f\"{self.name} says Meow!\"\n",
    "\n"
   ]
  },
  {
   "cell_type": "code",
   "execution_count": 47,
   "id": "58ccdc70-9b6e-401a-ac94-63482a35d8f0",
   "metadata": {},
   "outputs": [
    {
     "name": "stdout",
     "output_type": "stream",
     "text": [
      "Rex says Woof!\n",
      "Whiskers says Meow!\n"
     ]
    }
   ],
   "source": [
    "dog = Dog(\"Rex\")\n",
    "cat = Cat(\"Whiskers\")\n",
    "\n",
    "print(dog.speak())\n",
    "print(cat.speak())"
   ]
  },
  {
   "cell_type": "markdown",
   "id": "8ba0e3fa",
   "metadata": {},
   "source": [
    "#### Explanation:\n",
    "```\n",
    "Polymorphism allows different classes (Dog and Cat) to have the same method name (speak) but different implementations.\n",
    "\n",
    "Calling speak() on a Dog object returns \"Rex says Woof!\", while calling it on a Cat object returns \"Whiskers says Meow!\".\n",
    "```"
   ]
  },
  {
   "cell_type": "markdown",
   "id": "ee4a183e",
   "metadata": {},
   "source": [
    "### 4. Polymorphism in Action"
   ]
  },
  {
   "cell_type": "code",
   "execution_count": 49,
   "id": "8d8ff178-7938-4a8b-90d8-4c08e1b60387",
   "metadata": {},
   "outputs": [
    {
     "name": "stdout",
     "output_type": "stream",
     "text": [
      "Rex says Woof!\n",
      "Whiskers says Meow!\n"
     ]
    }
   ],
   "source": [
    "for animal in [dog, cat]:\n",
    "    print(animal.speak())\n"
   ]
  },
  {
   "cell_type": "markdown",
   "id": "bd7ef122",
   "metadata": {},
   "source": [
    "#### Explanation:\n",
    "```\n",
    "A loop iterates over different objects (dog and cat), but both respond to speak() differently.\n",
    "\n",
    "This is method overriding, a key aspect of polymorphism.\n",
    "```"
   ]
  },
  {
   "cell_type": "markdown",
   "id": "b4ff32e4",
   "metadata": {},
   "source": [
    "### at the end of this section you will"
   ]
  },
  {
   "cell_type": "markdown",
   "id": "08336dbf-2e2b-460d-ba03-7b2c3457baa1",
   "metadata": {
    "editable": false,
    "slideshow": {
     "slide_type": "slide"
    },
    "tags": []
   },
   "source": [
    ". Create a BankAccount class.\n",
    ". Include two attributes:\n",
    "  1. owner (a string representing the account holder's name).\n",
    "  2. balance (a numerical value representing the initial account balance).\n",
    ". Implement two methods:\n",
    "  1. deposit(amount): Adds money to the balance.\n",
    "  2. withdraw(amount): Deducts money from the balance but ensures withdrawals do not exceed available funds.\n",
    ". Implement a special method:\n",
    "   . __str__(): To customize how the account object prints."
   ]
  }
 ],
 "metadata": {
  "kernelspec": {
   "display_name": "Python 3 (ipykernel)",
   "language": "python",
   "name": "python3"
  },
  "language_info": {
   "codemirror_mode": {
    "name": "ipython",
    "version": 3
   },
   "file_extension": ".py",
   "mimetype": "text/x-python",
   "name": "python",
   "nbconvert_exporter": "python",
   "pygments_lexer": "ipython3",
   "version": "3.13.2"
  }
 },
 "nbformat": 4,
 "nbformat_minor": 5
}
