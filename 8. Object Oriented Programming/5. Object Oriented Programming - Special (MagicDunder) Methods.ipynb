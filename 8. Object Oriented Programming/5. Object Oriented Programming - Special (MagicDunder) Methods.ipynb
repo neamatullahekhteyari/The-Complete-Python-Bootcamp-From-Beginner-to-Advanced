{
 "cells": [
  {
   "cell_type": "code",
   "execution_count": null,
   "id": "5ca0448c",
   "metadata": {},
   "outputs": [],
   "source": []
  },
  {
   "cell_type": "markdown",
   "id": "3b64fb22",
   "metadata": {},
   "source": [
    "## Understanding Special Methods in Python\n",
    "```\n",
    "Special methods (also called magic methods or dunder methods) are built-in methods in Python that allow us to define how objects of a class behave with built-in functions and operators. These methods are wrapped with double underscores (e.g., __init__, __str__, __len__, etc.).\n",
    "```"
   ]
  },
  {
   "cell_type": "markdown",
   "id": "5f9435ce",
   "metadata": {},
   "source": [
    "### 1. The len() Function and Special Methods"
   ]
  },
  {
   "cell_type": "code",
   "execution_count": 50,
   "id": "b7246ea4-df84-4c21-b6a3-a9311f03fdac",
   "metadata": {},
   "outputs": [
    {
     "name": "stdout",
     "output_type": "stream",
     "text": [
      "3\n"
     ]
    }
   ],
   "source": [
    "my_list = [1, 2, 3]\n",
    "print(len(my_list))"
   ]
  },
  {
   "cell_type": "markdown",
   "id": "35f4a188",
   "metadata": {},
   "source": [
    "#### Explanation:\n",
    "```\n",
    "Lists in Python have a built-in __len__() method that allows the len() function to return the number of elements in the list.\n",
    "\n",
    "When we call len(my_list), Python internally calls my_list.__len__(), which returns 3.\n",
    "```"
   ]
  },
  {
   "cell_type": "markdown",
   "id": "c8d90879",
   "metadata": {},
   "source": [
    "### 2. What Happens When a Class Lacks Special Methods?"
   ]
  },
  {
   "cell_type": "code",
   "execution_count": 52,
   "id": "1be9103e-f4b4-47b6-89fb-09920bae7c33",
   "metadata": {},
   "outputs": [
    {
     "ename": "TypeError",
     "evalue": "object of type 'Sample' has no len()",
     "output_type": "error",
     "traceback": [
      "\u001b[1;31m---------------------------------------------------------------------------\u001b[0m",
      "\u001b[1;31mTypeError\u001b[0m                                 Traceback (most recent call last)",
      "Cell \u001b[1;32mIn[52], line 4\u001b[0m\n\u001b[0;32m      2\u001b[0m     \u001b[38;5;28;01mpass\u001b[39;00m\n\u001b[0;32m      3\u001b[0m s \u001b[38;5;241m=\u001b[39m Sample()\n\u001b[1;32m----> 4\u001b[0m \u001b[38;5;28mprint\u001b[39m(\u001b[38;5;28mlen\u001b[39m(s))\n\u001b[0;32m      5\u001b[0m \u001b[38;5;28mprint\u001b[39m(s)\n",
      "\u001b[1;31mTypeError\u001b[0m: object of type 'Sample' has no len()"
     ]
    }
   ],
   "source": [
    "class Sample:\n",
    "    pass\n",
    "s = Sample()\n",
    "print(len(s))\n",
    "print(s)"
   ]
  },
  {
   "cell_type": "markdown",
   "id": "56520f08",
   "metadata": {},
   "source": [
    "#### Explanation:\n",
    "```\n",
    "The class Sample does not define the __len__() method.\n",
    "\n",
    "When we try to call len(s), Python does not know how to compute its length, resulting in a TypeError.\n",
    "```"
   ]
  },
  {
   "cell_type": "markdown",
   "id": "41ece091",
   "metadata": {},
   "source": [
    "### 3. Printing an Object Without __str__()"
   ]
  },
  {
   "cell_type": "code",
   "execution_count": 53,
   "id": "f95f88eb-4110-41fc-bcdd-f677e2dd09ee",
   "metadata": {},
   "outputs": [
    {
     "name": "stdout",
     "output_type": "stream",
     "text": [
      "<__main__.Sample object at 0x000002888F263860>\n"
     ]
    }
   ],
   "source": [
    "print(s)"
   ]
  },
  {
   "cell_type": "markdown",
   "id": "8e4ecce6",
   "metadata": {},
   "source": [
    "#### Explanation:\n",
    "```\n",
    "- Since Sample does not define __str__(), Python prints the default object representation:\n",
    "```\n",
    "```python\n",
    "<__main__.Sample object at 0x000002888F263860>\n",
    "```\n",
    "```\n",
    "\n",
    "- This shows the class name and the memory address of the object.\n",
    "```"
   ]
  },
  {
   "cell_type": "markdown",
   "id": "160a9c80",
   "metadata": {},
   "source": [
    "### 4. Using Special Methods in a Book Class"
   ]
  },
  {
   "cell_type": "code",
   "execution_count": 74,
   "id": "7e2cfe0f-27e2-402a-a6a0-9947a6eb5568",
   "metadata": {},
   "outputs": [],
   "source": [
    "class Book:\n",
    "    def __init__(self, title, author, pages):\n",
    "        self.title = title\n",
    "        self.author = author\n",
    "        self.pages = pages\n",
    "        \n",
    "    def __str__(self):\n",
    "        return f\"{self.title} by {self.author} and {self.pages} pages\"\n",
    "\n",
    "    def __len__(self):\n",
    "        return self.pages\n",
    "\n",
    "    def __del__(self):\n",
    "        print(\"A book object has been deleted.\")"
   ]
  },
  {
   "cell_type": "code",
   "execution_count": 75,
   "id": "145ceb33-76aa-4eaa-a0d4-6842fb96d64e",
   "metadata": {},
   "outputs": [],
   "source": [
    "b = Book(\"Python Rocks\", \"Jose\", 200)"
   ]
  },
  {
   "cell_type": "code",
   "execution_count": 76,
   "id": "2e5a464c-b1e7-4402-a575-54aa81bb2bac",
   "metadata": {},
   "outputs": [
    {
     "name": "stdout",
     "output_type": "stream",
     "text": [
      "Python Rocks by Jose and 200 pages\n"
     ]
    }
   ],
   "source": [
    "print(b)"
   ]
  },
  {
   "cell_type": "code",
   "execution_count": 77,
   "id": "8a56412d-9684-4543-8fd1-f0cda8127b14",
   "metadata": {},
   "outputs": [
    {
     "name": "stdout",
     "output_type": "stream",
     "text": [
      "200\n"
     ]
    }
   ],
   "source": [
    "print(len(b))"
   ]
  },
  {
   "cell_type": "code",
   "execution_count": 78,
   "id": "1770ecd9-17f2-4fdd-b82c-628393093a36",
   "metadata": {},
   "outputs": [
    {
     "name": "stdout",
     "output_type": "stream",
     "text": [
      "A book object has been deleted.\n"
     ]
    }
   ],
   "source": [
    "del b"
   ]
  },
  {
   "cell_type": "markdown",
   "id": "6c257e4f",
   "metadata": {
    "slideshow": {
     "slide_type": ""
    },
    "tags": []
   },
   "source": [
    "#### Explanation:\n",
    "```\n",
    "1) __init__() (Constructor):\n",
    "\n",
    "- Initializes a Book object with a title, author, and page count.\n",
    "\n",
    "2) __str__() (String Representation):\n",
    "\n",
    "- Defines how the object is displayed when printed. Instead of a memory address, it returns a user-friendly string.\n",
    "```\n",
    "```python\n",
    "OutPut: \n",
    "Python Rocks by Jose and 200 pages\n",
    "\n",
    "```\n",
    "```\n",
    "3) __len__() (Length of Object):\n",
    "\n",
    "- Allows the len() function to work with Book objects.\n",
    "```\n",
    "```python\n",
    "OutPut: \n",
    "200\n",
    "```\n",
    "```\n",
    "4) __del__() (Destructor):\n",
    "\n",
    "- Automatically called when the object is deleted.\n",
    "\n",
    "- Prints a message to confirm deletion.\n",
    "```\n",
    "```python\n",
    "OutPut:\n",
    "A book object has been deleted.\n",
    "```"
   ]
  },
  {
   "cell_type": "markdown",
   "id": "29affb23",
   "metadata": {},
   "source": [
    "### Key Takeaways\n",
    "```\n",
    "1. Special methods enable objects to interact with Python’s built-in functions.\n",
    "\n",
    "2. __str__() defines how an object is printed.\n",
    "\n",
    "3. __len__() allows len() to work on custom objects.\n",
    "\n",
    "4. __del__() is called when an object is deleted (not always predictable in memory-managed environments).\n",
    "\n",
    "These methods help make Python classes more intuitive and user-friendly!\n",
    "```"
   ]
  },
  {
   "cell_type": "markdown",
   "id": "2ac77317-9d36-4041-a015-85ad841d38c5",
   "metadata": {
    "slideshow": {
     "slide_type": ""
    },
    "tags": []
   },
   "source": [
    "#### by the end of this section you will"
   ]
  },
  {
   "cell_type": "markdown",
   "id": "08336dbf-2e2b-460d-ba03-7b2c3457baa1",
   "metadata": {
    "editable": false,
    "slideshow": {
     "slide_type": "slide"
    },
    "tags": []
   },
   "source": [
    ". Create a BankAccount class.\n",
    ". Include two attributes:\n",
    "  1. owner (a string representing the account holder's name).\n",
    "  2. balance (a numerical value representing the initial account balance).\n",
    ". Implement two methods:\n",
    "  1. deposit(amount): Adds money to the balance.\n",
    "  2. withdraw(amount): Deducts money from the balance but ensures withdrawals do not exceed available funds.\n",
    ". Implement a special method:\n",
    "   . __str__(): To customize how the account object prints."
   ]
  }
 ],
 "metadata": {
  "kernelspec": {
   "display_name": "Python 3 (ipykernel)",
   "language": "python",
   "name": "python3"
  },
  "language_info": {
   "codemirror_mode": {
    "name": "ipython",
    "version": 3
   },
   "file_extension": ".py",
   "mimetype": "text/x-python",
   "name": "python",
   "nbconvert_exporter": "python",
   "pygments_lexer": "ipython3",
   "version": "3.13.2"
  }
 },
 "nbformat": 4,
 "nbformat_minor": 5
}
