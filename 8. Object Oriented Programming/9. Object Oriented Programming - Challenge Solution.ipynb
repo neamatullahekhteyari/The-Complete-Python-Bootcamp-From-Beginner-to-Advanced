{
 "cells": [
  {
   "cell_type": "markdown",
   "id": "2ac77317-9d36-4041-a015-85ad841d38c5",
   "metadata": {
    "slideshow": {
     "slide_type": ""
    },
    "tags": []
   },
   "source": [
    "## Challenge Overview"
   ]
  },
  {
   "cell_type": "markdown",
   "id": "08336dbf-2e2b-460d-ba03-7b2c3457baa1",
   "metadata": {
    "editable": false,
    "slideshow": {
     "slide_type": "slide"
    },
    "tags": []
   },
   "source": [
    ". Create a BankAccount class.\n",
    ". Include two attributes:\n",
    "  1. owner (a string representing the account holder's name).\n",
    "  2. balance (a numerical value representing the initial account balance).\n",
    ". Implement two methods:\n",
    "  1. deposit(amount): Adds money to the balance.\n",
    "  2. withdraw(amount): Deducts money from the balance but ensures withdrawals do not exceed available funds.\n",
    ". Implement a special method:\n",
    "   . __str__(): To customize how the account object prints."
   ]
  },
  {
   "cell_type": "markdown",
   "id": "1ed661c7-8308-427e-83af-ee7a593559c0",
   "metadata": {
    "slideshow": {
     "slide_type": ""
    },
    "tags": []
   },
   "source": [
    "## Additional Concepts Introduced\n",
    ". Using methods to modify attributes directly.                                                    \n",
    ". Implementing conditional logic (checking if withdrawal amount is valid).                        \n",
    ". How special methods like __str__() help display objects meaningfully."
   ]
  },
  {
   "cell_type": "markdown",
   "id": "4f39636e",
   "metadata": {},
   "source": [
    "## Implementing a Bank Account Class in Python\n"
   ]
  },
  {
   "cell_type": "markdown",
   "id": "7131dd48",
   "metadata": {},
   "source": [
    "### 1. Defining the Account Class"
   ]
  },
  {
   "cell_type": "code",
   "execution_count": 2,
   "id": "6cd9d3ab",
   "metadata": {},
   "outputs": [],
   "source": [
    "class Account:\n",
    "    def __init__(self, owner, balance=0):\n",
    "        self.owner = owner\n",
    "        self.balance = balance\n"
   ]
  },
  {
   "cell_type": "markdown",
   "id": "b492906c",
   "metadata": {},
   "source": [
    "#### Explanation:\n",
    "```\n",
    "1- The Account class is created with two attributes:\n",
    "\n",
    "    A- owner → Stores the account holder’s name.\n",
    "\n",
    "    B- balance → Stores the current account balance (default value is 0).\n",
    "\n",
    "2. The __init__ method initializes a new account with the provided owner name and balance.\n",
    "```"
   ]
  },
  {
   "cell_type": "markdown",
   "id": "4a669b82",
   "metadata": {},
   "source": [
    "### 2. Deposit Method\n"
   ]
  },
  {
   "cell_type": "code",
   "execution_count": 10,
   "id": "3bb2ebe9",
   "metadata": {},
   "outputs": [],
   "source": [
    "def deposit(self, amount):\n",
    "    self.balance += amount \n",
    "    print(f\"Added {amount} to the balance. New balance {self.balance}\")\n"
   ]
  },
  {
   "cell_type": "markdown",
   "id": "bedf67e9",
   "metadata": {},
   "source": [
    "#### Explanation:\n",
    "```\n",
    "- The deposit() method takes an amount as input and adds it to balance.\n",
    "- A confirmation message is printed showing the new balance.\n",
    "```"
   ]
  },
  {
   "cell_type": "markdown",
   "id": "3c8c298c",
   "metadata": {},
   "source": [
    "### 3. Withdraw Method with Validation"
   ]
  },
  {
   "cell_type": "code",
   "execution_count": 11,
   "id": "ee7fde5e",
   "metadata": {},
   "outputs": [],
   "source": [
    "def withdraw(self, amount):\n",
    "    if self.balance >= amount:\n",
    "        self.balance -= amount\n",
    "        print(f\"Withdrawal accepted. New Balance: {self.balance}\")\n",
    "    else:\n",
    "        print(\"Sorry, not enough funds.\")\n"
   ]
  },
  {
   "cell_type": "markdown",
   "id": "50afab88",
   "metadata": {},
   "source": [
    "#### Explanation:\n",
    "```\n",
    "1- Before allowing a withdrawal, the method checks if balance is sufficient.\n",
    "\n",
    "2- If there are enough funds, the balance is reduced.\n",
    "\n",
    "3- If not, an error message is displayed.\n",
    "```\n"
   ]
  },
  {
   "cell_type": "markdown",
   "id": "b657caac",
   "metadata": {},
   "source": [
    "### 4. Overriding __str__() for Readable Output"
   ]
  },
  {
   "cell_type": "markdown",
   "id": "62a1c83c",
   "metadata": {},
   "source": [
    "#### Explanation:\n",
    "```\n",
    "- The __str__() method customizes how the object prints.\n",
    "- Instead of showing a memory address, it displays the owner's name and current balance.\n",
    "```"
   ]
  },
  {
   "cell_type": "code",
   "execution_count": 14,
   "id": "fdf043ec",
   "metadata": {},
   "outputs": [],
   "source": [
    "class Account:\n",
    "    def __init__(self, owner, balance=0):\n",
    "        self.owner = owner\n",
    "        self.balance = balance\n",
    "\n",
    "    def deposit(self, amount):\n",
    "        self.balance += amount \n",
    "        print(f\"Added {amount} to the balance. New balance {self.balance}\")\n",
    "\n",
    "    def withdraw(self, amount):\n",
    "        if self.balance >= amount:\n",
    "            self.balance -= amount\n",
    "            print(f\"Withdrawal accepted. New Balance: {self.balance}\")\n",
    "        else:\n",
    "            print(\"Sorry, not enough funds.\")\n",
    "    def __str__(self):\n",
    "        return f\"Owner: {self.owner}\\nBalance:{self.balance}\""
   ]
  },
  {
   "cell_type": "markdown",
   "id": "e4a55eeb",
   "metadata": {},
   "source": [
    "### Testing the Account Class"
   ]
  },
  {
   "cell_type": "code",
   "execution_count": 15,
   "id": "d888fac8",
   "metadata": {},
   "outputs": [],
   "source": [
    "acc = Account(\"sam\", 500)"
   ]
  },
  {
   "cell_type": "markdown",
   "id": "1bce7cd5",
   "metadata": {},
   "source": [
    "``` Creates a new account for ‘sam’ with an initial balance of 500. ```"
   ]
  },
  {
   "cell_type": "code",
   "execution_count": 16,
   "id": "d08d04ac",
   "metadata": {},
   "outputs": [
    {
     "name": "stdout",
     "output_type": "stream",
     "text": [
      "sam\n",
      "500\n",
      "Owner: sam\n",
      "Balance:500\n"
     ]
    }
   ],
   "source": [
    "print(acc.owner)   # Output: sam\n",
    "print(acc.balance) # Output: 500\n",
    "print(acc)         # Calls __str__(), showing:\n"
   ]
  },
  {
   "cell_type": "markdown",
   "id": "4cead936",
   "metadata": {},
   "source": [
    "### Performing Transactions\n"
   ]
  },
  {
   "cell_type": "code",
   "execution_count": 17,
   "id": "3290bcc3",
   "metadata": {},
   "outputs": [
    {
     "name": "stdout",
     "output_type": "stream",
     "text": [
      "Added 100 to the balance. New balance 600\n"
     ]
    }
   ],
   "source": [
    "acc.deposit(100)"
   ]
  },
  {
   "cell_type": "markdown",
   "id": "6f259252",
   "metadata": {},
   "source": [
    "``` 100 is added to the balance (500 + 100 = 600). ```"
   ]
  },
  {
   "cell_type": "code",
   "execution_count": 18,
   "id": "65c8d95e",
   "metadata": {},
   "outputs": [
    {
     "name": "stdout",
     "output_type": "stream",
     "text": [
      "Withdrawal accepted. New Balance: 0\n"
     ]
    }
   ],
   "source": [
    "acc.withdraw(600)\n"
   ]
  },
  {
   "cell_type": "markdown",
   "id": "ddfa0c1b",
   "metadata": {},
   "source": [
    "``` Since 600 is available, the withdrawal is successful, leaving the balance at 0. ```"
   ]
  },
  {
   "cell_type": "code",
   "execution_count": 20,
   "id": "ba6c972c",
   "metadata": {},
   "outputs": [
    {
     "name": "stdout",
     "output_type": "stream",
     "text": [
      "Sorry, not enough funds.\n"
     ]
    }
   ],
   "source": [
    "acc.withdraw(50)\n"
   ]
  },
  {
   "cell_type": "markdown",
   "id": "ef200634",
   "metadata": {},
   "source": [
    "``` Since the balance is 0, the withdrawal is denied. ```"
   ]
  },
  {
   "cell_type": "markdown",
   "id": "a4ed645b",
   "metadata": {},
   "source": [
    "### Final Account State"
   ]
  },
  {
   "cell_type": "code",
   "execution_count": 22,
   "id": "dedf5da6",
   "metadata": {},
   "outputs": [
    {
     "name": "stdout",
     "output_type": "stream",
     "text": [
      "Owner: sam\n",
      "Balance:0\n"
     ]
    }
   ],
   "source": [
    "print(acc)\n"
   ]
  },
  {
   "cell_type": "markdown",
   "id": "66c3dc9d",
   "metadata": {},
   "source": [
    "``` This shows the final state of the account after transactions. ```"
   ]
  },
  {
   "cell_type": "markdown",
   "id": "c533d2d5",
   "metadata": {},
   "source": [
    "### Key Takeaways\n",
    "```\n",
    "✔ Encapsulation: The class keeps all account-related data and actions in one place.\n",
    "✔ Validation: Ensures that withdrawals cannot exceed available funds.\n",
    "✔ Usability: __str__() improves object readability.\n",
    "✔ Reusability: The class can be used to create multiple bank accounts.\n",
    "\n",
    "This challenge is a great introduction to real-world OOP applications in Python! \n",
    "```"
   ]
  }
 ],
 "metadata": {
  "kernelspec": {
   "display_name": "Python 3 (ipykernel)",
   "language": "python",
   "name": "python3"
  },
  "language_info": {
   "codemirror_mode": {
    "name": "ipython",
    "version": 3
   },
   "file_extension": ".py",
   "mimetype": "text/x-python",
   "name": "python",
   "nbconvert_exporter": "python",
   "pygments_lexer": "ipython3",
   "version": "3.13.2"
  }
 },
 "nbformat": 4,
 "nbformat_minor": 5
}
