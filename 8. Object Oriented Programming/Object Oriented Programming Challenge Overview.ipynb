{
 "cells": [
  {
   "cell_type": "markdown",
   "id": "2ac77317-9d36-4041-a015-85ad841d38c5",
   "metadata": {
    "slideshow": {
     "slide_type": ""
    },
    "tags": []
   },
   "source": [
    "## Challenge Overview"
   ]
  },
  {
   "cell_type": "markdown",
   "id": "08336dbf-2e2b-460d-ba03-7b2c3457baa1",
   "metadata": {
    "editable": false,
    "slideshow": {
     "slide_type": "slide"
    },
    "tags": []
   },
   "source": [
    ". Create a BankAccount class.\n",
    ". Include two attributes:\n",
    "  1. owner (a string representing the account holder's name).\n",
    "  2. balance (a numerical value representing the initial account balance).\n",
    ". Implement two methods:\n",
    "  1. deposit(amount): Adds money to the balance.\n",
    "  2. withdraw(amount): Deducts money from the balance but ensures withdrawals do not exceed available funds.\n",
    ". Implement a special method:\n",
    "   . __str__(): To customize how the account object prints."
   ]
  },
  {
   "cell_type": "markdown",
   "id": "1ed661c7-8308-427e-83af-ee7a593559c0",
   "metadata": {
    "slideshow": {
     "slide_type": ""
    },
    "tags": []
   },
   "source": [
    "## Additional Concepts Introduced\n",
    ". Using methods to modify attributes directly.                                                    \n",
    ". Implementing conditional logic (checking if withdrawal amount is valid).                        \n",
    ". How special methods like __str__() help display objects meaningfully."
   ]
  }
 ],
 "metadata": {
  "kernelspec": {
   "display_name": "Python 3 (ipykernel)",
   "language": "python",
   "name": "python3"
  },
  "language_info": {
   "codemirror_mode": {
    "name": "ipython",
    "version": 3
   },
   "file_extension": ".py",
   "mimetype": "text/x-python",
   "name": "python",
   "nbconvert_exporter": "python",
   "pygments_lexer": "ipython3",
   "version": "3.13.2"
  }
 },
 "nbformat": 4,
 "nbformat_minor": 5
}
